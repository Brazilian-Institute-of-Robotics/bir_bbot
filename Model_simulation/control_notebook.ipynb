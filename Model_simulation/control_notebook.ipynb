{
    "cells": [
        {
            "cell_type": "code",
            "execution_count": 1,
            "source": [
                "\n",
                "import numpy as np\n",
                "from sympy import *\n",
                "import matplotlib.pyplot as plt\n",
                "\n",
                "#--- Model Parameters ---\n",
                "d       = symbols('d',    real=True, positive=True)         # Distance between wheels\n",
                "visc    = symbols('c_alpha',real=True)                      # Viscous, damping constant \n",
                "l       = symbols('l',    real=True, positive=True)         # Height of the COM\n",
                "r       = symbols('r',    real=True, positive=True)         # Radius of the wheel\n",
                "Mp      = symbols('M_p',  real=True, positive=True)         # Mass of the pendulum without the wheels\n",
                "Mw      = symbols('M_w',  real=True, positive=True)         # Mass of each wheel\n",
                "Iw_c    = symbols('I_wc',  real=True)                       # MOI wheel center\n",
                "Iw_r    = symbols('I_wr',  real=True)                       # MOI wheel radial\n",
                "Ip_x    = symbols('I_px',  real=True)                       # MOI pendulum x\n",
                "Ip_y    = symbols('I_py',  real=True)                       # MOI pendulum y\n",
                "Ip_z    = symbols('I_pz',  real=True)                       # MOI pendulum z\n",
                "\n",
                "#--- Constants & Aux. variables ---\n",
                "g = symbols('g', constant=True)                             # Gravity acceleration\n",
                "t = symbols('t', real=True)                                 # Time\n",
                "\n",
                "#--- State Variables ---\n",
                "x           = symbols('x',  real=True)                      # Linear pos\n",
                "pitch       = symbols('theta',  real=True)                  # Pitch angle\n",
                "yaw         = symbols('psi',  real=True)                    # Yaw angle\n",
                "x_vel       = Derivative(x,t)                               # Linear vel\n",
                "pitch_vel   = Derivative(pitch,t)                           # Pitch vel\n",
                "yaw_vel     = Derivative(yaw,t)                             # Yaw vel\n",
                "x_acc       = Derivative(x_vel,t)                           # Linear acc\n",
                "pitch_acc   = Derivative(pitch_vel,t)                       # Pitch acc\n",
                "yaw_acc     = Derivative(yaw_vel,t)                         # Yaw acc\n",
                "\n",
                "#--- Inputs ---\n",
                "Tl = symbols('T_L', real=True)                              # Torque of the left wheel\n",
                "Tr = symbols('T_R', real=True)                              # Torque of the right wheel"
            ],
            "outputs": [],
            "metadata": {}
        },
        {
            "cell_type": "markdown",
            "source": [
                "## Defining all the matrices of the system\n",
                "----------"
            ],
            "metadata": {}
        },
        {
            "cell_type": "code",
            "execution_count": 2,
            "source": [
                "\n",
                "#*--- Matrices for the 3 states model\n",
                "M = Matrix([[Mp+2*Mw+2*Iw_c/r**2, Mp*l*cos(pitch) ,                                                                     0],\n",
                "            [ Mp*l*cos(pitch)   , Ip_y+Mp*l**2    ,                                                                     0],\n",
                "            [0                  ,                0, Ip_z+2*Iw_r+(Mw+Iw_c/r**2)*d**2/2-(Ip_z-Ip_x-Mp*l**2)*sin(pitch)**2  ]])\n",
                "\n",
                "C = Matrix([[                      0, -Mp*l*pitch_vel*sin(pitch),                          -Mp*l*yaw_vel*sin(pitch)],\n",
                "            [                      0,                          0, (Ip_z-Ip_x-Mp*l**2)*yaw_vel*sin(pitch)*cos(pitch)],\n",
                "            [Mp*l*yaw_vel*sin(pitch), -(Ip_z-Ip_x-Mp*l**2)*yaw_vel*sin(pitch)*cos(pitch), -(Ip_z-Ip_x-Mp*l**2)*pitch_vel*sin(pitch)*cos(pitch)]])\n",
                "\n",
                "D = Matrix([[2*visc/r**2, -2*visc/r, 0],\n",
                "            [-2*visc/r, 2*visc, 0],\n",
                "            [0, 0, (d**2/(2*r**2))*visc]])\n",
                "\n",
                "B = Matrix([[     1/r,     1/r],\n",
                "            [      -1,      -1],\n",
                "            [-d/(2*r), d/(2*r)]])\n",
                "\n",
                "G = Matrix([[0],[-Mp*l*g*sin(pitch)], [0]])\n",
                "\n",
                "q = Matrix([[x],[pitch],[yaw]])\n",
                "\n",
                "q_diff = Matrix([[x_vel],[pitch_vel],[yaw_vel]])\n",
                "\n",
                "q_2diff = Matrix([[x_acc],[pitch_acc],[yaw_acc]])\n",
                "\n",
                "u = Matrix([[Tl],[Tr]])"
            ],
            "outputs": [],
            "metadata": {}
        },
        {
            "cell_type": "code",
            "execution_count": 3,
            "source": [
                "M_inv = M.inv()"
            ],
            "outputs": [],
            "metadata": {}
        },
        {
            "cell_type": "markdown",
            "source": [
                "## Show system in expression form\n",
                "---"
            ],
            "metadata": {}
        },
        {
            "cell_type": "code",
            "execution_count": 4,
            "source": [
                "# eqt_sys = M*q_2diff + (C+D)*q_diff + G - B*u\n",
                "# eqt_sys\n",
                "expr_model = M_inv*((B*u-G)-(C+D)*q_diff)\n",
                "eqts_model = Eq(q_2diff,expr_model)\n",
                "eqts_model"
            ],
            "outputs": [
                {
                    "output_type": "execute_result",
                    "data": {
                        "text/plain": [
                            "Eq(Matrix([\n",
                            "[    Derivative(x, (t, 2))],\n",
                            "[Derivative(theta, (t, 2))],\n",
                            "[  Derivative(psi, (t, 2))]]), Matrix([\n",
                            "[     M_p*l*r**2*(M_p*g*l*sin(theta) - T_L - T_R - 2*c_alpha*Derivative(theta, t) + 2*c_alpha*Derivative(x, t)/r - (-I_px + I_pz - M_p*l**2)*sin(theta)*cos(theta)*Derivative(psi, t)**2)*cos(theta)/(-2*I_py*I_wc - I_py*M_p*r**2 - 2*I_py*M_w*r**2 - 2*I_wc*M_p*l**2 + M_p**2*l**2*r**2*cos(theta)**2 - M_p**2*l**2*r**2 - 2*M_p*M_w*l**2*r**2) + (-I_py*r**2 - M_p*l**2*r**2)*(M_p*l*sin(theta)*Derivative(psi, t)**2 + T_L/r + T_R/r - 2*c_alpha*Derivative(x, t)/r**2 - (-M_p*l*sin(theta)*Derivative(theta, t) - 2*c_alpha/r)*Derivative(theta, t))/(-2*I_py*I_wc - I_py*M_p*r**2 - 2*I_py*M_w*r**2 - 2*I_wc*M_p*l**2 + M_p**2*l**2*r**2*cos(theta)**2 - M_p**2*l**2*r**2 - 2*M_p*M_w*l**2*r**2)],\n",
                            "[M_p*l*r**2*(M_p*l*sin(theta)*Derivative(psi, t)**2 + T_L/r + T_R/r - 2*c_alpha*Derivative(x, t)/r**2 - (-M_p*l*sin(theta)*Derivative(theta, t) - 2*c_alpha/r)*Derivative(theta, t))*cos(theta)/(-2*I_py*I_wc - I_py*M_p*r**2 - 2*I_py*M_w*r**2 - 2*I_wc*M_p*l**2 + M_p**2*l**2*r**2*cos(theta)**2 - M_p**2*l**2*r**2 - 2*M_p*M_w*l**2*r**2) + (-2*I_wc - M_p*r**2 - 2*M_w*r**2)*(M_p*g*l*sin(theta) - T_L - T_R - 2*c_alpha*Derivative(theta, t) + 2*c_alpha*Derivative(x, t)/r - (-I_px + I_pz - M_p*l**2)*sin(theta)*cos(theta)*Derivative(psi, t)**2)/(-2*I_py*I_wc - I_py*M_p*r**2 - 2*I_py*M_w*r**2 - 2*I_wc*M_p*l**2 + M_p**2*l**2*r**2*cos(theta)**2 - M_p**2*l**2*r**2 - 2*M_p*M_w*l**2*r**2)],\n",
                            "[                                                                                                                                                                                                                                               2*r**2*(-M_p*l*sin(theta)*Derivative(psi, t)*Derivative(x, t) - T_L*d/(2*r) + T_R*d/(2*r) - (c_alpha*d**2/(2*r**2) + (I_px - I_pz + M_p*l**2)*sin(theta)*cos(theta)*Derivative(theta, t))*Derivative(psi, t) - (I_px - I_pz + M_p*l**2)*sin(theta)*cos(theta)*Derivative(psi, t)*Derivative(theta, t))/(2*I_px*r**2*sin(theta)**2 - 2*I_pz*r**2*sin(theta)**2 + 2*I_pz*r**2 + I_wc*d**2 + 4*I_wr*r**2 + 2*M_p*l**2*r**2*sin(theta)**2 + M_w*d**2*r**2)]]))"
                        ],
                        "text/latex": [
                            "$\\displaystyle \\left[\\begin{matrix}\\frac{d^{2}}{d t^{2}} x\\\\\\frac{d^{2}}{d t^{2}} \\theta\\\\\\frac{d^{2}}{d t^{2}} \\psi\\end{matrix}\\right] = \\left[\\begin{matrix}\\frac{M_{p} l r^{2} \\left(M_{p} g l \\sin{\\left(\\theta \\right)} - T_{L} - T_{R} - 2 c_{\\alpha} \\frac{d}{d t} \\theta + \\frac{2 c_{\\alpha} \\frac{d}{d t} x}{r} - \\left(- I_{px} + I_{pz} - M_{p} l^{2}\\right) \\sin{\\left(\\theta \\right)} \\cos{\\left(\\theta \\right)} \\left(\\frac{d}{d t} \\psi\\right)^{2}\\right) \\cos{\\left(\\theta \\right)}}{- 2 I_{py} I_{wc} - I_{py} M_{p} r^{2} - 2 I_{py} M_{w} r^{2} - 2 I_{wc} M_{p} l^{2} + M_{p}^{2} l^{2} r^{2} \\cos^{2}{\\left(\\theta \\right)} - M_{p}^{2} l^{2} r^{2} - 2 M_{p} M_{w} l^{2} r^{2}} + \\frac{\\left(- I_{py} r^{2} - M_{p} l^{2} r^{2}\\right) \\left(M_{p} l \\sin{\\left(\\theta \\right)} \\left(\\frac{d}{d t} \\psi\\right)^{2} + \\frac{T_{L}}{r} + \\frac{T_{R}}{r} - \\frac{2 c_{\\alpha} \\frac{d}{d t} x}{r^{2}} - \\left(- M_{p} l \\sin{\\left(\\theta \\right)} \\frac{d}{d t} \\theta - \\frac{2 c_{\\alpha}}{r}\\right) \\frac{d}{d t} \\theta\\right)}{- 2 I_{py} I_{wc} - I_{py} M_{p} r^{2} - 2 I_{py} M_{w} r^{2} - 2 I_{wc} M_{p} l^{2} + M_{p}^{2} l^{2} r^{2} \\cos^{2}{\\left(\\theta \\right)} - M_{p}^{2} l^{2} r^{2} - 2 M_{p} M_{w} l^{2} r^{2}}\\\\\\frac{M_{p} l r^{2} \\left(M_{p} l \\sin{\\left(\\theta \\right)} \\left(\\frac{d}{d t} \\psi\\right)^{2} + \\frac{T_{L}}{r} + \\frac{T_{R}}{r} - \\frac{2 c_{\\alpha} \\frac{d}{d t} x}{r^{2}} - \\left(- M_{p} l \\sin{\\left(\\theta \\right)} \\frac{d}{d t} \\theta - \\frac{2 c_{\\alpha}}{r}\\right) \\frac{d}{d t} \\theta\\right) \\cos{\\left(\\theta \\right)}}{- 2 I_{py} I_{wc} - I_{py} M_{p} r^{2} - 2 I_{py} M_{w} r^{2} - 2 I_{wc} M_{p} l^{2} + M_{p}^{2} l^{2} r^{2} \\cos^{2}{\\left(\\theta \\right)} - M_{p}^{2} l^{2} r^{2} - 2 M_{p} M_{w} l^{2} r^{2}} + \\frac{\\left(- 2 I_{wc} - M_{p} r^{2} - 2 M_{w} r^{2}\\right) \\left(M_{p} g l \\sin{\\left(\\theta \\right)} - T_{L} - T_{R} - 2 c_{\\alpha} \\frac{d}{d t} \\theta + \\frac{2 c_{\\alpha} \\frac{d}{d t} x}{r} - \\left(- I_{px} + I_{pz} - M_{p} l^{2}\\right) \\sin{\\left(\\theta \\right)} \\cos{\\left(\\theta \\right)} \\left(\\frac{d}{d t} \\psi\\right)^{2}\\right)}{- 2 I_{py} I_{wc} - I_{py} M_{p} r^{2} - 2 I_{py} M_{w} r^{2} - 2 I_{wc} M_{p} l^{2} + M_{p}^{2} l^{2} r^{2} \\cos^{2}{\\left(\\theta \\right)} - M_{p}^{2} l^{2} r^{2} - 2 M_{p} M_{w} l^{2} r^{2}}\\\\\\frac{2 r^{2} \\left(- M_{p} l \\sin{\\left(\\theta \\right)} \\frac{d}{d t} \\psi \\frac{d}{d t} x - \\frac{T_{L} d}{2 r} + \\frac{T_{R} d}{2 r} - \\left(\\frac{c_{\\alpha} d^{2}}{2 r^{2}} + \\left(I_{px} - I_{pz} + M_{p} l^{2}\\right) \\sin{\\left(\\theta \\right)} \\cos{\\left(\\theta \\right)} \\frac{d}{d t} \\theta\\right) \\frac{d}{d t} \\psi - \\left(I_{px} - I_{pz} + M_{p} l^{2}\\right) \\sin{\\left(\\theta \\right)} \\cos{\\left(\\theta \\right)} \\frac{d}{d t} \\psi \\frac{d}{d t} \\theta\\right)}{2 I_{px} r^{2} \\sin^{2}{\\left(\\theta \\right)} - 2 I_{pz} r^{2} \\sin^{2}{\\left(\\theta \\right)} + 2 I_{pz} r^{2} + I_{wc} d^{2} + 4 I_{wr} r^{2} + 2 M_{p} l^{2} r^{2} \\sin^{2}{\\left(\\theta \\right)} + M_{w} d^{2} r^{2}}\\end{matrix}\\right]$"
                        ]
                    },
                    "metadata": {},
                    "execution_count": 4
                }
            ],
            "metadata": {}
        },
        {
            "cell_type": "code",
            "execution_count": 5,
            "source": [
                "\n",
                "#* Convert real variables into state-space variables\n",
                "\n",
                "# Build state vector\n",
                "real_state_vec = q_diff.row_insert(4,q)\n",
                "state_vec = Matrix(list(symbols('x1:7',real=True)))\n",
                "state_eq = Eq(state_vec,real_state_vec)\n",
                "state_eq"
            ],
            "outputs": [
                {
                    "output_type": "execute_result",
                    "data": {
                        "text/plain": [
                            "Eq(Matrix([\n",
                            "[x1],\n",
                            "[x2],\n",
                            "[x3],\n",
                            "[x4],\n",
                            "[x5],\n",
                            "[x6]]), Matrix([\n",
                            "[    Derivative(x, t)],\n",
                            "[Derivative(theta, t)],\n",
                            "[  Derivative(psi, t)],\n",
                            "[                   x],\n",
                            "[               theta],\n",
                            "[                 psi]]))"
                        ],
                        "text/latex": [
                            "$\\displaystyle \\left[\\begin{matrix}x_{1}\\\\x_{2}\\\\x_{3}\\\\x_{4}\\\\x_{5}\\\\x_{6}\\end{matrix}\\right] = \\left[\\begin{matrix}\\frac{d}{d t} x\\\\\\frac{d}{d t} \\theta\\\\\\frac{d}{d t} \\psi\\\\x\\\\\\theta\\\\\\psi\\end{matrix}\\right]$"
                        ]
                    },
                    "metadata": {},
                    "execution_count": 5
                }
            ],
            "metadata": {}
        },
        {
            "cell_type": "code",
            "execution_count": 6,
            "source": [
                "\n",
                "#* Build the derivative of the state vector\n",
                "\n",
                "real_state_diff_vec = q_2diff.row_insert(4,q_diff)\n",
                "state_diff_vec = []\n",
                "for sym in state_vec:\n",
                "    state_diff_vec.append(Derivative(sym,t))\n",
                "state_diff_vec = Matrix(state_diff_vec)\n",
                "state_diff_eq = Eq(state_diff_vec,real_state_diff_vec)\n",
                "\n",
                "#* Build the vector of system equations\n",
                "\n",
                "system_equations = expr_model.row_insert(4,q_diff)\n",
                "\n",
                "#* Substitute the real variables with the state-stape model variables: x1:x6\n",
                "\n",
                "for i in range(6):\n",
                "        system_equations = system_equations.subs(real_state_vec[i],state_vec[i])\n",
                "\n",
                "#* Show the system of equations that will be used in the state space form \n",
                "\n",
                "eq_sys = Eq(state_diff_vec,system_equations)\n",
                "eq_sys"
            ],
            "outputs": [
                {
                    "output_type": "execute_result",
                    "data": {
                        "text/plain": [
                            "Eq(Matrix([\n",
                            "[Derivative(x1, t)],\n",
                            "[Derivative(x2, t)],\n",
                            "[Derivative(x3, t)],\n",
                            "[Derivative(x4, t)],\n",
                            "[Derivative(x5, t)],\n",
                            "[Derivative(x6, t)]]), Matrix([\n",
                            "[     M_p*l*r**2*(M_p*g*l*sin(x5) - T_L - T_R - 2*c_alpha*x2 + 2*c_alpha*x1/r - x3**2*(-I_px + I_pz - M_p*l**2)*sin(x5)*cos(x5))*cos(x5)/(-2*I_py*I_wc - I_py*M_p*r**2 - 2*I_py*M_w*r**2 - 2*I_wc*M_p*l**2 + M_p**2*l**2*r**2*cos(x5)**2 - M_p**2*l**2*r**2 - 2*M_p*M_w*l**2*r**2) + (-I_py*r**2 - M_p*l**2*r**2)*(M_p*l*x3**2*sin(x5) + T_L/r + T_R/r - 2*c_alpha*x1/r**2 - x2*(-M_p*l*x2*sin(x5) - 2*c_alpha/r))/(-2*I_py*I_wc - I_py*M_p*r**2 - 2*I_py*M_w*r**2 - 2*I_wc*M_p*l**2 + M_p**2*l**2*r**2*cos(x5)**2 - M_p**2*l**2*r**2 - 2*M_p*M_w*l**2*r**2)],\n",
                            "[M_p*l*r**2*(M_p*l*x3**2*sin(x5) + T_L/r + T_R/r - 2*c_alpha*x1/r**2 - x2*(-M_p*l*x2*sin(x5) - 2*c_alpha/r))*cos(x5)/(-2*I_py*I_wc - I_py*M_p*r**2 - 2*I_py*M_w*r**2 - 2*I_wc*M_p*l**2 + M_p**2*l**2*r**2*cos(x5)**2 - M_p**2*l**2*r**2 - 2*M_p*M_w*l**2*r**2) + (-2*I_wc - M_p*r**2 - 2*M_w*r**2)*(M_p*g*l*sin(x5) - T_L - T_R - 2*c_alpha*x2 + 2*c_alpha*x1/r - x3**2*(-I_px + I_pz - M_p*l**2)*sin(x5)*cos(x5))/(-2*I_py*I_wc - I_py*M_p*r**2 - 2*I_py*M_w*r**2 - 2*I_wc*M_p*l**2 + M_p**2*l**2*r**2*cos(x5)**2 - M_p**2*l**2*r**2 - 2*M_p*M_w*l**2*r**2)],\n",
                            "[                                                                                                                                                                                                                               2*r**2*(-M_p*l*x1*x3*sin(x5) - T_L*d/(2*r) + T_R*d/(2*r) - x2*x3*(I_px - I_pz + M_p*l**2)*sin(x5)*cos(x5) - x3*(c_alpha*d**2/(2*r**2) + x2*(I_px - I_pz + M_p*l**2)*sin(x5)*cos(x5)))/(2*I_px*r**2*sin(x5)**2 - 2*I_pz*r**2*sin(x5)**2 + 2*I_pz*r**2 + I_wc*d**2 + 4*I_wr*r**2 + 2*M_p*l**2*r**2*sin(x5)**2 + M_w*d**2*r**2)],\n",
                            "[                                                                                                                                                                                                                                                                                                                                                                                                                                                                                                                                                         x1],\n",
                            "[                                                                                                                                                                                                                                                                                                                                                                                                                                                                                                                                                         x2],\n",
                            "[                                                                                                                                                                                                                                                                                                                                                                                                                                                                                                                                                         x3]]))"
                        ],
                        "text/latex": [
                            "$\\displaystyle \\left[\\begin{matrix}\\frac{d}{d t} x_{1}\\\\\\frac{d}{d t} x_{2}\\\\\\frac{d}{d t} x_{3}\\\\\\frac{d}{d t} x_{4}\\\\\\frac{d}{d t} x_{5}\\\\\\frac{d}{d t} x_{6}\\end{matrix}\\right] = \\left[\\begin{matrix}\\frac{M_{p} l r^{2} \\left(M_{p} g l \\sin{\\left(x_{5} \\right)} - T_{L} - T_{R} - 2 c_{\\alpha} x_{2} + \\frac{2 c_{\\alpha} x_{1}}{r} - x_{3}^{2} \\left(- I_{px} + I_{pz} - M_{p} l^{2}\\right) \\sin{\\left(x_{5} \\right)} \\cos{\\left(x_{5} \\right)}\\right) \\cos{\\left(x_{5} \\right)}}{- 2 I_{py} I_{wc} - I_{py} M_{p} r^{2} - 2 I_{py} M_{w} r^{2} - 2 I_{wc} M_{p} l^{2} + M_{p}^{2} l^{2} r^{2} \\cos^{2}{\\left(x_{5} \\right)} - M_{p}^{2} l^{2} r^{2} - 2 M_{p} M_{w} l^{2} r^{2}} + \\frac{\\left(- I_{py} r^{2} - M_{p} l^{2} r^{2}\\right) \\left(M_{p} l x_{3}^{2} \\sin{\\left(x_{5} \\right)} + \\frac{T_{L}}{r} + \\frac{T_{R}}{r} - \\frac{2 c_{\\alpha} x_{1}}{r^{2}} - x_{2} \\left(- M_{p} l x_{2} \\sin{\\left(x_{5} \\right)} - \\frac{2 c_{\\alpha}}{r}\\right)\\right)}{- 2 I_{py} I_{wc} - I_{py} M_{p} r^{2} - 2 I_{py} M_{w} r^{2} - 2 I_{wc} M_{p} l^{2} + M_{p}^{2} l^{2} r^{2} \\cos^{2}{\\left(x_{5} \\right)} - M_{p}^{2} l^{2} r^{2} - 2 M_{p} M_{w} l^{2} r^{2}}\\\\\\frac{M_{p} l r^{2} \\left(M_{p} l x_{3}^{2} \\sin{\\left(x_{5} \\right)} + \\frac{T_{L}}{r} + \\frac{T_{R}}{r} - \\frac{2 c_{\\alpha} x_{1}}{r^{2}} - x_{2} \\left(- M_{p} l x_{2} \\sin{\\left(x_{5} \\right)} - \\frac{2 c_{\\alpha}}{r}\\right)\\right) \\cos{\\left(x_{5} \\right)}}{- 2 I_{py} I_{wc} - I_{py} M_{p} r^{2} - 2 I_{py} M_{w} r^{2} - 2 I_{wc} M_{p} l^{2} + M_{p}^{2} l^{2} r^{2} \\cos^{2}{\\left(x_{5} \\right)} - M_{p}^{2} l^{2} r^{2} - 2 M_{p} M_{w} l^{2} r^{2}} + \\frac{\\left(- 2 I_{wc} - M_{p} r^{2} - 2 M_{w} r^{2}\\right) \\left(M_{p} g l \\sin{\\left(x_{5} \\right)} - T_{L} - T_{R} - 2 c_{\\alpha} x_{2} + \\frac{2 c_{\\alpha} x_{1}}{r} - x_{3}^{2} \\left(- I_{px} + I_{pz} - M_{p} l^{2}\\right) \\sin{\\left(x_{5} \\right)} \\cos{\\left(x_{5} \\right)}\\right)}{- 2 I_{py} I_{wc} - I_{py} M_{p} r^{2} - 2 I_{py} M_{w} r^{2} - 2 I_{wc} M_{p} l^{2} + M_{p}^{2} l^{2} r^{2} \\cos^{2}{\\left(x_{5} \\right)} - M_{p}^{2} l^{2} r^{2} - 2 M_{p} M_{w} l^{2} r^{2}}\\\\\\frac{2 r^{2} \\left(- M_{p} l x_{1} x_{3} \\sin{\\left(x_{5} \\right)} - \\frac{T_{L} d}{2 r} + \\frac{T_{R} d}{2 r} - x_{2} x_{3} \\left(I_{px} - I_{pz} + M_{p} l^{2}\\right) \\sin{\\left(x_{5} \\right)} \\cos{\\left(x_{5} \\right)} - x_{3} \\left(\\frac{c_{\\alpha} d^{2}}{2 r^{2}} + x_{2} \\left(I_{px} - I_{pz} + M_{p} l^{2}\\right) \\sin{\\left(x_{5} \\right)} \\cos{\\left(x_{5} \\right)}\\right)\\right)}{2 I_{px} r^{2} \\sin^{2}{\\left(x_{5} \\right)} - 2 I_{pz} r^{2} \\sin^{2}{\\left(x_{5} \\right)} + 2 I_{pz} r^{2} + I_{wc} d^{2} + 4 I_{wr} r^{2} + 2 M_{p} l^{2} r^{2} \\sin^{2}{\\left(x_{5} \\right)} + M_{w} d^{2} r^{2}}\\\\x_{1}\\\\x_{2}\\\\x_{3}\\end{matrix}\\right]$"
                        ]
                    },
                    "metadata": {},
                    "execution_count": 6
                }
            ],
            "metadata": {}
        },
        {
            "cell_type": "code",
            "execution_count": 7,
            "source": [
                "\n",
                "#* Calcualte the jacobian for the A matrix of the continuos time system\n",
                "Ac = Matrix(np.zeros((6,6)))\n",
                "\n",
                "for i,expr in enumerate(system_equations):\n",
                "    for j,state in enumerate(state_vec):\n",
                "        Ac[i,j] = diff(expr,state)\n",
                "Ac"
            ],
            "outputs": [
                {
                    "output_type": "execute_result",
                    "data": {
                        "text/plain": [
                            "Matrix([\n",
                            "[ 2*M_p*c_alpha*l*r*cos(x5)/(-2*I_py*I_wc - I_py*M_p*r**2 - 2*I_py*M_w*r**2 - 2*I_wc*M_p*l**2 + M_p**2*l**2*r**2*cos(x5)**2 - M_p**2*l**2*r**2 - 2*M_p*M_w*l**2*r**2) - 2*c_alpha*(-I_py*r**2 - M_p*l**2*r**2)/(r**2*(-2*I_py*I_wc - I_py*M_p*r**2 - 2*I_py*M_w*r**2 - 2*I_wc*M_p*l**2 + M_p**2*l**2*r**2*cos(x5)**2 - M_p**2*l**2*r**2 - 2*M_p*M_w*l**2*r**2)),     -2*M_p*c_alpha*l*r**2*cos(x5)/(-2*I_py*I_wc - I_py*M_p*r**2 - 2*I_py*M_w*r**2 - 2*I_wc*M_p*l**2 + M_p**2*l**2*r**2*cos(x5)**2 - M_p**2*l**2*r**2 - 2*M_p*M_w*l**2*r**2) + (-I_py*r**2 - M_p*l**2*r**2)*(2*M_p*l*x2*sin(x5) + 2*c_alpha/r)/(-2*I_py*I_wc - I_py*M_p*r**2 - 2*I_py*M_w*r**2 - 2*I_wc*M_p*l**2 + M_p**2*l**2*r**2*cos(x5)**2 - M_p**2*l**2*r**2 - 2*M_p*M_w*l**2*r**2),          -2*M_p*l*r**2*x3*(-I_px + I_pz - M_p*l**2)*sin(x5)*cos(x5)**2/(-2*I_py*I_wc - I_py*M_p*r**2 - 2*I_py*M_w*r**2 - 2*I_wc*M_p*l**2 + M_p**2*l**2*r**2*cos(x5)**2 - M_p**2*l**2*r**2 - 2*M_p*M_w*l**2*r**2) + 2*M_p*l*x3*(-I_py*r**2 - M_p*l**2*r**2)*sin(x5)/(-2*I_py*I_wc - I_py*M_p*r**2 - 2*I_py*M_w*r**2 - 2*I_wc*M_p*l**2 + M_p**2*l**2*r**2*cos(x5)**2 - M_p**2*l**2*r**2 - 2*M_p*M_w*l**2*r**2), 0, 2*M_p**3*l**3*r**4*(M_p*g*l*sin(x5) - T_L - T_R - 2*c_alpha*x2 + 2*c_alpha*x1/r - x3**2*(-I_px + I_pz - M_p*l**2)*sin(x5)*cos(x5))*sin(x5)*cos(x5)**2/(-2*I_py*I_wc - I_py*M_p*r**2 - 2*I_py*M_w*r**2 - 2*I_wc*M_p*l**2 + M_p**2*l**2*r**2*cos(x5)**2 - M_p**2*l**2*r**2 - 2*M_p*M_w*l**2*r**2)**2 + 2*M_p**2*l**2*r**2*(-I_py*r**2 - M_p*l**2*r**2)*(M_p*l*x3**2*sin(x5) + T_L/r + T_R/r - 2*c_alpha*x1/r**2 - x2*(-M_p*l*x2*sin(x5) - 2*c_alpha/r))*sin(x5)*cos(x5)/(-2*I_py*I_wc - I_py*M_p*r**2 - 2*I_py*M_w*r**2 - 2*I_wc*M_p*l**2 + M_p**2*l**2*r**2*cos(x5)**2 - M_p**2*l**2*r**2 - 2*M_p*M_w*l**2*r**2)**2 + M_p*l*r**2*(M_p*g*l*cos(x5) + x3**2*(-I_px + I_pz - M_p*l**2)*sin(x5)**2 - x3**2*(-I_px + I_pz - M_p*l**2)*cos(x5)**2)*cos(x5)/(-2*I_py*I_wc - I_py*M_p*r**2 - 2*I_py*M_w*r**2 - 2*I_wc*M_p*l**2 + M_p**2*l**2*r**2*cos(x5)**2 - M_p**2*l**2*r**2 - 2*M_p*M_w*l**2*r**2) - M_p*l*r**2*(M_p*g*l*sin(x5) - T_L - T_R - 2*c_alpha*x2 + 2*c_alpha*x1/r - x3**2*(-I_px + I_pz - M_p*l**2)*sin(x5)*cos(x5))*sin(x5)/(-2*I_py*I_wc - I_py*M_p*r**2 - 2*I_py*M_w*r**2 - 2*I_wc*M_p*l**2 + M_p**2*l**2*r**2*cos(x5)**2 - M_p**2*l**2*r**2 - 2*M_p*M_w*l**2*r**2) + (-I_py*r**2 - M_p*l**2*r**2)*(M_p*l*x2**2*cos(x5) + M_p*l*x3**2*cos(x5))/(-2*I_py*I_wc - I_py*M_p*r**2 - 2*I_py*M_w*r**2 - 2*I_wc*M_p*l**2 + M_p**2*l**2*r**2*cos(x5)**2 - M_p**2*l**2*r**2 - 2*M_p*M_w*l**2*r**2), 0],\n",
                            "[-2*M_p*c_alpha*l*cos(x5)/(-2*I_py*I_wc - I_py*M_p*r**2 - 2*I_py*M_w*r**2 - 2*I_wc*M_p*l**2 + M_p**2*l**2*r**2*cos(x5)**2 - M_p**2*l**2*r**2 - 2*M_p*M_w*l**2*r**2) + 2*c_alpha*(-2*I_wc - M_p*r**2 - 2*M_w*r**2)/(r*(-2*I_py*I_wc - I_py*M_p*r**2 - 2*I_py*M_w*r**2 - 2*I_wc*M_p*l**2 + M_p**2*l**2*r**2*cos(x5)**2 - M_p**2*l**2*r**2 - 2*M_p*M_w*l**2*r**2)), M_p*l*r**2*(2*M_p*l*x2*sin(x5) + 2*c_alpha/r)*cos(x5)/(-2*I_py*I_wc - I_py*M_p*r**2 - 2*I_py*M_w*r**2 - 2*I_wc*M_p*l**2 + M_p**2*l**2*r**2*cos(x5)**2 - M_p**2*l**2*r**2 - 2*M_p*M_w*l**2*r**2) - 2*c_alpha*(-2*I_wc - M_p*r**2 - 2*M_w*r**2)/(-2*I_py*I_wc - I_py*M_p*r**2 - 2*I_py*M_w*r**2 - 2*I_wc*M_p*l**2 + M_p**2*l**2*r**2*cos(x5)**2 - M_p**2*l**2*r**2 - 2*M_p*M_w*l**2*r**2), 2*M_p**2*l**2*r**2*x3*sin(x5)*cos(x5)/(-2*I_py*I_wc - I_py*M_p*r**2 - 2*I_py*M_w*r**2 - 2*I_wc*M_p*l**2 + M_p**2*l**2*r**2*cos(x5)**2 - M_p**2*l**2*r**2 - 2*M_p*M_w*l**2*r**2) - 2*x3*(-I_px + I_pz - M_p*l**2)*(-2*I_wc - M_p*r**2 - 2*M_w*r**2)*sin(x5)*cos(x5)/(-2*I_py*I_wc - I_py*M_p*r**2 - 2*I_py*M_w*r**2 - 2*I_wc*M_p*l**2 + M_p**2*l**2*r**2*cos(x5)**2 - M_p**2*l**2*r**2 - 2*M_p*M_w*l**2*r**2), 0,      2*M_p**3*l**3*r**4*(M_p*l*x3**2*sin(x5) + T_L/r + T_R/r - 2*c_alpha*x1/r**2 - x2*(-M_p*l*x2*sin(x5) - 2*c_alpha/r))*sin(x5)*cos(x5)**2/(-2*I_py*I_wc - I_py*M_p*r**2 - 2*I_py*M_w*r**2 - 2*I_wc*M_p*l**2 + M_p**2*l**2*r**2*cos(x5)**2 - M_p**2*l**2*r**2 - 2*M_p*M_w*l**2*r**2)**2 + 2*M_p**2*l**2*r**2*(-2*I_wc - M_p*r**2 - 2*M_w*r**2)*(M_p*g*l*sin(x5) - T_L - T_R - 2*c_alpha*x2 + 2*c_alpha*x1/r - x3**2*(-I_px + I_pz - M_p*l**2)*sin(x5)*cos(x5))*sin(x5)*cos(x5)/(-2*I_py*I_wc - I_py*M_p*r**2 - 2*I_py*M_w*r**2 - 2*I_wc*M_p*l**2 + M_p**2*l**2*r**2*cos(x5)**2 - M_p**2*l**2*r**2 - 2*M_p*M_w*l**2*r**2)**2 + M_p*l*r**2*(M_p*l*x2**2*cos(x5) + M_p*l*x3**2*cos(x5))*cos(x5)/(-2*I_py*I_wc - I_py*M_p*r**2 - 2*I_py*M_w*r**2 - 2*I_wc*M_p*l**2 + M_p**2*l**2*r**2*cos(x5)**2 - M_p**2*l**2*r**2 - 2*M_p*M_w*l**2*r**2) - M_p*l*r**2*(M_p*l*x3**2*sin(x5) + T_L/r + T_R/r - 2*c_alpha*x1/r**2 - x2*(-M_p*l*x2*sin(x5) - 2*c_alpha/r))*sin(x5)/(-2*I_py*I_wc - I_py*M_p*r**2 - 2*I_py*M_w*r**2 - 2*I_wc*M_p*l**2 + M_p**2*l**2*r**2*cos(x5)**2 - M_p**2*l**2*r**2 - 2*M_p*M_w*l**2*r**2) + (-2*I_wc - M_p*r**2 - 2*M_w*r**2)*(M_p*g*l*cos(x5) + x3**2*(-I_px + I_pz - M_p*l**2)*sin(x5)**2 - x3**2*(-I_px + I_pz - M_p*l**2)*cos(x5)**2)/(-2*I_py*I_wc - I_py*M_p*r**2 - 2*I_py*M_w*r**2 - 2*I_wc*M_p*l**2 + M_p**2*l**2*r**2*cos(x5)**2 - M_p**2*l**2*r**2 - 2*M_p*M_w*l**2*r**2), 0],\n",
                            "[                                                                                                                                                                                               -2*M_p*l*r**2*x3*sin(x5)/(2*I_px*r**2*sin(x5)**2 - 2*I_pz*r**2*sin(x5)**2 + 2*I_pz*r**2 + I_wc*d**2 + 4*I_wr*r**2 + 2*M_p*l**2*r**2*sin(x5)**2 + M_w*d**2*r**2),                                                                                                                                                                                              -4*r**2*x3*(I_px - I_pz + M_p*l**2)*sin(x5)*cos(x5)/(2*I_px*r**2*sin(x5)**2 - 2*I_pz*r**2*sin(x5)**2 + 2*I_pz*r**2 + I_wc*d**2 + 4*I_wr*r**2 + 2*M_p*l**2*r**2*sin(x5)**2 + M_w*d**2*r**2),                                                                                                                                                                    2*r**2*(-M_p*l*x1*sin(x5) - c_alpha*d**2/(2*r**2) - 2*x2*(I_px - I_pz + M_p*l**2)*sin(x5)*cos(x5))/(2*I_px*r**2*sin(x5)**2 - 2*I_pz*r**2*sin(x5)**2 + 2*I_pz*r**2 + I_wc*d**2 + 4*I_wr*r**2 + 2*M_p*l**2*r**2*sin(x5)**2 + M_w*d**2*r**2), 0,                                                                                                                                                                                                                                                                                                                                                                                                                                                                                                                                                                                                             2*r**2*(-4*I_px*r**2*sin(x5)*cos(x5) + 4*I_pz*r**2*sin(x5)*cos(x5) - 4*M_p*l**2*r**2*sin(x5)*cos(x5))*(-M_p*l*x1*x3*sin(x5) - T_L*d/(2*r) + T_R*d/(2*r) - x2*x3*(I_px - I_pz + M_p*l**2)*sin(x5)*cos(x5) - x3*(c_alpha*d**2/(2*r**2) + x2*(I_px - I_pz + M_p*l**2)*sin(x5)*cos(x5)))/(2*I_px*r**2*sin(x5)**2 - 2*I_pz*r**2*sin(x5)**2 + 2*I_pz*r**2 + I_wc*d**2 + 4*I_wr*r**2 + 2*M_p*l**2*r**2*sin(x5)**2 + M_w*d**2*r**2)**2 + 2*r**2*(-M_p*l*x1*x3*cos(x5) + x2*x3*(I_px - I_pz + M_p*l**2)*sin(x5)**2 - x2*x3*(I_px - I_pz + M_p*l**2)*cos(x5)**2 - x3*(-x2*(I_px - I_pz + M_p*l**2)*sin(x5)**2 + x2*(I_px - I_pz + M_p*l**2)*cos(x5)**2))/(2*I_px*r**2*sin(x5)**2 - 2*I_pz*r**2*sin(x5)**2 + 2*I_pz*r**2 + I_wc*d**2 + 4*I_wr*r**2 + 2*M_p*l**2*r**2*sin(x5)**2 + M_w*d**2*r**2), 0],\n",
                            "[                                                                                                                                                                                                                                                                                                                                                             1,                                                                                                                                                                                                                                                                                                                                                                                       0,                                                                                                                                                                                                                                                                                                                                                                                                            0, 0,                                                                                                                                                                                                                                                                                                                                                                                                                                                                                                                                                                                                                                                                                                                                                                                                                                                                                                                                                                                                                                                                                                                                                                                                                                                                                                                                                                                                 0, 0],\n",
                            "[                                                                                                                                                                                                                                                                                                                                                             0,                                                                                                                                                                                                                                                                                                                                                                                       1,                                                                                                                                                                                                                                                                                                                                                                                                            0, 0,                                                                                                                                                                                                                                                                                                                                                                                                                                                                                                                                                                                                                                                                                                                                                                                                                                                                                                                                                                                                                                                                                                                                                                                                                                                                                                                                                                                                 0, 0],\n",
                            "[                                                                                                                                                                                                                                                                                                                                                             0,                                                                                                                                                                                                                                                                                                                                                                                       0,                                                                                                                                                                                                                                                                                                                                                                                                            1, 0,                                                                                                                                                                                                                                                                                                                                                                                                                                                                                                                                                                                                                                                                                                                                                                                                                                                                                                                                                                                                                                                                                                                                                                                                                                                                                                                                                                                                 0, 0]])"
                        ],
                        "text/latex": [
                            "$\\displaystyle \\left[\\begin{matrix}\\frac{2 M_{p} c_{\\alpha} l r \\cos{\\left(x_{5} \\right)}}{- 2 I_{py} I_{wc} - I_{py} M_{p} r^{2} - 2 I_{py} M_{w} r^{2} - 2 I_{wc} M_{p} l^{2} + M_{p}^{2} l^{2} r^{2} \\cos^{2}{\\left(x_{5} \\right)} - M_{p}^{2} l^{2} r^{2} - 2 M_{p} M_{w} l^{2} r^{2}} - \\frac{2 c_{\\alpha} \\left(- I_{py} r^{2} - M_{p} l^{2} r^{2}\\right)}{r^{2} \\left(- 2 I_{py} I_{wc} - I_{py} M_{p} r^{2} - 2 I_{py} M_{w} r^{2} - 2 I_{wc} M_{p} l^{2} + M_{p}^{2} l^{2} r^{2} \\cos^{2}{\\left(x_{5} \\right)} - M_{p}^{2} l^{2} r^{2} - 2 M_{p} M_{w} l^{2} r^{2}\\right)} & - \\frac{2 M_{p} c_{\\alpha} l r^{2} \\cos{\\left(x_{5} \\right)}}{- 2 I_{py} I_{wc} - I_{py} M_{p} r^{2} - 2 I_{py} M_{w} r^{2} - 2 I_{wc} M_{p} l^{2} + M_{p}^{2} l^{2} r^{2} \\cos^{2}{\\left(x_{5} \\right)} - M_{p}^{2} l^{2} r^{2} - 2 M_{p} M_{w} l^{2} r^{2}} + \\frac{\\left(- I_{py} r^{2} - M_{p} l^{2} r^{2}\\right) \\left(2 M_{p} l x_{2} \\sin{\\left(x_{5} \\right)} + \\frac{2 c_{\\alpha}}{r}\\right)}{- 2 I_{py} I_{wc} - I_{py} M_{p} r^{2} - 2 I_{py} M_{w} r^{2} - 2 I_{wc} M_{p} l^{2} + M_{p}^{2} l^{2} r^{2} \\cos^{2}{\\left(x_{5} \\right)} - M_{p}^{2} l^{2} r^{2} - 2 M_{p} M_{w} l^{2} r^{2}} & - \\frac{2 M_{p} l r^{2} x_{3} \\left(- I_{px} + I_{pz} - M_{p} l^{2}\\right) \\sin{\\left(x_{5} \\right)} \\cos^{2}{\\left(x_{5} \\right)}}{- 2 I_{py} I_{wc} - I_{py} M_{p} r^{2} - 2 I_{py} M_{w} r^{2} - 2 I_{wc} M_{p} l^{2} + M_{p}^{2} l^{2} r^{2} \\cos^{2}{\\left(x_{5} \\right)} - M_{p}^{2} l^{2} r^{2} - 2 M_{p} M_{w} l^{2} r^{2}} + \\frac{2 M_{p} l x_{3} \\left(- I_{py} r^{2} - M_{p} l^{2} r^{2}\\right) \\sin{\\left(x_{5} \\right)}}{- 2 I_{py} I_{wc} - I_{py} M_{p} r^{2} - 2 I_{py} M_{w} r^{2} - 2 I_{wc} M_{p} l^{2} + M_{p}^{2} l^{2} r^{2} \\cos^{2}{\\left(x_{5} \\right)} - M_{p}^{2} l^{2} r^{2} - 2 M_{p} M_{w} l^{2} r^{2}} & 0 & \\frac{2 M_{p}^{3} l^{3} r^{4} \\left(M_{p} g l \\sin{\\left(x_{5} \\right)} - T_{L} - T_{R} - 2 c_{\\alpha} x_{2} + \\frac{2 c_{\\alpha} x_{1}}{r} - x_{3}^{2} \\left(- I_{px} + I_{pz} - M_{p} l^{2}\\right) \\sin{\\left(x_{5} \\right)} \\cos{\\left(x_{5} \\right)}\\right) \\sin{\\left(x_{5} \\right)} \\cos^{2}{\\left(x_{5} \\right)}}{\\left(- 2 I_{py} I_{wc} - I_{py} M_{p} r^{2} - 2 I_{py} M_{w} r^{2} - 2 I_{wc} M_{p} l^{2} + M_{p}^{2} l^{2} r^{2} \\cos^{2}{\\left(x_{5} \\right)} - M_{p}^{2} l^{2} r^{2} - 2 M_{p} M_{w} l^{2} r^{2}\\right)^{2}} + \\frac{2 M_{p}^{2} l^{2} r^{2} \\left(- I_{py} r^{2} - M_{p} l^{2} r^{2}\\right) \\left(M_{p} l x_{3}^{2} \\sin{\\left(x_{5} \\right)} + \\frac{T_{L}}{r} + \\frac{T_{R}}{r} - \\frac{2 c_{\\alpha} x_{1}}{r^{2}} - x_{2} \\left(- M_{p} l x_{2} \\sin{\\left(x_{5} \\right)} - \\frac{2 c_{\\alpha}}{r}\\right)\\right) \\sin{\\left(x_{5} \\right)} \\cos{\\left(x_{5} \\right)}}{\\left(- 2 I_{py} I_{wc} - I_{py} M_{p} r^{2} - 2 I_{py} M_{w} r^{2} - 2 I_{wc} M_{p} l^{2} + M_{p}^{2} l^{2} r^{2} \\cos^{2}{\\left(x_{5} \\right)} - M_{p}^{2} l^{2} r^{2} - 2 M_{p} M_{w} l^{2} r^{2}\\right)^{2}} + \\frac{M_{p} l r^{2} \\left(M_{p} g l \\cos{\\left(x_{5} \\right)} + x_{3}^{2} \\left(- I_{px} + I_{pz} - M_{p} l^{2}\\right) \\sin^{2}{\\left(x_{5} \\right)} - x_{3}^{2} \\left(- I_{px} + I_{pz} - M_{p} l^{2}\\right) \\cos^{2}{\\left(x_{5} \\right)}\\right) \\cos{\\left(x_{5} \\right)}}{- 2 I_{py} I_{wc} - I_{py} M_{p} r^{2} - 2 I_{py} M_{w} r^{2} - 2 I_{wc} M_{p} l^{2} + M_{p}^{2} l^{2} r^{2} \\cos^{2}{\\left(x_{5} \\right)} - M_{p}^{2} l^{2} r^{2} - 2 M_{p} M_{w} l^{2} r^{2}} - \\frac{M_{p} l r^{2} \\left(M_{p} g l \\sin{\\left(x_{5} \\right)} - T_{L} - T_{R} - 2 c_{\\alpha} x_{2} + \\frac{2 c_{\\alpha} x_{1}}{r} - x_{3}^{2} \\left(- I_{px} + I_{pz} - M_{p} l^{2}\\right) \\sin{\\left(x_{5} \\right)} \\cos{\\left(x_{5} \\right)}\\right) \\sin{\\left(x_{5} \\right)}}{- 2 I_{py} I_{wc} - I_{py} M_{p} r^{2} - 2 I_{py} M_{w} r^{2} - 2 I_{wc} M_{p} l^{2} + M_{p}^{2} l^{2} r^{2} \\cos^{2}{\\left(x_{5} \\right)} - M_{p}^{2} l^{2} r^{2} - 2 M_{p} M_{w} l^{2} r^{2}} + \\frac{\\left(- I_{py} r^{2} - M_{p} l^{2} r^{2}\\right) \\left(M_{p} l x_{2}^{2} \\cos{\\left(x_{5} \\right)} + M_{p} l x_{3}^{2} \\cos{\\left(x_{5} \\right)}\\right)}{- 2 I_{py} I_{wc} - I_{py} M_{p} r^{2} - 2 I_{py} M_{w} r^{2} - 2 I_{wc} M_{p} l^{2} + M_{p}^{2} l^{2} r^{2} \\cos^{2}{\\left(x_{5} \\right)} - M_{p}^{2} l^{2} r^{2} - 2 M_{p} M_{w} l^{2} r^{2}} & 0\\\\- \\frac{2 M_{p} c_{\\alpha} l \\cos{\\left(x_{5} \\right)}}{- 2 I_{py} I_{wc} - I_{py} M_{p} r^{2} - 2 I_{py} M_{w} r^{2} - 2 I_{wc} M_{p} l^{2} + M_{p}^{2} l^{2} r^{2} \\cos^{2}{\\left(x_{5} \\right)} - M_{p}^{2} l^{2} r^{2} - 2 M_{p} M_{w} l^{2} r^{2}} + \\frac{2 c_{\\alpha} \\left(- 2 I_{wc} - M_{p} r^{2} - 2 M_{w} r^{2}\\right)}{r \\left(- 2 I_{py} I_{wc} - I_{py} M_{p} r^{2} - 2 I_{py} M_{w} r^{2} - 2 I_{wc} M_{p} l^{2} + M_{p}^{2} l^{2} r^{2} \\cos^{2}{\\left(x_{5} \\right)} - M_{p}^{2} l^{2} r^{2} - 2 M_{p} M_{w} l^{2} r^{2}\\right)} & \\frac{M_{p} l r^{2} \\left(2 M_{p} l x_{2} \\sin{\\left(x_{5} \\right)} + \\frac{2 c_{\\alpha}}{r}\\right) \\cos{\\left(x_{5} \\right)}}{- 2 I_{py} I_{wc} - I_{py} M_{p} r^{2} - 2 I_{py} M_{w} r^{2} - 2 I_{wc} M_{p} l^{2} + M_{p}^{2} l^{2} r^{2} \\cos^{2}{\\left(x_{5} \\right)} - M_{p}^{2} l^{2} r^{2} - 2 M_{p} M_{w} l^{2} r^{2}} - \\frac{2 c_{\\alpha} \\left(- 2 I_{wc} - M_{p} r^{2} - 2 M_{w} r^{2}\\right)}{- 2 I_{py} I_{wc} - I_{py} M_{p} r^{2} - 2 I_{py} M_{w} r^{2} - 2 I_{wc} M_{p} l^{2} + M_{p}^{2} l^{2} r^{2} \\cos^{2}{\\left(x_{5} \\right)} - M_{p}^{2} l^{2} r^{2} - 2 M_{p} M_{w} l^{2} r^{2}} & \\frac{2 M_{p}^{2} l^{2} r^{2} x_{3} \\sin{\\left(x_{5} \\right)} \\cos{\\left(x_{5} \\right)}}{- 2 I_{py} I_{wc} - I_{py} M_{p} r^{2} - 2 I_{py} M_{w} r^{2} - 2 I_{wc} M_{p} l^{2} + M_{p}^{2} l^{2} r^{2} \\cos^{2}{\\left(x_{5} \\right)} - M_{p}^{2} l^{2} r^{2} - 2 M_{p} M_{w} l^{2} r^{2}} - \\frac{2 x_{3} \\left(- I_{px} + I_{pz} - M_{p} l^{2}\\right) \\left(- 2 I_{wc} - M_{p} r^{2} - 2 M_{w} r^{2}\\right) \\sin{\\left(x_{5} \\right)} \\cos{\\left(x_{5} \\right)}}{- 2 I_{py} I_{wc} - I_{py} M_{p} r^{2} - 2 I_{py} M_{w} r^{2} - 2 I_{wc} M_{p} l^{2} + M_{p}^{2} l^{2} r^{2} \\cos^{2}{\\left(x_{5} \\right)} - M_{p}^{2} l^{2} r^{2} - 2 M_{p} M_{w} l^{2} r^{2}} & 0 & \\frac{2 M_{p}^{3} l^{3} r^{4} \\left(M_{p} l x_{3}^{2} \\sin{\\left(x_{5} \\right)} + \\frac{T_{L}}{r} + \\frac{T_{R}}{r} - \\frac{2 c_{\\alpha} x_{1}}{r^{2}} - x_{2} \\left(- M_{p} l x_{2} \\sin{\\left(x_{5} \\right)} - \\frac{2 c_{\\alpha}}{r}\\right)\\right) \\sin{\\left(x_{5} \\right)} \\cos^{2}{\\left(x_{5} \\right)}}{\\left(- 2 I_{py} I_{wc} - I_{py} M_{p} r^{2} - 2 I_{py} M_{w} r^{2} - 2 I_{wc} M_{p} l^{2} + M_{p}^{2} l^{2} r^{2} \\cos^{2}{\\left(x_{5} \\right)} - M_{p}^{2} l^{2} r^{2} - 2 M_{p} M_{w} l^{2} r^{2}\\right)^{2}} + \\frac{2 M_{p}^{2} l^{2} r^{2} \\left(- 2 I_{wc} - M_{p} r^{2} - 2 M_{w} r^{2}\\right) \\left(M_{p} g l \\sin{\\left(x_{5} \\right)} - T_{L} - T_{R} - 2 c_{\\alpha} x_{2} + \\frac{2 c_{\\alpha} x_{1}}{r} - x_{3}^{2} \\left(- I_{px} + I_{pz} - M_{p} l^{2}\\right) \\sin{\\left(x_{5} \\right)} \\cos{\\left(x_{5} \\right)}\\right) \\sin{\\left(x_{5} \\right)} \\cos{\\left(x_{5} \\right)}}{\\left(- 2 I_{py} I_{wc} - I_{py} M_{p} r^{2} - 2 I_{py} M_{w} r^{2} - 2 I_{wc} M_{p} l^{2} + M_{p}^{2} l^{2} r^{2} \\cos^{2}{\\left(x_{5} \\right)} - M_{p}^{2} l^{2} r^{2} - 2 M_{p} M_{w} l^{2} r^{2}\\right)^{2}} + \\frac{M_{p} l r^{2} \\left(M_{p} l x_{2}^{2} \\cos{\\left(x_{5} \\right)} + M_{p} l x_{3}^{2} \\cos{\\left(x_{5} \\right)}\\right) \\cos{\\left(x_{5} \\right)}}{- 2 I_{py} I_{wc} - I_{py} M_{p} r^{2} - 2 I_{py} M_{w} r^{2} - 2 I_{wc} M_{p} l^{2} + M_{p}^{2} l^{2} r^{2} \\cos^{2}{\\left(x_{5} \\right)} - M_{p}^{2} l^{2} r^{2} - 2 M_{p} M_{w} l^{2} r^{2}} - \\frac{M_{p} l r^{2} \\left(M_{p} l x_{3}^{2} \\sin{\\left(x_{5} \\right)} + \\frac{T_{L}}{r} + \\frac{T_{R}}{r} - \\frac{2 c_{\\alpha} x_{1}}{r^{2}} - x_{2} \\left(- M_{p} l x_{2} \\sin{\\left(x_{5} \\right)} - \\frac{2 c_{\\alpha}}{r}\\right)\\right) \\sin{\\left(x_{5} \\right)}}{- 2 I_{py} I_{wc} - I_{py} M_{p} r^{2} - 2 I_{py} M_{w} r^{2} - 2 I_{wc} M_{p} l^{2} + M_{p}^{2} l^{2} r^{2} \\cos^{2}{\\left(x_{5} \\right)} - M_{p}^{2} l^{2} r^{2} - 2 M_{p} M_{w} l^{2} r^{2}} + \\frac{\\left(- 2 I_{wc} - M_{p} r^{2} - 2 M_{w} r^{2}\\right) \\left(M_{p} g l \\cos{\\left(x_{5} \\right)} + x_{3}^{2} \\left(- I_{px} + I_{pz} - M_{p} l^{2}\\right) \\sin^{2}{\\left(x_{5} \\right)} - x_{3}^{2} \\left(- I_{px} + I_{pz} - M_{p} l^{2}\\right) \\cos^{2}{\\left(x_{5} \\right)}\\right)}{- 2 I_{py} I_{wc} - I_{py} M_{p} r^{2} - 2 I_{py} M_{w} r^{2} - 2 I_{wc} M_{p} l^{2} + M_{p}^{2} l^{2} r^{2} \\cos^{2}{\\left(x_{5} \\right)} - M_{p}^{2} l^{2} r^{2} - 2 M_{p} M_{w} l^{2} r^{2}} & 0\\\\- \\frac{2 M_{p} l r^{2} x_{3} \\sin{\\left(x_{5} \\right)}}{2 I_{px} r^{2} \\sin^{2}{\\left(x_{5} \\right)} - 2 I_{pz} r^{2} \\sin^{2}{\\left(x_{5} \\right)} + 2 I_{pz} r^{2} + I_{wc} d^{2} + 4 I_{wr} r^{2} + 2 M_{p} l^{2} r^{2} \\sin^{2}{\\left(x_{5} \\right)} + M_{w} d^{2} r^{2}} & - \\frac{4 r^{2} x_{3} \\left(I_{px} - I_{pz} + M_{p} l^{2}\\right) \\sin{\\left(x_{5} \\right)} \\cos{\\left(x_{5} \\right)}}{2 I_{px} r^{2} \\sin^{2}{\\left(x_{5} \\right)} - 2 I_{pz} r^{2} \\sin^{2}{\\left(x_{5} \\right)} + 2 I_{pz} r^{2} + I_{wc} d^{2} + 4 I_{wr} r^{2} + 2 M_{p} l^{2} r^{2} \\sin^{2}{\\left(x_{5} \\right)} + M_{w} d^{2} r^{2}} & \\frac{2 r^{2} \\left(- M_{p} l x_{1} \\sin{\\left(x_{5} \\right)} - \\frac{c_{\\alpha} d^{2}}{2 r^{2}} - 2 x_{2} \\left(I_{px} - I_{pz} + M_{p} l^{2}\\right) \\sin{\\left(x_{5} \\right)} \\cos{\\left(x_{5} \\right)}\\right)}{2 I_{px} r^{2} \\sin^{2}{\\left(x_{5} \\right)} - 2 I_{pz} r^{2} \\sin^{2}{\\left(x_{5} \\right)} + 2 I_{pz} r^{2} + I_{wc} d^{2} + 4 I_{wr} r^{2} + 2 M_{p} l^{2} r^{2} \\sin^{2}{\\left(x_{5} \\right)} + M_{w} d^{2} r^{2}} & 0 & \\frac{2 r^{2} \\left(- 4 I_{px} r^{2} \\sin{\\left(x_{5} \\right)} \\cos{\\left(x_{5} \\right)} + 4 I_{pz} r^{2} \\sin{\\left(x_{5} \\right)} \\cos{\\left(x_{5} \\right)} - 4 M_{p} l^{2} r^{2} \\sin{\\left(x_{5} \\right)} \\cos{\\left(x_{5} \\right)}\\right) \\left(- M_{p} l x_{1} x_{3} \\sin{\\left(x_{5} \\right)} - \\frac{T_{L} d}{2 r} + \\frac{T_{R} d}{2 r} - x_{2} x_{3} \\left(I_{px} - I_{pz} + M_{p} l^{2}\\right) \\sin{\\left(x_{5} \\right)} \\cos{\\left(x_{5} \\right)} - x_{3} \\left(\\frac{c_{\\alpha} d^{2}}{2 r^{2}} + x_{2} \\left(I_{px} - I_{pz} + M_{p} l^{2}\\right) \\sin{\\left(x_{5} \\right)} \\cos{\\left(x_{5} \\right)}\\right)\\right)}{\\left(2 I_{px} r^{2} \\sin^{2}{\\left(x_{5} \\right)} - 2 I_{pz} r^{2} \\sin^{2}{\\left(x_{5} \\right)} + 2 I_{pz} r^{2} + I_{wc} d^{2} + 4 I_{wr} r^{2} + 2 M_{p} l^{2} r^{2} \\sin^{2}{\\left(x_{5} \\right)} + M_{w} d^{2} r^{2}\\right)^{2}} + \\frac{2 r^{2} \\left(- M_{p} l x_{1} x_{3} \\cos{\\left(x_{5} \\right)} + x_{2} x_{3} \\left(I_{px} - I_{pz} + M_{p} l^{2}\\right) \\sin^{2}{\\left(x_{5} \\right)} - x_{2} x_{3} \\left(I_{px} - I_{pz} + M_{p} l^{2}\\right) \\cos^{2}{\\left(x_{5} \\right)} - x_{3} \\left(- x_{2} \\left(I_{px} - I_{pz} + M_{p} l^{2}\\right) \\sin^{2}{\\left(x_{5} \\right)} + x_{2} \\left(I_{px} - I_{pz} + M_{p} l^{2}\\right) \\cos^{2}{\\left(x_{5} \\right)}\\right)\\right)}{2 I_{px} r^{2} \\sin^{2}{\\left(x_{5} \\right)} - 2 I_{pz} r^{2} \\sin^{2}{\\left(x_{5} \\right)} + 2 I_{pz} r^{2} + I_{wc} d^{2} + 4 I_{wr} r^{2} + 2 M_{p} l^{2} r^{2} \\sin^{2}{\\left(x_{5} \\right)} + M_{w} d^{2} r^{2}} & 0\\\\1 & 0 & 0 & 0 & 0 & 0\\\\0 & 1 & 0 & 0 & 0 & 0\\\\0 & 0 & 1 & 0 & 0 & 0\\end{matrix}\\right]$"
                        ]
                    },
                    "metadata": {},
                    "execution_count": 7
                }
            ],
            "metadata": {}
        },
        {
            "cell_type": "code",
            "execution_count": 8,
            "source": [
                "\n",
                "#* Calcualte the jacobian for the B matrix of the continuos time system\n",
                "Bc = Matrix(np.zeros((6,2)))\n",
                "\n",
                "for i,expr in enumerate(system_equations):\n",
                "    for j,torque in enumerate(u):\n",
                "        Bc[i,j] = diff(expr,torque)\n",
                "# Bc"
            ],
            "outputs": [],
            "metadata": {}
        },
        {
            "cell_type": "code",
            "execution_count": 9,
            "source": [
                "\n",
                "#* Evaluate Ac at the fixed points\n",
                "\n",
                "fixed_point = [0,0,0,0,0,0] # Values for dx/dt\n",
                "input_fixed_points = [0,0]\n",
                "\n",
                "Ac_eval = Ac.subs([(state_vec[0], fixed_point[0]),\n",
                "                   (state_vec[1], fixed_point[1]),\n",
                "                   (state_vec[2], fixed_point[2]),\n",
                "                   (state_vec[3], fixed_point[3]),\n",
                "                   (state_vec[4], fixed_point[4]),\n",
                "                   (state_vec[5], fixed_point[5]),\n",
                "                   (Tl,input_fixed_points[0]),\n",
                "                   (Tr,input_fixed_points[1])])\n",
                "\n",
                "# Ac_eval"
            ],
            "outputs": [],
            "metadata": {}
        },
        {
            "cell_type": "code",
            "execution_count": 10,
            "source": [
                "\n",
                "#* Evaluate Bc at the fixed points\n",
                "\n",
                "Bc_eval = Bc.subs([(state_vec[0], fixed_point[0]),\n",
                "                   (state_vec[1], fixed_point[1]),\n",
                "                   (state_vec[2], fixed_point[2]),\n",
                "                   (state_vec[3], fixed_point[3]),\n",
                "                   (state_vec[4], fixed_point[4]),\n",
                "                   (state_vec[5], fixed_point[5]),\n",
                "                   (Tl,input_fixed_points[0]),\n",
                "                   (Tr,input_fixed_points[1])])\n",
                "\n",
                "# Bc_eval"
            ],
            "outputs": [],
            "metadata": {}
        },
        {
            "cell_type": "code",
            "execution_count": 11,
            "source": [
                "\n",
                "# Define the values of each Model Parameter\n",
                "\n",
                "d_v    = (d,    0.1431)\n",
                "visc_v = (visc, 0.01)\n",
                "r_v    = (r,    0.05)\n",
                "Mp_v   = (Mp,   2.036)\n",
                "Mw_v   = (Mw,   0.268)\n",
                "Iw_c_v = (Iw_c, 0.00033613)\n",
                "Iw_r_v = (Iw_r, 0.00018876)\n",
                "g_v    = (g,    9.81)\n",
                "\n",
                "#-- Pose A ---\n",
                "l_v    = (l,   0.1806)\n",
                "Ip_x_v = (Ip_x, 0.02500992)\n",
                "Ip_y_v = (Ip_y, 0.02255237)\n",
                "Ip_z_v = (Ip_z, 0.00546422)"
            ],
            "outputs": [],
            "metadata": {}
        },
        {
            "cell_type": "code",
            "execution_count": 12,
            "source": [
                "\n",
                "#* Plug in the Model parameters values \n",
                "\n",
                "Ac_lin = Ac_eval.subs([d_v,visc_v,l_v,r_v,Mp_v,Mw_v,Iw_c_v,Iw_r_v,Ip_x_v,Ip_y_v,Ip_z_v,g_v])\n",
                "Bc_lin = Bc_eval.subs([d_v,visc_v,l_v,r_v,Mp_v,Mw_v,Iw_c_v,Iw_r_v,Ip_x_v,Ip_y_v,Ip_z_v,g_v])\n",
                "\n",
                "Ac_np = np.array(Ac_lin) # Converts it into a numpy array\n",
                "Bc_np = np.array(Bc_lin) # Converts it into a numpy array"
            ],
            "outputs": [],
            "metadata": {}
        },
        {
            "cell_type": "markdown",
            "source": [
                "## Discretization of the system \n",
                "---\n",
                "\n",
                "It was used the Zero-Order Hold method. The system was also reduced to 4 states, eliminating the yaw and x positions, as was done in the SK8 Paper.\n",
                "\n",
                "The formula used to calculate the **Bd** is in this [link](https://math.stackexchange.com/questions/658276/integral-of-matrix-exponential). It is the first fomula of the second answer."
            ],
            "metadata": {}
        },
        {
            "cell_type": "code",
            "execution_count": 13,
            "source": [
                "from scipy import linalg\n",
                "\n",
                "Ts = 0.01 # Sampling period. Fs = 100 hz\n",
                "\n",
                "Ad = linalg.expm(Ac_np*Ts) # Matrix exponential fot the Zero-order Hold\n",
                "\n",
                "Bd = np.eye(6)\n",
                "for n in range(2,100):\n",
                "    Bd = Bd + (Ac_np*Ts)**(n-1)/np.math.factorial(n)\n",
                "\n",
                "Bd = np.matmul(Bd*Ts,Bc_np) #TODO Pq os sinais ficaram o contrário do artigo do SK8?\n",
                "\n",
                "# Matrix(Ad)\n",
                "# Matrix(Bd)"
            ],
            "outputs": [],
            "metadata": {}
        },
        {
            "cell_type": "code",
            "execution_count": 14,
            "source": [
                "\n",
                "# Reduce the system to 4 states, only, ignoring the linear and Yaw positions\n",
                "\n",
                "Ar = np.zeros((4,4))\n",
                "Ar[0:3,0:3] =  Ad[0:3,0:3]\n",
                "Ar[3,0:3]   = Ad[4,0:3]\n",
                "Ar[0:3,3]   = Ad[0:3,4]\n",
                "Ar[3,3]     = Ad[4,4]\n",
                "\n",
                "Br = np.zeros((4,2))\n",
                "Br[0:3,:]   = Bd[0:3,:]\n",
                "Br[3,:]     = Bd[4,:]\n",
                "\n",
                "# Matrix(Ar)\n",
                "# Matrix(Br)"
            ],
            "outputs": [],
            "metadata": {}
        },
        {
            "cell_type": "markdown",
            "source": [
                "## Control Analysis\n",
                "---"
            ],
            "metadata": {}
        },
        {
            "cell_type": "code",
            "execution_count": 26,
            "source": [
                "\n",
                "import control\n",
                "\n",
                "C_ss = np.eye(4)\n",
                "D_ss = np.zeros((4,2))\n",
                "\n",
                "ctrb_m = control.ctrb(Ar,Br)\n",
                "rank_ctrb = np.linalg.matrix_rank(ctrb_m) # If result is 4, the system is controlable\n",
                "\n",
                "obs_m = control.obsv(Ar,C_ss)\n",
                "rank_obs = np.linalg.matrix_rank(obs_m) # If result is 4, the system is controlable\n",
                "\n",
                "print(rank_obs,rank_ctrb)\n"
            ],
            "outputs": [
                {
                    "output_type": "stream",
                    "name": "stdout",
                    "text": [
                        "4 4\n"
                    ]
                }
            ],
            "metadata": {}
        },
        {
            "cell_type": "code",
            "execution_count": 27,
            "source": [
                "\n",
                "ss_system = control.ss(Ar,Br,C_ss,D_ss)\n",
                "ss_system"
            ],
            "outputs": [
                {
                    "output_type": "execute_result",
                    "data": {
                        "text/plain": [
                            "StateSpace(array([[ 0.93007122,  0.00295036,  0.        , -0.10747134],\n",
                            "       [ 0.33226133,  0.98766146,  0.        ,  0.84686653],\n",
                            "       [ 0.        ,  0.        ,  0.95972362,  0.        ],\n",
                            "       [ 0.0016851 ,  0.00993006,  0.        ,  1.00427453]]), array([[ 0.17458062,  0.17458062],\n",
                            "       [-0.82431881, -0.82431881],\n",
                            "       [-1.40728075,  1.40728075],\n",
                            "       [-0.00435202, -0.00435202]]), array([[1., 0., 0., 0.],\n",
                            "       [0., 1., 0., 0.],\n",
                            "       [0., 0., 1., 0.],\n",
                            "       [0., 0., 0., 1.]]), array([[0., 0.],\n",
                            "       [0., 0.],\n",
                            "       [0., 0.],\n",
                            "       [0., 0.]]))"
                        ],
                        "text/latex": [
                            "\\[\n",
                            "\\left(\n",
                            "\\begin{array}{rllrllrllrll|rllrll}\n",
                            "0.&\\hspace{-1em}93&\\hspace{-1em}\\phantom{\\cdot}&0.&\\hspace{-1em}00295&\\hspace{-1em}\\phantom{\\cdot}&0\\phantom{.}&\\hspace{-1em}&\\hspace{-1em}\\phantom{\\cdot}&-0.&\\hspace{-1em}107&\\hspace{-1em}\\phantom{\\cdot}&0.&\\hspace{-1em}175&\\hspace{-1em}\\phantom{\\cdot}&0.&\\hspace{-1em}175&\\hspace{-1em}\\phantom{\\cdot}\\\\\n",
                            "0.&\\hspace{-1em}332&\\hspace{-1em}\\phantom{\\cdot}&0.&\\hspace{-1em}988&\\hspace{-1em}\\phantom{\\cdot}&0\\phantom{.}&\\hspace{-1em}&\\hspace{-1em}\\phantom{\\cdot}&0.&\\hspace{-1em}847&\\hspace{-1em}\\phantom{\\cdot}&-0.&\\hspace{-1em}824&\\hspace{-1em}\\phantom{\\cdot}&-0.&\\hspace{-1em}824&\\hspace{-1em}\\phantom{\\cdot}\\\\\n",
                            "0\\phantom{.}&\\hspace{-1em}&\\hspace{-1em}\\phantom{\\cdot}&0\\phantom{.}&\\hspace{-1em}&\\hspace{-1em}\\phantom{\\cdot}&0.&\\hspace{-1em}96&\\hspace{-1em}\\phantom{\\cdot}&0\\phantom{.}&\\hspace{-1em}&\\hspace{-1em}\\phantom{\\cdot}&-1.&\\hspace{-1em}41&\\hspace{-1em}\\phantom{\\cdot}&1.&\\hspace{-1em}41&\\hspace{-1em}\\phantom{\\cdot}\\\\\n",
                            "0.&\\hspace{-1em}00169&\\hspace{-1em}\\phantom{\\cdot}&0.&\\hspace{-1em}00993&\\hspace{-1em}\\phantom{\\cdot}&0\\phantom{.}&\\hspace{-1em}&\\hspace{-1em}\\phantom{\\cdot}&1\\phantom{.}&\\hspace{-1em}&\\hspace{-1em}\\phantom{\\cdot}&-0.&\\hspace{-1em}00435&\\hspace{-1em}\\phantom{\\cdot}&-0.&\\hspace{-1em}00435&\\hspace{-1em}\\phantom{\\cdot}\\\\\n",
                            "\\hline\n",
                            "1\\phantom{.}&\\hspace{-1em}&\\hspace{-1em}\\phantom{\\cdot}&0\\phantom{.}&\\hspace{-1em}&\\hspace{-1em}\\phantom{\\cdot}&0\\phantom{.}&\\hspace{-1em}&\\hspace{-1em}\\phantom{\\cdot}&0\\phantom{.}&\\hspace{-1em}&\\hspace{-1em}\\phantom{\\cdot}&0\\phantom{.}&\\hspace{-1em}&\\hspace{-1em}\\phantom{\\cdot}&0\\phantom{.}&\\hspace{-1em}&\\hspace{-1em}\\phantom{\\cdot}\\\\\n",
                            "0\\phantom{.}&\\hspace{-1em}&\\hspace{-1em}\\phantom{\\cdot}&1\\phantom{.}&\\hspace{-1em}&\\hspace{-1em}\\phantom{\\cdot}&0\\phantom{.}&\\hspace{-1em}&\\hspace{-1em}\\phantom{\\cdot}&0\\phantom{.}&\\hspace{-1em}&\\hspace{-1em}\\phantom{\\cdot}&0\\phantom{.}&\\hspace{-1em}&\\hspace{-1em}\\phantom{\\cdot}&0\\phantom{.}&\\hspace{-1em}&\\hspace{-1em}\\phantom{\\cdot}\\\\\n",
                            "0\\phantom{.}&\\hspace{-1em}&\\hspace{-1em}\\phantom{\\cdot}&0\\phantom{.}&\\hspace{-1em}&\\hspace{-1em}\\phantom{\\cdot}&1\\phantom{.}&\\hspace{-1em}&\\hspace{-1em}\\phantom{\\cdot}&0\\phantom{.}&\\hspace{-1em}&\\hspace{-1em}\\phantom{\\cdot}&0\\phantom{.}&\\hspace{-1em}&\\hspace{-1em}\\phantom{\\cdot}&0\\phantom{.}&\\hspace{-1em}&\\hspace{-1em}\\phantom{\\cdot}\\\\\n",
                            "0\\phantom{.}&\\hspace{-1em}&\\hspace{-1em}\\phantom{\\cdot}&0\\phantom{.}&\\hspace{-1em}&\\hspace{-1em}\\phantom{\\cdot}&0\\phantom{.}&\\hspace{-1em}&\\hspace{-1em}\\phantom{\\cdot}&1\\phantom{.}&\\hspace{-1em}&\\hspace{-1em}\\phantom{\\cdot}&0\\phantom{.}&\\hspace{-1em}&\\hspace{-1em}\\phantom{\\cdot}&0\\phantom{.}&\\hspace{-1em}&\\hspace{-1em}\\phantom{\\cdot}\\\\\n",
                            "\\end{array}\\right)\n",
                            "\\]"
                        ]
                    },
                    "metadata": {},
                    "execution_count": 27
                }
            ],
            "metadata": {}
        },
        {
            "cell_type": "markdown",
            "source": [
                "## System Simulation\n",
                "---\n",
                "\n",
                "The simulation was done via te `scipy.integrate` module, using the `ode` class."
            ],
            "metadata": {}
        },
        {
            "cell_type": "code",
            "execution_count": 28,
            "source": [
                "\n",
                "#* Apply model parameters to the system equations and jacobian\n",
                "\n",
                "sys2sim = system_equations.subs([d_v,visc_v,l_v,r_v,Mp_v,Mw_v,Iw_c_v,Iw_r_v,Ip_x_v,Ip_y_v,Ip_z_v,g_v])\n",
                "jac2sim = Ac.subs([d_v,visc_v,l_v,r_v,Mp_v,Mw_v,Iw_c_v,Iw_r_v,Ip_x_v,Ip_y_v,Ip_z_v,g_v])\n",
                "# jac2sim"
            ],
            "outputs": [],
            "metadata": {}
        },
        {
            "cell_type": "code",
            "execution_count": 63,
            "source": [
                "from scipy import integrate\n",
                "\n",
                "state_initial_conditions = [0.5,0.1,0,0,0.5,0]\n",
                "initial_inputs = [0,0]\n",
                "t0 = 0\n",
                "\n",
                "#* Create lambda functions of the system and the jacobian\n",
                "\n",
                "func = lambdify([t, state_vec, u],sys2sim,'numpy')\n",
                "func_jac = lambdify([t, state_vec, u],jac2sim,'numpy')\n",
                "\n",
                "# func(0,state_initial_conditions, initial_inputs)\n",
                "# func_jac(0,state_initial_conditions, initial_inputs)"
            ],
            "outputs": [],
            "metadata": {}
        },
        {
            "cell_type": "code",
            "execution_count": 132,
            "source": [
                "\n",
                "simulator = integrate.ode(func, func_jac)                           # Ode class object used for simulation\n",
                "simulator.set_initial_value(state_initial_conditions, t0)           # Set initial consitions of the system\n",
                "simulator.set_f_params(initial_inputs)                              # Set the initial inputs (wheel torques) values in the system\n",
                "simulator.set_jac_params(initial_inputs)                            # Set the initial inputs (wheel torques) values in the jacobian\n",
                "\n",
                "def call_controller(current_states):                                # Function to call the controller\n",
                "    return [0,0]\n",
                "\n",
                "t1 = 10                                                             # Max. time for simulation  \n",
                "dt = 0.001                                                          # Simulation time step\n",
                "controller_time = -1                                                # Initial controller time (-1 means: \"provide a control effort based on the initial states\") \n",
                "controller_calls = 0                                                # Counts how many times the controller was called (just debug)\n",
                "current_inputs = initial_inputs                                     # Current values of the inputs\n",
                "\n",
                "history = np.array([state_initial_conditions]).reshape(6,1)\n",
                "time_history = [0]\n",
                "\n",
                "while simulator.successful() and simulator.t <= t1:                 # Simulation main loop\n",
                "    history = np.hstack((history,np.array([simulator.integrate(simulator.t+dt)]).reshape(6,1)))        # Simulate one time step and save in history\n",
                "    time_history.append(simulator.t+dt)\n",
                "    \n",
                "    current_inputs = call_controller(history[-1])                # Call the controller\n",
                "    controller_calls += 1\n",
                "    simulator.set_f_params(current_inputs)                          # Update the controller values in the systems equations\n",
                "    simulator.set_jac_params(current_inputs)                        # Update the controller values in the jacobian matrix\n",
                "    \n",
                "    # controller_time += dt\n",
                "    # if(controller_time >= Ts or controller_time < 0):\n",
                "    #     controller_calls += 1\n",
                "    #     current_inputs = call_controller(current_states)\n",
                "    #     simulator.set_f_params(current_inputs)\n",
                "    #     simulator.set_jac_params(current_inputs)\n",
                "    #     controller_time = 0 \n",
                "    \n",
                "# print(controller_calls)\n",
                "# print(history)"
            ],
            "outputs": [],
            "metadata": {}
        },
        {
            "cell_type": "code",
            "execution_count": 56,
            "source": [
                "history.shape"
            ],
            "outputs": [
                {
                    "output_type": "execute_result",
                    "data": {
                        "text/plain": [
                            "(6, 10002)"
                        ]
                    },
                    "metadata": {},
                    "execution_count": 56
                }
            ],
            "metadata": {}
        },
        {
            "cell_type": "code",
            "execution_count": 129,
            "source": [
                "plt.plot(time_history,history[3,:])"
            ],
            "outputs": [
                {
                    "output_type": "execute_result",
                    "data": {
                        "text/plain": [
                            "[<matplotlib.lines.Line2D at 0x7f0eb5948070>]"
                        ]
                    },
                    "metadata": {},
                    "execution_count": 129
                },
                {
                    "output_type": "display_data",
                    "data": {
                        "text/plain": [
                            "<Figure size 432x288 with 1 Axes>"
                        ],
                        "image/svg+xml": "<?xml version=\"1.0\" encoding=\"utf-8\" standalone=\"no\"?>\n<!DOCTYPE svg PUBLIC \"-//W3C//DTD SVG 1.1//EN\"\n  \"http://www.w3.org/Graphics/SVG/1.1/DTD/svg11.dtd\">\n<!-- Created with matplotlib (https://matplotlib.org/) -->\n<svg height=\"248.518125pt\" version=\"1.1\" viewBox=\"0 0 372.103125 248.518125\" width=\"372.103125pt\" xmlns=\"http://www.w3.org/2000/svg\" xmlns:xlink=\"http://www.w3.org/1999/xlink\">\n <defs>\n  <style type=\"text/css\">\n*{stroke-linecap:butt;stroke-linejoin:round;}\n  </style>\n </defs>\n <g id=\"figure_1\">\n  <g id=\"patch_1\">\n   <path d=\"M 0 248.518125 \nL 372.103125 248.518125 \nL 372.103125 0 \nL 0 0 \nz\n\" style=\"fill:none;\"/>\n  </g>\n  <g id=\"axes_1\">\n   <g id=\"patch_2\">\n    <path d=\"M 30.103125 224.64 \nL 364.903125 224.64 \nL 364.903125 7.2 \nL 30.103125 7.2 \nz\n\" style=\"fill:#ffffff;\"/>\n   </g>\n   <g id=\"matplotlib.axis_1\">\n    <g id=\"xtick_1\">\n     <g id=\"line2d_1\">\n      <defs>\n       <path d=\"M 0 0 \nL 0 3.5 \n\" id=\"m519d8a2137\" style=\"stroke:#000000;stroke-width:0.8;\"/>\n      </defs>\n      <g>\n       <use style=\"stroke:#000000;stroke-width:0.8;\" x=\"45.321307\" xlink:href=\"#m519d8a2137\" y=\"224.64\"/>\n      </g>\n     </g>\n     <g id=\"text_1\">\n      <!-- 0 -->\n      <defs>\n       <path d=\"M 31.78125 66.40625 \nQ 24.171875 66.40625 20.328125 58.90625 \nQ 16.5 51.421875 16.5 36.375 \nQ 16.5 21.390625 20.328125 13.890625 \nQ 24.171875 6.390625 31.78125 6.390625 \nQ 39.453125 6.390625 43.28125 13.890625 \nQ 47.125 21.390625 47.125 36.375 \nQ 47.125 51.421875 43.28125 58.90625 \nQ 39.453125 66.40625 31.78125 66.40625 \nz\nM 31.78125 74.21875 \nQ 44.046875 74.21875 50.515625 64.515625 \nQ 56.984375 54.828125 56.984375 36.375 \nQ 56.984375 17.96875 50.515625 8.265625 \nQ 44.046875 -1.421875 31.78125 -1.421875 \nQ 19.53125 -1.421875 13.0625 8.265625 \nQ 6.59375 17.96875 6.59375 36.375 \nQ 6.59375 54.828125 13.0625 64.515625 \nQ 19.53125 74.21875 31.78125 74.21875 \nz\n\" id=\"DejaVuSans-48\"/>\n      </defs>\n      <g transform=\"translate(42.140057 239.238437)scale(0.1 -0.1)\">\n       <use xlink:href=\"#DejaVuSans-48\"/>\n      </g>\n     </g>\n    </g>\n    <g id=\"xtick_2\">\n     <g id=\"line2d_2\">\n      <g>\n       <use style=\"stroke:#000000;stroke-width:0.8;\" x=\"106.181862\" xlink:href=\"#m519d8a2137\" y=\"224.64\"/>\n      </g>\n     </g>\n     <g id=\"text_2\">\n      <!-- 2 -->\n      <defs>\n       <path d=\"M 19.1875 8.296875 \nL 53.609375 8.296875 \nL 53.609375 0 \nL 7.328125 0 \nL 7.328125 8.296875 \nQ 12.9375 14.109375 22.625 23.890625 \nQ 32.328125 33.6875 34.8125 36.53125 \nQ 39.546875 41.84375 41.421875 45.53125 \nQ 43.3125 49.21875 43.3125 52.78125 \nQ 43.3125 58.59375 39.234375 62.25 \nQ 35.15625 65.921875 28.609375 65.921875 \nQ 23.96875 65.921875 18.8125 64.3125 \nQ 13.671875 62.703125 7.8125 59.421875 \nL 7.8125 69.390625 \nQ 13.765625 71.78125 18.9375 73 \nQ 24.125 74.21875 28.421875 74.21875 \nQ 39.75 74.21875 46.484375 68.546875 \nQ 53.21875 62.890625 53.21875 53.421875 \nQ 53.21875 48.921875 51.53125 44.890625 \nQ 49.859375 40.875 45.40625 35.40625 \nQ 44.1875 33.984375 37.640625 27.21875 \nQ 31.109375 20.453125 19.1875 8.296875 \nz\n\" id=\"DejaVuSans-50\"/>\n      </defs>\n      <g transform=\"translate(103.000612 239.238437)scale(0.1 -0.1)\">\n       <use xlink:href=\"#DejaVuSans-50\"/>\n      </g>\n     </g>\n    </g>\n    <g id=\"xtick_3\">\n     <g id=\"line2d_3\">\n      <g>\n       <use style=\"stroke:#000000;stroke-width:0.8;\" x=\"167.042417\" xlink:href=\"#m519d8a2137\" y=\"224.64\"/>\n      </g>\n     </g>\n     <g id=\"text_3\">\n      <!-- 4 -->\n      <defs>\n       <path d=\"M 37.796875 64.3125 \nL 12.890625 25.390625 \nL 37.796875 25.390625 \nz\nM 35.203125 72.90625 \nL 47.609375 72.90625 \nL 47.609375 25.390625 \nL 58.015625 25.390625 \nL 58.015625 17.1875 \nL 47.609375 17.1875 \nL 47.609375 0 \nL 37.796875 0 \nL 37.796875 17.1875 \nL 4.890625 17.1875 \nL 4.890625 26.703125 \nz\n\" id=\"DejaVuSans-52\"/>\n      </defs>\n      <g transform=\"translate(163.861167 239.238437)scale(0.1 -0.1)\">\n       <use xlink:href=\"#DejaVuSans-52\"/>\n      </g>\n     </g>\n    </g>\n    <g id=\"xtick_4\">\n     <g id=\"line2d_4\">\n      <g>\n       <use style=\"stroke:#000000;stroke-width:0.8;\" x=\"227.902972\" xlink:href=\"#m519d8a2137\" y=\"224.64\"/>\n      </g>\n     </g>\n     <g id=\"text_4\">\n      <!-- 6 -->\n      <defs>\n       <path d=\"M 33.015625 40.375 \nQ 26.375 40.375 22.484375 35.828125 \nQ 18.609375 31.296875 18.609375 23.390625 \nQ 18.609375 15.53125 22.484375 10.953125 \nQ 26.375 6.390625 33.015625 6.390625 \nQ 39.65625 6.390625 43.53125 10.953125 \nQ 47.40625 15.53125 47.40625 23.390625 \nQ 47.40625 31.296875 43.53125 35.828125 \nQ 39.65625 40.375 33.015625 40.375 \nz\nM 52.59375 71.296875 \nL 52.59375 62.3125 \nQ 48.875 64.0625 45.09375 64.984375 \nQ 41.3125 65.921875 37.59375 65.921875 \nQ 27.828125 65.921875 22.671875 59.328125 \nQ 17.53125 52.734375 16.796875 39.40625 \nQ 19.671875 43.65625 24.015625 45.921875 \nQ 28.375 48.1875 33.59375 48.1875 \nQ 44.578125 48.1875 50.953125 41.515625 \nQ 57.328125 34.859375 57.328125 23.390625 \nQ 57.328125 12.15625 50.6875 5.359375 \nQ 44.046875 -1.421875 33.015625 -1.421875 \nQ 20.359375 -1.421875 13.671875 8.265625 \nQ 6.984375 17.96875 6.984375 36.375 \nQ 6.984375 53.65625 15.1875 63.9375 \nQ 23.390625 74.21875 37.203125 74.21875 \nQ 40.921875 74.21875 44.703125 73.484375 \nQ 48.484375 72.75 52.59375 71.296875 \nz\n\" id=\"DejaVuSans-54\"/>\n      </defs>\n      <g transform=\"translate(224.721722 239.238437)scale(0.1 -0.1)\">\n       <use xlink:href=\"#DejaVuSans-54\"/>\n      </g>\n     </g>\n    </g>\n    <g id=\"xtick_5\">\n     <g id=\"line2d_5\">\n      <g>\n       <use style=\"stroke:#000000;stroke-width:0.8;\" x=\"288.763527\" xlink:href=\"#m519d8a2137\" y=\"224.64\"/>\n      </g>\n     </g>\n     <g id=\"text_5\">\n      <!-- 8 -->\n      <defs>\n       <path d=\"M 31.78125 34.625 \nQ 24.75 34.625 20.71875 30.859375 \nQ 16.703125 27.09375 16.703125 20.515625 \nQ 16.703125 13.921875 20.71875 10.15625 \nQ 24.75 6.390625 31.78125 6.390625 \nQ 38.8125 6.390625 42.859375 10.171875 \nQ 46.921875 13.96875 46.921875 20.515625 \nQ 46.921875 27.09375 42.890625 30.859375 \nQ 38.875 34.625 31.78125 34.625 \nz\nM 21.921875 38.8125 \nQ 15.578125 40.375 12.03125 44.71875 \nQ 8.5 49.078125 8.5 55.328125 \nQ 8.5 64.0625 14.71875 69.140625 \nQ 20.953125 74.21875 31.78125 74.21875 \nQ 42.671875 74.21875 48.875 69.140625 \nQ 55.078125 64.0625 55.078125 55.328125 \nQ 55.078125 49.078125 51.53125 44.71875 \nQ 48 40.375 41.703125 38.8125 \nQ 48.828125 37.15625 52.796875 32.3125 \nQ 56.78125 27.484375 56.78125 20.515625 \nQ 56.78125 9.90625 50.3125 4.234375 \nQ 43.84375 -1.421875 31.78125 -1.421875 \nQ 19.734375 -1.421875 13.25 4.234375 \nQ 6.78125 9.90625 6.78125 20.515625 \nQ 6.78125 27.484375 10.78125 32.3125 \nQ 14.796875 37.15625 21.921875 38.8125 \nz\nM 18.3125 54.390625 \nQ 18.3125 48.734375 21.84375 45.5625 \nQ 25.390625 42.390625 31.78125 42.390625 \nQ 38.140625 42.390625 41.71875 45.5625 \nQ 45.3125 48.734375 45.3125 54.390625 \nQ 45.3125 60.0625 41.71875 63.234375 \nQ 38.140625 66.40625 31.78125 66.40625 \nQ 25.390625 66.40625 21.84375 63.234375 \nQ 18.3125 60.0625 18.3125 54.390625 \nz\n\" id=\"DejaVuSans-56\"/>\n      </defs>\n      <g transform=\"translate(285.582277 239.238437)scale(0.1 -0.1)\">\n       <use xlink:href=\"#DejaVuSans-56\"/>\n      </g>\n     </g>\n    </g>\n    <g id=\"xtick_6\">\n     <g id=\"line2d_6\">\n      <g>\n       <use style=\"stroke:#000000;stroke-width:0.8;\" x=\"349.624083\" xlink:href=\"#m519d8a2137\" y=\"224.64\"/>\n      </g>\n     </g>\n     <g id=\"text_6\">\n      <!-- 10 -->\n      <defs>\n       <path d=\"M 12.40625 8.296875 \nL 28.515625 8.296875 \nL 28.515625 63.921875 \nL 10.984375 60.40625 \nL 10.984375 69.390625 \nL 28.421875 72.90625 \nL 38.28125 72.90625 \nL 38.28125 8.296875 \nL 54.390625 8.296875 \nL 54.390625 0 \nL 12.40625 0 \nz\n\" id=\"DejaVuSans-49\"/>\n      </defs>\n      <g transform=\"translate(343.261583 239.238437)scale(0.1 -0.1)\">\n       <use xlink:href=\"#DejaVuSans-49\"/>\n       <use x=\"63.623047\" xlink:href=\"#DejaVuSans-48\"/>\n      </g>\n     </g>\n    </g>\n   </g>\n   <g id=\"matplotlib.axis_2\">\n    <g id=\"ytick_1\">\n     <g id=\"line2d_7\">\n      <defs>\n       <path d=\"M 0 0 \nL -3.5 0 \n\" id=\"me444560166\" style=\"stroke:#000000;stroke-width:0.8;\"/>\n      </defs>\n      <g>\n       <use style=\"stroke:#000000;stroke-width:0.8;\" x=\"30.103125\" xlink:href=\"#me444560166\" y=\"214.756364\"/>\n      </g>\n     </g>\n     <g id=\"text_7\">\n      <!-- 0.0 -->\n      <defs>\n       <path d=\"M 10.6875 12.40625 \nL 21 12.40625 \nL 21 0 \nL 10.6875 0 \nz\n\" id=\"DejaVuSans-46\"/>\n      </defs>\n      <g transform=\"translate(7.2 218.555582)scale(0.1 -0.1)\">\n       <use xlink:href=\"#DejaVuSans-48\"/>\n       <use x=\"63.623047\" xlink:href=\"#DejaVuSans-46\"/>\n       <use x=\"95.410156\" xlink:href=\"#DejaVuSans-48\"/>\n      </g>\n     </g>\n    </g>\n    <g id=\"ytick_2\">\n     <g id=\"line2d_8\">\n      <g>\n       <use style=\"stroke:#000000;stroke-width:0.8;\" x=\"30.103125\" xlink:href=\"#me444560166\" y=\"169.936567\"/>\n      </g>\n     </g>\n     <g id=\"text_8\">\n      <!-- 0.1 -->\n      <g transform=\"translate(7.2 173.735786)scale(0.1 -0.1)\">\n       <use xlink:href=\"#DejaVuSans-48\"/>\n       <use x=\"63.623047\" xlink:href=\"#DejaVuSans-46\"/>\n       <use x=\"95.410156\" xlink:href=\"#DejaVuSans-49\"/>\n      </g>\n     </g>\n    </g>\n    <g id=\"ytick_3\">\n     <g id=\"line2d_9\">\n      <g>\n       <use style=\"stroke:#000000;stroke-width:0.8;\" x=\"30.103125\" xlink:href=\"#me444560166\" y=\"125.11677\"/>\n      </g>\n     </g>\n     <g id=\"text_9\">\n      <!-- 0.2 -->\n      <g transform=\"translate(7.2 128.915989)scale(0.1 -0.1)\">\n       <use xlink:href=\"#DejaVuSans-48\"/>\n       <use x=\"63.623047\" xlink:href=\"#DejaVuSans-46\"/>\n       <use x=\"95.410156\" xlink:href=\"#DejaVuSans-50\"/>\n      </g>\n     </g>\n    </g>\n    <g id=\"ytick_4\">\n     <g id=\"line2d_10\">\n      <g>\n       <use style=\"stroke:#000000;stroke-width:0.8;\" x=\"30.103125\" xlink:href=\"#me444560166\" y=\"80.296974\"/>\n      </g>\n     </g>\n     <g id=\"text_10\">\n      <!-- 0.3 -->\n      <defs>\n       <path d=\"M 40.578125 39.3125 \nQ 47.65625 37.796875 51.625 33 \nQ 55.609375 28.21875 55.609375 21.1875 \nQ 55.609375 10.40625 48.1875 4.484375 \nQ 40.765625 -1.421875 27.09375 -1.421875 \nQ 22.515625 -1.421875 17.65625 -0.515625 \nQ 12.796875 0.390625 7.625 2.203125 \nL 7.625 11.71875 \nQ 11.71875 9.328125 16.59375 8.109375 \nQ 21.484375 6.890625 26.8125 6.890625 \nQ 36.078125 6.890625 40.9375 10.546875 \nQ 45.796875 14.203125 45.796875 21.1875 \nQ 45.796875 27.640625 41.28125 31.265625 \nQ 36.765625 34.90625 28.71875 34.90625 \nL 20.21875 34.90625 \nL 20.21875 43.015625 \nL 29.109375 43.015625 \nQ 36.375 43.015625 40.234375 45.921875 \nQ 44.09375 48.828125 44.09375 54.296875 \nQ 44.09375 59.90625 40.109375 62.90625 \nQ 36.140625 65.921875 28.71875 65.921875 \nQ 24.65625 65.921875 20.015625 65.03125 \nQ 15.375 64.15625 9.8125 62.3125 \nL 9.8125 71.09375 \nQ 15.4375 72.65625 20.34375 73.4375 \nQ 25.25 74.21875 29.59375 74.21875 \nQ 40.828125 74.21875 47.359375 69.109375 \nQ 53.90625 64.015625 53.90625 55.328125 \nQ 53.90625 49.265625 50.4375 45.09375 \nQ 46.96875 40.921875 40.578125 39.3125 \nz\n\" id=\"DejaVuSans-51\"/>\n      </defs>\n      <g transform=\"translate(7.2 84.096192)scale(0.1 -0.1)\">\n       <use xlink:href=\"#DejaVuSans-48\"/>\n       <use x=\"63.623047\" xlink:href=\"#DejaVuSans-46\"/>\n       <use x=\"95.410156\" xlink:href=\"#DejaVuSans-51\"/>\n      </g>\n     </g>\n    </g>\n    <g id=\"ytick_5\">\n     <g id=\"line2d_11\">\n      <g>\n       <use style=\"stroke:#000000;stroke-width:0.8;\" x=\"30.103125\" xlink:href=\"#me444560166\" y=\"35.477177\"/>\n      </g>\n     </g>\n     <g id=\"text_11\">\n      <!-- 0.4 -->\n      <g transform=\"translate(7.2 39.276396)scale(0.1 -0.1)\">\n       <use xlink:href=\"#DejaVuSans-48\"/>\n       <use x=\"63.623047\" xlink:href=\"#DejaVuSans-46\"/>\n       <use x=\"95.410156\" xlink:href=\"#DejaVuSans-52\"/>\n      </g>\n     </g>\n    </g>\n   </g>\n   <g id=\"line2d_12\">\n    <path clip-path=\"url(#p3d2f7b5004)\" d=\"M 45.321307 214.756364 \nL 45.503888 213.672117 \nL 46.234215 209.399606 \nL 46.934112 206.53897 \nL 47.603578 204.678819 \nL 48.273044 203.438368 \nL 49.064231 202.447707 \nL 50.372733 200.874461 \nL 50.950908 199.756197 \nL 51.498653 198.198374 \nL 52.046398 195.957238 \nL 52.624573 192.605495 \nL 53.233179 187.653671 \nL 53.841785 180.817436 \nL 54.48082 171.017932 \nL 55.150286 157.021125 \nL 55.850183 137.303881 \nL 58.071593 69.146214 \nL 58.680199 59.602935 \nL 59.258374 53.664434 \nL 59.806119 50.129018 \nL 60.293003 48.262937 \nL 60.719027 47.371519 \nL 61.114621 47.009692 \nL 61.479784 46.970783 \nL 61.905808 47.173849 \nL 62.605704 47.813079 \nL 63.670764 48.752221 \nL 64.218509 48.944247 \nL 64.674963 48.87246 \nL 65.131418 48.563968 \nL 65.648732 47.91915 \nL 66.257338 46.775098 \nL 67.048525 44.753638 \nL 68.265736 40.915188 \nL 69.695959 36.582741 \nL 70.365425 35.220887 \nL 70.821879 34.743526 \nL 71.126182 34.690164 \nL 71.400055 34.857326 \nL 71.704357 35.317546 \nL 72.069521 36.308918 \nL 72.495545 38.174125 \nL 72.982429 41.421842 \nL 73.499744 46.454426 \nL 74.077919 54.441902 \nL 74.686525 66.074761 \nL 75.447282 85.250498 \nL 76.664493 115.826699 \nL 77.303529 126.18875 \nL 77.881704 132.174952 \nL 78.399019 135.411158 \nL 78.855473 136.990825 \nL 79.220636 137.582187 \nL 79.524939 137.710262 \nL 79.798811 137.594358 \nL 80.163975 137.167479 \nL 80.681289 136.17351 \nL 81.594198 133.833462 \nL 83.085281 130.073874 \nL 83.906899 128.59754 \nL 84.637225 127.72949 \nL 85.367552 127.207396 \nL 87.37595 126.007133 \nL 87.893265 125.231733 \nL 88.41058 124.002606 \nL 88.927895 122.151313 \nL 89.47564 119.296835 \nL 90.053815 114.992975 \nL 90.66242 108.626203 \nL 91.301456 99.378274 \nL 92.001353 85.649404 \nL 93.035982 59.863684 \nL 93.94889 39.512305 \nL 94.618356 29.387676 \nL 95.226962 23.390499 \nL 95.774707 20.014868 \nL 96.261591 18.238131 \nL 96.687615 17.407853 \nL 97.052779 17.11375 \nL 97.387512 17.109042 \nL 97.783105 17.353902 \nL 98.33085 18.006037 \nL 99.274189 19.557683 \nL 101.039145 22.440423 \nL 103.595288 26.264413 \nL 104.234324 27.899708 \nL 104.84293 30.115515 \nL 105.451535 33.243921 \nL 106.060141 37.602077 \nL 106.699177 43.910757 \nL 107.368643 52.941317 \nL 108.098969 66.139944 \nL 109.22489 91.595664 \nL 110.137798 109.796824 \nL 110.807264 119.00881 \nL 111.41587 124.590803 \nL 111.994045 127.96002 \nL 112.51136 129.754921 \nL 112.967814 130.609401 \nL 113.363407 130.923835 \nL 113.728571 130.941153 \nL 114.154595 130.708102 \nL 114.70234 130.121772 \nL 115.554387 128.829021 \nL 117.075901 126.045442 \nL 118.262682 123.484151 \nL 119.0843 121.181511 \nL 119.814626 118.428904 \nL 120.484092 115.003256 \nL 121.153559 110.358214 \nL 121.823025 104.08006 \nL 122.522921 95.274784 \nL 123.283678 82.638602 \nL 124.440029 58.845578 \nL 125.383367 41.408654 \nL 126.083264 32.270398 \nL 126.722299 26.635523 \nL 127.300475 23.319845 \nL 127.84822 21.384416 \nL 128.335104 20.421772 \nL 128.761128 20.032643 \nL 129.156722 19.968536 \nL 129.582745 20.150978 \nL 130.10006 20.641583 \nL 130.799957 21.648677 \nL 131.682435 23.332628 \nL 132.625773 25.615359 \nL 133.477821 28.266618 \nL 134.238578 31.367733 \nL 134.968905 35.313274 \nL 135.668801 40.339584 \nL 136.399128 47.320602 \nL 137.129454 56.535863 \nL 137.951072 69.863651 \nL 140.233343 109.049291 \nL 140.933239 116.215826 \nL 141.572275 120.590799 \nL 142.15045 123.132163 \nL 142.667765 124.512897 \nL 143.124219 125.177613 \nL 143.519813 125.41507 \nL 143.915406 125.394156 \nL 144.34143 125.131585 \nL 144.858745 124.534706 \nL 145.497781 123.442432 \nL 146.258538 121.677275 \nL 147.049725 119.268634 \nL 147.840912 116.123931 \nL 148.601669 112.158655 \nL 149.362426 106.937115 \nL 150.123183 100.058278 \nL 150.91437 90.717037 \nL 151.827278 76.991354 \nL 153.926968 43.995102 \nL 154.657294 36.556882 \nL 155.32676 31.891102 \nL 155.935366 29.119812 \nL 156.483111 27.584308 \nL 156.969995 26.834363 \nL 157.365589 26.577939 \nL 157.730752 26.58099 \nL 158.126346 26.811517 \nL 158.61323 27.382496 \nL 159.191406 28.432904 \nL 159.860872 30.132051 \nL 160.591198 32.608566 \nL 161.351955 35.99745 \nL 162.112712 40.419659 \nL 162.903899 46.416329 \nL 163.695087 54.176602 \nL 164.577565 65.16572 \nL 166.068648 87.324711 \nL 167.072847 100.484382 \nL 167.833604 107.781579 \nL 168.50307 112.276589 \nL 169.111676 115.018967 \nL 169.659421 116.577318 \nL 170.146305 117.357923 \nL 170.541899 117.633147 \nL 170.907062 117.635117 \nL 171.302656 117.390425 \nL 171.75911 116.81502 \nL 172.306855 115.735281 \nL 172.945891 113.949496 \nL 173.645787 111.312411 \nL 174.406544 107.534917 \nL 175.197732 102.4123 \nL 176.019349 95.555465 \nL 176.901827 86.241588 \nL 178.088608 71.070733 \nL 179.579692 52.542794 \nL 180.401309 45.043738 \nL 181.101205 40.506455 \nL 181.740241 37.704197 \nL 182.287986 36.179693 \nL 182.774871 35.411478 \nL 183.170464 35.146912 \nL 183.535628 35.162284 \nL 183.900791 35.408952 \nL 184.357245 36.023524 \nL 184.90499 37.191604 \nL 185.544026 39.142246 \nL 186.243922 42.034144 \nL 187.004679 46.156742 \nL 187.826297 51.894274 \nL 188.739205 59.972573 \nL 189.865125 72.145128 \nL 191.843093 93.731055 \nL 192.664711 100.201577 \nL 193.395038 104.294271 \nL 194.034073 106.685471 \nL 194.581818 107.948434 \nL 195.038273 108.504851 \nL 195.403436 108.653102 \nL 195.768599 108.554961 \nL 196.164193 108.185058 \nL 196.620647 107.431704 \nL 197.168392 106.077964 \nL 197.807428 103.879706 \nL 198.537754 100.526599 \nL 199.359372 95.623607 \nL 200.27228 88.723107 \nL 201.398201 78.354641 \nL 203.680471 56.857314 \nL 204.532519 51.127423 \nL 205.262846 47.640135 \nL 205.871451 45.697956 \nL 206.388766 44.682982 \nL 206.84522 44.235694 \nL 207.210384 44.161353 \nL 207.575547 44.326375 \nL 207.97114 44.764596 \nL 208.458025 45.662255 \nL 209.0362 47.229998 \nL 209.705666 49.720016 \nL 210.496854 53.599745 \nL 211.379332 59.111826 \nL 212.474822 67.48762 \nL 215.365698 90.484307 \nL 216.187315 94.895454 \nL 216.887212 97.543179 \nL 217.495817 99.034824 \nL 217.982702 99.713558 \nL 218.378295 99.945728 \nL 218.743459 99.91697 \nL 219.139052 99.632203 \nL 219.595507 98.986854 \nL 220.143252 97.7783 \nL 220.782287 95.78635 \nL 221.543044 92.621514 \nL 222.425522 87.927258 \nL 223.551443 80.599044 \nL 226.53361 60.419892 \nL 227.385658 56.494757 \nL 228.085554 54.224665 \nL 228.69416 52.954777 \nL 229.181044 52.396575 \nL 229.576638 52.231898 \nL 229.941801 52.302178 \nL 230.337395 52.61176 \nL 230.824279 53.315473 \nL 231.402454 54.597097 \nL 232.07192 56.65975 \nL 232.863108 59.847351 \nL 233.836876 64.746612 \nL 235.29753 73.406853 \nL 237.062486 83.587198 \nL 238.005824 87.798737 \nL 238.766581 90.282174 \nL 239.405617 91.692288 \nL 239.953362 92.408333 \nL 240.409816 92.664603 \nL 240.80541 92.642972 \nL 241.231434 92.373861 \nL 241.718318 91.764397 \nL 242.296494 90.639745 \nL 242.99639 88.729694 \nL 243.818007 85.791614 \nL 244.883067 81.068558 \nL 248.717282 63.126338 \nL 249.508469 60.84465 \nL 250.177935 59.534332 \nL 250.72568 58.896037 \nL 251.182135 58.660486 \nL 251.608159 58.679111 \nL 252.034182 58.922073 \nL 252.521067 59.465222 \nL 253.099242 60.460999 \nL 253.799139 62.140218 \nL 254.651186 64.802651 \nL 255.777107 69.1211 \nL 259.094007 82.374001 \nL 259.976485 84.769276 \nL 260.706812 86.142854 \nL 261.315417 86.840267 \nL 261.832732 87.110024 \nL 262.289186 87.104474 \nL 262.74564 86.876128 \nL 263.262955 86.357748 \nL 263.87156 85.413979 \nL 264.601887 83.846233 \nL 265.514795 81.319144 \nL 266.792867 77.048386 \nL 269.34901 68.391402 \nL 270.322779 65.931151 \nL 271.113966 64.503908 \nL 271.753002 63.765962 \nL 272.300747 63.438119 \nL 272.787632 63.382644 \nL 273.274516 63.544967 \nL 273.822261 63.978661 \nL 274.461297 64.801033 \nL 275.222054 66.181355 \nL 276.165393 68.396198 \nL 277.534755 72.255272 \nL 279.847456 78.767276 \nL 280.851655 80.917463 \nL 281.642843 82.135957 \nL 282.312309 82.798106 \nL 282.890484 83.086307 \nL 283.438229 83.116014 \nL 283.985974 82.913969 \nL 284.594579 82.429694 \nL 285.294476 81.560257 \nL 286.146524 80.108977 \nL 287.242014 77.760163 \nL 291.106659 69.028595 \nL 291.989137 67.774473 \nL 292.719464 67.097478 \nL 293.358499 66.790892 \nL 293.936675 66.74631 \nL 294.51485 66.918808 \nL 295.153886 67.350366 \nL 295.884212 68.127758 \nL 296.76669 69.413506 \nL 297.953471 71.578295 \nL 301.361662 78.053589 \nL 302.305001 79.265776 \nL 303.096188 79.943785 \nL 303.796085 80.26233 \nL 304.43512 80.317166 \nL 305.074156 80.150522 \nL 305.774053 79.72714 \nL 306.56524 78.974778 \nL 307.539009 77.719277 \nL 308.938802 75.499786 \nL 311.464515 71.463743 \nL 312.529574 70.20225 \nL 313.381622 69.510025 \nL 314.142379 69.161815 \nL 314.842275 69.075492 \nL 315.542172 69.211095 \nL 316.302929 69.596619 \nL 317.154976 70.291242 \nL 318.220036 71.472496 \nL 319.863271 73.686746 \nL 321.9021 76.356261 \nL 322.99759 77.438732 \nL 323.910498 78.047062 \nL 324.732116 78.334026 \nL 325.492873 78.370921 \nL 326.28406 78.18071 \nL 327.136107 77.73486 \nL 328.140307 76.936831 \nL 329.448809 75.584191 \nL 332.826569 71.956354 \nL 333.891629 71.202303 \nL 334.804537 70.81329 \nL 335.656585 70.684297 \nL 336.508633 70.782557 \nL 337.421541 71.124652 \nL 338.456171 71.767069 \nL 339.795103 72.887519 \nL 343.477167 76.122568 \nL 344.572657 76.715345 \nL 345.546425 76.997928 \nL 346.459334 77.039088 \nL 347.402672 76.858607 \nL 348.437302 76.42616 \nL 349.684943 75.648575 \nL 349.684943 75.648575 \n\" style=\"fill:none;stroke:#1f77b4;stroke-linecap:square;stroke-width:1.5;\"/>\n   </g>\n   <g id=\"patch_3\">\n    <path d=\"M 30.103125 224.64 \nL 30.103125 7.2 \n\" style=\"fill:none;stroke:#000000;stroke-linecap:square;stroke-linejoin:miter;stroke-width:0.8;\"/>\n   </g>\n   <g id=\"patch_4\">\n    <path d=\"M 364.903125 224.64 \nL 364.903125 7.2 \n\" style=\"fill:none;stroke:#000000;stroke-linecap:square;stroke-linejoin:miter;stroke-width:0.8;\"/>\n   </g>\n   <g id=\"patch_5\">\n    <path d=\"M 30.103125 224.64 \nL 364.903125 224.64 \n\" style=\"fill:none;stroke:#000000;stroke-linecap:square;stroke-linejoin:miter;stroke-width:0.8;\"/>\n   </g>\n   <g id=\"patch_6\">\n    <path d=\"M 30.103125 7.2 \nL 364.903125 7.2 \n\" style=\"fill:none;stroke:#000000;stroke-linecap:square;stroke-linejoin:miter;stroke-width:0.8;\"/>\n   </g>\n  </g>\n </g>\n <defs>\n  <clipPath id=\"p3d2f7b5004\">\n   <rect height=\"217.44\" width=\"334.8\" x=\"30.103125\" y=\"7.2\"/>\n  </clipPath>\n </defs>\n</svg>\n",
                        "image/png": "[encoded data removed]"
                    },
                    "metadata": {
                        "needs_background": "light"
                    }
                }
            ],
            "metadata": {}
        },
        {
            "cell_type": "code",
            "execution_count": 127,
            "source": [
                "from math import sin, cos\n",
                "from matplotlib.patches import Circle\n",
                "from matplotlib import animation\n",
                "\n",
                "def animate(i):\n",
                "  ax.plot([0,height*sin(0.1)],[r_v[1],height*cos(0.1)],'r',lw=3)    # Pendulum\n",
                "  wheel = Circle((0,r_v[1]),r_v[1],fc='b', zorder=10)\n",
                "  ax.add_patch(wheel)\n",
                "\n",
                "xlim = (-1,1)\n",
                "ylim = (-0.5,0.5)\n",
                "\n",
                "fig = plt.figure(figsize=(8.3333, 7.25), dpi=72)\n",
                "ax = fig.add_subplot(111,xlim=xlim,ylim=ylim)\n",
                "ax.set_aspect('equal')\n",
                "ax.grid()\n",
                "\n",
                "height = 0.354\n",
                "\n",
                "ax.plot([xlim[0],xlim[1]],[0,0],'-k')         # Ground\n",
                "\n"
            ],
            "outputs": [
                {
                    "output_type": "execute_result",
                    "data": {
                        "text/plain": [
                            "<matplotlib.patches.Circle at 0x7f0eb5282f70>"
                        ]
                    },
                    "metadata": {},
                    "execution_count": 127
                },
                {
                    "output_type": "display_data",
                    "data": {
                        "text/plain": [
                            "<Figure size 599.998x522 with 1 Axes>"
                        ],
                        "image/svg+xml": "<?xml version=\"1.0\" encoding=\"utf-8\" standalone=\"no\"?>\n<!DOCTYPE svg PUBLIC \"-//W3C//DTD SVG 1.1//EN\"\n  \"http://www.w3.org/Graphics/SVG/1.1/DTD/svg11.dtd\">\n<!-- Created with matplotlib (https://matplotlib.org/) -->\n<svg height=\"263.577195pt\" version=\"1.1\" viewBox=\"0 0 521.813765 263.577195\" width=\"521.813765pt\" xmlns=\"http://www.w3.org/2000/svg\" xmlns:xlink=\"http://www.w3.org/1999/xlink\">\n <defs>\n  <style type=\"text/css\">\n*{stroke-linecap:butt;stroke-linejoin:round;}\n  </style>\n </defs>\n <g id=\"figure_1\">\n  <g id=\"patch_1\">\n   <path d=\"M 0 263.577195 \nL 521.813765 263.577195 \nL 521.813765 0 \nL 0 0 \nz\n\" style=\"fill:none;\"/>\n  </g>\n  <g id=\"axes_1\">\n   <g id=\"patch_2\">\n    <path d=\"M 38.482813 239.69907 \nL 503.480953 239.69907 \nL 503.480953 7.2 \nL 38.482813 7.2 \nz\n\" style=\"fill:#ffffff;\"/>\n   </g>\n   <g id=\"matplotlib.axis_1\">\n    <g id=\"xtick_1\">\n     <g id=\"line2d_1\">\n      <path clip-path=\"url(#p75efc885f6)\" d=\"M 38.482812 239.69907 \nL 38.482812 7.2 \n\" style=\"fill:none;stroke:#b0b0b0;stroke-linecap:square;stroke-width:0.8;\"/>\n     </g>\n     <g id=\"line2d_2\">\n      <defs>\n       <path d=\"M 0 0 \nL 0 3.5 \n\" id=\"m9c2b3217bc\" style=\"stroke:#000000;stroke-width:0.8;\"/>\n      </defs>\n      <g>\n       <use style=\"stroke:#000000;stroke-width:0.8;\" x=\"38.482812\" xlink:href=\"#m9c2b3217bc\" y=\"239.69907\"/>\n      </g>\n     </g>\n     <g id=\"text_1\">\n      <!-- −1.00 -->\n      <defs>\n       <path d=\"M 10.59375 35.5 \nL 73.1875 35.5 \nL 73.1875 27.203125 \nL 10.59375 27.203125 \nz\n\" id=\"DejaVuSans-8722\"/>\n       <path d=\"M 12.40625 8.296875 \nL 28.515625 8.296875 \nL 28.515625 63.921875 \nL 10.984375 60.40625 \nL 10.984375 69.390625 \nL 28.421875 72.90625 \nL 38.28125 72.90625 \nL 38.28125 8.296875 \nL 54.390625 8.296875 \nL 54.390625 0 \nL 12.40625 0 \nz\n\" id=\"DejaVuSans-49\"/>\n       <path d=\"M 10.6875 12.40625 \nL 21 12.40625 \nL 21 0 \nL 10.6875 0 \nz\n\" id=\"DejaVuSans-46\"/>\n       <path d=\"M 31.78125 66.40625 \nQ 24.171875 66.40625 20.328125 58.90625 \nQ 16.5 51.421875 16.5 36.375 \nQ 16.5 21.390625 20.328125 13.890625 \nQ 24.171875 6.390625 31.78125 6.390625 \nQ 39.453125 6.390625 43.28125 13.890625 \nQ 47.125 21.390625 47.125 36.375 \nQ 47.125 51.421875 43.28125 58.90625 \nQ 39.453125 66.40625 31.78125 66.40625 \nz\nM 31.78125 74.21875 \nQ 44.046875 74.21875 50.515625 64.515625 \nQ 56.984375 54.828125 56.984375 36.375 \nQ 56.984375 17.96875 50.515625 8.265625 \nQ 44.046875 -1.421875 31.78125 -1.421875 \nQ 19.53125 -1.421875 13.0625 8.265625 \nQ 6.59375 17.96875 6.59375 36.375 \nQ 6.59375 54.828125 13.0625 64.515625 \nQ 19.53125 74.21875 31.78125 74.21875 \nz\n\" id=\"DejaVuSans-48\"/>\n      </defs>\n      <g transform=\"translate(23.160156 254.297507)scale(0.1 -0.1)\">\n       <use xlink:href=\"#DejaVuSans-8722\"/>\n       <use x=\"83.789062\" xlink:href=\"#DejaVuSans-49\"/>\n       <use x=\"147.412109\" xlink:href=\"#DejaVuSans-46\"/>\n       <use x=\"179.199219\" xlink:href=\"#DejaVuSans-48\"/>\n       <use x=\"242.822266\" xlink:href=\"#DejaVuSans-48\"/>\n      </g>\n     </g>\n    </g>\n    <g id=\"xtick_2\">\n     <g id=\"line2d_3\">\n      <path clip-path=\"url(#p75efc885f6)\" d=\"M 96.60758 239.69907 \nL 96.60758 7.2 \n\" style=\"fill:none;stroke:#b0b0b0;stroke-linecap:square;stroke-width:0.8;\"/>\n     </g>\n     <g id=\"line2d_4\">\n      <g>\n       <use style=\"stroke:#000000;stroke-width:0.8;\" x=\"96.60758\" xlink:href=\"#m9c2b3217bc\" y=\"239.69907\"/>\n      </g>\n     </g>\n     <g id=\"text_2\">\n      <!-- −0.75 -->\n      <defs>\n       <path d=\"M 8.203125 72.90625 \nL 55.078125 72.90625 \nL 55.078125 68.703125 \nL 28.609375 0 \nL 18.3125 0 \nL 43.21875 64.59375 \nL 8.203125 64.59375 \nz\n\" id=\"DejaVuSans-55\"/>\n       <path d=\"M 10.796875 72.90625 \nL 49.515625 72.90625 \nL 49.515625 64.59375 \nL 19.828125 64.59375 \nL 19.828125 46.734375 \nQ 21.96875 47.46875 24.109375 47.828125 \nQ 26.265625 48.1875 28.421875 48.1875 \nQ 40.625 48.1875 47.75 41.5 \nQ 54.890625 34.8125 54.890625 23.390625 \nQ 54.890625 11.625 47.5625 5.09375 \nQ 40.234375 -1.421875 26.90625 -1.421875 \nQ 22.3125 -1.421875 17.546875 -0.640625 \nQ 12.796875 0.140625 7.71875 1.703125 \nL 7.71875 11.625 \nQ 12.109375 9.234375 16.796875 8.0625 \nQ 21.484375 6.890625 26.703125 6.890625 \nQ 35.15625 6.890625 40.078125 11.328125 \nQ 45.015625 15.765625 45.015625 23.390625 \nQ 45.015625 31 40.078125 35.4375 \nQ 35.15625 39.890625 26.703125 39.890625 \nQ 22.75 39.890625 18.8125 39.015625 \nQ 14.890625 38.140625 10.796875 36.28125 \nz\n\" id=\"DejaVuSans-53\"/>\n      </defs>\n      <g transform=\"translate(81.284924 254.297507)scale(0.1 -0.1)\">\n       <use xlink:href=\"#DejaVuSans-8722\"/>\n       <use x=\"83.789062\" xlink:href=\"#DejaVuSans-48\"/>\n       <use x=\"147.412109\" xlink:href=\"#DejaVuSans-46\"/>\n       <use x=\"179.199219\" xlink:href=\"#DejaVuSans-55\"/>\n       <use x=\"242.822266\" xlink:href=\"#DejaVuSans-53\"/>\n      </g>\n     </g>\n    </g>\n    <g id=\"xtick_3\">\n     <g id=\"line2d_5\">\n      <path clip-path=\"url(#p75efc885f6)\" d=\"M 154.732348 239.69907 \nL 154.732348 7.2 \n\" style=\"fill:none;stroke:#b0b0b0;stroke-linecap:square;stroke-width:0.8;\"/>\n     </g>\n     <g id=\"line2d_6\">\n      <g>\n       <use style=\"stroke:#000000;stroke-width:0.8;\" x=\"154.732348\" xlink:href=\"#m9c2b3217bc\" y=\"239.69907\"/>\n      </g>\n     </g>\n     <g id=\"text_3\">\n      <!-- −0.50 -->\n      <g transform=\"translate(139.409691 254.297507)scale(0.1 -0.1)\">\n       <use xlink:href=\"#DejaVuSans-8722\"/>\n       <use x=\"83.789062\" xlink:href=\"#DejaVuSans-48\"/>\n       <use x=\"147.412109\" xlink:href=\"#DejaVuSans-46\"/>\n       <use x=\"179.199219\" xlink:href=\"#DejaVuSans-53\"/>\n       <use x=\"242.822266\" xlink:href=\"#DejaVuSans-48\"/>\n      </g>\n     </g>\n    </g>\n    <g id=\"xtick_4\">\n     <g id=\"line2d_7\">\n      <path clip-path=\"url(#p75efc885f6)\" d=\"M 212.857115 239.69907 \nL 212.857115 7.2 \n\" style=\"fill:none;stroke:#b0b0b0;stroke-linecap:square;stroke-width:0.8;\"/>\n     </g>\n     <g id=\"line2d_8\">\n      <g>\n       <use style=\"stroke:#000000;stroke-width:0.8;\" x=\"212.857115\" xlink:href=\"#m9c2b3217bc\" y=\"239.69907\"/>\n      </g>\n     </g>\n     <g id=\"text_4\">\n      <!-- −0.25 -->\n      <defs>\n       <path d=\"M 19.1875 8.296875 \nL 53.609375 8.296875 \nL 53.609375 0 \nL 7.328125 0 \nL 7.328125 8.296875 \nQ 12.9375 14.109375 22.625 23.890625 \nQ 32.328125 33.6875 34.8125 36.53125 \nQ 39.546875 41.84375 41.421875 45.53125 \nQ 43.3125 49.21875 43.3125 52.78125 \nQ 43.3125 58.59375 39.234375 62.25 \nQ 35.15625 65.921875 28.609375 65.921875 \nQ 23.96875 65.921875 18.8125 64.3125 \nQ 13.671875 62.703125 7.8125 59.421875 \nL 7.8125 69.390625 \nQ 13.765625 71.78125 18.9375 73 \nQ 24.125 74.21875 28.421875 74.21875 \nQ 39.75 74.21875 46.484375 68.546875 \nQ 53.21875 62.890625 53.21875 53.421875 \nQ 53.21875 48.921875 51.53125 44.890625 \nQ 49.859375 40.875 45.40625 35.40625 \nQ 44.1875 33.984375 37.640625 27.21875 \nQ 31.109375 20.453125 19.1875 8.296875 \nz\n\" id=\"DejaVuSans-50\"/>\n      </defs>\n      <g transform=\"translate(197.534459 254.297507)scale(0.1 -0.1)\">\n       <use xlink:href=\"#DejaVuSans-8722\"/>\n       <use x=\"83.789062\" xlink:href=\"#DejaVuSans-48\"/>\n       <use x=\"147.412109\" xlink:href=\"#DejaVuSans-46\"/>\n       <use x=\"179.199219\" xlink:href=\"#DejaVuSans-50\"/>\n       <use x=\"242.822266\" xlink:href=\"#DejaVuSans-53\"/>\n      </g>\n     </g>\n    </g>\n    <g id=\"xtick_5\">\n     <g id=\"line2d_9\">\n      <path clip-path=\"url(#p75efc885f6)\" d=\"M 270.981882 239.69907 \nL 270.981882 7.2 \n\" style=\"fill:none;stroke:#b0b0b0;stroke-linecap:square;stroke-width:0.8;\"/>\n     </g>\n     <g id=\"line2d_10\">\n      <g>\n       <use style=\"stroke:#000000;stroke-width:0.8;\" x=\"270.981882\" xlink:href=\"#m9c2b3217bc\" y=\"239.69907\"/>\n      </g>\n     </g>\n     <g id=\"text_5\">\n      <!-- 0.00 -->\n      <g transform=\"translate(259.84907 254.297507)scale(0.1 -0.1)\">\n       <use xlink:href=\"#DejaVuSans-48\"/>\n       <use x=\"63.623047\" xlink:href=\"#DejaVuSans-46\"/>\n       <use x=\"95.410156\" xlink:href=\"#DejaVuSans-48\"/>\n       <use x=\"159.033203\" xlink:href=\"#DejaVuSans-48\"/>\n      </g>\n     </g>\n    </g>\n    <g id=\"xtick_6\">\n     <g id=\"line2d_11\">\n      <path clip-path=\"url(#p75efc885f6)\" d=\"M 329.10665 239.69907 \nL 329.10665 7.2 \n\" style=\"fill:none;stroke:#b0b0b0;stroke-linecap:square;stroke-width:0.8;\"/>\n     </g>\n     <g id=\"line2d_12\">\n      <g>\n       <use style=\"stroke:#000000;stroke-width:0.8;\" x=\"329.10665\" xlink:href=\"#m9c2b3217bc\" y=\"239.69907\"/>\n      </g>\n     </g>\n     <g id=\"text_6\">\n      <!-- 0.25 -->\n      <g transform=\"translate(317.973838 254.297507)scale(0.1 -0.1)\">\n       <use xlink:href=\"#DejaVuSans-48\"/>\n       <use x=\"63.623047\" xlink:href=\"#DejaVuSans-46\"/>\n       <use x=\"95.410156\" xlink:href=\"#DejaVuSans-50\"/>\n       <use x=\"159.033203\" xlink:href=\"#DejaVuSans-53\"/>\n      </g>\n     </g>\n    </g>\n    <g id=\"xtick_7\">\n     <g id=\"line2d_13\">\n      <path clip-path=\"url(#p75efc885f6)\" d=\"M 387.231417 239.69907 \nL 387.231417 7.2 \n\" style=\"fill:none;stroke:#b0b0b0;stroke-linecap:square;stroke-width:0.8;\"/>\n     </g>\n     <g id=\"line2d_14\">\n      <g>\n       <use style=\"stroke:#000000;stroke-width:0.8;\" x=\"387.231417\" xlink:href=\"#m9c2b3217bc\" y=\"239.69907\"/>\n      </g>\n     </g>\n     <g id=\"text_7\">\n      <!-- 0.50 -->\n      <g transform=\"translate(376.098605 254.297507)scale(0.1 -0.1)\">\n       <use xlink:href=\"#DejaVuSans-48\"/>\n       <use x=\"63.623047\" xlink:href=\"#DejaVuSans-46\"/>\n       <use x=\"95.410156\" xlink:href=\"#DejaVuSans-53\"/>\n       <use x=\"159.033203\" xlink:href=\"#DejaVuSans-48\"/>\n      </g>\n     </g>\n    </g>\n    <g id=\"xtick_8\">\n     <g id=\"line2d_15\">\n      <path clip-path=\"url(#p75efc885f6)\" d=\"M 445.356185 239.69907 \nL 445.356185 7.2 \n\" style=\"fill:none;stroke:#b0b0b0;stroke-linecap:square;stroke-width:0.8;\"/>\n     </g>\n     <g id=\"line2d_16\">\n      <g>\n       <use style=\"stroke:#000000;stroke-width:0.8;\" x=\"445.356185\" xlink:href=\"#m9c2b3217bc\" y=\"239.69907\"/>\n      </g>\n     </g>\n     <g id=\"text_8\">\n      <!-- 0.75 -->\n      <g transform=\"translate(434.223372 254.297507)scale(0.1 -0.1)\">\n       <use xlink:href=\"#DejaVuSans-48\"/>\n       <use x=\"63.623047\" xlink:href=\"#DejaVuSans-46\"/>\n       <use x=\"95.410156\" xlink:href=\"#DejaVuSans-55\"/>\n       <use x=\"159.033203\" xlink:href=\"#DejaVuSans-53\"/>\n      </g>\n     </g>\n    </g>\n    <g id=\"xtick_9\">\n     <g id=\"line2d_17\">\n      <path clip-path=\"url(#p75efc885f6)\" d=\"M 503.480952 239.69907 \nL 503.480952 7.2 \n\" style=\"fill:none;stroke:#b0b0b0;stroke-linecap:square;stroke-width:0.8;\"/>\n     </g>\n     <g id=\"line2d_18\">\n      <g>\n       <use style=\"stroke:#000000;stroke-width:0.8;\" x=\"503.480952\" xlink:href=\"#m9c2b3217bc\" y=\"239.69907\"/>\n      </g>\n     </g>\n     <g id=\"text_9\">\n      <!-- 1.00 -->\n      <g transform=\"translate(492.34814 254.297507)scale(0.1 -0.1)\">\n       <use xlink:href=\"#DejaVuSans-49\"/>\n       <use x=\"63.623047\" xlink:href=\"#DejaVuSans-46\"/>\n       <use x=\"95.410156\" xlink:href=\"#DejaVuSans-48\"/>\n       <use x=\"159.033203\" xlink:href=\"#DejaVuSans-48\"/>\n      </g>\n     </g>\n    </g>\n   </g>\n   <g id=\"matplotlib.axis_2\">\n    <g id=\"ytick_1\">\n     <g id=\"line2d_19\">\n      <path clip-path=\"url(#p75efc885f6)\" d=\"M 38.482813 216.449163 \nL 503.480953 216.449163 \n\" style=\"fill:none;stroke:#b0b0b0;stroke-linecap:square;stroke-width:0.8;\"/>\n     </g>\n     <g id=\"line2d_20\">\n      <defs>\n       <path d=\"M 0 0 \nL -3.5 0 \n\" id=\"m8213025bc7\" style=\"stroke:#000000;stroke-width:0.8;\"/>\n      </defs>\n      <g>\n       <use style=\"stroke:#000000;stroke-width:0.8;\" x=\"38.482813\" xlink:href=\"#m8213025bc7\" y=\"216.449163\"/>\n      </g>\n     </g>\n     <g id=\"text_10\">\n      <!-- −0.4 -->\n      <defs>\n       <path d=\"M 37.796875 64.3125 \nL 12.890625 25.390625 \nL 37.796875 25.390625 \nz\nM 35.203125 72.90625 \nL 47.609375 72.90625 \nL 47.609375 25.390625 \nL 58.015625 25.390625 \nL 58.015625 17.1875 \nL 47.609375 17.1875 \nL 47.609375 0 \nL 37.796875 0 \nL 37.796875 17.1875 \nL 4.890625 17.1875 \nL 4.890625 26.703125 \nz\n\" id=\"DejaVuSans-52\"/>\n      </defs>\n      <g transform=\"translate(7.2 220.248382)scale(0.1 -0.1)\">\n       <use xlink:href=\"#DejaVuSans-8722\"/>\n       <use x=\"83.789062\" xlink:href=\"#DejaVuSans-48\"/>\n       <use x=\"147.412109\" xlink:href=\"#DejaVuSans-46\"/>\n       <use x=\"179.199219\" xlink:href=\"#DejaVuSans-52\"/>\n      </g>\n     </g>\n    </g>\n    <g id=\"ytick_2\">\n     <g id=\"line2d_21\">\n      <path clip-path=\"url(#p75efc885f6)\" d=\"M 38.482813 169.949349 \nL 503.480953 169.949349 \n\" style=\"fill:none;stroke:#b0b0b0;stroke-linecap:square;stroke-width:0.8;\"/>\n     </g>\n     <g id=\"line2d_22\">\n      <g>\n       <use style=\"stroke:#000000;stroke-width:0.8;\" x=\"38.482813\" xlink:href=\"#m8213025bc7\" y=\"169.949349\"/>\n      </g>\n     </g>\n     <g id=\"text_11\">\n      <!-- −0.2 -->\n      <g transform=\"translate(7.2 173.748568)scale(0.1 -0.1)\">\n       <use xlink:href=\"#DejaVuSans-8722\"/>\n       <use x=\"83.789062\" xlink:href=\"#DejaVuSans-48\"/>\n       <use x=\"147.412109\" xlink:href=\"#DejaVuSans-46\"/>\n       <use x=\"179.199219\" xlink:href=\"#DejaVuSans-50\"/>\n      </g>\n     </g>\n    </g>\n    <g id=\"ytick_3\">\n     <g id=\"line2d_23\">\n      <path clip-path=\"url(#p75efc885f6)\" d=\"M 38.482813 123.449535 \nL 503.480953 123.449535 \n\" style=\"fill:none;stroke:#b0b0b0;stroke-linecap:square;stroke-width:0.8;\"/>\n     </g>\n     <g id=\"line2d_24\">\n      <g>\n       <use style=\"stroke:#000000;stroke-width:0.8;\" x=\"38.482813\" xlink:href=\"#m8213025bc7\" y=\"123.449535\"/>\n      </g>\n     </g>\n     <g id=\"text_12\">\n      <!-- 0.0 -->\n      <g transform=\"translate(15.579688 127.248754)scale(0.1 -0.1)\">\n       <use xlink:href=\"#DejaVuSans-48\"/>\n       <use x=\"63.623047\" xlink:href=\"#DejaVuSans-46\"/>\n       <use x=\"95.410156\" xlink:href=\"#DejaVuSans-48\"/>\n      </g>\n     </g>\n    </g>\n    <g id=\"ytick_4\">\n     <g id=\"line2d_25\">\n      <path clip-path=\"url(#p75efc885f6)\" d=\"M 38.482813 76.949721 \nL 503.480953 76.949721 \n\" style=\"fill:none;stroke:#b0b0b0;stroke-linecap:square;stroke-width:0.8;\"/>\n     </g>\n     <g id=\"line2d_26\">\n      <g>\n       <use style=\"stroke:#000000;stroke-width:0.8;\" x=\"38.482813\" xlink:href=\"#m8213025bc7\" y=\"76.949721\"/>\n      </g>\n     </g>\n     <g id=\"text_13\">\n      <!-- 0.2 -->\n      <g transform=\"translate(15.579688 80.74894)scale(0.1 -0.1)\">\n       <use xlink:href=\"#DejaVuSans-48\"/>\n       <use x=\"63.623047\" xlink:href=\"#DejaVuSans-46\"/>\n       <use x=\"95.410156\" xlink:href=\"#DejaVuSans-50\"/>\n      </g>\n     </g>\n    </g>\n    <g id=\"ytick_5\">\n     <g id=\"line2d_27\">\n      <path clip-path=\"url(#p75efc885f6)\" d=\"M 38.482813 30.449907 \nL 503.480953 30.449907 \n\" style=\"fill:none;stroke:#b0b0b0;stroke-linecap:square;stroke-width:0.8;\"/>\n     </g>\n     <g id=\"line2d_28\">\n      <g>\n       <use style=\"stroke:#000000;stroke-width:0.8;\" x=\"38.482813\" xlink:href=\"#m8213025bc7\" y=\"30.449907\"/>\n      </g>\n     </g>\n     <g id=\"text_14\">\n      <!-- 0.4 -->\n      <g transform=\"translate(15.579688 34.249126)scale(0.1 -0.1)\">\n       <use xlink:href=\"#DejaVuSans-48\"/>\n       <use x=\"63.623047\" xlink:href=\"#DejaVuSans-46\"/>\n       <use x=\"95.410156\" xlink:href=\"#DejaVuSans-52\"/>\n      </g>\n     </g>\n    </g>\n   </g>\n   <g id=\"line2d_29\">\n    <path clip-path=\"url(#p75efc885f6)\" d=\"M 38.482812 123.449535 \nL 503.480952 123.449535 \n\" style=\"fill:none;stroke:#000000;stroke-linecap:square;stroke-width:1.5;\"/>\n   </g>\n   <g id=\"line2d_30\">\n    <path clip-path=\"url(#p75efc885f6)\" d=\"M 270.981882 111.824581 \nL 279.198639 41.556045 \n\" style=\"fill:none;stroke:#ff0000;stroke-linecap:square;stroke-width:3;\"/>\n   </g>\n   <g id=\"patch_3\">\n    <path d=\"M 38.482813 239.69907 \nL 38.482813 7.2 \n\" style=\"fill:none;stroke:#000000;stroke-linecap:square;stroke-linejoin:miter;stroke-width:0.8;\"/>\n   </g>\n   <g id=\"patch_4\">\n    <path d=\"M 503.480953 239.69907 \nL 503.480953 7.2 \n\" style=\"fill:none;stroke:#000000;stroke-linecap:square;stroke-linejoin:miter;stroke-width:0.8;\"/>\n   </g>\n   <g id=\"patch_5\">\n    <path d=\"M 38.482812 239.69907 \nL 503.480952 239.69907 \n\" style=\"fill:none;stroke:#000000;stroke-linecap:square;stroke-linejoin:miter;stroke-width:0.8;\"/>\n   </g>\n   <g id=\"patch_6\">\n    <path d=\"M 38.482812 7.2 \nL 503.480952 7.2 \n\" style=\"fill:none;stroke:#000000;stroke-linecap:square;stroke-linejoin:miter;stroke-width:0.8;\"/>\n   </g>\n   <g id=\"patch_7\">\n    <path clip-path=\"url(#p75efc885f6)\" d=\"M 270.981882 123.449535 \nC 274.064856 123.449535 277.021974 122.224657 279.201966 120.044665 \nC 281.381958 117.864673 282.606836 114.907555 282.606836 111.824581 \nC 282.606836 108.741608 281.381958 105.78449 279.201966 103.604498 \nC 277.021974 101.424506 274.064856 100.199628 270.981882 100.199628 \nC 267.898909 100.199628 264.941791 101.424506 262.761799 103.604498 \nC 260.581807 105.78449 259.356929 108.741608 259.356929 111.824581 \nC 259.356929 114.907555 260.581807 117.864673 262.761799 120.044665 \nC 264.941791 122.224657 267.898909 123.449535 270.981882 123.449535 \nz\n\" style=\"fill:#0000ff;\"/>\n   </g>\n  </g>\n </g>\n <defs>\n  <clipPath id=\"p75efc885f6\">\n   <rect height=\"232.49907\" width=\"464.99814\" x=\"38.482813\" y=\"7.2\"/>\n  </clipPath>\n </defs>\n</svg>\n",
                        "image/png": "[encoded data removed]"
                    },
                    "metadata": {
                        "needs_background": "light"
                    }
                }
            ],
            "metadata": {}
        },
        {
            "cell_type": "code",
            "execution_count": 133,
            "source": [],
            "outputs": [
                {
                    "output_type": "stream",
                    "name": "stdout",
                    "text": [
                        "Requirement already satisfied: Ipython in /home/senai/.local/lib/python3.8/site-packages (7.27.0)\n",
                        "Requirement already satisfied: decorator in /home/senai/.local/lib/python3.8/site-packages (from Ipython) (5.0.9)\n",
                        "Requirement already satisfied: backcall in /home/senai/.local/lib/python3.8/site-packages (from Ipython) (0.2.0)\n",
                        "Requirement already satisfied: setuptools>=18.5 in /usr/lib/python3/dist-packages (from Ipython) (45.2.0)\n",
                        "Requirement already satisfied: traitlets>=4.2 in /home/senai/.local/lib/python3.8/site-packages (from Ipython) (5.0.5)\n",
                        "Requirement already satisfied: pickleshare in /home/senai/.local/lib/python3.8/site-packages (from Ipython) (0.7.5)\n",
                        "Requirement already satisfied: pygments in /home/senai/.local/lib/python3.8/site-packages (from Ipython) (2.10.0)\n",
                        "Requirement already satisfied: prompt-toolkit!=3.0.0,!=3.0.1,<3.1.0,>=2.0.0 in /home/senai/.local/lib/python3.8/site-packages (from Ipython) (3.0.20)\n",
                        "Requirement already satisfied: matplotlib-inline in /home/senai/.local/lib/python3.8/site-packages (from Ipython) (0.1.2)\n",
                        "Requirement already satisfied: jedi>=0.16 in /home/senai/.local/lib/python3.8/site-packages (from Ipython) (0.18.0)\n",
                        "Requirement already satisfied: pexpect>4.3; sys_platform != \"win32\" in /usr/lib/python3/dist-packages (from Ipython) (4.6.0)\n",
                        "Requirement already satisfied: ipython-genutils in /home/senai/.local/lib/python3.8/site-packages (from traitlets>=4.2->Ipython) (0.2.0)\n",
                        "Requirement already satisfied: wcwidth in /home/senai/.local/lib/python3.8/site-packages (from prompt-toolkit!=3.0.0,!=3.0.1,<3.1.0,>=2.0.0->Ipython) (0.2.5)\n",
                        "Requirement already satisfied: parso<0.9.0,>=0.8.0 in /home/senai/.local/lib/python3.8/site-packages (from jedi>=0.16->Ipython) (0.8.2)\n"
                    ]
                }
            ],
            "metadata": {}
        },
        {
            "cell_type": "markdown",
            "source": [
                "## View all matrices\n",
                "----"
            ],
            "metadata": {}
        },
        {
            "cell_type": "code",
            "execution_count": 20,
            "source": [
                "M"
            ],
            "outputs": [
                {
                    "output_type": "execute_result",
                    "data": {
                        "text/plain": [
                            "Matrix([\n",
                            "[2*I_wc/r**2 + M_p + 2*M_w, M_p*l*cos(theta),                                                                                  0],\n",
                            "[         M_p*l*cos(theta),  I_py + M_p*l**2,                                                                                  0],\n",
                            "[                        0,                0, I_pz + 2*I_wr + d**2*(I_wc/r**2 + M_w)/2 - (-I_px + I_pz - M_p*l**2)*sin(theta)**2]])"
                        ],
                        "text/latex": [
                            "$\\displaystyle \\left[\\begin{matrix}\\frac{2 I_{wc}}{r^{2}} + M_{p} + 2 M_{w} & M_{p} l \\cos{\\left(\\theta \\right)} & 0\\\\M_{p} l \\cos{\\left(\\theta \\right)} & I_{py} + M_{p} l^{2} & 0\\\\0 & 0 & I_{pz} + 2 I_{wr} + \\frac{d^{2} \\left(\\frac{I_{wc}}{r^{2}} + M_{w}\\right)}{2} - \\left(- I_{px} + I_{pz} - M_{p} l^{2}\\right) \\sin^{2}{\\left(\\theta \\right)}\\end{matrix}\\right]$"
                        ]
                    },
                    "metadata": {},
                    "execution_count": 20
                }
            ],
            "metadata": {}
        },
        {
            "cell_type": "code",
            "execution_count": 21,
            "source": [
                "C"
            ],
            "outputs": [
                {
                    "output_type": "execute_result",
                    "data": {
                        "text/plain": [
                            "Matrix([\n",
                            "[                                  0,                            -M_p*l*sin(theta)*Derivative(theta, t),                                -M_p*l*sin(theta)*Derivative(psi, t)],\n",
                            "[                                  0,                                                                 0,  (-I_px + I_pz - M_p*l**2)*sin(theta)*cos(theta)*Derivative(psi, t)],\n",
                            "[M_p*l*sin(theta)*Derivative(psi, t), (I_px - I_pz + M_p*l**2)*sin(theta)*cos(theta)*Derivative(psi, t), (I_px - I_pz + M_p*l**2)*sin(theta)*cos(theta)*Derivative(theta, t)]])"
                        ],
                        "text/latex": [
                            "$\\displaystyle \\left[\\begin{matrix}0 & - M_{p} l \\sin{\\left(\\theta \\right)} \\frac{d}{d t} \\theta & - M_{p} l \\sin{\\left(\\theta \\right)} \\frac{d}{d t} \\psi\\\\0 & 0 & \\left(- I_{px} + I_{pz} - M_{p} l^{2}\\right) \\sin{\\left(\\theta \\right)} \\cos{\\left(\\theta \\right)} \\frac{d}{d t} \\psi\\\\M_{p} l \\sin{\\left(\\theta \\right)} \\frac{d}{d t} \\psi & \\left(I_{px} - I_{pz} + M_{p} l^{2}\\right) \\sin{\\left(\\theta \\right)} \\cos{\\left(\\theta \\right)} \\frac{d}{d t} \\psi & \\left(I_{px} - I_{pz} + M_{p} l^{2}\\right) \\sin{\\left(\\theta \\right)} \\cos{\\left(\\theta \\right)} \\frac{d}{d t} \\theta\\end{matrix}\\right]$"
                        ]
                    },
                    "metadata": {},
                    "execution_count": 21
                }
            ],
            "metadata": {}
        },
        {
            "cell_type": "code",
            "execution_count": 22,
            "source": [
                "D"
            ],
            "outputs": [
                {
                    "output_type": "execute_result",
                    "data": {
                        "text/plain": [
                            "Matrix([\n",
                            "[2*c_alpha/r**2, -2*c_alpha/r,                     0],\n",
                            "[  -2*c_alpha/r,    2*c_alpha,                     0],\n",
                            "[             0,            0, c_alpha*d**2/(2*r**2)]])"
                        ],
                        "text/latex": [
                            "$\\displaystyle \\left[\\begin{matrix}\\frac{2 c_{\\alpha}}{r^{2}} & - \\frac{2 c_{\\alpha}}{r} & 0\\\\- \\frac{2 c_{\\alpha}}{r} & 2 c_{\\alpha} & 0\\\\0 & 0 & \\frac{c_{\\alpha} d^{2}}{2 r^{2}}\\end{matrix}\\right]$"
                        ]
                    },
                    "metadata": {},
                    "execution_count": 22
                }
            ],
            "metadata": {}
        },
        {
            "cell_type": "code",
            "execution_count": 23,
            "source": [
                "B"
            ],
            "outputs": [
                {
                    "output_type": "execute_result",
                    "data": {
                        "text/plain": [
                            "Matrix([\n",
                            "[     1/r,     1/r],\n",
                            "[      -1,      -1],\n",
                            "[-d/(2*r), d/(2*r)]])"
                        ],
                        "text/latex": [
                            "$\\displaystyle \\left[\\begin{matrix}\\frac{1}{r} & \\frac{1}{r}\\\\-1 & -1\\\\- \\frac{d}{2 r} & \\frac{d}{2 r}\\end{matrix}\\right]$"
                        ]
                    },
                    "metadata": {},
                    "execution_count": 23
                }
            ],
            "metadata": {}
        },
        {
            "cell_type": "code",
            "execution_count": 24,
            "source": [
                "G"
            ],
            "outputs": [
                {
                    "output_type": "execute_result",
                    "data": {
                        "text/plain": [
                            "Matrix([\n",
                            "[                  0],\n",
                            "[-M_p*g*l*sin(theta)],\n",
                            "[                  0]])"
                        ],
                        "text/latex": [
                            "$\\displaystyle \\left[\\begin{matrix}0\\\\- M_{p} g l \\sin{\\left(\\theta \\right)}\\\\0\\end{matrix}\\right]$"
                        ]
                    },
                    "metadata": {},
                    "execution_count": 24
                }
            ],
            "metadata": {}
        },
        {
            "cell_type": "code",
            "execution_count": 25,
            "source": [
                "u"
            ],
            "outputs": [
                {
                    "output_type": "execute_result",
                    "data": {
                        "text/plain": [
                            "Matrix([\n",
                            "[T_L],\n",
                            "[T_R]])"
                        ],
                        "text/latex": [
                            "$\\displaystyle \\left[\\begin{matrix}T_{L}\\\\T_{R}\\end{matrix}\\right]$"
                        ]
                    },
                    "metadata": {},
                    "execution_count": 25
                }
            ],
            "metadata": {}
        }
    ],
    "metadata": {
        "orig_nbformat": 4,
        "language_info": {
            "name": "python",
            "version": "3.8.10",
            "mimetype": "text/x-python",
            "codemirror_mode": {
                "name": "ipython",
                "version": 3
            },
            "pygments_lexer": "ipython3",
            "nbconvert_exporter": "python",
            "file_extension": ".py"
        },
        "kernelspec": {
            "name": "python3",
            "display_name": "Python 3.8.10 64-bit"
        },
        "interpreter": {
            "hash": "916dbcbb3f70747c44a77c7bcd40155683ae19c65e1c03b4aa3499c5328201f1"
        }
    },
    "nbformat": 4,
    "nbformat_minor": 2
}