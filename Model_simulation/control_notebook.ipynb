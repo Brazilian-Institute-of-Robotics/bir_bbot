{
 "metadata": {
  "language_info": {
   "codemirror_mode": {
    "name": "ipython",
    "version": 3
   },
   "file_extension": ".py",
   "mimetype": "text/x-python",
   "name": "python",
   "nbconvert_exporter": "python",
   "pygments_lexer": "ipython3",
   "version": "3.8.10"
  },
  "orig_nbformat": 4,
  "kernelspec": {
   "name": "python3",
   "display_name": "Python 3.8.10 64-bit"
  },
  "interpreter": {
   "hash": "916dbcbb3f70747c44a77c7bcd40155683ae19c65e1c03b4aa3499c5328201f1"
  }
 },
 "nbformat": 4,
 "nbformat_minor": 2,
 "cells": [
  {
   "cell_type": "code",
   "execution_count": 40,
   "source": [
    "\n",
    "import numpy as np\n",
    "from sympy import *\n",
    "\n",
    "#--- Model Parameters ---\n",
    "d       = symbols('d',    real=True, positive=True)         # Distance between wheels\n",
    "visc    = symbols('c_alpha',real=True)                      # Viscous, damping constant \n",
    "l       = symbols('l',    real=True, positive=True)         # Height of the COM\n",
    "r       = symbols('r',    real=True, positive=True)         # Radius of the wheel\n",
    "Mp      = symbols('M_p',  real=True, positive=True)         # Mass of the pendulum without the wheels\n",
    "Mw      = symbols('M_w',  real=True, positive=True)         # Mass of each wheel\n",
    "Iw_c    = symbols('I_wc',  real=True)                       # MOI wheel center\n",
    "Iw_r    = symbols('I_wr',  real=True)                       # MOI wheel radial\n",
    "Ip_x    = symbols('I_px',  real=True)                       # MOI pendulum x\n",
    "Ip_y    = symbols('I_py',  real=True)                       # MOI pendulum y\n",
    "Ip_z    = symbols('I_pz',  real=True)                       # MOI pendulum z\n",
    "\n",
    "#--- Constants & Aux. variables ---\n",
    "g = symbols('g', constant=True)                             # Gravity acceleration\n",
    "t = symbols('t', real=True)                                 # Time\n",
    "\n",
    "#--- State Variables ---\n",
    "x           = symbols('x',  real=True)                      # Linear pos\n",
    "pitch       = symbols('theta',  real=True)                  # Pitch angle\n",
    "yaw         = symbols('psi',  real=True)                    # Yaw angle\n",
    "x_vel       = Derivative(x,t)                               # Linear vel\n",
    "pitch_vel   = Derivative(pitch,t)                           # Pitch vel\n",
    "yaw_vel     = Derivative(yaw,t)                             # Yaw vel\n",
    "x_acc       = Derivative(x_vel,t)                           # Linear acc\n",
    "pitch_acc   = Derivative(pitch_vel,t)                       # Pitch acc\n",
    "yaw_acc     = Derivative(yaw_vel,t)                         # Yaw acc\n",
    "\n",
    "#--- Inputs ---\n",
    "Tl = symbols('T_L', real=True)                              # Torque of the left wheel\n",
    "Tr = symbols('T_R', real=True)                              # Torque of the right wheel"
   ],
   "outputs": [],
   "metadata": {}
  },
  {
   "cell_type": "markdown",
   "source": [
    "## Defining all the matrices of the system\n",
    "----------"
   ],
   "metadata": {}
  },
  {
   "cell_type": "code",
   "execution_count": 41,
   "source": [
    "\n",
    "#*--- Matrices for the 3 states model\n",
    "M = Matrix([[Mp+2*Mw+2*Iw_c/r**2, Mp*l*cos(pitch) ,                                                                     0],\n",
    "            [ Mp*l*cos(pitch)   , Ip_y+Mp*l**2    ,                                                                     0],\n",
    "            [0                  ,                0, Ip_z+2*Iw_r+(Mw+Iw_c/r**2)*d**2/2-(Ip_z-Ip_x-Mp*l**2)*sin(pitch)**2  ]])\n",
    "\n",
    "C = Matrix([[                      0, -Mp*l*pitch_vel*sin(pitch),                          -Mp*l*yaw_vel*sin(pitch)],\n",
    "            [                      0,                          0, (Ip_z-Ip_x-Mp*l**2)*yaw_vel*sin(pitch)*cos(pitch)],\n",
    "            [Mp*l*yaw_vel*sin(pitch), -(Ip_z-Ip_x-Mp*l**2)*yaw_vel*sin(pitch)*cos(pitch), -(Ip_z-Ip_x-Mp*l**2)*pitch_vel*sin(pitch)*cos(pitch)]])\n",
    "\n",
    "D = Matrix([[2*visc/r**2, -2*visc/r, 0],\n",
    "            [-2*visc/r, 2*visc, 0],\n",
    "            [0, 0, (d**2/(2*r**2))*visc]])\n",
    "\n",
    "B = Matrix([[     1/r,     1/r],\n",
    "            [      -1,      -1],\n",
    "            [-d/(2*r), d/(2*r)]])\n",
    "\n",
    "G = Matrix([[0],[-Mp*l*g*sin(pitch)], [0]])\n",
    "\n",
    "q = Matrix([[x],[pitch],[yaw]])\n",
    "\n",
    "q_diff = Matrix([[x_vel],[pitch_vel],[yaw_vel]])\n",
    "\n",
    "q_2diff = Matrix([[x_acc],[pitch_acc],[yaw_acc]])\n",
    "\n",
    "u = Matrix([[Tl],[Tr]])"
   ],
   "outputs": [],
   "metadata": {}
  },
  {
   "cell_type": "code",
   "execution_count": 42,
   "source": [
    "M_inv = M.inv()"
   ],
   "outputs": [],
   "metadata": {}
  },
  {
   "cell_type": "markdown",
   "source": [
    "## Show system in expression form\n",
    "---"
   ],
   "metadata": {}
  },
  {
   "cell_type": "code",
   "execution_count": null,
   "source": [
    "# eqt_sys = M*q_2diff + (C+D)*q_diff + G - B*u\n",
    "# eqt_sys\n",
    "expr_model = M_inv*((B*u-G)-(C+D)*q_diff)\n",
    "eqts_model = Eq(q_2diff,expr_model)\n",
    "eqts_model"
   ],
   "outputs": [],
   "metadata": {}
  },
  {
   "cell_type": "markdown",
   "source": [
    "## Linearization of the system\n",
    "----------"
   ],
   "metadata": {}
  },
  {
   "cell_type": "code",
   "execution_count": null,
   "source": [
    "\n",
    "#* Convert real variables into state-space variables\n",
    "\n",
    "# Build state vector\n",
    "real_state_vec = q_diff.row_insert(4,q)\n",
    "state_vec = Matrix(list(symbols('x1:7',real=True)))\n",
    "state_eq = Eq(state_vec,real_state_vec)\n",
    "state_eq"
   ],
   "outputs": [],
   "metadata": {}
  },
  {
   "cell_type": "code",
   "execution_count": null,
   "source": [
    "\n",
    "#* Build the derivative of the state vector\n",
    "\n",
    "real_state_diff_vec = q_2diff.row_insert(4,q_diff)\n",
    "state_diff_vec = []\n",
    "for sym in state_vec:\n",
    "    state_diff_vec.append(Derivative(sym,t))\n",
    "state_diff_vec = Matrix(state_diff_vec)\n",
    "state_diff_eq = Eq(state_diff_vec,real_state_diff_vec)\n",
    "\n",
    "#* Build the vector of system equations\n",
    "\n",
    "system_equations = expr_model.row_insert(4,q_diff)\n",
    "\n",
    "#* Substitute the real variables with the state-stape model variables: x1:x6\n",
    "\n",
    "for i in range(6):\n",
    "        system_equations = system_equations.subs(real_state_vec[i],state_vec[i])\n",
    "\n",
    "#* Show the system of equations that will be used in the state space form \n",
    "\n",
    "eq_sys = Eq(state_diff_vec,system_equations)\n",
    "eq_sys"
   ],
   "outputs": [],
   "metadata": {}
  },
  {
   "cell_type": "code",
   "execution_count": null,
   "source": [
    "\n",
    "#* Calcualte the jacobian for the A matrix of the continuos time system\n",
    "Ac = Matrix(np.zeros((6,6)))\n",
    "\n",
    "for i,expr in enumerate(system_equations):\n",
    "    for j,state in enumerate(state_vec):\n",
    "        Ac[i,j] = diff(expr,state)\n",
    "# Ac"
   ],
   "outputs": [],
   "metadata": {}
  },
  {
   "cell_type": "code",
   "execution_count": 47,
   "source": [
    "\n",
    "#* Calcualte the jacobian for the B matrix of the continuos time system\n",
    "Bc = Matrix(np.zeros((6,2)))\n",
    "\n",
    "for i,expr in enumerate(system_equations):\n",
    "    for j,torque in enumerate(u):\n",
    "        Bc[i,j] = diff(expr,torque)\n",
    "# Bc"
   ],
   "outputs": [],
   "metadata": {}
  },
  {
   "cell_type": "code",
   "execution_count": 49,
   "source": [
    "\n",
    "#* Evaluate Ac at the fixed points\n",
    "\n",
    "fixed_point = [0,0,0,0,0,0] # Values for dx/dt\n",
    "input_fixed_points = [0,0]\n",
    "\n",
    "Ac_eval = Ac.subs([(state_vec[0], fixed_point[0]),\n",
    "                   (state_vec[1], fixed_point[1]),\n",
    "                   (state_vec[2], fixed_point[2]),\n",
    "                   (state_vec[3], fixed_point[3]),\n",
    "                   (state_vec[4], fixed_point[4]),\n",
    "                   (state_vec[5], fixed_point[5]),\n",
    "                   (Tl,input_fixed_points[0]),\n",
    "                   (Tr,input_fixed_points[1])])\n",
    "\n",
    "# Ac_eval"
   ],
   "outputs": [],
   "metadata": {}
  },
  {
   "cell_type": "code",
   "execution_count": 50,
   "source": [
    "\n",
    "#* Evaluate Bc at the fixed points\n",
    "\n",
    "Bc_eval = Bc.subs([(state_vec[0], fixed_point[0]),\n",
    "                   (state_vec[1], fixed_point[1]),\n",
    "                   (state_vec[2], fixed_point[2]),\n",
    "                   (state_vec[3], fixed_point[3]),\n",
    "                   (state_vec[4], fixed_point[4]),\n",
    "                   (state_vec[5], fixed_point[5]),\n",
    "                   (Tl,input_fixed_points[0]),\n",
    "                   (Tr,input_fixed_points[1])])\n",
    "\n",
    "# Bc_eval"
   ],
   "outputs": [],
   "metadata": {}
  },
  {
   "cell_type": "code",
   "execution_count": 93,
   "source": [
    "\n",
    "# Define the values of each Model Parameter\n",
    "\n",
    "d_v    = (d,    0.1431)\n",
    "visc_v = (visc, 0.01)\n",
    "r_v    = (r,    0.05)\n",
    "Mp_v   = (Mp,   2.036)\n",
    "Mw_v   = (Mw,   0.268)\n",
    "Iw_c_v = (Iw_c, 0.00033613)\n",
    "Iw_r_v = (Iw_r, 0.00018876)\n",
    "g_v    = (g,    9.81)\n",
    "\n",
    "#-- Pose A ---\n",
    "l_v    = (l,   0.1806)\n",
    "Ip_x_v = (Ip_x, 0.02500992)\n",
    "Ip_y_v = (Ip_y, 0.02255237)\n",
    "Ip_z_v = (Ip_z, 0.00546422)\n"
   ],
   "outputs": [],
   "metadata": {}
  },
  {
   "cell_type": "code",
   "execution_count": 126,
   "source": [
    "\n",
    "#* Plug in the Model parameters values \n",
    "\n",
    "Ac_lin = Ac_eval.subs([d_v,visc_v,l_v,r_v,Mp_v,Mw_v,Iw_c_v,Iw_r_v,Ip_x_v,Ip_y_v,Ip_z_v,g_v])\n",
    "Bc_lin = Bc_eval.subs([d_v,visc_v,l_v,r_v,Mp_v,Mw_v,Iw_c_v,Iw_r_v,Ip_x_v,Ip_y_v,Ip_z_v,g_v])\n",
    "\n",
    "Ac_np = np.array(Ac_lin) # Converts it into a numpy array\n",
    "Bc_np = np.array(Bc_lin) # Converts it into a numpy array"
   ],
   "outputs": [],
   "metadata": {}
  },
  {
   "cell_type": "markdown",
   "source": [
    "## Discretization of the system \n",
    "---\n",
    "\n",
    "It was used the Zero-Order Hold method. The system was also reduced to 4 states, eliminating the yaw and x positions, as was done in the SK8 Paper.\n",
    "\n",
    "The formula used to calculate the **Bd** is in this [link](https://math.stackexchange.com/questions/658276/integral-of-matrix-exponential). It is the first fomula of the second answer."
   ],
   "metadata": {}
  },
  {
   "cell_type": "code",
   "execution_count": 127,
   "source": [
    "\n",
    "Ts = 0.01 # Sampling period. Fs = 100 hz\n",
    "\n",
    "Ad = linalg.expm(Ac_np*Ts) # Matrix exponential fot the Zero-order Hold\n",
    "\n",
    "Bd = np.eye(6)\n",
    "for n in range(2,100):\n",
    "    Bd = Bd + (Ac_np*Ts)**(n-1)/np.math.factorial(n)\n",
    "\n",
    "Bd = np.matmul(Bd*Ts,Bc_np) #TODO Pq os sinais ficaram o contrário do artigo do SK8?\n",
    "\n",
    "# Matrix(Ad)\n",
    "# Matrix(Bd)"
   ],
   "outputs": [],
   "metadata": {}
  },
  {
   "cell_type": "code",
   "execution_count": 128,
   "source": [
    "\n",
    "# Reduce the system to 4 states, only, ignoring the linear and Yaw positions\n",
    "\n",
    "Ar = np.zeros((4,4))\n",
    "Ar[0:3,0:3] =  Ad[0:3,0:3]\n",
    "Ar[3,0:3]   = Ad[4,0:3]\n",
    "Ar[0:3,3]   = Ad[0:3,4]\n",
    "Ar[3,3]     = Ad[4,4]\n",
    "\n",
    "Br = np.zeros((4,2))\n",
    "Br[0:3,:]   = Bd[0:3,:]\n",
    "Br[3,:]     = Bd[4,:]\n",
    "\n",
    "# Matrix(Ar)\n",
    "# Matrix(Br)"
   ],
   "outputs": [],
   "metadata": {}
  },
  {
   "cell_type": "markdown",
   "source": [
    "## Control Analysis\n",
    "---"
   ],
   "metadata": {}
  },
  {
   "cell_type": "code",
   "execution_count": 130,
   "source": [
    "import control\n",
    "import matplotlib.pyplot as plt\n",
    "\n",
    "ctrb_m = control.ctrb(Ar,Br)\n",
    "np.linalg.matrix_rank(ctrb_m) # If result is 4, the system is controlable"
   ],
   "outputs": [
    {
     "output_type": "execute_result",
     "data": {
      "text/plain": [
       "4"
      ]
     },
     "metadata": {},
     "execution_count": 130
    }
   ],
   "metadata": {}
  },
  {
   "cell_type": "code",
   "execution_count": 136,
   "source": [
    "# C_ss = np.array([1, 1, 1, 1])\n",
    "# D_ss = np.array([0,0])\n",
    "\n",
    "# ss_system = control.ss(Ar,Br,C_ss,D_ss)\n",
    "# ss_system\n",
    "# t, y = control.step_response(ss_system)\n",
    "\n",
    "# plt.plot(t,y[0,1,:])\n",
    "# y.shape"
   ],
   "outputs": [
    {
     "output_type": "execute_result",
     "data": {
      "text/plain": [
       "(1, 2, 100)"
      ]
     },
     "metadata": {},
     "execution_count": 136
    }
   ],
   "metadata": {}
  },
  {
   "cell_type": "markdown",
   "source": [
    "## View all matrices\n",
    "----"
   ],
   "metadata": {}
  },
  {
   "cell_type": "code",
   "execution_count": null,
   "source": [
    "M"
   ],
   "outputs": [
    {
     "output_type": "execute_result",
     "data": {
      "text/plain": [
       "Matrix([\n",
       "[2*I_wc/r**2 + M_p + 2*M_w, M_p*l*cos(theta),                                                                                  0],\n",
       "[         M_p*l*cos(theta),  I_py + M_p*l**2,                                                                                  0],\n",
       "[                        0,                0, I_pz + 2*I_wr + d**2*(I_wc/r**2 + M_w)/2 - (-I_px + I_pz - M_p*l**2)*sin(theta)**2]])"
      ],
      "text/latex": [
       "$\\displaystyle \\left[\\begin{matrix}\\frac{2 I_{wc}}{r^{2}} + M_{p} + 2 M_{w} & M_{p} l \\cos{\\left(\\theta \\right)} & 0\\\\M_{p} l \\cos{\\left(\\theta \\right)} & I_{py} + M_{p} l^{2} & 0\\\\0 & 0 & I_{pz} + 2 I_{wr} + \\frac{d^{2} \\left(\\frac{I_{wc}}{r^{2}} + M_{w}\\right)}{2} - \\left(- I_{px} + I_{pz} - M_{p} l^{2}\\right) \\sin^{2}{\\left(\\theta \\right)}\\end{matrix}\\right]$"
      ]
     },
     "metadata": {},
     "execution_count": 67
    }
   ],
   "metadata": {}
  },
  {
   "cell_type": "code",
   "execution_count": null,
   "source": [
    "C"
   ],
   "outputs": [
    {
     "output_type": "execute_result",
     "data": {
      "text/plain": [
       "Matrix([\n",
       "[                                    0,                          -M_p*l*sin(theta)*Derivative(theta, theta),                                  -M_p*l*sin(theta)*Derivative(psi, psi)],\n",
       "[                                    0,                                                                   0,    (-I_px + I_pz - M_p*l**2)*sin(theta)*cos(theta)*Derivative(psi, psi)],\n",
       "[M_p*l*sin(theta)*Derivative(psi, psi), (I_px - I_pz + M_p*l**2)*sin(theta)*cos(theta)*Derivative(psi, psi), (I_px - I_pz + M_p*l**2)*sin(theta)*cos(theta)*Derivative(theta, theta)]])"
      ],
      "text/latex": [
       "$\\displaystyle \\left[\\begin{matrix}0 & - M_{p} l \\sin{\\left(\\theta \\right)} \\frac{d}{d \\theta} \\theta & - M_{p} l \\sin{\\left(\\theta \\right)} \\frac{d}{d \\psi} \\psi\\\\0 & 0 & \\left(- I_{px} + I_{pz} - M_{p} l^{2}\\right) \\sin{\\left(\\theta \\right)} \\cos{\\left(\\theta \\right)} \\frac{d}{d \\psi} \\psi\\\\M_{p} l \\sin{\\left(\\theta \\right)} \\frac{d}{d \\psi} \\psi & \\left(I_{px} - I_{pz} + M_{p} l^{2}\\right) \\sin{\\left(\\theta \\right)} \\cos{\\left(\\theta \\right)} \\frac{d}{d \\psi} \\psi & \\left(I_{px} - I_{pz} + M_{p} l^{2}\\right) \\sin{\\left(\\theta \\right)} \\cos{\\left(\\theta \\right)} \\frac{d}{d \\theta} \\theta\\end{matrix}\\right]$"
      ]
     },
     "metadata": {},
     "execution_count": 72
    }
   ],
   "metadata": {}
  },
  {
   "cell_type": "code",
   "execution_count": null,
   "source": [
    "D"
   ],
   "outputs": [
    {
     "output_type": "execute_result",
     "data": {
      "text/plain": [
       "Matrix([\n",
       "[2*c_alpha/r**2, -2*c_alpha/r,                     0],\n",
       "[  -2*c_alpha/r,    2*c_alpha,                     0],\n",
       "[             0,            0, c_alpha*d**2/(2*r**2)]])"
      ],
      "text/latex": [
       "$\\displaystyle \\left[\\begin{matrix}\\frac{2 c_{\\alpha}}{r^{2}} & - \\frac{2 c_{\\alpha}}{r} & 0\\\\- \\frac{2 c_{\\alpha}}{r} & 2 c_{\\alpha} & 0\\\\0 & 0 & \\frac{c_{\\alpha} d^{2}}{2 r^{2}}\\end{matrix}\\right]$"
      ]
     },
     "metadata": {},
     "execution_count": 68
    }
   ],
   "metadata": {}
  },
  {
   "cell_type": "code",
   "execution_count": null,
   "source": [
    "B"
   ],
   "outputs": [
    {
     "output_type": "execute_result",
     "data": {
      "text/plain": [
       "Matrix([\n",
       "[     1/r,     1/r],\n",
       "[      -1,      -1],\n",
       "[-d/(2*r), d/(2*r)]])"
      ],
      "text/latex": [
       "$\\displaystyle \\left[\\begin{matrix}\\frac{1}{r} & \\frac{1}{r}\\\\-1 & -1\\\\- \\frac{d}{2 r} & \\frac{d}{2 r}\\end{matrix}\\right]$"
      ]
     },
     "metadata": {},
     "execution_count": 69
    }
   ],
   "metadata": {}
  },
  {
   "cell_type": "code",
   "execution_count": null,
   "source": [
    "G"
   ],
   "outputs": [
    {
     "output_type": "execute_result",
     "data": {
      "text/plain": [
       "Matrix([\n",
       "[                  0],\n",
       "[-M_p*g*l*sin(theta)],\n",
       "[                  0]])"
      ],
      "text/latex": [
       "$\\displaystyle \\left[\\begin{matrix}0\\\\- M_{p} g l \\sin{\\left(\\theta \\right)}\\\\0\\end{matrix}\\right]$"
      ]
     },
     "metadata": {},
     "execution_count": 70
    }
   ],
   "metadata": {}
  },
  {
   "cell_type": "code",
   "execution_count": null,
   "source": [
    "u"
   ],
   "outputs": [
    {
     "output_type": "execute_result",
     "data": {
      "text/plain": [
       "Matrix([\n",
       "[T_L],\n",
       "[T_R]])"
      ],
      "text/latex": [
       "$\\displaystyle \\left[\\begin{matrix}T_{L}\\\\T_{R}\\end{matrix}\\right]$"
      ]
     },
     "metadata": {},
     "execution_count": 71
    }
   ],
   "metadata": {}
  },
  {
   "cell_type": "code",
   "execution_count": null,
   "source": [
    "f = symbols('f', constant=True)\n",
    "f\n"
   ],
   "outputs": [
    {
     "output_type": "execute_result",
     "data": {
      "text/plain": [
       "f"
      ],
      "text/latex": [
       "$\\displaystyle f$"
      ]
     },
     "metadata": {},
     "execution_count": 280
    }
   ],
   "metadata": {}
  },
  {
   "cell_type": "code",
   "execution_count": null,
   "source": [],
   "outputs": [],
   "metadata": {}
  }
 ]
}