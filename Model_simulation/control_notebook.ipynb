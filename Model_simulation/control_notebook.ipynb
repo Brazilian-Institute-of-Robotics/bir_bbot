{
 "metadata": {
  "language_info": {
   "codemirror_mode": {
    "name": "ipython",
    "version": 3
   },
   "file_extension": ".py",
   "mimetype": "text/x-python",
   "name": "python",
   "nbconvert_exporter": "python",
   "pygments_lexer": "ipython3",
   "version": "3.8.10"
  },
  "orig_nbformat": 4,
  "kernelspec": {
   "name": "python3",
   "display_name": "Python 3.8.10 64-bit"
  },
  "interpreter": {
   "hash": "916dbcbb3f70747c44a77c7bcd40155683ae19c65e1c03b4aa3499c5328201f1"
  }
 },
 "nbformat": 4,
 "nbformat_minor": 2,
 "cells": [
  {
   "cell_type": "code",
   "execution_count": 1,
   "source": [
    "\n",
    "import numpy as np\n",
    "from sympy import *\n",
    "\n",
    "#--- Model Parameters ---\n",
    "d       = symbols('d',    real=True, positive=True)         # Distance between wheels\n",
    "visc    = symbols('c_alpha',real=True)                      # Viscous, damping constant \n",
    "l       = symbols('l',    real=True, positive=True)         # Height of the COM\n",
    "r       = symbols('r',    real=True, positive=True)         # Radius of the wheel\n",
    "Mp      = symbols('M_p',  real=True, positive=True)         # Mass of the pendulum without the wheels\n",
    "Mw      = symbols('M_w',  real=True, positive=True)         # Mass of each wheel\n",
    "Iw_c    = symbols('I_wc',  real=True)                       # MOI wheel center\n",
    "Iw_r    = symbols('I_wr',  real=True)                       # MOI wheel radial\n",
    "Ip_x    = symbols('I_px',  real=True)                       # MOI pendulum x\n",
    "Ip_y    = symbols('I_py',  real=True)                       # MOI pendulum y\n",
    "Ip_z    = symbols('I_pz',  real=True)                       # MOI pendulum z\n",
    "\n",
    "#--- Constants & Aux. variables ---\n",
    "g = symbols('g', constant=True)                             # Gravity acceleration\n",
    "t = symbols('t', real=True)                                 # Time\n",
    "\n",
    "#--- State Variables ---\n",
    "x           = symbols('x',  real=True)                      # Linear pos\n",
    "pitch       = symbols('theta',  real=True)                  # Pitch angle\n",
    "yaw         = symbols('psi',  real=True)                    # Yaw angle\n",
    "x_vel       = Derivative(x,t)                               # Linear vel\n",
    "pitch_vel   = Derivative(pitch,t)                           # Pitch vel\n",
    "yaw_vel     = Derivative(yaw,t)                             # Yaw vel\n",
    "x_acc       = Derivative(x_vel,t)                           # Linear acc\n",
    "pitch_acc   = Derivative(pitch_vel,t)                       # Pitch acc\n",
    "yaw_acc     = Derivative(yaw_vel,t)                         # Yaw acc\n",
    "\n",
    "#--- Inputs ---\n",
    "Tl = symbols('T_L', real=True)                              # Torque of the left wheel\n",
    "Tr = symbols('T_R', real=True)                              # Torque of the right wheel"
   ],
   "outputs": [],
   "metadata": {}
  },
  {
   "cell_type": "markdown",
   "source": [
    "## Defining all the matrices of the system\n",
    "----------"
   ],
   "metadata": {}
  },
  {
   "cell_type": "code",
   "execution_count": 2,
   "source": [
    "\n",
    "#*--- Matrices for the 3 states model\n",
    "M = Matrix([[Mp+2*Mw+2*Iw_c/r**2, Mp*l*cos(pitch) ,                                                                     0],\n",
    "            [ Mp*l*cos(pitch)   , Ip_y+Mp*l**2    ,                                                                     0],\n",
    "            [0                  ,                0, Ip_z+2*Iw_r+(Mw+Iw_c/r**2)*d**2/2-(Ip_z-Ip_x-Mp*l**2)*sin(pitch)**2  ]])\n",
    "\n",
    "C = Matrix([[                      0, -Mp*l*pitch_vel*sin(pitch),                          -Mp*l*yaw_vel*sin(pitch)],\n",
    "            [                      0,                          0, (Ip_z-Ip_x-Mp*l**2)*yaw_vel*sin(pitch)*cos(pitch)],\n",
    "            [Mp*l*yaw_vel*sin(pitch), -(Ip_z-Ip_x-Mp*l**2)*yaw_vel*sin(pitch)*cos(pitch), -(Ip_z-Ip_x-Mp*l**2)*pitch_vel*sin(pitch)*cos(pitch)]])\n",
    "\n",
    "D = Matrix([[2*visc/r**2, -2*visc/r, 0],\n",
    "            [-2*visc/r, 2*visc, 0],\n",
    "            [0, 0, (d**2/(2*r**2))*visc]])\n",
    "\n",
    "B = Matrix([[     1/r,     1/r],\n",
    "            [      -1,      -1],\n",
    "            [-d/(2*r), d/(2*r)]])\n",
    "\n",
    "G = Matrix([[0],[-Mp*l*g*sin(pitch)], [0]])\n",
    "\n",
    "q = Matrix([[x],[pitch],[yaw]])\n",
    "\n",
    "q_diff = Matrix([[x_vel],[pitch_vel],[yaw_vel]])\n",
    "\n",
    "q_2diff = Matrix([[x_acc],[pitch_acc],[yaw_acc]])\n",
    "\n",
    "u = Matrix([[Tl],[Tr]])"
   ],
   "outputs": [],
   "metadata": {}
  },
  {
   "cell_type": "code",
   "execution_count": 3,
   "source": [
    "M_inv = M.inv()"
   ],
   "outputs": [],
   "metadata": {}
  },
  {
   "cell_type": "markdown",
   "source": [
    "## Show system in expression form\n",
    "---"
   ],
   "metadata": {}
  },
  {
   "cell_type": "code",
   "execution_count": 4,
   "source": [
    "# eqt_sys = M*q_2diff + (C+D)*q_diff + G - B*u\n",
    "# eqt_sys\n",
    "expr_model = M_inv*((B*u-G)-(C+D)*q_diff)\n",
    "eqts_model = Eq(q_2diff,expr_model)\n",
    "eqts_model"
   ],
   "outputs": [
    {
     "output_type": "execute_result",
     "data": {
      "text/plain": [
       "Eq(Matrix([\n",
       "[    Derivative(x, (t, 2))],\n",
       "[Derivative(theta, (t, 2))],\n",
       "[  Derivative(psi, (t, 2))]]), Matrix([\n",
       "[          -M_p*l*(M_p*g*l*sin(theta) - T_L - T_R - 2*c_alpha*Derivative(theta, t) + 2*c_alpha*Derivative(x, t)/r - (-I_px + I_pz - M_p*l**2)*sin(theta)*cos(theta)*Derivative(psi, t)**2)*cos(theta)/(-M_p**2*l**2*cos(theta)**2 + (I_py + M_p*l**2)*(2*I_wc/r**2 + M_p + 2*M_w)) + (I_py + M_p*l**2)*(M_p*l*sin(theta)*Derivative(psi, t)**2 + T_L/r + T_R/r - 2*c_alpha*Derivative(x, t)/r**2 - (-M_p*l*sin(theta)*Derivative(theta, t) - 2*c_alpha/r)*Derivative(theta, t))/(-M_p**2*l**2*cos(theta)**2 + (I_py + M_p*l**2)*(2*I_wc/r**2 + M_p + 2*M_w))],\n",
       "[-M_p*l*(M_p*l*sin(theta)*Derivative(psi, t)**2 + T_L/r + T_R/r - 2*c_alpha*Derivative(x, t)/r**2 - (-M_p*l*sin(theta)*Derivative(theta, t) - 2*c_alpha/r)*Derivative(theta, t))*cos(theta)/(-M_p**2*l**2*cos(theta)**2 + (I_py + M_p*l**2)*(2*I_wc/r**2 + M_p + 2*M_w)) + (2*I_wc/r**2 + M_p + 2*M_w)*(M_p*g*l*sin(theta) - T_L - T_R - 2*c_alpha*Derivative(theta, t) + 2*c_alpha*Derivative(x, t)/r - (-I_px + I_pz - M_p*l**2)*sin(theta)*cos(theta)*Derivative(psi, t)**2)/(-M_p**2*l**2*cos(theta)**2 + (I_py + M_p*l**2)*(2*I_wc/r**2 + M_p + 2*M_w))],\n",
       "[                                                                                                                                                                       (-M_p*l*sin(theta)*Derivative(psi, t)*Derivative(x, t) - T_L*d/(2*r) + T_R*d/(2*r) - (c_alpha*d**2/(2*r**2) + (I_px - I_pz + M_p*l**2)*sin(theta)*cos(theta)*Derivative(theta, t))*Derivative(psi, t) - (I_px - I_pz + M_p*l**2)*sin(theta)*cos(theta)*Derivative(psi, t)*Derivative(theta, t))/(I_pz + 2*I_wr + d**2*(I_wc/r**2 + M_w)/2 - (-I_px + I_pz - M_p*l**2)*sin(theta)**2)]]))"
      ],
      "text/latex": [
       "$\\displaystyle \\left[\\begin{matrix}\\frac{d^{2}}{d t^{2}} x\\\\\\frac{d^{2}}{d t^{2}} \\theta\\\\\\frac{d^{2}}{d t^{2}} \\psi\\end{matrix}\\right] = \\left[\\begin{matrix}- \\frac{M_{p} l \\left(M_{p} g l \\sin{\\left(\\theta \\right)} - T_{L} - T_{R} - 2 c_{\\alpha} \\frac{d}{d t} \\theta + \\frac{2 c_{\\alpha} \\frac{d}{d t} x}{r} - \\left(- I_{px} + I_{pz} - M_{p} l^{2}\\right) \\sin{\\left(\\theta \\right)} \\cos{\\left(\\theta \\right)} \\left(\\frac{d}{d t} \\psi\\right)^{2}\\right) \\cos{\\left(\\theta \\right)}}{- M_{p}^{2} l^{2} \\cos^{2}{\\left(\\theta \\right)} + \\left(I_{py} + M_{p} l^{2}\\right) \\left(\\frac{2 I_{wc}}{r^{2}} + M_{p} + 2 M_{w}\\right)} + \\frac{\\left(I_{py} + M_{p} l^{2}\\right) \\left(M_{p} l \\sin{\\left(\\theta \\right)} \\left(\\frac{d}{d t} \\psi\\right)^{2} + \\frac{T_{L}}{r} + \\frac{T_{R}}{r} - \\frac{2 c_{\\alpha} \\frac{d}{d t} x}{r^{2}} - \\left(- M_{p} l \\sin{\\left(\\theta \\right)} \\frac{d}{d t} \\theta - \\frac{2 c_{\\alpha}}{r}\\right) \\frac{d}{d t} \\theta\\right)}{- M_{p}^{2} l^{2} \\cos^{2}{\\left(\\theta \\right)} + \\left(I_{py} + M_{p} l^{2}\\right) \\left(\\frac{2 I_{wc}}{r^{2}} + M_{p} + 2 M_{w}\\right)}\\\\- \\frac{M_{p} l \\left(M_{p} l \\sin{\\left(\\theta \\right)} \\left(\\frac{d}{d t} \\psi\\right)^{2} + \\frac{T_{L}}{r} + \\frac{T_{R}}{r} - \\frac{2 c_{\\alpha} \\frac{d}{d t} x}{r^{2}} - \\left(- M_{p} l \\sin{\\left(\\theta \\right)} \\frac{d}{d t} \\theta - \\frac{2 c_{\\alpha}}{r}\\right) \\frac{d}{d t} \\theta\\right) \\cos{\\left(\\theta \\right)}}{- M_{p}^{2} l^{2} \\cos^{2}{\\left(\\theta \\right)} + \\left(I_{py} + M_{p} l^{2}\\right) \\left(\\frac{2 I_{wc}}{r^{2}} + M_{p} + 2 M_{w}\\right)} + \\frac{\\left(\\frac{2 I_{wc}}{r^{2}} + M_{p} + 2 M_{w}\\right) \\left(M_{p} g l \\sin{\\left(\\theta \\right)} - T_{L} - T_{R} - 2 c_{\\alpha} \\frac{d}{d t} \\theta + \\frac{2 c_{\\alpha} \\frac{d}{d t} x}{r} - \\left(- I_{px} + I_{pz} - M_{p} l^{2}\\right) \\sin{\\left(\\theta \\right)} \\cos{\\left(\\theta \\right)} \\left(\\frac{d}{d t} \\psi\\right)^{2}\\right)}{- M_{p}^{2} l^{2} \\cos^{2}{\\left(\\theta \\right)} + \\left(I_{py} + M_{p} l^{2}\\right) \\left(\\frac{2 I_{wc}}{r^{2}} + M_{p} + 2 M_{w}\\right)}\\\\\\frac{- M_{p} l \\sin{\\left(\\theta \\right)} \\frac{d}{d t} \\psi \\frac{d}{d t} x - \\frac{T_{L} d}{2 r} + \\frac{T_{R} d}{2 r} - \\left(\\frac{c_{\\alpha} d^{2}}{2 r^{2}} + \\left(I_{px} - I_{pz} + M_{p} l^{2}\\right) \\sin{\\left(\\theta \\right)} \\cos{\\left(\\theta \\right)} \\frac{d}{d t} \\theta\\right) \\frac{d}{d t} \\psi - \\left(I_{px} - I_{pz} + M_{p} l^{2}\\right) \\sin{\\left(\\theta \\right)} \\cos{\\left(\\theta \\right)} \\frac{d}{d t} \\psi \\frac{d}{d t} \\theta}{I_{pz} + 2 I_{wr} + \\frac{d^{2} \\left(\\frac{I_{wc}}{r^{2}} + M_{w}\\right)}{2} - \\left(- I_{px} + I_{pz} - M_{p} l^{2}\\right) \\sin^{2}{\\left(\\theta \\right)}}\\end{matrix}\\right]$"
      ]
     },
     "metadata": {},
     "execution_count": 4
    }
   ],
   "metadata": {}
  },
  {
   "cell_type": "markdown",
   "source": [
    "## Linearization of the system\n",
    "----------"
   ],
   "metadata": {}
  },
  {
   "cell_type": "code",
   "execution_count": 306,
   "source": [
    "\n",
    "#* Convert real variables into state-space variables\n",
    "\n",
    "# Build state vector\n",
    "real_state_vec = q_diff.row_insert(4,q)\n",
    "state_vec = Matrix(list(symbols('x1:7',real=True)))\n",
    "state_eq = Eq(state_vec,real_state_vec)\n",
    "state_eq"
   ],
   "outputs": [
    {
     "output_type": "execute_result",
     "data": {
      "text/plain": [
       "Eq(Matrix([\n",
       "[x1],\n",
       "[x2],\n",
       "[x3],\n",
       "[x4],\n",
       "[x5],\n",
       "[x6]]), Matrix([\n",
       "[    Derivative(x, t)],\n",
       "[Derivative(theta, t)],\n",
       "[  Derivative(psi, t)],\n",
       "[                   x],\n",
       "[               theta],\n",
       "[                 psi]]))"
      ],
      "text/latex": [
       "$\\displaystyle \\left[\\begin{matrix}x_{1}\\\\x_{2}\\\\x_{3}\\\\x_{4}\\\\x_{5}\\\\x_{6}\\end{matrix}\\right] = \\left[\\begin{matrix}\\frac{d}{d t} x\\\\\\frac{d}{d t} \\theta\\\\\\frac{d}{d t} \\psi\\\\x\\\\\\theta\\\\\\psi\\end{matrix}\\right]$"
      ]
     },
     "metadata": {},
     "execution_count": 306
    }
   ],
   "metadata": {}
  },
  {
   "cell_type": "code",
   "execution_count": 317,
   "source": [
    "\n",
    "#* Build the derivative of the state vector\n",
    "\n",
    "real_state_diff_vec = q_2diff.row_insert(4,q_diff)\n",
    "state_diff_vec = []\n",
    "for sym in state_vec:\n",
    "    state_diff_vec.append(Derivative(sym,t))\n",
    "state_diff_vec = Matrix(state_diff_vec)\n",
    "state_diff_eq = Eq(state_diff_vec,real_state_diff_vec)\n",
    "\n",
    "#* Build the vector of system equations\n",
    "\n",
    "system_equations = expr_model.row_insert(4,q_diff)\n",
    "\n",
    "#* Substitute the real variables with the state-stape model variables: x1:x6\n",
    "\n",
    "for i in range(6):\n",
    "        system_equations = system_equations.subs(real_state_vec[i],state_vec[i])\n",
    "\n",
    "#* Show the system of equations that will be used in the state space form \n",
    "\n",
    "eq_sys = Eq(state_diff_vec,system_equations)\n",
    "eq_sys"
   ],
   "outputs": [
    {
     "output_type": "execute_result",
     "data": {
      "text/plain": [
       "Eq(Matrix([\n",
       "[Derivative(x1, t)],\n",
       "[Derivative(x2, t)],\n",
       "[Derivative(x3, t)],\n",
       "[Derivative(x4, t)],\n",
       "[Derivative(x5, t)],\n",
       "[Derivative(x6, t)]]), Matrix([\n",
       "[          -M_p*l*(M_p*g*l*sin(x5) - T_L - T_R - 2*c_alpha*x2 + 2*c_alpha*x1/r - x3**2*(-I_px + I_pz - M_p*l**2)*sin(x5)*cos(x5))*cos(x5)/(-M_p**2*l**2*cos(x5)**2 + (I_py + M_p*l**2)*(2*I_wc/r**2 + M_p + 2*M_w)) + (I_py + M_p*l**2)*(M_p*l*x3**2*sin(x5) + T_L/r + T_R/r - 2*c_alpha*x1/r**2 - x2*(-M_p*l*x2*sin(x5) - 2*c_alpha/r))/(-M_p**2*l**2*cos(x5)**2 + (I_py + M_p*l**2)*(2*I_wc/r**2 + M_p + 2*M_w))],\n",
       "[-M_p*l*(M_p*l*x3**2*sin(x5) + T_L/r + T_R/r - 2*c_alpha*x1/r**2 - x2*(-M_p*l*x2*sin(x5) - 2*c_alpha/r))*cos(x5)/(-M_p**2*l**2*cos(x5)**2 + (I_py + M_p*l**2)*(2*I_wc/r**2 + M_p + 2*M_w)) + (2*I_wc/r**2 + M_p + 2*M_w)*(M_p*g*l*sin(x5) - T_L - T_R - 2*c_alpha*x2 + 2*c_alpha*x1/r - x3**2*(-I_px + I_pz - M_p*l**2)*sin(x5)*cos(x5))/(-M_p**2*l**2*cos(x5)**2 + (I_py + M_p*l**2)*(2*I_wc/r**2 + M_p + 2*M_w))],\n",
       "[                                                                                                                                                 (-M_p*l*x1*x3*sin(x5) - T_L*d/(2*r) + T_R*d/(2*r) - x2*x3*(I_px - I_pz + M_p*l**2)*sin(x5)*cos(x5) - x3*(c_alpha*d**2/(2*r**2) + x2*(I_px - I_pz + M_p*l**2)*sin(x5)*cos(x5)))/(I_pz + 2*I_wr + d**2*(I_wc/r**2 + M_w)/2 - (-I_px + I_pz - M_p*l**2)*sin(x5)**2)],\n",
       "[                                                                                                                                                                                                                                                                                                                                                                                                               x1],\n",
       "[                                                                                                                                                                                                                                                                                                                                                                                                               x2],\n",
       "[                                                                                                                                                                                                                                                                                                                                                                                                               x3]]))"
      ],
      "text/latex": [
       "$\\displaystyle \\left[\\begin{matrix}\\frac{d}{d t} x_{1}\\\\\\frac{d}{d t} x_{2}\\\\\\frac{d}{d t} x_{3}\\\\\\frac{d}{d t} x_{4}\\\\\\frac{d}{d t} x_{5}\\\\\\frac{d}{d t} x_{6}\\end{matrix}\\right] = \\left[\\begin{matrix}- \\frac{M_{p} l \\left(M_{p} g l \\sin{\\left(x_{5} \\right)} - T_{L} - T_{R} - 2 c_{\\alpha} x_{2} + \\frac{2 c_{\\alpha} x_{1}}{r} - x_{3}^{2} \\left(- I_{px} + I_{pz} - M_{p} l^{2}\\right) \\sin{\\left(x_{5} \\right)} \\cos{\\left(x_{5} \\right)}\\right) \\cos{\\left(x_{5} \\right)}}{- M_{p}^{2} l^{2} \\cos^{2}{\\left(x_{5} \\right)} + \\left(I_{py} + M_{p} l^{2}\\right) \\left(\\frac{2 I_{wc}}{r^{2}} + M_{p} + 2 M_{w}\\right)} + \\frac{\\left(I_{py} + M_{p} l^{2}\\right) \\left(M_{p} l x_{3}^{2} \\sin{\\left(x_{5} \\right)} + \\frac{T_{L}}{r} + \\frac{T_{R}}{r} - \\frac{2 c_{\\alpha} x_{1}}{r^{2}} - x_{2} \\left(- M_{p} l x_{2} \\sin{\\left(x_{5} \\right)} - \\frac{2 c_{\\alpha}}{r}\\right)\\right)}{- M_{p}^{2} l^{2} \\cos^{2}{\\left(x_{5} \\right)} + \\left(I_{py} + M_{p} l^{2}\\right) \\left(\\frac{2 I_{wc}}{r^{2}} + M_{p} + 2 M_{w}\\right)}\\\\- \\frac{M_{p} l \\left(M_{p} l x_{3}^{2} \\sin{\\left(x_{5} \\right)} + \\frac{T_{L}}{r} + \\frac{T_{R}}{r} - \\frac{2 c_{\\alpha} x_{1}}{r^{2}} - x_{2} \\left(- M_{p} l x_{2} \\sin{\\left(x_{5} \\right)} - \\frac{2 c_{\\alpha}}{r}\\right)\\right) \\cos{\\left(x_{5} \\right)}}{- M_{p}^{2} l^{2} \\cos^{2}{\\left(x_{5} \\right)} + \\left(I_{py} + M_{p} l^{2}\\right) \\left(\\frac{2 I_{wc}}{r^{2}} + M_{p} + 2 M_{w}\\right)} + \\frac{\\left(\\frac{2 I_{wc}}{r^{2}} + M_{p} + 2 M_{w}\\right) \\left(M_{p} g l \\sin{\\left(x_{5} \\right)} - T_{L} - T_{R} - 2 c_{\\alpha} x_{2} + \\frac{2 c_{\\alpha} x_{1}}{r} - x_{3}^{2} \\left(- I_{px} + I_{pz} - M_{p} l^{2}\\right) \\sin{\\left(x_{5} \\right)} \\cos{\\left(x_{5} \\right)}\\right)}{- M_{p}^{2} l^{2} \\cos^{2}{\\left(x_{5} \\right)} + \\left(I_{py} + M_{p} l^{2}\\right) \\left(\\frac{2 I_{wc}}{r^{2}} + M_{p} + 2 M_{w}\\right)}\\\\\\frac{- M_{p} l x_{1} x_{3} \\sin{\\left(x_{5} \\right)} - \\frac{T_{L} d}{2 r} + \\frac{T_{R} d}{2 r} - x_{2} x_{3} \\left(I_{px} - I_{pz} + M_{p} l^{2}\\right) \\sin{\\left(x_{5} \\right)} \\cos{\\left(x_{5} \\right)} - x_{3} \\left(\\frac{c_{\\alpha} d^{2}}{2 r^{2}} + x_{2} \\left(I_{px} - I_{pz} + M_{p} l^{2}\\right) \\sin{\\left(x_{5} \\right)} \\cos{\\left(x_{5} \\right)}\\right)}{I_{pz} + 2 I_{wr} + \\frac{d^{2} \\left(\\frac{I_{wc}}{r^{2}} + M_{w}\\right)}{2} - \\left(- I_{px} + I_{pz} - M_{p} l^{2}\\right) \\sin^{2}{\\left(x_{5} \\right)}}\\\\x_{1}\\\\x_{2}\\\\x_{3}\\end{matrix}\\right]$"
      ]
     },
     "metadata": {},
     "execution_count": 317
    }
   ],
   "metadata": {}
  },
  {
   "cell_type": "code",
   "execution_count": 318,
   "source": [
    "\n",
    "#* Calcualte the jacobian for the A matrix of the continuos time system\n",
    "Ac = Matrix(np.zeros((6,6)))\n",
    "\n",
    "for i,expr in enumerate(system_equations):\n",
    "    for j,state in enumerate(state_vec):\n",
    "        Ac[i,j] = diff(expr,state)\n",
    "Ac"
   ],
   "outputs": [
    {
     "output_type": "execute_result",
     "data": {
      "text/plain": [
       "Matrix([\n",
       "[         -2*M_p*c_alpha*l*cos(x5)/(r*(-M_p**2*l**2*cos(x5)**2 + (I_py + M_p*l**2)*(2*I_wc/r**2 + M_p + 2*M_w))) - 2*c_alpha*(I_py + M_p*l**2)/(r**2*(-M_p**2*l**2*cos(x5)**2 + (I_py + M_p*l**2)*(2*I_wc/r**2 + M_p + 2*M_w))),            2*M_p*c_alpha*l*cos(x5)/(-M_p**2*l**2*cos(x5)**2 + (I_py + M_p*l**2)*(2*I_wc/r**2 + M_p + 2*M_w)) + (I_py + M_p*l**2)*(2*M_p*l*x2*sin(x5) + 2*c_alpha/r)/(-M_p**2*l**2*cos(x5)**2 + (I_py + M_p*l**2)*(2*I_wc/r**2 + M_p + 2*M_w)),                 2*M_p*l*x3*(I_py + M_p*l**2)*sin(x5)/(-M_p**2*l**2*cos(x5)**2 + (I_py + M_p*l**2)*(2*I_wc/r**2 + M_p + 2*M_w)) + 2*M_p*l*x3*(-I_px + I_pz - M_p*l**2)*sin(x5)*cos(x5)**2/(-M_p**2*l**2*cos(x5)**2 + (I_py + M_p*l**2)*(2*I_wc/r**2 + M_p + 2*M_w)), 0,      2*M_p**3*l**3*(M_p*g*l*sin(x5) - T_L - T_R - 2*c_alpha*x2 + 2*c_alpha*x1/r - x3**2*(-I_px + I_pz - M_p*l**2)*sin(x5)*cos(x5))*sin(x5)*cos(x5)**2/(-M_p**2*l**2*cos(x5)**2 + (I_py + M_p*l**2)*(2*I_wc/r**2 + M_p + 2*M_w))**2 - 2*M_p**2*l**2*(I_py + M_p*l**2)*(M_p*l*x3**2*sin(x5) + T_L/r + T_R/r - 2*c_alpha*x1/r**2 - x2*(-M_p*l*x2*sin(x5) - 2*c_alpha/r))*sin(x5)*cos(x5)/(-M_p**2*l**2*cos(x5)**2 + (I_py + M_p*l**2)*(2*I_wc/r**2 + M_p + 2*M_w))**2 - M_p*l*(M_p*g*l*cos(x5) + x3**2*(-I_px + I_pz - M_p*l**2)*sin(x5)**2 - x3**2*(-I_px + I_pz - M_p*l**2)*cos(x5)**2)*cos(x5)/(-M_p**2*l**2*cos(x5)**2 + (I_py + M_p*l**2)*(2*I_wc/r**2 + M_p + 2*M_w)) + M_p*l*(M_p*g*l*sin(x5) - T_L - T_R - 2*c_alpha*x2 + 2*c_alpha*x1/r - x3**2*(-I_px + I_pz - M_p*l**2)*sin(x5)*cos(x5))*sin(x5)/(-M_p**2*l**2*cos(x5)**2 + (I_py + M_p*l**2)*(2*I_wc/r**2 + M_p + 2*M_w)) + (I_py + M_p*l**2)*(M_p*l*x2**2*cos(x5) + M_p*l*x3**2*cos(x5))/(-M_p**2*l**2*cos(x5)**2 + (I_py + M_p*l**2)*(2*I_wc/r**2 + M_p + 2*M_w)), 0],\n",
       "[2*M_p*c_alpha*l*cos(x5)/(r**2*(-M_p**2*l**2*cos(x5)**2 + (I_py + M_p*l**2)*(2*I_wc/r**2 + M_p + 2*M_w))) + 2*c_alpha*(2*I_wc/r**2 + M_p + 2*M_w)/(r*(-M_p**2*l**2*cos(x5)**2 + (I_py + M_p*l**2)*(2*I_wc/r**2 + M_p + 2*M_w))), -M_p*l*(2*M_p*l*x2*sin(x5) + 2*c_alpha/r)*cos(x5)/(-M_p**2*l**2*cos(x5)**2 + (I_py + M_p*l**2)*(2*I_wc/r**2 + M_p + 2*M_w)) - 2*c_alpha*(2*I_wc/r**2 + M_p + 2*M_w)/(-M_p**2*l**2*cos(x5)**2 + (I_py + M_p*l**2)*(2*I_wc/r**2 + M_p + 2*M_w)), -2*M_p**2*l**2*x3*sin(x5)*cos(x5)/(-M_p**2*l**2*cos(x5)**2 + (I_py + M_p*l**2)*(2*I_wc/r**2 + M_p + 2*M_w)) - 2*x3*(-I_px + I_pz - M_p*l**2)*(2*I_wc/r**2 + M_p + 2*M_w)*sin(x5)*cos(x5)/(-M_p**2*l**2*cos(x5)**2 + (I_py + M_p*l**2)*(2*I_wc/r**2 + M_p + 2*M_w)), 0, 2*M_p**3*l**3*(M_p*l*x3**2*sin(x5) + T_L/r + T_R/r - 2*c_alpha*x1/r**2 - x2*(-M_p*l*x2*sin(x5) - 2*c_alpha/r))*sin(x5)*cos(x5)**2/(-M_p**2*l**2*cos(x5)**2 + (I_py + M_p*l**2)*(2*I_wc/r**2 + M_p + 2*M_w))**2 - 2*M_p**2*l**2*(2*I_wc/r**2 + M_p + 2*M_w)*(M_p*g*l*sin(x5) - T_L - T_R - 2*c_alpha*x2 + 2*c_alpha*x1/r - x3**2*(-I_px + I_pz - M_p*l**2)*sin(x5)*cos(x5))*sin(x5)*cos(x5)/(-M_p**2*l**2*cos(x5)**2 + (I_py + M_p*l**2)*(2*I_wc/r**2 + M_p + 2*M_w))**2 - M_p*l*(M_p*l*x2**2*cos(x5) + M_p*l*x3**2*cos(x5))*cos(x5)/(-M_p**2*l**2*cos(x5)**2 + (I_py + M_p*l**2)*(2*I_wc/r**2 + M_p + 2*M_w)) + M_p*l*(M_p*l*x3**2*sin(x5) + T_L/r + T_R/r - 2*c_alpha*x1/r**2 - x2*(-M_p*l*x2*sin(x5) - 2*c_alpha/r))*sin(x5)/(-M_p**2*l**2*cos(x5)**2 + (I_py + M_p*l**2)*(2*I_wc/r**2 + M_p + 2*M_w)) + (2*I_wc/r**2 + M_p + 2*M_w)*(M_p*g*l*cos(x5) + x3**2*(-I_px + I_pz - M_p*l**2)*sin(x5)**2 - x3**2*(-I_px + I_pz - M_p*l**2)*cos(x5)**2)/(-M_p**2*l**2*cos(x5)**2 + (I_py + M_p*l**2)*(2*I_wc/r**2 + M_p + 2*M_w)), 0],\n",
       "[                                                                                                                           -M_p*l*x3*sin(x5)/(I_pz + 2*I_wr + d**2*(I_wc/r**2 + M_w)/2 - (-I_px + I_pz - M_p*l**2)*sin(x5)**2),                                                                                                              -2*x3*(I_px - I_pz + M_p*l**2)*sin(x5)*cos(x5)/(I_pz + 2*I_wr + d**2*(I_wc/r**2 + M_w)/2 - (-I_px + I_pz - M_p*l**2)*sin(x5)**2),                                                                                      (-M_p*l*x1*sin(x5) - c_alpha*d**2/(2*r**2) - 2*x2*(I_px - I_pz + M_p*l**2)*sin(x5)*cos(x5))/(I_pz + 2*I_wr + d**2*(I_wc/r**2 + M_w)/2 - (-I_px + I_pz - M_p*l**2)*sin(x5)**2), 0,                                                                                                                                                                                                                                                                                                                                                                                                                   2*(-I_px + I_pz - M_p*l**2)*(-M_p*l*x1*x3*sin(x5) - T_L*d/(2*r) + T_R*d/(2*r) - x2*x3*(I_px - I_pz + M_p*l**2)*sin(x5)*cos(x5) - x3*(c_alpha*d**2/(2*r**2) + x2*(I_px - I_pz + M_p*l**2)*sin(x5)*cos(x5)))*sin(x5)*cos(x5)/(I_pz + 2*I_wr + d**2*(I_wc/r**2 + M_w)/2 - (-I_px + I_pz - M_p*l**2)*sin(x5)**2)**2 + (-M_p*l*x1*x3*cos(x5) + x2*x3*(I_px - I_pz + M_p*l**2)*sin(x5)**2 - x2*x3*(I_px - I_pz + M_p*l**2)*cos(x5)**2 - x3*(-x2*(I_px - I_pz + M_p*l**2)*sin(x5)**2 + x2*(I_px - I_pz + M_p*l**2)*cos(x5)**2))/(I_pz + 2*I_wr + d**2*(I_wc/r**2 + M_w)/2 - (-I_px + I_pz - M_p*l**2)*sin(x5)**2), 0],\n",
       "[                                                                                                                                                                                                                             1,                                                                                                                                                                                                                                             0,                                                                                                                                                                                                                                                                  0, 0,                                                                                                                                                                                                                                                                                                                                                                                                                                                                                                                                                                                                                                                                                                                                                                                                                                                                                                                                                                                                                            0, 0],\n",
       "[                                                                                                                                                                                                                             0,                                                                                                                                                                                                                                             1,                                                                                                                                                                                                                                                                  0, 0,                                                                                                                                                                                                                                                                                                                                                                                                                                                                                                                                                                                                                                                                                                                                                                                                                                                                                                                                                                                                                            0, 0],\n",
       "[                                                                                                                                                                                                                             0,                                                                                                                                                                                                                                             0,                                                                                                                                                                                                                                                                  1, 0,                                                                                                                                                                                                                                                                                                                                                                                                                                                                                                                                                                                                                                                                                                                                                                                                                                                                                                                                                                                                                            0, 0]])"
      ],
      "text/latex": [
       "$\\displaystyle \\left[\\begin{matrix}- \\frac{2 M_{p} c_{\\alpha} l \\cos{\\left(x_{5} \\right)}}{r \\left(- M_{p}^{2} l^{2} \\cos^{2}{\\left(x_{5} \\right)} + \\left(I_{py} + M_{p} l^{2}\\right) \\left(\\frac{2 I_{wc}}{r^{2}} + M_{p} + 2 M_{w}\\right)\\right)} - \\frac{2 c_{\\alpha} \\left(I_{py} + M_{p} l^{2}\\right)}{r^{2} \\left(- M_{p}^{2} l^{2} \\cos^{2}{\\left(x_{5} \\right)} + \\left(I_{py} + M_{p} l^{2}\\right) \\left(\\frac{2 I_{wc}}{r^{2}} + M_{p} + 2 M_{w}\\right)\\right)} & \\frac{2 M_{p} c_{\\alpha} l \\cos{\\left(x_{5} \\right)}}{- M_{p}^{2} l^{2} \\cos^{2}{\\left(x_{5} \\right)} + \\left(I_{py} + M_{p} l^{2}\\right) \\left(\\frac{2 I_{wc}}{r^{2}} + M_{p} + 2 M_{w}\\right)} + \\frac{\\left(I_{py} + M_{p} l^{2}\\right) \\left(2 M_{p} l x_{2} \\sin{\\left(x_{5} \\right)} + \\frac{2 c_{\\alpha}}{r}\\right)}{- M_{p}^{2} l^{2} \\cos^{2}{\\left(x_{5} \\right)} + \\left(I_{py} + M_{p} l^{2}\\right) \\left(\\frac{2 I_{wc}}{r^{2}} + M_{p} + 2 M_{w}\\right)} & \\frac{2 M_{p} l x_{3} \\left(I_{py} + M_{p} l^{2}\\right) \\sin{\\left(x_{5} \\right)}}{- M_{p}^{2} l^{2} \\cos^{2}{\\left(x_{5} \\right)} + \\left(I_{py} + M_{p} l^{2}\\right) \\left(\\frac{2 I_{wc}}{r^{2}} + M_{p} + 2 M_{w}\\right)} + \\frac{2 M_{p} l x_{3} \\left(- I_{px} + I_{pz} - M_{p} l^{2}\\right) \\sin{\\left(x_{5} \\right)} \\cos^{2}{\\left(x_{5} \\right)}}{- M_{p}^{2} l^{2} \\cos^{2}{\\left(x_{5} \\right)} + \\left(I_{py} + M_{p} l^{2}\\right) \\left(\\frac{2 I_{wc}}{r^{2}} + M_{p} + 2 M_{w}\\right)} & 0 & \\frac{2 M_{p}^{3} l^{3} \\left(M_{p} g l \\sin{\\left(x_{5} \\right)} - T_{L} - T_{R} - 2 c_{\\alpha} x_{2} + \\frac{2 c_{\\alpha} x_{1}}{r} - x_{3}^{2} \\left(- I_{px} + I_{pz} - M_{p} l^{2}\\right) \\sin{\\left(x_{5} \\right)} \\cos{\\left(x_{5} \\right)}\\right) \\sin{\\left(x_{5} \\right)} \\cos^{2}{\\left(x_{5} \\right)}}{\\left(- M_{p}^{2} l^{2} \\cos^{2}{\\left(x_{5} \\right)} + \\left(I_{py} + M_{p} l^{2}\\right) \\left(\\frac{2 I_{wc}}{r^{2}} + M_{p} + 2 M_{w}\\right)\\right)^{2}} - \\frac{2 M_{p}^{2} l^{2} \\left(I_{py} + M_{p} l^{2}\\right) \\left(M_{p} l x_{3}^{2} \\sin{\\left(x_{5} \\right)} + \\frac{T_{L}}{r} + \\frac{T_{R}}{r} - \\frac{2 c_{\\alpha} x_{1}}{r^{2}} - x_{2} \\left(- M_{p} l x_{2} \\sin{\\left(x_{5} \\right)} - \\frac{2 c_{\\alpha}}{r}\\right)\\right) \\sin{\\left(x_{5} \\right)} \\cos{\\left(x_{5} \\right)}}{\\left(- M_{p}^{2} l^{2} \\cos^{2}{\\left(x_{5} \\right)} + \\left(I_{py} + M_{p} l^{2}\\right) \\left(\\frac{2 I_{wc}}{r^{2}} + M_{p} + 2 M_{w}\\right)\\right)^{2}} - \\frac{M_{p} l \\left(M_{p} g l \\cos{\\left(x_{5} \\right)} + x_{3}^{2} \\left(- I_{px} + I_{pz} - M_{p} l^{2}\\right) \\sin^{2}{\\left(x_{5} \\right)} - x_{3}^{2} \\left(- I_{px} + I_{pz} - M_{p} l^{2}\\right) \\cos^{2}{\\left(x_{5} \\right)}\\right) \\cos{\\left(x_{5} \\right)}}{- M_{p}^{2} l^{2} \\cos^{2}{\\left(x_{5} \\right)} + \\left(I_{py} + M_{p} l^{2}\\right) \\left(\\frac{2 I_{wc}}{r^{2}} + M_{p} + 2 M_{w}\\right)} + \\frac{M_{p} l \\left(M_{p} g l \\sin{\\left(x_{5} \\right)} - T_{L} - T_{R} - 2 c_{\\alpha} x_{2} + \\frac{2 c_{\\alpha} x_{1}}{r} - x_{3}^{2} \\left(- I_{px} + I_{pz} - M_{p} l^{2}\\right) \\sin{\\left(x_{5} \\right)} \\cos{\\left(x_{5} \\right)}\\right) \\sin{\\left(x_{5} \\right)}}{- M_{p}^{2} l^{2} \\cos^{2}{\\left(x_{5} \\right)} + \\left(I_{py} + M_{p} l^{2}\\right) \\left(\\frac{2 I_{wc}}{r^{2}} + M_{p} + 2 M_{w}\\right)} + \\frac{\\left(I_{py} + M_{p} l^{2}\\right) \\left(M_{p} l x_{2}^{2} \\cos{\\left(x_{5} \\right)} + M_{p} l x_{3}^{2} \\cos{\\left(x_{5} \\right)}\\right)}{- M_{p}^{2} l^{2} \\cos^{2}{\\left(x_{5} \\right)} + \\left(I_{py} + M_{p} l^{2}\\right) \\left(\\frac{2 I_{wc}}{r^{2}} + M_{p} + 2 M_{w}\\right)} & 0\\\\\\frac{2 M_{p} c_{\\alpha} l \\cos{\\left(x_{5} \\right)}}{r^{2} \\left(- M_{p}^{2} l^{2} \\cos^{2}{\\left(x_{5} \\right)} + \\left(I_{py} + M_{p} l^{2}\\right) \\left(\\frac{2 I_{wc}}{r^{2}} + M_{p} + 2 M_{w}\\right)\\right)} + \\frac{2 c_{\\alpha} \\left(\\frac{2 I_{wc}}{r^{2}} + M_{p} + 2 M_{w}\\right)}{r \\left(- M_{p}^{2} l^{2} \\cos^{2}{\\left(x_{5} \\right)} + \\left(I_{py} + M_{p} l^{2}\\right) \\left(\\frac{2 I_{wc}}{r^{2}} + M_{p} + 2 M_{w}\\right)\\right)} & - \\frac{M_{p} l \\left(2 M_{p} l x_{2} \\sin{\\left(x_{5} \\right)} + \\frac{2 c_{\\alpha}}{r}\\right) \\cos{\\left(x_{5} \\right)}}{- M_{p}^{2} l^{2} \\cos^{2}{\\left(x_{5} \\right)} + \\left(I_{py} + M_{p} l^{2}\\right) \\left(\\frac{2 I_{wc}}{r^{2}} + M_{p} + 2 M_{w}\\right)} - \\frac{2 c_{\\alpha} \\left(\\frac{2 I_{wc}}{r^{2}} + M_{p} + 2 M_{w}\\right)}{- M_{p}^{2} l^{2} \\cos^{2}{\\left(x_{5} \\right)} + \\left(I_{py} + M_{p} l^{2}\\right) \\left(\\frac{2 I_{wc}}{r^{2}} + M_{p} + 2 M_{w}\\right)} & - \\frac{2 M_{p}^{2} l^{2} x_{3} \\sin{\\left(x_{5} \\right)} \\cos{\\left(x_{5} \\right)}}{- M_{p}^{2} l^{2} \\cos^{2}{\\left(x_{5} \\right)} + \\left(I_{py} + M_{p} l^{2}\\right) \\left(\\frac{2 I_{wc}}{r^{2}} + M_{p} + 2 M_{w}\\right)} - \\frac{2 x_{3} \\left(- I_{px} + I_{pz} - M_{p} l^{2}\\right) \\left(\\frac{2 I_{wc}}{r^{2}} + M_{p} + 2 M_{w}\\right) \\sin{\\left(x_{5} \\right)} \\cos{\\left(x_{5} \\right)}}{- M_{p}^{2} l^{2} \\cos^{2}{\\left(x_{5} \\right)} + \\left(I_{py} + M_{p} l^{2}\\right) \\left(\\frac{2 I_{wc}}{r^{2}} + M_{p} + 2 M_{w}\\right)} & 0 & \\frac{2 M_{p}^{3} l^{3} \\left(M_{p} l x_{3}^{2} \\sin{\\left(x_{5} \\right)} + \\frac{T_{L}}{r} + \\frac{T_{R}}{r} - \\frac{2 c_{\\alpha} x_{1}}{r^{2}} - x_{2} \\left(- M_{p} l x_{2} \\sin{\\left(x_{5} \\right)} - \\frac{2 c_{\\alpha}}{r}\\right)\\right) \\sin{\\left(x_{5} \\right)} \\cos^{2}{\\left(x_{5} \\right)}}{\\left(- M_{p}^{2} l^{2} \\cos^{2}{\\left(x_{5} \\right)} + \\left(I_{py} + M_{p} l^{2}\\right) \\left(\\frac{2 I_{wc}}{r^{2}} + M_{p} + 2 M_{w}\\right)\\right)^{2}} - \\frac{2 M_{p}^{2} l^{2} \\left(\\frac{2 I_{wc}}{r^{2}} + M_{p} + 2 M_{w}\\right) \\left(M_{p} g l \\sin{\\left(x_{5} \\right)} - T_{L} - T_{R} - 2 c_{\\alpha} x_{2} + \\frac{2 c_{\\alpha} x_{1}}{r} - x_{3}^{2} \\left(- I_{px} + I_{pz} - M_{p} l^{2}\\right) \\sin{\\left(x_{5} \\right)} \\cos{\\left(x_{5} \\right)}\\right) \\sin{\\left(x_{5} \\right)} \\cos{\\left(x_{5} \\right)}}{\\left(- M_{p}^{2} l^{2} \\cos^{2}{\\left(x_{5} \\right)} + \\left(I_{py} + M_{p} l^{2}\\right) \\left(\\frac{2 I_{wc}}{r^{2}} + M_{p} + 2 M_{w}\\right)\\right)^{2}} - \\frac{M_{p} l \\left(M_{p} l x_{2}^{2} \\cos{\\left(x_{5} \\right)} + M_{p} l x_{3}^{2} \\cos{\\left(x_{5} \\right)}\\right) \\cos{\\left(x_{5} \\right)}}{- M_{p}^{2} l^{2} \\cos^{2}{\\left(x_{5} \\right)} + \\left(I_{py} + M_{p} l^{2}\\right) \\left(\\frac{2 I_{wc}}{r^{2}} + M_{p} + 2 M_{w}\\right)} + \\frac{M_{p} l \\left(M_{p} l x_{3}^{2} \\sin{\\left(x_{5} \\right)} + \\frac{T_{L}}{r} + \\frac{T_{R}}{r} - \\frac{2 c_{\\alpha} x_{1}}{r^{2}} - x_{2} \\left(- M_{p} l x_{2} \\sin{\\left(x_{5} \\right)} - \\frac{2 c_{\\alpha}}{r}\\right)\\right) \\sin{\\left(x_{5} \\right)}}{- M_{p}^{2} l^{2} \\cos^{2}{\\left(x_{5} \\right)} + \\left(I_{py} + M_{p} l^{2}\\right) \\left(\\frac{2 I_{wc}}{r^{2}} + M_{p} + 2 M_{w}\\right)} + \\frac{\\left(\\frac{2 I_{wc}}{r^{2}} + M_{p} + 2 M_{w}\\right) \\left(M_{p} g l \\cos{\\left(x_{5} \\right)} + x_{3}^{2} \\left(- I_{px} + I_{pz} - M_{p} l^{2}\\right) \\sin^{2}{\\left(x_{5} \\right)} - x_{3}^{2} \\left(- I_{px} + I_{pz} - M_{p} l^{2}\\right) \\cos^{2}{\\left(x_{5} \\right)}\\right)}{- M_{p}^{2} l^{2} \\cos^{2}{\\left(x_{5} \\right)} + \\left(I_{py} + M_{p} l^{2}\\right) \\left(\\frac{2 I_{wc}}{r^{2}} + M_{p} + 2 M_{w}\\right)} & 0\\\\- \\frac{M_{p} l x_{3} \\sin{\\left(x_{5} \\right)}}{I_{pz} + 2 I_{wr} + \\frac{d^{2} \\left(\\frac{I_{wc}}{r^{2}} + M_{w}\\right)}{2} - \\left(- I_{px} + I_{pz} - M_{p} l^{2}\\right) \\sin^{2}{\\left(x_{5} \\right)}} & - \\frac{2 x_{3} \\left(I_{px} - I_{pz} + M_{p} l^{2}\\right) \\sin{\\left(x_{5} \\right)} \\cos{\\left(x_{5} \\right)}}{I_{pz} + 2 I_{wr} + \\frac{d^{2} \\left(\\frac{I_{wc}}{r^{2}} + M_{w}\\right)}{2} - \\left(- I_{px} + I_{pz} - M_{p} l^{2}\\right) \\sin^{2}{\\left(x_{5} \\right)}} & \\frac{- M_{p} l x_{1} \\sin{\\left(x_{5} \\right)} - \\frac{c_{\\alpha} d^{2}}{2 r^{2}} - 2 x_{2} \\left(I_{px} - I_{pz} + M_{p} l^{2}\\right) \\sin{\\left(x_{5} \\right)} \\cos{\\left(x_{5} \\right)}}{I_{pz} + 2 I_{wr} + \\frac{d^{2} \\left(\\frac{I_{wc}}{r^{2}} + M_{w}\\right)}{2} - \\left(- I_{px} + I_{pz} - M_{p} l^{2}\\right) \\sin^{2}{\\left(x_{5} \\right)}} & 0 & \\frac{2 \\left(- I_{px} + I_{pz} - M_{p} l^{2}\\right) \\left(- M_{p} l x_{1} x_{3} \\sin{\\left(x_{5} \\right)} - \\frac{T_{L} d}{2 r} + \\frac{T_{R} d}{2 r} - x_{2} x_{3} \\left(I_{px} - I_{pz} + M_{p} l^{2}\\right) \\sin{\\left(x_{5} \\right)} \\cos{\\left(x_{5} \\right)} - x_{3} \\left(\\frac{c_{\\alpha} d^{2}}{2 r^{2}} + x_{2} \\left(I_{px} - I_{pz} + M_{p} l^{2}\\right) \\sin{\\left(x_{5} \\right)} \\cos{\\left(x_{5} \\right)}\\right)\\right) \\sin{\\left(x_{5} \\right)} \\cos{\\left(x_{5} \\right)}}{\\left(I_{pz} + 2 I_{wr} + \\frac{d^{2} \\left(\\frac{I_{wc}}{r^{2}} + M_{w}\\right)}{2} - \\left(- I_{px} + I_{pz} - M_{p} l^{2}\\right) \\sin^{2}{\\left(x_{5} \\right)}\\right)^{2}} + \\frac{- M_{p} l x_{1} x_{3} \\cos{\\left(x_{5} \\right)} + x_{2} x_{3} \\left(I_{px} - I_{pz} + M_{p} l^{2}\\right) \\sin^{2}{\\left(x_{5} \\right)} - x_{2} x_{3} \\left(I_{px} - I_{pz} + M_{p} l^{2}\\right) \\cos^{2}{\\left(x_{5} \\right)} - x_{3} \\left(- x_{2} \\left(I_{px} - I_{pz} + M_{p} l^{2}\\right) \\sin^{2}{\\left(x_{5} \\right)} + x_{2} \\left(I_{px} - I_{pz} + M_{p} l^{2}\\right) \\cos^{2}{\\left(x_{5} \\right)}\\right)}{I_{pz} + 2 I_{wr} + \\frac{d^{2} \\left(\\frac{I_{wc}}{r^{2}} + M_{w}\\right)}{2} - \\left(- I_{px} + I_{pz} - M_{p} l^{2}\\right) \\sin^{2}{\\left(x_{5} \\right)}} & 0\\\\1 & 0 & 0 & 0 & 0 & 0\\\\0 & 1 & 0 & 0 & 0 & 0\\\\0 & 0 & 1 & 0 & 0 & 0\\end{matrix}\\right]$"
      ]
     },
     "metadata": {},
     "execution_count": 318
    }
   ],
   "metadata": {}
  },
  {
   "cell_type": "code",
   "execution_count": 319,
   "source": [
    "\n",
    "#* Calcualte the jacobian for the B matrix of the continuos time system\n",
    "Bc = Matrix(np.zeros((6,2)))\n",
    "\n",
    "for i,expr in enumerate(system_equations):\n",
    "    for j,torque in enumerate(u):\n",
    "        Bc[i,j] = diff(expr,torque)\n",
    "# Bc"
   ],
   "outputs": [
    {
     "output_type": "execute_result",
     "data": {
      "text/plain": [
       "Matrix([\n",
       "[           M_p*l*cos(x5)/(-M_p**2*l**2*cos(x5)**2 + (I_py + M_p*l**2)*(2*I_wc/r**2 + M_p + 2*M_w)) + (I_py + M_p*l**2)/(r*(-M_p**2*l**2*cos(x5)**2 + (I_py + M_p*l**2)*(2*I_wc/r**2 + M_p + 2*M_w))),            M_p*l*cos(x5)/(-M_p**2*l**2*cos(x5)**2 + (I_py + M_p*l**2)*(2*I_wc/r**2 + M_p + 2*M_w)) + (I_py + M_p*l**2)/(r*(-M_p**2*l**2*cos(x5)**2 + (I_py + M_p*l**2)*(2*I_wc/r**2 + M_p + 2*M_w)))],\n",
       "[-M_p*l*cos(x5)/(r*(-M_p**2*l**2*cos(x5)**2 + (I_py + M_p*l**2)*(2*I_wc/r**2 + M_p + 2*M_w))) - (2*I_wc/r**2 + M_p + 2*M_w)/(-M_p**2*l**2*cos(x5)**2 + (I_py + M_p*l**2)*(2*I_wc/r**2 + M_p + 2*M_w)), -M_p*l*cos(x5)/(r*(-M_p**2*l**2*cos(x5)**2 + (I_py + M_p*l**2)*(2*I_wc/r**2 + M_p + 2*M_w))) - (2*I_wc/r**2 + M_p + 2*M_w)/(-M_p**2*l**2*cos(x5)**2 + (I_py + M_p*l**2)*(2*I_wc/r**2 + M_p + 2*M_w))],\n",
       "[                                                                                                          -d/(2*r*(I_pz + 2*I_wr + d**2*(I_wc/r**2 + M_w)/2 - (-I_px + I_pz - M_p*l**2)*sin(x5)**2)),                                                                                                            d/(2*r*(I_pz + 2*I_wr + d**2*(I_wc/r**2 + M_w)/2 - (-I_px + I_pz - M_p*l**2)*sin(x5)**2))],\n",
       "[                                                                                                                                                                                                   0,                                                                                                                                                                                                    0],\n",
       "[                                                                                                                                                                                                   0,                                                                                                                                                                                                    0],\n",
       "[                                                                                                                                                                                                   0,                                                                                                                                                                                                    0]])"
      ],
      "text/latex": [
       "$\\displaystyle \\left[\\begin{matrix}\\frac{M_{p} l \\cos{\\left(x_{5} \\right)}}{- M_{p}^{2} l^{2} \\cos^{2}{\\left(x_{5} \\right)} + \\left(I_{py} + M_{p} l^{2}\\right) \\left(\\frac{2 I_{wc}}{r^{2}} + M_{p} + 2 M_{w}\\right)} + \\frac{I_{py} + M_{p} l^{2}}{r \\left(- M_{p}^{2} l^{2} \\cos^{2}{\\left(x_{5} \\right)} + \\left(I_{py} + M_{p} l^{2}\\right) \\left(\\frac{2 I_{wc}}{r^{2}} + M_{p} + 2 M_{w}\\right)\\right)} & \\frac{M_{p} l \\cos{\\left(x_{5} \\right)}}{- M_{p}^{2} l^{2} \\cos^{2}{\\left(x_{5} \\right)} + \\left(I_{py} + M_{p} l^{2}\\right) \\left(\\frac{2 I_{wc}}{r^{2}} + M_{p} + 2 M_{w}\\right)} + \\frac{I_{py} + M_{p} l^{2}}{r \\left(- M_{p}^{2} l^{2} \\cos^{2}{\\left(x_{5} \\right)} + \\left(I_{py} + M_{p} l^{2}\\right) \\left(\\frac{2 I_{wc}}{r^{2}} + M_{p} + 2 M_{w}\\right)\\right)}\\\\- \\frac{M_{p} l \\cos{\\left(x_{5} \\right)}}{r \\left(- M_{p}^{2} l^{2} \\cos^{2}{\\left(x_{5} \\right)} + \\left(I_{py} + M_{p} l^{2}\\right) \\left(\\frac{2 I_{wc}}{r^{2}} + M_{p} + 2 M_{w}\\right)\\right)} - \\frac{\\frac{2 I_{wc}}{r^{2}} + M_{p} + 2 M_{w}}{- M_{p}^{2} l^{2} \\cos^{2}{\\left(x_{5} \\right)} + \\left(I_{py} + M_{p} l^{2}\\right) \\left(\\frac{2 I_{wc}}{r^{2}} + M_{p} + 2 M_{w}\\right)} & - \\frac{M_{p} l \\cos{\\left(x_{5} \\right)}}{r \\left(- M_{p}^{2} l^{2} \\cos^{2}{\\left(x_{5} \\right)} + \\left(I_{py} + M_{p} l^{2}\\right) \\left(\\frac{2 I_{wc}}{r^{2}} + M_{p} + 2 M_{w}\\right)\\right)} - \\frac{\\frac{2 I_{wc}}{r^{2}} + M_{p} + 2 M_{w}}{- M_{p}^{2} l^{2} \\cos^{2}{\\left(x_{5} \\right)} + \\left(I_{py} + M_{p} l^{2}\\right) \\left(\\frac{2 I_{wc}}{r^{2}} + M_{p} + 2 M_{w}\\right)}\\\\- \\frac{d}{2 r \\left(I_{pz} + 2 I_{wr} + \\frac{d^{2} \\left(\\frac{I_{wc}}{r^{2}} + M_{w}\\right)}{2} - \\left(- I_{px} + I_{pz} - M_{p} l^{2}\\right) \\sin^{2}{\\left(x_{5} \\right)}\\right)} & \\frac{d}{2 r \\left(I_{pz} + 2 I_{wr} + \\frac{d^{2} \\left(\\frac{I_{wc}}{r^{2}} + M_{w}\\right)}{2} - \\left(- I_{px} + I_{pz} - M_{p} l^{2}\\right) \\sin^{2}{\\left(x_{5} \\right)}\\right)}\\\\0 & 0\\\\0 & 0\\\\0 & 0\\end{matrix}\\right]$"
      ]
     },
     "metadata": {},
     "execution_count": 319
    }
   ],
   "metadata": {}
  },
  {
   "cell_type": "code",
   "execution_count": 322,
   "source": [
    "\n",
    "#* Evaluate Ac at the fixed points\n",
    "\n",
    "fixed_point = [0,0,0,0,0,0] # Values for dx/dt\n",
    "input_fixed_points = [0,0]\n",
    "\n",
    "Ac_eval = Ac.subs([(state_vec[0], fixed_point[0]),\n",
    "                   (state_vec[1], fixed_point[1]),\n",
    "                   (state_vec[2], fixed_point[2]),\n",
    "                   (state_vec[3], fixed_point[3]),\n",
    "                   (state_vec[4], fixed_point[4]),\n",
    "                   (state_vec[5], fixed_point[5]),\n",
    "                   (Tl,input_fixed_points[0]),\n",
    "                   (Tr,input_fixed_points[1])])\n",
    "\n",
    "# Ac_eval\n"
   ],
   "outputs": [],
   "metadata": {}
  },
  {
   "cell_type": "code",
   "execution_count": 324,
   "source": [
    "\n",
    "#* Evaluate Bc at the fixed points\n",
    "\n",
    "Bc_eval = Bc.subs([(state_vec[0], fixed_point[0]),\n",
    "                   (state_vec[1], fixed_point[1]),\n",
    "                   (state_vec[2], fixed_point[2]),\n",
    "                   (state_vec[3], fixed_point[3]),\n",
    "                   (state_vec[4], fixed_point[4]),\n",
    "                   (state_vec[5], fixed_point[5]),\n",
    "                   (Tl,input_fixed_points[0]),\n",
    "                   (Tr,input_fixed_points[1])])\n",
    "\n",
    "# Bc_eval"
   ],
   "outputs": [],
   "metadata": {}
  },
  {
   "cell_type": "code",
   "execution_count": 331,
   "source": [
    "\n",
    "\n",
    "# Define the values of each Model Parameter\n",
    "\n",
    "d_v    = (d,    0.1431)\n",
    "visc_v = (visc, 0.01)\n",
    "r_v    = (r,    0.05)\n",
    "Mp_v   = (Mp,   2.036)\n",
    "Mw_v   = (Mw,   0.268)\n",
    "Iw_c_v = (Iw_c, 0.00033613)\n",
    "Iw_r_v = (Iw_r, 0.00018876)\n",
    "g_v = (g, 9.81)\n",
    "\n",
    "#-- Pose A ---\n",
    "l_v    = (l,   0.1806)\n",
    "Ip_x_v = (Ip_x, 0.02500992)\n",
    "Ip_y_v = (Ip_y, 0.02255237)\n",
    "Ip_z_v = (Ip_z, 0.00546422)\n"
   ],
   "outputs": [],
   "metadata": {}
  },
  {
   "cell_type": "code",
   "execution_count": 338,
   "source": [
    "\n",
    "#* Plug in the Model parameters values \n",
    "\n",
    "Ac_lin = Ac_eval.subs([d_v,visc_v,l_v,r_v,Mp_v,Mw_v,Iw_c_v,Iw_r_v,Ip_x_v,Ip_y_v,Ip_z_v,g_v])\n",
    "Bc_lin = Bc_eval.subs([d_v,visc_v,l_v,r_v,Mp_v,Mw_v,Iw_c_v,Iw_r_v,Ip_x_v,Ip_y_v,Ip_z_v,g_v])"
   ],
   "outputs": [],
   "metadata": {}
  },
  {
   "cell_type": "markdown",
   "source": [
    "## Discretization of the system (TODO)\n",
    "---"
   ],
   "metadata": {}
  },
  {
   "cell_type": "code",
   "execution_count": 341,
   "source": [
    "Ts = 0.01 # 100 hz\n"
   ],
   "outputs": [],
   "metadata": {}
  },
  {
   "cell_type": "markdown",
   "source": [
    "## Control analisis\n",
    "---"
   ],
   "metadata": {}
  },
  {
   "cell_type": "code",
   "execution_count": 347,
   "source": [
    "import control\n",
    "import matplotlib.pyplot as plt\n",
    "\n",
    "ctrb_m = control.ctrb(Ac_lin,Bc_lin)\n",
    "np.linalg.matrix_rank(ctrb_m)"
   ],
   "outputs": [
    {
     "output_type": "execute_result",
     "data": {
      "text/plain": [
       "6"
      ]
     },
     "metadata": {},
     "execution_count": 347
    }
   ],
   "metadata": {}
  },
  {
   "cell_type": "code",
   "execution_count": 353,
   "source": [
    "C_ss = np.array([1, 1, 1, 1, 1, 1])\n",
    "D_ss = np.array([0,0])\n",
    "\n",
    "ss_system = control.ss(Ac_lin,Bc_lin)\n",
    "\n",
    "# t, y = control.step_response(ss_system)\n",
    "\n",
    "# plt.plot(t,y[0,0,:])\n"
   ],
   "outputs": [
    {
     "output_type": "execute_result",
     "data": {
      "text/plain": [
       "[<matplotlib.lines.Line2D at 0x7f5c2c466f40>]"
      ]
     },
     "metadata": {},
     "execution_count": 353
    },
    {
     "output_type": "display_data",
     "data": {
      "text/plain": [
       "<Figure size 432x288 with 1 Axes>"
      ],
      "image/svg+xml": "<?xml version=\"1.0\" encoding=\"utf-8\" standalone=\"no\"?>\n<!DOCTYPE svg PUBLIC \"-//W3C//DTD SVG 1.1//EN\"\n  \"http://www.w3.org/Graphics/SVG/1.1/DTD/svg11.dtd\">\n<!-- Created with matplotlib (https://matplotlib.org/) -->\n<svg height=\"259.116562pt\" version=\"1.1\" viewBox=\"0 0 370.942187 259.116562\" width=\"370.942187pt\" xmlns=\"http://www.w3.org/2000/svg\" xmlns:xlink=\"http://www.w3.org/1999/xlink\">\n <metadata>\n  <rdf:RDF xmlns:cc=\"http://creativecommons.org/ns#\" xmlns:dc=\"http://purl.org/dc/elements/1.1/\" xmlns:rdf=\"http://www.w3.org/1999/02/22-rdf-syntax-ns#\">\n   <cc:Work>\n    <dc:type rdf:resource=\"http://purl.org/dc/dcmitype/StillImage\"/>\n    <dc:date>2021-08-31T15:45:17.651017</dc:date>\n    <dc:format>image/svg+xml</dc:format>\n    <dc:creator>\n     <cc:Agent>\n      <dc:title>Matplotlib v3.3.1, https://matplotlib.org/</dc:title>\n     </cc:Agent>\n    </dc:creator>\n   </cc:Work>\n  </rdf:RDF>\n </metadata>\n <defs>\n  <style type=\"text/css\">*{stroke-linecap:butt;stroke-linejoin:round;}</style>\n </defs>\n <g id=\"figure_1\">\n  <g id=\"patch_1\">\n   <path d=\"M 0 259.116562 \nL 370.942187 259.116562 \nL 370.942187 0 \nL 0 0 \nz\n\" style=\"fill:none;\"/>\n  </g>\n  <g id=\"axes_1\">\n   <g id=\"patch_2\">\n    <path d=\"M 28.942188 235.238437 \nL 363.742188 235.238437 \nL 363.742188 17.798437 \nL 28.942188 17.798437 \nz\n\" style=\"fill:#ffffff;\"/>\n   </g>\n   <g id=\"matplotlib.axis_1\">\n    <g id=\"xtick_1\">\n     <g id=\"line2d_1\">\n      <defs>\n       <path d=\"M 0 0 \nL 0 3.5 \n\" id=\"mdc75d4fefb\" style=\"stroke:#000000;stroke-width:0.8;\"/>\n      </defs>\n      <g>\n       <use style=\"stroke:#000000;stroke-width:0.8;\" x=\"44.160369\" xlink:href=\"#mdc75d4fefb\" y=\"235.238437\"/>\n      </g>\n     </g>\n     <g id=\"text_1\">\n      <!-- 0 -->\n      <g transform=\"translate(40.979119 249.836875)scale(0.1 -0.1)\">\n       <defs>\n        <path d=\"M 31.78125 66.40625 \nQ 24.171875 66.40625 20.328125 58.90625 \nQ 16.5 51.421875 16.5 36.375 \nQ 16.5 21.390625 20.328125 13.890625 \nQ 24.171875 6.390625 31.78125 6.390625 \nQ 39.453125 6.390625 43.28125 13.890625 \nQ 47.125 21.390625 47.125 36.375 \nQ 47.125 51.421875 43.28125 58.90625 \nQ 39.453125 66.40625 31.78125 66.40625 \nz\nM 31.78125 74.21875 \nQ 44.046875 74.21875 50.515625 64.515625 \nQ 56.984375 54.828125 56.984375 36.375 \nQ 56.984375 17.96875 50.515625 8.265625 \nQ 44.046875 -1.421875 31.78125 -1.421875 \nQ 19.53125 -1.421875 13.0625 8.265625 \nQ 6.59375 17.96875 6.59375 36.375 \nQ 6.59375 54.828125 13.0625 64.515625 \nQ 19.53125 74.21875 31.78125 74.21875 \nz\n\" id=\"DejaVuSans-48\"/>\n       </defs>\n       <use xlink:href=\"#DejaVuSans-48\"/>\n      </g>\n     </g>\n    </g>\n    <g id=\"xtick_2\">\n     <g id=\"line2d_2\">\n      <g>\n       <use style=\"stroke:#000000;stroke-width:0.8;\" x=\"86.150312\" xlink:href=\"#mdc75d4fefb\" y=\"235.238437\"/>\n      </g>\n     </g>\n     <g id=\"text_2\">\n      <!-- 2 -->\n      <g transform=\"translate(82.969062 249.836875)scale(0.1 -0.1)\">\n       <defs>\n        <path d=\"M 19.1875 8.296875 \nL 53.609375 8.296875 \nL 53.609375 0 \nL 7.328125 0 \nL 7.328125 8.296875 \nQ 12.9375 14.109375 22.625 23.890625 \nQ 32.328125 33.6875 34.8125 36.53125 \nQ 39.546875 41.84375 41.421875 45.53125 \nQ 43.3125 49.21875 43.3125 52.78125 \nQ 43.3125 58.59375 39.234375 62.25 \nQ 35.15625 65.921875 28.609375 65.921875 \nQ 23.96875 65.921875 18.8125 64.3125 \nQ 13.671875 62.703125 7.8125 59.421875 \nL 7.8125 69.390625 \nQ 13.765625 71.78125 18.9375 73 \nQ 24.125 74.21875 28.421875 74.21875 \nQ 39.75 74.21875 46.484375 68.546875 \nQ 53.21875 62.890625 53.21875 53.421875 \nQ 53.21875 48.921875 51.53125 44.890625 \nQ 49.859375 40.875 45.40625 35.40625 \nQ 44.1875 33.984375 37.640625 27.21875 \nQ 31.109375 20.453125 19.1875 8.296875 \nz\n\" id=\"DejaVuSans-50\"/>\n       </defs>\n       <use xlink:href=\"#DejaVuSans-50\"/>\n      </g>\n     </g>\n    </g>\n    <g id=\"xtick_3\">\n     <g id=\"line2d_3\">\n      <g>\n       <use style=\"stroke:#000000;stroke-width:0.8;\" x=\"128.140255\" xlink:href=\"#mdc75d4fefb\" y=\"235.238437\"/>\n      </g>\n     </g>\n     <g id=\"text_3\">\n      <!-- 4 -->\n      <g transform=\"translate(124.959005 249.836875)scale(0.1 -0.1)\">\n       <defs>\n        <path d=\"M 37.796875 64.3125 \nL 12.890625 25.390625 \nL 37.796875 25.390625 \nz\nM 35.203125 72.90625 \nL 47.609375 72.90625 \nL 47.609375 25.390625 \nL 58.015625 25.390625 \nL 58.015625 17.1875 \nL 47.609375 17.1875 \nL 47.609375 0 \nL 37.796875 0 \nL 37.796875 17.1875 \nL 4.890625 17.1875 \nL 4.890625 26.703125 \nz\n\" id=\"DejaVuSans-52\"/>\n       </defs>\n       <use xlink:href=\"#DejaVuSans-52\"/>\n      </g>\n     </g>\n    </g>\n    <g id=\"xtick_4\">\n     <g id=\"line2d_4\">\n      <g>\n       <use style=\"stroke:#000000;stroke-width:0.8;\" x=\"170.130198\" xlink:href=\"#mdc75d4fefb\" y=\"235.238437\"/>\n      </g>\n     </g>\n     <g id=\"text_4\">\n      <!-- 6 -->\n      <g transform=\"translate(166.948948 249.836875)scale(0.1 -0.1)\">\n       <defs>\n        <path d=\"M 33.015625 40.375 \nQ 26.375 40.375 22.484375 35.828125 \nQ 18.609375 31.296875 18.609375 23.390625 \nQ 18.609375 15.53125 22.484375 10.953125 \nQ 26.375 6.390625 33.015625 6.390625 \nQ 39.65625 6.390625 43.53125 10.953125 \nQ 47.40625 15.53125 47.40625 23.390625 \nQ 47.40625 31.296875 43.53125 35.828125 \nQ 39.65625 40.375 33.015625 40.375 \nz\nM 52.59375 71.296875 \nL 52.59375 62.3125 \nQ 48.875 64.0625 45.09375 64.984375 \nQ 41.3125 65.921875 37.59375 65.921875 \nQ 27.828125 65.921875 22.671875 59.328125 \nQ 17.53125 52.734375 16.796875 39.40625 \nQ 19.671875 43.65625 24.015625 45.921875 \nQ 28.375 48.1875 33.59375 48.1875 \nQ 44.578125 48.1875 50.953125 41.515625 \nQ 57.328125 34.859375 57.328125 23.390625 \nQ 57.328125 12.15625 50.6875 5.359375 \nQ 44.046875 -1.421875 33.015625 -1.421875 \nQ 20.359375 -1.421875 13.671875 8.265625 \nQ 6.984375 17.96875 6.984375 36.375 \nQ 6.984375 53.65625 15.1875 63.9375 \nQ 23.390625 74.21875 37.203125 74.21875 \nQ 40.921875 74.21875 44.703125 73.484375 \nQ 48.484375 72.75 52.59375 71.296875 \nz\n\" id=\"DejaVuSans-54\"/>\n       </defs>\n       <use xlink:href=\"#DejaVuSans-54\"/>\n      </g>\n     </g>\n    </g>\n    <g id=\"xtick_5\">\n     <g id=\"line2d_5\">\n      <g>\n       <use style=\"stroke:#000000;stroke-width:0.8;\" x=\"212.120141\" xlink:href=\"#mdc75d4fefb\" y=\"235.238437\"/>\n      </g>\n     </g>\n     <g id=\"text_5\">\n      <!-- 8 -->\n      <g transform=\"translate(208.938891 249.836875)scale(0.1 -0.1)\">\n       <defs>\n        <path d=\"M 31.78125 34.625 \nQ 24.75 34.625 20.71875 30.859375 \nQ 16.703125 27.09375 16.703125 20.515625 \nQ 16.703125 13.921875 20.71875 10.15625 \nQ 24.75 6.390625 31.78125 6.390625 \nQ 38.8125 6.390625 42.859375 10.171875 \nQ 46.921875 13.96875 46.921875 20.515625 \nQ 46.921875 27.09375 42.890625 30.859375 \nQ 38.875 34.625 31.78125 34.625 \nz\nM 21.921875 38.8125 \nQ 15.578125 40.375 12.03125 44.71875 \nQ 8.5 49.078125 8.5 55.328125 \nQ 8.5 64.0625 14.71875 69.140625 \nQ 20.953125 74.21875 31.78125 74.21875 \nQ 42.671875 74.21875 48.875 69.140625 \nQ 55.078125 64.0625 55.078125 55.328125 \nQ 55.078125 49.078125 51.53125 44.71875 \nQ 48 40.375 41.703125 38.8125 \nQ 48.828125 37.15625 52.796875 32.3125 \nQ 56.78125 27.484375 56.78125 20.515625 \nQ 56.78125 9.90625 50.3125 4.234375 \nQ 43.84375 -1.421875 31.78125 -1.421875 \nQ 19.734375 -1.421875 13.25 4.234375 \nQ 6.78125 9.90625 6.78125 20.515625 \nQ 6.78125 27.484375 10.78125 32.3125 \nQ 14.796875 37.15625 21.921875 38.8125 \nz\nM 18.3125 54.390625 \nQ 18.3125 48.734375 21.84375 45.5625 \nQ 25.390625 42.390625 31.78125 42.390625 \nQ 38.140625 42.390625 41.71875 45.5625 \nQ 45.3125 48.734375 45.3125 54.390625 \nQ 45.3125 60.0625 41.71875 63.234375 \nQ 38.140625 66.40625 31.78125 66.40625 \nQ 25.390625 66.40625 21.84375 63.234375 \nQ 18.3125 60.0625 18.3125 54.390625 \nz\n\" id=\"DejaVuSans-56\"/>\n       </defs>\n       <use xlink:href=\"#DejaVuSans-56\"/>\n      </g>\n     </g>\n    </g>\n    <g id=\"xtick_6\">\n     <g id=\"line2d_6\">\n      <g>\n       <use style=\"stroke:#000000;stroke-width:0.8;\" x=\"254.110084\" xlink:href=\"#mdc75d4fefb\" y=\"235.238437\"/>\n      </g>\n     </g>\n     <g id=\"text_6\">\n      <!-- 10 -->\n      <g transform=\"translate(247.747584 249.836875)scale(0.1 -0.1)\">\n       <defs>\n        <path d=\"M 12.40625 8.296875 \nL 28.515625 8.296875 \nL 28.515625 63.921875 \nL 10.984375 60.40625 \nL 10.984375 69.390625 \nL 28.421875 72.90625 \nL 38.28125 72.90625 \nL 38.28125 8.296875 \nL 54.390625 8.296875 \nL 54.390625 0 \nL 12.40625 0 \nz\n\" id=\"DejaVuSans-49\"/>\n       </defs>\n       <use xlink:href=\"#DejaVuSans-49\"/>\n       <use x=\"63.623047\" xlink:href=\"#DejaVuSans-48\"/>\n      </g>\n     </g>\n    </g>\n    <g id=\"xtick_7\">\n     <g id=\"line2d_7\">\n      <g>\n       <use style=\"stroke:#000000;stroke-width:0.8;\" x=\"296.100027\" xlink:href=\"#mdc75d4fefb\" y=\"235.238437\"/>\n      </g>\n     </g>\n     <g id=\"text_7\">\n      <!-- 12 -->\n      <g transform=\"translate(289.737527 249.836875)scale(0.1 -0.1)\">\n       <use xlink:href=\"#DejaVuSans-49\"/>\n       <use x=\"63.623047\" xlink:href=\"#DejaVuSans-50\"/>\n      </g>\n     </g>\n    </g>\n    <g id=\"xtick_8\">\n     <g id=\"line2d_8\">\n      <g>\n       <use style=\"stroke:#000000;stroke-width:0.8;\" x=\"338.08997\" xlink:href=\"#mdc75d4fefb\" y=\"235.238437\"/>\n      </g>\n     </g>\n     <g id=\"text_8\">\n      <!-- 14 -->\n      <g transform=\"translate(331.72747 249.836875)scale(0.1 -0.1)\">\n       <use xlink:href=\"#DejaVuSans-49\"/>\n       <use x=\"63.623047\" xlink:href=\"#DejaVuSans-52\"/>\n      </g>\n     </g>\n    </g>\n   </g>\n   <g id=\"matplotlib.axis_2\">\n    <g id=\"ytick_1\">\n     <g id=\"line2d_9\">\n      <defs>\n       <path d=\"M 0 0 \nL -3.5 0 \n\" id=\"mf1926ff284\" style=\"stroke:#000000;stroke-width:0.8;\"/>\n      </defs>\n      <g>\n       <use style=\"stroke:#000000;stroke-width:0.8;\" x=\"28.942188\" xlink:href=\"#mf1926ff284\" y=\"211.965365\"/>\n      </g>\n     </g>\n     <g id=\"text_9\">\n      <!-- −6 -->\n      <g transform=\"translate(7.2 215.764584)scale(0.1 -0.1)\">\n       <defs>\n        <path d=\"M 10.59375 35.5 \nL 73.1875 35.5 \nL 73.1875 27.203125 \nL 10.59375 27.203125 \nz\n\" id=\"DejaVuSans-8722\"/>\n       </defs>\n       <use xlink:href=\"#DejaVuSans-8722\"/>\n       <use x=\"83.789062\" xlink:href=\"#DejaVuSans-54\"/>\n      </g>\n     </g>\n    </g>\n    <g id=\"ytick_2\">\n     <g id=\"line2d_10\">\n      <g>\n       <use style=\"stroke:#000000;stroke-width:0.8;\" x=\"28.942188\" xlink:href=\"#mf1926ff284\" y=\"181.251483\"/>\n      </g>\n     </g>\n     <g id=\"text_10\">\n      <!-- −5 -->\n      <g transform=\"translate(7.2 185.050702)scale(0.1 -0.1)\">\n       <defs>\n        <path d=\"M 10.796875 72.90625 \nL 49.515625 72.90625 \nL 49.515625 64.59375 \nL 19.828125 64.59375 \nL 19.828125 46.734375 \nQ 21.96875 47.46875 24.109375 47.828125 \nQ 26.265625 48.1875 28.421875 48.1875 \nQ 40.625 48.1875 47.75 41.5 \nQ 54.890625 34.8125 54.890625 23.390625 \nQ 54.890625 11.625 47.5625 5.09375 \nQ 40.234375 -1.421875 26.90625 -1.421875 \nQ 22.3125 -1.421875 17.546875 -0.640625 \nQ 12.796875 0.140625 7.71875 1.703125 \nL 7.71875 11.625 \nQ 12.109375 9.234375 16.796875 8.0625 \nQ 21.484375 6.890625 26.703125 6.890625 \nQ 35.15625 6.890625 40.078125 11.328125 \nQ 45.015625 15.765625 45.015625 23.390625 \nQ 45.015625 31 40.078125 35.4375 \nQ 35.15625 39.890625 26.703125 39.890625 \nQ 22.75 39.890625 18.8125 39.015625 \nQ 14.890625 38.140625 10.796875 36.28125 \nz\n\" id=\"DejaVuSans-53\"/>\n       </defs>\n       <use xlink:href=\"#DejaVuSans-8722\"/>\n       <use x=\"83.789062\" xlink:href=\"#DejaVuSans-53\"/>\n      </g>\n     </g>\n    </g>\n    <g id=\"ytick_3\">\n     <g id=\"line2d_11\">\n      <g>\n       <use style=\"stroke:#000000;stroke-width:0.8;\" x=\"28.942188\" xlink:href=\"#mf1926ff284\" y=\"150.537601\"/>\n      </g>\n     </g>\n     <g id=\"text_11\">\n      <!-- −4 -->\n      <g transform=\"translate(7.2 154.33682)scale(0.1 -0.1)\">\n       <use xlink:href=\"#DejaVuSans-8722\"/>\n       <use x=\"83.789062\" xlink:href=\"#DejaVuSans-52\"/>\n      </g>\n     </g>\n    </g>\n    <g id=\"ytick_4\">\n     <g id=\"line2d_12\">\n      <g>\n       <use style=\"stroke:#000000;stroke-width:0.8;\" x=\"28.942188\" xlink:href=\"#mf1926ff284\" y=\"119.823719\"/>\n      </g>\n     </g>\n     <g id=\"text_12\">\n      <!-- −3 -->\n      <g transform=\"translate(7.2 123.622938)scale(0.1 -0.1)\">\n       <defs>\n        <path d=\"M 40.578125 39.3125 \nQ 47.65625 37.796875 51.625 33 \nQ 55.609375 28.21875 55.609375 21.1875 \nQ 55.609375 10.40625 48.1875 4.484375 \nQ 40.765625 -1.421875 27.09375 -1.421875 \nQ 22.515625 -1.421875 17.65625 -0.515625 \nQ 12.796875 0.390625 7.625 2.203125 \nL 7.625 11.71875 \nQ 11.71875 9.328125 16.59375 8.109375 \nQ 21.484375 6.890625 26.8125 6.890625 \nQ 36.078125 6.890625 40.9375 10.546875 \nQ 45.796875 14.203125 45.796875 21.1875 \nQ 45.796875 27.640625 41.28125 31.265625 \nQ 36.765625 34.90625 28.71875 34.90625 \nL 20.21875 34.90625 \nL 20.21875 43.015625 \nL 29.109375 43.015625 \nQ 36.375 43.015625 40.234375 45.921875 \nQ 44.09375 48.828125 44.09375 54.296875 \nQ 44.09375 59.90625 40.109375 62.90625 \nQ 36.140625 65.921875 28.71875 65.921875 \nQ 24.65625 65.921875 20.015625 65.03125 \nQ 15.375 64.15625 9.8125 62.3125 \nL 9.8125 71.09375 \nQ 15.4375 72.65625 20.34375 73.4375 \nQ 25.25 74.21875 29.59375 74.21875 \nQ 40.828125 74.21875 47.359375 69.109375 \nQ 53.90625 64.015625 53.90625 55.328125 \nQ 53.90625 49.265625 50.4375 45.09375 \nQ 46.96875 40.921875 40.578125 39.3125 \nz\n\" id=\"DejaVuSans-51\"/>\n       </defs>\n       <use xlink:href=\"#DejaVuSans-8722\"/>\n       <use x=\"83.789062\" xlink:href=\"#DejaVuSans-51\"/>\n      </g>\n     </g>\n    </g>\n    <g id=\"ytick_5\">\n     <g id=\"line2d_13\">\n      <g>\n       <use style=\"stroke:#000000;stroke-width:0.8;\" x=\"28.942188\" xlink:href=\"#mf1926ff284\" y=\"89.109838\"/>\n      </g>\n     </g>\n     <g id=\"text_13\">\n      <!-- −2 -->\n      <g transform=\"translate(7.2 92.909056)scale(0.1 -0.1)\">\n       <use xlink:href=\"#DejaVuSans-8722\"/>\n       <use x=\"83.789062\" xlink:href=\"#DejaVuSans-50\"/>\n      </g>\n     </g>\n    </g>\n    <g id=\"ytick_6\">\n     <g id=\"line2d_14\">\n      <g>\n       <use style=\"stroke:#000000;stroke-width:0.8;\" x=\"28.942188\" xlink:href=\"#mf1926ff284\" y=\"58.395956\"/>\n      </g>\n     </g>\n     <g id=\"text_14\">\n      <!-- −1 -->\n      <g transform=\"translate(7.2 62.195174)scale(0.1 -0.1)\">\n       <use xlink:href=\"#DejaVuSans-8722\"/>\n       <use x=\"83.789062\" xlink:href=\"#DejaVuSans-49\"/>\n      </g>\n     </g>\n    </g>\n    <g id=\"ytick_7\">\n     <g id=\"line2d_15\">\n      <g>\n       <use style=\"stroke:#000000;stroke-width:0.8;\" x=\"28.942188\" xlink:href=\"#mf1926ff284\" y=\"27.682074\"/>\n      </g>\n     </g>\n     <g id=\"text_15\">\n      <!-- 0 -->\n      <g transform=\"translate(15.579688 31.481293)scale(0.1 -0.1)\">\n       <use xlink:href=\"#DejaVuSans-48\"/>\n      </g>\n     </g>\n    </g>\n    <g id=\"text_16\">\n     <!-- 1e46 -->\n     <g transform=\"translate(28.942188 14.798437)scale(0.1 -0.1)\">\n      <defs>\n       <path d=\"M 56.203125 29.59375 \nL 56.203125 25.203125 \nL 14.890625 25.203125 \nQ 15.484375 15.921875 20.484375 11.0625 \nQ 25.484375 6.203125 34.421875 6.203125 \nQ 39.59375 6.203125 44.453125 7.46875 \nQ 49.3125 8.734375 54.109375 11.28125 \nL 54.109375 2.78125 \nQ 49.265625 0.734375 44.1875 -0.34375 \nQ 39.109375 -1.421875 33.890625 -1.421875 \nQ 20.796875 -1.421875 13.15625 6.1875 \nQ 5.515625 13.8125 5.515625 26.8125 \nQ 5.515625 40.234375 12.765625 48.109375 \nQ 20.015625 56 32.328125 56 \nQ 43.359375 56 49.78125 48.890625 \nQ 56.203125 41.796875 56.203125 29.59375 \nz\nM 47.21875 32.234375 \nQ 47.125 39.59375 43.09375 43.984375 \nQ 39.0625 48.390625 32.421875 48.390625 \nQ 24.90625 48.390625 20.390625 44.140625 \nQ 15.875 39.890625 15.1875 32.171875 \nz\n\" id=\"DejaVuSans-101\"/>\n      </defs>\n      <use xlink:href=\"#DejaVuSans-49\"/>\n      <use x=\"63.623047\" xlink:href=\"#DejaVuSans-101\"/>\n      <use x=\"125.146484\" xlink:href=\"#DejaVuSans-52\"/>\n      <use x=\"188.769531\" xlink:href=\"#DejaVuSans-54\"/>\n     </g>\n    </g>\n   </g>\n   <g id=\"line2d_16\">\n    <path clip-path=\"url(#p43fa5f2890)\" d=\"M 44.160369 27.682074 \nL 327.005435 27.787351 \nL 330.315984 28.017787 \nL 332.385077 28.375082 \nL 333.833443 28.83308 \nL 335.074899 29.460106 \nL 336.109445 30.236685 \nL 336.937083 31.095834 \nL 337.76472 32.243925 \nL 338.592357 33.778134 \nL 339.419995 35.828317 \nL 340.247632 38.568002 \nL 341.07527 42.229079 \nL 341.902907 47.121424 \nL 342.730544 53.659126 \nL 343.558182 62.395541 \nL 344.385819 74.070124 \nL 345.213456 89.671019 \nL 346.041094 110.518694 \nL 346.868731 138.37771 \nL 347.696368 175.606069 \nL 348.524006 225.354801 \nL 348.524006 225.354801 \n\" style=\"fill:none;stroke:#1f77b4;stroke-linecap:square;stroke-width:1.5;\"/>\n   </g>\n   <g id=\"patch_3\">\n    <path d=\"M 28.942188 235.238437 \nL 28.942188 17.798437 \n\" style=\"fill:none;stroke:#000000;stroke-linecap:square;stroke-linejoin:miter;stroke-width:0.8;\"/>\n   </g>\n   <g id=\"patch_4\">\n    <path d=\"M 363.742188 235.238437 \nL 363.742188 17.798437 \n\" style=\"fill:none;stroke:#000000;stroke-linecap:square;stroke-linejoin:miter;stroke-width:0.8;\"/>\n   </g>\n   <g id=\"patch_5\">\n    <path d=\"M 28.942188 235.238437 \nL 363.742188 235.238437 \n\" style=\"fill:none;stroke:#000000;stroke-linecap:square;stroke-linejoin:miter;stroke-width:0.8;\"/>\n   </g>\n   <g id=\"patch_6\">\n    <path d=\"M 28.942188 17.798437 \nL 363.742188 17.798437 \n\" style=\"fill:none;stroke:#000000;stroke-linecap:square;stroke-linejoin:miter;stroke-width:0.8;\"/>\n   </g>\n  </g>\n </g>\n <defs>\n  <clipPath id=\"p43fa5f2890\">\n   <rect height=\"217.44\" width=\"334.8\" x=\"28.942188\" y=\"17.798437\"/>\n  </clipPath>\n </defs>\n</svg>\n",
      "image/png": "[encoded data removed]"
     },
     "metadata": {
      "needs_background": "light"
     }
    }
   ],
   "metadata": {}
  },
  {
   "cell_type": "markdown",
   "source": [
    "## View all matrices\n",
    "----"
   ],
   "metadata": {}
  },
  {
   "cell_type": "code",
   "execution_count": 67,
   "source": [
    "M"
   ],
   "outputs": [
    {
     "output_type": "execute_result",
     "data": {
      "text/plain": [
       "Matrix([\n",
       "[2*I_wc/r**2 + M_p + 2*M_w, M_p*l*cos(theta),                                                                                  0],\n",
       "[         M_p*l*cos(theta),  I_py + M_p*l**2,                                                                                  0],\n",
       "[                        0,                0, I_pz + 2*I_wr + d**2*(I_wc/r**2 + M_w)/2 - (-I_px + I_pz - M_p*l**2)*sin(theta)**2]])"
      ],
      "text/latex": [
       "$\\displaystyle \\left[\\begin{matrix}\\frac{2 I_{wc}}{r^{2}} + M_{p} + 2 M_{w} & M_{p} l \\cos{\\left(\\theta \\right)} & 0\\\\M_{p} l \\cos{\\left(\\theta \\right)} & I_{py} + M_{p} l^{2} & 0\\\\0 & 0 & I_{pz} + 2 I_{wr} + \\frac{d^{2} \\left(\\frac{I_{wc}}{r^{2}} + M_{w}\\right)}{2} - \\left(- I_{px} + I_{pz} - M_{p} l^{2}\\right) \\sin^{2}{\\left(\\theta \\right)}\\end{matrix}\\right]$"
      ]
     },
     "metadata": {},
     "execution_count": 67
    }
   ],
   "metadata": {}
  },
  {
   "cell_type": "code",
   "execution_count": 72,
   "source": [
    "C"
   ],
   "outputs": [
    {
     "output_type": "execute_result",
     "data": {
      "text/plain": [
       "Matrix([\n",
       "[                                    0,                          -M_p*l*sin(theta)*Derivative(theta, theta),                                  -M_p*l*sin(theta)*Derivative(psi, psi)],\n",
       "[                                    0,                                                                   0,    (-I_px + I_pz - M_p*l**2)*sin(theta)*cos(theta)*Derivative(psi, psi)],\n",
       "[M_p*l*sin(theta)*Derivative(psi, psi), (I_px - I_pz + M_p*l**2)*sin(theta)*cos(theta)*Derivative(psi, psi), (I_px - I_pz + M_p*l**2)*sin(theta)*cos(theta)*Derivative(theta, theta)]])"
      ],
      "text/latex": [
       "$\\displaystyle \\left[\\begin{matrix}0 & - M_{p} l \\sin{\\left(\\theta \\right)} \\frac{d}{d \\theta} \\theta & - M_{p} l \\sin{\\left(\\theta \\right)} \\frac{d}{d \\psi} \\psi\\\\0 & 0 & \\left(- I_{px} + I_{pz} - M_{p} l^{2}\\right) \\sin{\\left(\\theta \\right)} \\cos{\\left(\\theta \\right)} \\frac{d}{d \\psi} \\psi\\\\M_{p} l \\sin{\\left(\\theta \\right)} \\frac{d}{d \\psi} \\psi & \\left(I_{px} - I_{pz} + M_{p} l^{2}\\right) \\sin{\\left(\\theta \\right)} \\cos{\\left(\\theta \\right)} \\frac{d}{d \\psi} \\psi & \\left(I_{px} - I_{pz} + M_{p} l^{2}\\right) \\sin{\\left(\\theta \\right)} \\cos{\\left(\\theta \\right)} \\frac{d}{d \\theta} \\theta\\end{matrix}\\right]$"
      ]
     },
     "metadata": {},
     "execution_count": 72
    }
   ],
   "metadata": {}
  },
  {
   "cell_type": "code",
   "execution_count": 68,
   "source": [
    "D"
   ],
   "outputs": [
    {
     "output_type": "execute_result",
     "data": {
      "text/plain": [
       "Matrix([\n",
       "[2*c_alpha/r**2, -2*c_alpha/r,                     0],\n",
       "[  -2*c_alpha/r,    2*c_alpha,                     0],\n",
       "[             0,            0, c_alpha*d**2/(2*r**2)]])"
      ],
      "text/latex": [
       "$\\displaystyle \\left[\\begin{matrix}\\frac{2 c_{\\alpha}}{r^{2}} & - \\frac{2 c_{\\alpha}}{r} & 0\\\\- \\frac{2 c_{\\alpha}}{r} & 2 c_{\\alpha} & 0\\\\0 & 0 & \\frac{c_{\\alpha} d^{2}}{2 r^{2}}\\end{matrix}\\right]$"
      ]
     },
     "metadata": {},
     "execution_count": 68
    }
   ],
   "metadata": {}
  },
  {
   "cell_type": "code",
   "execution_count": 69,
   "source": [
    "B"
   ],
   "outputs": [
    {
     "output_type": "execute_result",
     "data": {
      "text/plain": [
       "Matrix([\n",
       "[     1/r,     1/r],\n",
       "[      -1,      -1],\n",
       "[-d/(2*r), d/(2*r)]])"
      ],
      "text/latex": [
       "$\\displaystyle \\left[\\begin{matrix}\\frac{1}{r} & \\frac{1}{r}\\\\-1 & -1\\\\- \\frac{d}{2 r} & \\frac{d}{2 r}\\end{matrix}\\right]$"
      ]
     },
     "metadata": {},
     "execution_count": 69
    }
   ],
   "metadata": {}
  },
  {
   "cell_type": "code",
   "execution_count": 70,
   "source": [
    "G"
   ],
   "outputs": [
    {
     "output_type": "execute_result",
     "data": {
      "text/plain": [
       "Matrix([\n",
       "[                  0],\n",
       "[-M_p*g*l*sin(theta)],\n",
       "[                  0]])"
      ],
      "text/latex": [
       "$\\displaystyle \\left[\\begin{matrix}0\\\\- M_{p} g l \\sin{\\left(\\theta \\right)}\\\\0\\end{matrix}\\right]$"
      ]
     },
     "metadata": {},
     "execution_count": 70
    }
   ],
   "metadata": {}
  },
  {
   "cell_type": "code",
   "execution_count": 71,
   "source": [
    "u"
   ],
   "outputs": [
    {
     "output_type": "execute_result",
     "data": {
      "text/plain": [
       "Matrix([\n",
       "[T_L],\n",
       "[T_R]])"
      ],
      "text/latex": [
       "$\\displaystyle \\left[\\begin{matrix}T_{L}\\\\T_{R}\\end{matrix}\\right]$"
      ]
     },
     "metadata": {},
     "execution_count": 71
    }
   ],
   "metadata": {}
  },
  {
   "cell_type": "code",
   "execution_count": 280,
   "source": [
    "f = symbols('f', constant=True)\n",
    "f\n"
   ],
   "outputs": [
    {
     "output_type": "execute_result",
     "data": {
      "text/plain": [
       "f"
      ],
      "text/latex": [
       "$\\displaystyle f$"
      ]
     },
     "metadata": {},
     "execution_count": 280
    }
   ],
   "metadata": {}
  },
  {
   "cell_type": "code",
   "execution_count": null,
   "source": [],
   "outputs": [],
   "metadata": {}
  }
 ]
}