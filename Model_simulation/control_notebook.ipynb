{
 "metadata": {
  "language_info": {
   "codemirror_mode": {
    "name": "ipython",
    "version": 3
   },
   "file_extension": ".py",
   "mimetype": "text/x-python",
   "name": "python",
   "nbconvert_exporter": "python",
   "pygments_lexer": "ipython3",
   "version": "3.8.10"
  },
  "orig_nbformat": 4,
  "kernelspec": {
   "name": "python3",
   "display_name": "Python 3.8.10 64-bit"
  },
  "interpreter": {
   "hash": "916dbcbb3f70747c44a77c7bcd40155683ae19c65e1c03b4aa3499c5328201f1"
  }
 },
 "nbformat": 4,
 "nbformat_minor": 2,
 "cells": [
  {
   "cell_type": "code",
   "execution_count": 125,
   "source": [
    "\n",
    "import numpy as np\n",
    "from sympy import *\n",
    "import matplotlib.pyplot as plt\n",
    "\n",
    "#--- Model Parameters ---\n",
    "d       = symbols('d',    real=True, positive=True)         # Distance between wheels\n",
    "visc    = symbols('c_alpha',real=True)                      # Viscous, damping constant \n",
    "l       = symbols('l',    real=True, positive=True)         # Height of the COM\n",
    "r       = symbols('r',    real=True, positive=True)         # Radius of the wheel\n",
    "Mp      = symbols('M_p',  real=True, positive=True)         # Mass of the pendulum without the wheels\n",
    "Mw      = symbols('M_w',  real=True, positive=True)         # Mass of each wheel\n",
    "Iw_c    = symbols('I_wc',  real=True)                       # MOI wheel center\n",
    "Iw_r    = symbols('I_wr',  real=True)                       # MOI wheel radial\n",
    "Ip_x    = symbols('I_px',  real=True)                       # MOI pendulum x\n",
    "Ip_y    = symbols('I_py',  real=True)                       # MOI pendulum y\n",
    "Ip_z    = symbols('I_pz',  real=True)                       # MOI pendulum z\n",
    "\n",
    "#--- Constants & Aux. variables ---\n",
    "g = symbols('g', constant=True)                             # Gravity acceleration\n",
    "t = symbols('t', real=True)                                 # Time\n",
    "\n",
    "#--- State Variables ---\n",
    "x           = symbols('x',  real=True)                      # Linear pos\n",
    "pitch       = symbols('theta',  real=True)                  # Pitch angle\n",
    "yaw         = symbols('psi',  real=True)                    # Yaw angle\n",
    "x_vel       = Derivative(x,t)                               # Linear vel\n",
    "pitch_vel   = Derivative(pitch,t)                           # Pitch vel\n",
    "yaw_vel     = Derivative(yaw,t)                             # Yaw vel\n",
    "x_acc       = Derivative(x_vel,t)                           # Linear acc\n",
    "pitch_acc   = Derivative(pitch_vel,t)                       # Pitch acc\n",
    "yaw_acc     = Derivative(yaw_vel,t)                         # Yaw acc\n",
    "\n",
    "#--- Inputs ---\n",
    "Tl = symbols('T_L', real=True)                              # Torque of the left wheel\n",
    "Tr = symbols('T_R', real=True)                              # Torque of the right wheel"
   ],
   "outputs": [],
   "metadata": {}
  },
  {
   "cell_type": "markdown",
   "source": [
    "## Defining all the matrices of the system\n",
    "----------"
   ],
   "metadata": {}
  },
  {
   "cell_type": "code",
   "execution_count": 126,
   "source": [
    "\n",
    "#*--- Matrices for the 3 states model\n",
    "M = Matrix([[Mp+2*Mw+2*Iw_c/r**2, Mp*l*cos(pitch) ,                                                                     0],\n",
    "            [ Mp*l*cos(pitch)   , Ip_y+Mp*l**2    ,                                                                     0],\n",
    "            [0                  ,                0, Ip_z+2*Iw_r+(Mw+Iw_c/r**2)*d**2/2-(Ip_z-Ip_x-Mp*l**2)*sin(pitch)**2  ]])\n",
    "\n",
    "C = Matrix([[                      0, -Mp*l*pitch_vel*sin(pitch),                          -Mp*l*yaw_vel*sin(pitch)],\n",
    "            [                      0,                          0, (Ip_z-Ip_x-Mp*l**2)*yaw_vel*sin(pitch)*cos(pitch)],\n",
    "            [Mp*l*yaw_vel*sin(pitch), -(Ip_z-Ip_x-Mp*l**2)*yaw_vel*sin(pitch)*cos(pitch), -(Ip_z-Ip_x-Mp*l**2)*pitch_vel*sin(pitch)*cos(pitch)]])\n",
    "\n",
    "D = Matrix([[2*visc/r**2, -2*visc/r, 0],\n",
    "            [-2*visc/r, 2*visc, 0],\n",
    "            [0, 0, (d**2/(2*r**2))*visc]])\n",
    "\n",
    "B = Matrix([[     1/r,     1/r],\n",
    "            [      -1,      -1],\n",
    "            [-d/(2*r), d/(2*r)]])\n",
    "\n",
    "G = Matrix([[0],[-Mp*l*g*sin(pitch)], [0]])\n",
    "\n",
    "q = Matrix([[x],[pitch],[yaw]])\n",
    "\n",
    "q_diff = Matrix([[x_vel],[pitch_vel],[yaw_vel]])\n",
    "\n",
    "q_2diff = Matrix([[x_acc],[pitch_acc],[yaw_acc]])\n",
    "\n",
    "u = Matrix([[Tl],[Tr]])"
   ],
   "outputs": [],
   "metadata": {}
  },
  {
   "cell_type": "code",
   "execution_count": 127,
   "source": [
    "M_inv = M.inv()"
   ],
   "outputs": [],
   "metadata": {}
  },
  {
   "cell_type": "markdown",
   "source": [
    "## Show system in expression form\n",
    "---"
   ],
   "metadata": {}
  },
  {
   "cell_type": "code",
   "execution_count": 128,
   "source": [
    "# eqt_sys = M*q_2diff + (C+D)*q_diff + G - B*u\n",
    "# eqt_sys\n",
    "expr_model = M_inv*((B*u-G)-(C+D)*q_diff)\n",
    "eqts_model = Eq(q_2diff,expr_model)\n",
    "eqts_model"
   ],
   "outputs": [
    {
     "output_type": "execute_result",
     "data": {
      "text/plain": [
       "Eq(Matrix([\n",
       "[    Derivative(x, (t, 2))],\n",
       "[Derivative(theta, (t, 2))],\n",
       "[  Derivative(psi, (t, 2))]]), Matrix([\n",
       "[          -M_p*l*(M_p*g*l*sin(theta) - T_L - T_R - 2*c_alpha*Derivative(theta, t) + 2*c_alpha*Derivative(x, t)/r - (-I_px + I_pz - M_p*l**2)*sin(theta)*cos(theta)*Derivative(psi, t)**2)*cos(theta)/(-M_p**2*l**2*cos(theta)**2 + (I_py + M_p*l**2)*(2*I_wc/r**2 + M_p + 2*M_w)) + (I_py + M_p*l**2)*(M_p*l*sin(theta)*Derivative(psi, t)**2 + T_L/r + T_R/r - 2*c_alpha*Derivative(x, t)/r**2 - (-M_p*l*sin(theta)*Derivative(theta, t) - 2*c_alpha/r)*Derivative(theta, t))/(-M_p**2*l**2*cos(theta)**2 + (I_py + M_p*l**2)*(2*I_wc/r**2 + M_p + 2*M_w))],\n",
       "[-M_p*l*(M_p*l*sin(theta)*Derivative(psi, t)**2 + T_L/r + T_R/r - 2*c_alpha*Derivative(x, t)/r**2 - (-M_p*l*sin(theta)*Derivative(theta, t) - 2*c_alpha/r)*Derivative(theta, t))*cos(theta)/(-M_p**2*l**2*cos(theta)**2 + (I_py + M_p*l**2)*(2*I_wc/r**2 + M_p + 2*M_w)) + (2*I_wc/r**2 + M_p + 2*M_w)*(M_p*g*l*sin(theta) - T_L - T_R - 2*c_alpha*Derivative(theta, t) + 2*c_alpha*Derivative(x, t)/r - (-I_px + I_pz - M_p*l**2)*sin(theta)*cos(theta)*Derivative(psi, t)**2)/(-M_p**2*l**2*cos(theta)**2 + (I_py + M_p*l**2)*(2*I_wc/r**2 + M_p + 2*M_w))],\n",
       "[                                                                                                                                                                       (-M_p*l*sin(theta)*Derivative(psi, t)*Derivative(x, t) - T_L*d/(2*r) + T_R*d/(2*r) - (c_alpha*d**2/(2*r**2) + (I_px - I_pz + M_p*l**2)*sin(theta)*cos(theta)*Derivative(theta, t))*Derivative(psi, t) - (I_px - I_pz + M_p*l**2)*sin(theta)*cos(theta)*Derivative(psi, t)*Derivative(theta, t))/(I_pz + 2*I_wr + d**2*(I_wc/r**2 + M_w)/2 - (-I_px + I_pz - M_p*l**2)*sin(theta)**2)]]))"
      ],
      "text/latex": [
       "$\\displaystyle \\left[\\begin{matrix}\\frac{d^{2}}{d t^{2}} x\\\\\\frac{d^{2}}{d t^{2}} \\theta\\\\\\frac{d^{2}}{d t^{2}} \\psi\\end{matrix}\\right] = \\left[\\begin{matrix}- \\frac{M_{p} l \\left(M_{p} g l \\sin{\\left(\\theta \\right)} - T_{L} - T_{R} - 2 c_{\\alpha} \\frac{d}{d t} \\theta + \\frac{2 c_{\\alpha} \\frac{d}{d t} x}{r} - \\left(- I_{px} + I_{pz} - M_{p} l^{2}\\right) \\sin{\\left(\\theta \\right)} \\cos{\\left(\\theta \\right)} \\left(\\frac{d}{d t} \\psi\\right)^{2}\\right) \\cos{\\left(\\theta \\right)}}{- M_{p}^{2} l^{2} \\cos^{2}{\\left(\\theta \\right)} + \\left(I_{py} + M_{p} l^{2}\\right) \\left(\\frac{2 I_{wc}}{r^{2}} + M_{p} + 2 M_{w}\\right)} + \\frac{\\left(I_{py} + M_{p} l^{2}\\right) \\left(M_{p} l \\sin{\\left(\\theta \\right)} \\left(\\frac{d}{d t} \\psi\\right)^{2} + \\frac{T_{L}}{r} + \\frac{T_{R}}{r} - \\frac{2 c_{\\alpha} \\frac{d}{d t} x}{r^{2}} - \\left(- M_{p} l \\sin{\\left(\\theta \\right)} \\frac{d}{d t} \\theta - \\frac{2 c_{\\alpha}}{r}\\right) \\frac{d}{d t} \\theta\\right)}{- M_{p}^{2} l^{2} \\cos^{2}{\\left(\\theta \\right)} + \\left(I_{py} + M_{p} l^{2}\\right) \\left(\\frac{2 I_{wc}}{r^{2}} + M_{p} + 2 M_{w}\\right)}\\\\- \\frac{M_{p} l \\left(M_{p} l \\sin{\\left(\\theta \\right)} \\left(\\frac{d}{d t} \\psi\\right)^{2} + \\frac{T_{L}}{r} + \\frac{T_{R}}{r} - \\frac{2 c_{\\alpha} \\frac{d}{d t} x}{r^{2}} - \\left(- M_{p} l \\sin{\\left(\\theta \\right)} \\frac{d}{d t} \\theta - \\frac{2 c_{\\alpha}}{r}\\right) \\frac{d}{d t} \\theta\\right) \\cos{\\left(\\theta \\right)}}{- M_{p}^{2} l^{2} \\cos^{2}{\\left(\\theta \\right)} + \\left(I_{py} + M_{p} l^{2}\\right) \\left(\\frac{2 I_{wc}}{r^{2}} + M_{p} + 2 M_{w}\\right)} + \\frac{\\left(\\frac{2 I_{wc}}{r^{2}} + M_{p} + 2 M_{w}\\right) \\left(M_{p} g l \\sin{\\left(\\theta \\right)} - T_{L} - T_{R} - 2 c_{\\alpha} \\frac{d}{d t} \\theta + \\frac{2 c_{\\alpha} \\frac{d}{d t} x}{r} - \\left(- I_{px} + I_{pz} - M_{p} l^{2}\\right) \\sin{\\left(\\theta \\right)} \\cos{\\left(\\theta \\right)} \\left(\\frac{d}{d t} \\psi\\right)^{2}\\right)}{- M_{p}^{2} l^{2} \\cos^{2}{\\left(\\theta \\right)} + \\left(I_{py} + M_{p} l^{2}\\right) \\left(\\frac{2 I_{wc}}{r^{2}} + M_{p} + 2 M_{w}\\right)}\\\\\\frac{- M_{p} l \\sin{\\left(\\theta \\right)} \\frac{d}{d t} \\psi \\frac{d}{d t} x - \\frac{T_{L} d}{2 r} + \\frac{T_{R} d}{2 r} - \\left(\\frac{c_{\\alpha} d^{2}}{2 r^{2}} + \\left(I_{px} - I_{pz} + M_{p} l^{2}\\right) \\sin{\\left(\\theta \\right)} \\cos{\\left(\\theta \\right)} \\frac{d}{d t} \\theta\\right) \\frac{d}{d t} \\psi - \\left(I_{px} - I_{pz} + M_{p} l^{2}\\right) \\sin{\\left(\\theta \\right)} \\cos{\\left(\\theta \\right)} \\frac{d}{d t} \\psi \\frac{d}{d t} \\theta}{I_{pz} + 2 I_{wr} + \\frac{d^{2} \\left(\\frac{I_{wc}}{r^{2}} + M_{w}\\right)}{2} - \\left(- I_{px} + I_{pz} - M_{p} l^{2}\\right) \\sin^{2}{\\left(\\theta \\right)}}\\end{matrix}\\right]$"
      ]
     },
     "metadata": {},
     "execution_count": 128
    }
   ],
   "metadata": {}
  },
  {
   "cell_type": "markdown",
   "source": [
    "## Linearization of the system\n",
    "----------"
   ],
   "metadata": {}
  },
  {
   "cell_type": "code",
   "execution_count": 129,
   "source": [
    "\n",
    "#* Convert real variables into state-space variables\n",
    "\n",
    "# Build state vector\n",
    "real_state_vec = q_diff.row_insert(4,q)\n",
    "state_vec = Matrix(list(symbols('x1:7',real=True)))\n",
    "state_eq = Eq(state_vec,real_state_vec)\n",
    "state_eq"
   ],
   "outputs": [
    {
     "output_type": "execute_result",
     "data": {
      "text/plain": [
       "Eq(Matrix([\n",
       "[x1],\n",
       "[x2],\n",
       "[x3],\n",
       "[x4],\n",
       "[x5],\n",
       "[x6]]), Matrix([\n",
       "[    Derivative(x, t)],\n",
       "[Derivative(theta, t)],\n",
       "[  Derivative(psi, t)],\n",
       "[                   x],\n",
       "[               theta],\n",
       "[                 psi]]))"
      ],
      "text/latex": [
       "$\\displaystyle \\left[\\begin{matrix}x_{1}\\\\x_{2}\\\\x_{3}\\\\x_{4}\\\\x_{5}\\\\x_{6}\\end{matrix}\\right] = \\left[\\begin{matrix}\\frac{d}{d t} x\\\\\\frac{d}{d t} \\theta\\\\\\frac{d}{d t} \\psi\\\\x\\\\\\theta\\\\\\psi\\end{matrix}\\right]$"
      ]
     },
     "metadata": {},
     "execution_count": 129
    }
   ],
   "metadata": {}
  },
  {
   "cell_type": "code",
   "execution_count": 130,
   "source": [
    "\n",
    "#* Build the derivative of the state vector\n",
    "\n",
    "real_state_diff_vec = q_2diff.row_insert(4,q_diff)\n",
    "state_diff_vec = []\n",
    "for sym in state_vec:\n",
    "    state_diff_vec.append(Derivative(sym,t))\n",
    "state_diff_vec = Matrix(state_diff_vec)\n",
    "state_diff_eq = Eq(state_diff_vec,real_state_diff_vec)\n",
    "\n",
    "#* Build the vector of system equations\n",
    "\n",
    "system_equations = expr_model.row_insert(4,q_diff)\n",
    "\n",
    "#* Substitute the real variables with the state-stape model variables: x1:x6\n",
    "\n",
    "for i in range(6):\n",
    "        system_equations = system_equations.subs(real_state_vec[i],state_vec[i])\n",
    "\n",
    "#* Show the system of equations that will be used in the state space form \n",
    "\n",
    "eq_sys = Eq(state_diff_vec,system_equations)\n",
    "eq_sys"
   ],
   "outputs": [
    {
     "output_type": "execute_result",
     "data": {
      "text/plain": [
       "Eq(Matrix([\n",
       "[Derivative(x1, t)],\n",
       "[Derivative(x2, t)],\n",
       "[Derivative(x3, t)],\n",
       "[Derivative(x4, t)],\n",
       "[Derivative(x5, t)],\n",
       "[Derivative(x6, t)]]), Matrix([\n",
       "[          -M_p*l*(M_p*g*l*sin(x5) - T_L - T_R - 2*c_alpha*x2 + 2*c_alpha*x1/r - x3**2*(-I_px + I_pz - M_p*l**2)*sin(x5)*cos(x5))*cos(x5)/(-M_p**2*l**2*cos(x5)**2 + (I_py + M_p*l**2)*(2*I_wc/r**2 + M_p + 2*M_w)) + (I_py + M_p*l**2)*(M_p*l*x3**2*sin(x5) + T_L/r + T_R/r - 2*c_alpha*x1/r**2 - x2*(-M_p*l*x2*sin(x5) - 2*c_alpha/r))/(-M_p**2*l**2*cos(x5)**2 + (I_py + M_p*l**2)*(2*I_wc/r**2 + M_p + 2*M_w))],\n",
       "[-M_p*l*(M_p*l*x3**2*sin(x5) + T_L/r + T_R/r - 2*c_alpha*x1/r**2 - x2*(-M_p*l*x2*sin(x5) - 2*c_alpha/r))*cos(x5)/(-M_p**2*l**2*cos(x5)**2 + (I_py + M_p*l**2)*(2*I_wc/r**2 + M_p + 2*M_w)) + (2*I_wc/r**2 + M_p + 2*M_w)*(M_p*g*l*sin(x5) - T_L - T_R - 2*c_alpha*x2 + 2*c_alpha*x1/r - x3**2*(-I_px + I_pz - M_p*l**2)*sin(x5)*cos(x5))/(-M_p**2*l**2*cos(x5)**2 + (I_py + M_p*l**2)*(2*I_wc/r**2 + M_p + 2*M_w))],\n",
       "[                                                                                                                                                 (-M_p*l*x1*x3*sin(x5) - T_L*d/(2*r) + T_R*d/(2*r) - x2*x3*(I_px - I_pz + M_p*l**2)*sin(x5)*cos(x5) - x3*(c_alpha*d**2/(2*r**2) + x2*(I_px - I_pz + M_p*l**2)*sin(x5)*cos(x5)))/(I_pz + 2*I_wr + d**2*(I_wc/r**2 + M_w)/2 - (-I_px + I_pz - M_p*l**2)*sin(x5)**2)],\n",
       "[                                                                                                                                                                                                                                                                                                                                                                                                               x1],\n",
       "[                                                                                                                                                                                                                                                                                                                                                                                                               x2],\n",
       "[                                                                                                                                                                                                                                                                                                                                                                                                               x3]]))"
      ],
      "text/latex": [
       "$\\displaystyle \\left[\\begin{matrix}\\frac{d}{d t} x_{1}\\\\\\frac{d}{d t} x_{2}\\\\\\frac{d}{d t} x_{3}\\\\\\frac{d}{d t} x_{4}\\\\\\frac{d}{d t} x_{5}\\\\\\frac{d}{d t} x_{6}\\end{matrix}\\right] = \\left[\\begin{matrix}- \\frac{M_{p} l \\left(M_{p} g l \\sin{\\left(x_{5} \\right)} - T_{L} - T_{R} - 2 c_{\\alpha} x_{2} + \\frac{2 c_{\\alpha} x_{1}}{r} - x_{3}^{2} \\left(- I_{px} + I_{pz} - M_{p} l^{2}\\right) \\sin{\\left(x_{5} \\right)} \\cos{\\left(x_{5} \\right)}\\right) \\cos{\\left(x_{5} \\right)}}{- M_{p}^{2} l^{2} \\cos^{2}{\\left(x_{5} \\right)} + \\left(I_{py} + M_{p} l^{2}\\right) \\left(\\frac{2 I_{wc}}{r^{2}} + M_{p} + 2 M_{w}\\right)} + \\frac{\\left(I_{py} + M_{p} l^{2}\\right) \\left(M_{p} l x_{3}^{2} \\sin{\\left(x_{5} \\right)} + \\frac{T_{L}}{r} + \\frac{T_{R}}{r} - \\frac{2 c_{\\alpha} x_{1}}{r^{2}} - x_{2} \\left(- M_{p} l x_{2} \\sin{\\left(x_{5} \\right)} - \\frac{2 c_{\\alpha}}{r}\\right)\\right)}{- M_{p}^{2} l^{2} \\cos^{2}{\\left(x_{5} \\right)} + \\left(I_{py} + M_{p} l^{2}\\right) \\left(\\frac{2 I_{wc}}{r^{2}} + M_{p} + 2 M_{w}\\right)}\\\\- \\frac{M_{p} l \\left(M_{p} l x_{3}^{2} \\sin{\\left(x_{5} \\right)} + \\frac{T_{L}}{r} + \\frac{T_{R}}{r} - \\frac{2 c_{\\alpha} x_{1}}{r^{2}} - x_{2} \\left(- M_{p} l x_{2} \\sin{\\left(x_{5} \\right)} - \\frac{2 c_{\\alpha}}{r}\\right)\\right) \\cos{\\left(x_{5} \\right)}}{- M_{p}^{2} l^{2} \\cos^{2}{\\left(x_{5} \\right)} + \\left(I_{py} + M_{p} l^{2}\\right) \\left(\\frac{2 I_{wc}}{r^{2}} + M_{p} + 2 M_{w}\\right)} + \\frac{\\left(\\frac{2 I_{wc}}{r^{2}} + M_{p} + 2 M_{w}\\right) \\left(M_{p} g l \\sin{\\left(x_{5} \\right)} - T_{L} - T_{R} - 2 c_{\\alpha} x_{2} + \\frac{2 c_{\\alpha} x_{1}}{r} - x_{3}^{2} \\left(- I_{px} + I_{pz} - M_{p} l^{2}\\right) \\sin{\\left(x_{5} \\right)} \\cos{\\left(x_{5} \\right)}\\right)}{- M_{p}^{2} l^{2} \\cos^{2}{\\left(x_{5} \\right)} + \\left(I_{py} + M_{p} l^{2}\\right) \\left(\\frac{2 I_{wc}}{r^{2}} + M_{p} + 2 M_{w}\\right)}\\\\\\frac{- M_{p} l x_{1} x_{3} \\sin{\\left(x_{5} \\right)} - \\frac{T_{L} d}{2 r} + \\frac{T_{R} d}{2 r} - x_{2} x_{3} \\left(I_{px} - I_{pz} + M_{p} l^{2}\\right) \\sin{\\left(x_{5} \\right)} \\cos{\\left(x_{5} \\right)} - x_{3} \\left(\\frac{c_{\\alpha} d^{2}}{2 r^{2}} + x_{2} \\left(I_{px} - I_{pz} + M_{p} l^{2}\\right) \\sin{\\left(x_{5} \\right)} \\cos{\\left(x_{5} \\right)}\\right)}{I_{pz} + 2 I_{wr} + \\frac{d^{2} \\left(\\frac{I_{wc}}{r^{2}} + M_{w}\\right)}{2} - \\left(- I_{px} + I_{pz} - M_{p} l^{2}\\right) \\sin^{2}{\\left(x_{5} \\right)}}\\\\x_{1}\\\\x_{2}\\\\x_{3}\\end{matrix}\\right]$"
      ]
     },
     "metadata": {},
     "execution_count": 130
    }
   ],
   "metadata": {}
  },
  {
   "cell_type": "code",
   "execution_count": 131,
   "source": [
    "\n",
    "#* Calcualte the jacobian for the A matrix of the continuos time system\n",
    "Ac = Matrix(np.zeros((6,6)))\n",
    "\n",
    "for i,expr in enumerate(system_equations):\n",
    "    for j,state in enumerate(state_vec):\n",
    "        Ac[i,j] = diff(expr,state)\n",
    "Ac"
   ],
   "outputs": [
    {
     "output_type": "execute_result",
     "data": {
      "text/plain": [
       "Matrix([\n",
       "[         -2*M_p*c_alpha*l*cos(x5)/(r*(-M_p**2*l**2*cos(x5)**2 + (I_py + M_p*l**2)*(2*I_wc/r**2 + M_p + 2*M_w))) - 2*c_alpha*(I_py + M_p*l**2)/(r**2*(-M_p**2*l**2*cos(x5)**2 + (I_py + M_p*l**2)*(2*I_wc/r**2 + M_p + 2*M_w))),            2*M_p*c_alpha*l*cos(x5)/(-M_p**2*l**2*cos(x5)**2 + (I_py + M_p*l**2)*(2*I_wc/r**2 + M_p + 2*M_w)) + (I_py + M_p*l**2)*(2*M_p*l*x2*sin(x5) + 2*c_alpha/r)/(-M_p**2*l**2*cos(x5)**2 + (I_py + M_p*l**2)*(2*I_wc/r**2 + M_p + 2*M_w)),                 2*M_p*l*x3*(I_py + M_p*l**2)*sin(x5)/(-M_p**2*l**2*cos(x5)**2 + (I_py + M_p*l**2)*(2*I_wc/r**2 + M_p + 2*M_w)) + 2*M_p*l*x3*(-I_px + I_pz - M_p*l**2)*sin(x5)*cos(x5)**2/(-M_p**2*l**2*cos(x5)**2 + (I_py + M_p*l**2)*(2*I_wc/r**2 + M_p + 2*M_w)), 0,      2*M_p**3*l**3*(M_p*g*l*sin(x5) - T_L - T_R - 2*c_alpha*x2 + 2*c_alpha*x1/r - x3**2*(-I_px + I_pz - M_p*l**2)*sin(x5)*cos(x5))*sin(x5)*cos(x5)**2/(-M_p**2*l**2*cos(x5)**2 + (I_py + M_p*l**2)*(2*I_wc/r**2 + M_p + 2*M_w))**2 - 2*M_p**2*l**2*(I_py + M_p*l**2)*(M_p*l*x3**2*sin(x5) + T_L/r + T_R/r - 2*c_alpha*x1/r**2 - x2*(-M_p*l*x2*sin(x5) - 2*c_alpha/r))*sin(x5)*cos(x5)/(-M_p**2*l**2*cos(x5)**2 + (I_py + M_p*l**2)*(2*I_wc/r**2 + M_p + 2*M_w))**2 - M_p*l*(M_p*g*l*cos(x5) + x3**2*(-I_px + I_pz - M_p*l**2)*sin(x5)**2 - x3**2*(-I_px + I_pz - M_p*l**2)*cos(x5)**2)*cos(x5)/(-M_p**2*l**2*cos(x5)**2 + (I_py + M_p*l**2)*(2*I_wc/r**2 + M_p + 2*M_w)) + M_p*l*(M_p*g*l*sin(x5) - T_L - T_R - 2*c_alpha*x2 + 2*c_alpha*x1/r - x3**2*(-I_px + I_pz - M_p*l**2)*sin(x5)*cos(x5))*sin(x5)/(-M_p**2*l**2*cos(x5)**2 + (I_py + M_p*l**2)*(2*I_wc/r**2 + M_p + 2*M_w)) + (I_py + M_p*l**2)*(M_p*l*x2**2*cos(x5) + M_p*l*x3**2*cos(x5))/(-M_p**2*l**2*cos(x5)**2 + (I_py + M_p*l**2)*(2*I_wc/r**2 + M_p + 2*M_w)), 0],\n",
       "[2*M_p*c_alpha*l*cos(x5)/(r**2*(-M_p**2*l**2*cos(x5)**2 + (I_py + M_p*l**2)*(2*I_wc/r**2 + M_p + 2*M_w))) + 2*c_alpha*(2*I_wc/r**2 + M_p + 2*M_w)/(r*(-M_p**2*l**2*cos(x5)**2 + (I_py + M_p*l**2)*(2*I_wc/r**2 + M_p + 2*M_w))), -M_p*l*(2*M_p*l*x2*sin(x5) + 2*c_alpha/r)*cos(x5)/(-M_p**2*l**2*cos(x5)**2 + (I_py + M_p*l**2)*(2*I_wc/r**2 + M_p + 2*M_w)) - 2*c_alpha*(2*I_wc/r**2 + M_p + 2*M_w)/(-M_p**2*l**2*cos(x5)**2 + (I_py + M_p*l**2)*(2*I_wc/r**2 + M_p + 2*M_w)), -2*M_p**2*l**2*x3*sin(x5)*cos(x5)/(-M_p**2*l**2*cos(x5)**2 + (I_py + M_p*l**2)*(2*I_wc/r**2 + M_p + 2*M_w)) - 2*x3*(-I_px + I_pz - M_p*l**2)*(2*I_wc/r**2 + M_p + 2*M_w)*sin(x5)*cos(x5)/(-M_p**2*l**2*cos(x5)**2 + (I_py + M_p*l**2)*(2*I_wc/r**2 + M_p + 2*M_w)), 0, 2*M_p**3*l**3*(M_p*l*x3**2*sin(x5) + T_L/r + T_R/r - 2*c_alpha*x1/r**2 - x2*(-M_p*l*x2*sin(x5) - 2*c_alpha/r))*sin(x5)*cos(x5)**2/(-M_p**2*l**2*cos(x5)**2 + (I_py + M_p*l**2)*(2*I_wc/r**2 + M_p + 2*M_w))**2 - 2*M_p**2*l**2*(2*I_wc/r**2 + M_p + 2*M_w)*(M_p*g*l*sin(x5) - T_L - T_R - 2*c_alpha*x2 + 2*c_alpha*x1/r - x3**2*(-I_px + I_pz - M_p*l**2)*sin(x5)*cos(x5))*sin(x5)*cos(x5)/(-M_p**2*l**2*cos(x5)**2 + (I_py + M_p*l**2)*(2*I_wc/r**2 + M_p + 2*M_w))**2 - M_p*l*(M_p*l*x2**2*cos(x5) + M_p*l*x3**2*cos(x5))*cos(x5)/(-M_p**2*l**2*cos(x5)**2 + (I_py + M_p*l**2)*(2*I_wc/r**2 + M_p + 2*M_w)) + M_p*l*(M_p*l*x3**2*sin(x5) + T_L/r + T_R/r - 2*c_alpha*x1/r**2 - x2*(-M_p*l*x2*sin(x5) - 2*c_alpha/r))*sin(x5)/(-M_p**2*l**2*cos(x5)**2 + (I_py + M_p*l**2)*(2*I_wc/r**2 + M_p + 2*M_w)) + (2*I_wc/r**2 + M_p + 2*M_w)*(M_p*g*l*cos(x5) + x3**2*(-I_px + I_pz - M_p*l**2)*sin(x5)**2 - x3**2*(-I_px + I_pz - M_p*l**2)*cos(x5)**2)/(-M_p**2*l**2*cos(x5)**2 + (I_py + M_p*l**2)*(2*I_wc/r**2 + M_p + 2*M_w)), 0],\n",
       "[                                                                                                                           -M_p*l*x3*sin(x5)/(I_pz + 2*I_wr + d**2*(I_wc/r**2 + M_w)/2 - (-I_px + I_pz - M_p*l**2)*sin(x5)**2),                                                                                                              -2*x3*(I_px - I_pz + M_p*l**2)*sin(x5)*cos(x5)/(I_pz + 2*I_wr + d**2*(I_wc/r**2 + M_w)/2 - (-I_px + I_pz - M_p*l**2)*sin(x5)**2),                                                                                      (-M_p*l*x1*sin(x5) - c_alpha*d**2/(2*r**2) - 2*x2*(I_px - I_pz + M_p*l**2)*sin(x5)*cos(x5))/(I_pz + 2*I_wr + d**2*(I_wc/r**2 + M_w)/2 - (-I_px + I_pz - M_p*l**2)*sin(x5)**2), 0,                                                                                                                                                                                                                                                                                                                                                                                                                   2*(-I_px + I_pz - M_p*l**2)*(-M_p*l*x1*x3*sin(x5) - T_L*d/(2*r) + T_R*d/(2*r) - x2*x3*(I_px - I_pz + M_p*l**2)*sin(x5)*cos(x5) - x3*(c_alpha*d**2/(2*r**2) + x2*(I_px - I_pz + M_p*l**2)*sin(x5)*cos(x5)))*sin(x5)*cos(x5)/(I_pz + 2*I_wr + d**2*(I_wc/r**2 + M_w)/2 - (-I_px + I_pz - M_p*l**2)*sin(x5)**2)**2 + (-M_p*l*x1*x3*cos(x5) + x2*x3*(I_px - I_pz + M_p*l**2)*sin(x5)**2 - x2*x3*(I_px - I_pz + M_p*l**2)*cos(x5)**2 - x3*(-x2*(I_px - I_pz + M_p*l**2)*sin(x5)**2 + x2*(I_px - I_pz + M_p*l**2)*cos(x5)**2))/(I_pz + 2*I_wr + d**2*(I_wc/r**2 + M_w)/2 - (-I_px + I_pz - M_p*l**2)*sin(x5)**2), 0],\n",
       "[                                                                                                                                                                                                                             1,                                                                                                                                                                                                                                             0,                                                                                                                                                                                                                                                                  0, 0,                                                                                                                                                                                                                                                                                                                                                                                                                                                                                                                                                                                                                                                                                                                                                                                                                                                                                                                                                                                                                            0, 0],\n",
       "[                                                                                                                                                                                                                             0,                                                                                                                                                                                                                                             1,                                                                                                                                                                                                                                                                  0, 0,                                                                                                                                                                                                                                                                                                                                                                                                                                                                                                                                                                                                                                                                                                                                                                                                                                                                                                                                                                                                                            0, 0],\n",
       "[                                                                                                                                                                                                                             0,                                                                                                                                                                                                                                             0,                                                                                                                                                                                                                                                                  1, 0,                                                                                                                                                                                                                                                                                                                                                                                                                                                                                                                                                                                                                                                                                                                                                                                                                                                                                                                                                                                                                            0, 0]])"
      ],
      "text/latex": [
       "$\\displaystyle \\left[\\begin{matrix}- \\frac{2 M_{p} c_{\\alpha} l \\cos{\\left(x_{5} \\right)}}{r \\left(- M_{p}^{2} l^{2} \\cos^{2}{\\left(x_{5} \\right)} + \\left(I_{py} + M_{p} l^{2}\\right) \\left(\\frac{2 I_{wc}}{r^{2}} + M_{p} + 2 M_{w}\\right)\\right)} - \\frac{2 c_{\\alpha} \\left(I_{py} + M_{p} l^{2}\\right)}{r^{2} \\left(- M_{p}^{2} l^{2} \\cos^{2}{\\left(x_{5} \\right)} + \\left(I_{py} + M_{p} l^{2}\\right) \\left(\\frac{2 I_{wc}}{r^{2}} + M_{p} + 2 M_{w}\\right)\\right)} & \\frac{2 M_{p} c_{\\alpha} l \\cos{\\left(x_{5} \\right)}}{- M_{p}^{2} l^{2} \\cos^{2}{\\left(x_{5} \\right)} + \\left(I_{py} + M_{p} l^{2}\\right) \\left(\\frac{2 I_{wc}}{r^{2}} + M_{p} + 2 M_{w}\\right)} + \\frac{\\left(I_{py} + M_{p} l^{2}\\right) \\left(2 M_{p} l x_{2} \\sin{\\left(x_{5} \\right)} + \\frac{2 c_{\\alpha}}{r}\\right)}{- M_{p}^{2} l^{2} \\cos^{2}{\\left(x_{5} \\right)} + \\left(I_{py} + M_{p} l^{2}\\right) \\left(\\frac{2 I_{wc}}{r^{2}} + M_{p} + 2 M_{w}\\right)} & \\frac{2 M_{p} l x_{3} \\left(I_{py} + M_{p} l^{2}\\right) \\sin{\\left(x_{5} \\right)}}{- M_{p}^{2} l^{2} \\cos^{2}{\\left(x_{5} \\right)} + \\left(I_{py} + M_{p} l^{2}\\right) \\left(\\frac{2 I_{wc}}{r^{2}} + M_{p} + 2 M_{w}\\right)} + \\frac{2 M_{p} l x_{3} \\left(- I_{px} + I_{pz} - M_{p} l^{2}\\right) \\sin{\\left(x_{5} \\right)} \\cos^{2}{\\left(x_{5} \\right)}}{- M_{p}^{2} l^{2} \\cos^{2}{\\left(x_{5} \\right)} + \\left(I_{py} + M_{p} l^{2}\\right) \\left(\\frac{2 I_{wc}}{r^{2}} + M_{p} + 2 M_{w}\\right)} & 0 & \\frac{2 M_{p}^{3} l^{3} \\left(M_{p} g l \\sin{\\left(x_{5} \\right)} - T_{L} - T_{R} - 2 c_{\\alpha} x_{2} + \\frac{2 c_{\\alpha} x_{1}}{r} - x_{3}^{2} \\left(- I_{px} + I_{pz} - M_{p} l^{2}\\right) \\sin{\\left(x_{5} \\right)} \\cos{\\left(x_{5} \\right)}\\right) \\sin{\\left(x_{5} \\right)} \\cos^{2}{\\left(x_{5} \\right)}}{\\left(- M_{p}^{2} l^{2} \\cos^{2}{\\left(x_{5} \\right)} + \\left(I_{py} + M_{p} l^{2}\\right) \\left(\\frac{2 I_{wc}}{r^{2}} + M_{p} + 2 M_{w}\\right)\\right)^{2}} - \\frac{2 M_{p}^{2} l^{2} \\left(I_{py} + M_{p} l^{2}\\right) \\left(M_{p} l x_{3}^{2} \\sin{\\left(x_{5} \\right)} + \\frac{T_{L}}{r} + \\frac{T_{R}}{r} - \\frac{2 c_{\\alpha} x_{1}}{r^{2}} - x_{2} \\left(- M_{p} l x_{2} \\sin{\\left(x_{5} \\right)} - \\frac{2 c_{\\alpha}}{r}\\right)\\right) \\sin{\\left(x_{5} \\right)} \\cos{\\left(x_{5} \\right)}}{\\left(- M_{p}^{2} l^{2} \\cos^{2}{\\left(x_{5} \\right)} + \\left(I_{py} + M_{p} l^{2}\\right) \\left(\\frac{2 I_{wc}}{r^{2}} + M_{p} + 2 M_{w}\\right)\\right)^{2}} - \\frac{M_{p} l \\left(M_{p} g l \\cos{\\left(x_{5} \\right)} + x_{3}^{2} \\left(- I_{px} + I_{pz} - M_{p} l^{2}\\right) \\sin^{2}{\\left(x_{5} \\right)} - x_{3}^{2} \\left(- I_{px} + I_{pz} - M_{p} l^{2}\\right) \\cos^{2}{\\left(x_{5} \\right)}\\right) \\cos{\\left(x_{5} \\right)}}{- M_{p}^{2} l^{2} \\cos^{2}{\\left(x_{5} \\right)} + \\left(I_{py} + M_{p} l^{2}\\right) \\left(\\frac{2 I_{wc}}{r^{2}} + M_{p} + 2 M_{w}\\right)} + \\frac{M_{p} l \\left(M_{p} g l \\sin{\\left(x_{5} \\right)} - T_{L} - T_{R} - 2 c_{\\alpha} x_{2} + \\frac{2 c_{\\alpha} x_{1}}{r} - x_{3}^{2} \\left(- I_{px} + I_{pz} - M_{p} l^{2}\\right) \\sin{\\left(x_{5} \\right)} \\cos{\\left(x_{5} \\right)}\\right) \\sin{\\left(x_{5} \\right)}}{- M_{p}^{2} l^{2} \\cos^{2}{\\left(x_{5} \\right)} + \\left(I_{py} + M_{p} l^{2}\\right) \\left(\\frac{2 I_{wc}}{r^{2}} + M_{p} + 2 M_{w}\\right)} + \\frac{\\left(I_{py} + M_{p} l^{2}\\right) \\left(M_{p} l x_{2}^{2} \\cos{\\left(x_{5} \\right)} + M_{p} l x_{3}^{2} \\cos{\\left(x_{5} \\right)}\\right)}{- M_{p}^{2} l^{2} \\cos^{2}{\\left(x_{5} \\right)} + \\left(I_{py} + M_{p} l^{2}\\right) \\left(\\frac{2 I_{wc}}{r^{2}} + M_{p} + 2 M_{w}\\right)} & 0\\\\\\frac{2 M_{p} c_{\\alpha} l \\cos{\\left(x_{5} \\right)}}{r^{2} \\left(- M_{p}^{2} l^{2} \\cos^{2}{\\left(x_{5} \\right)} + \\left(I_{py} + M_{p} l^{2}\\right) \\left(\\frac{2 I_{wc}}{r^{2}} + M_{p} + 2 M_{w}\\right)\\right)} + \\frac{2 c_{\\alpha} \\left(\\frac{2 I_{wc}}{r^{2}} + M_{p} + 2 M_{w}\\right)}{r \\left(- M_{p}^{2} l^{2} \\cos^{2}{\\left(x_{5} \\right)} + \\left(I_{py} + M_{p} l^{2}\\right) \\left(\\frac{2 I_{wc}}{r^{2}} + M_{p} + 2 M_{w}\\right)\\right)} & - \\frac{M_{p} l \\left(2 M_{p} l x_{2} \\sin{\\left(x_{5} \\right)} + \\frac{2 c_{\\alpha}}{r}\\right) \\cos{\\left(x_{5} \\right)}}{- M_{p}^{2} l^{2} \\cos^{2}{\\left(x_{5} \\right)} + \\left(I_{py} + M_{p} l^{2}\\right) \\left(\\frac{2 I_{wc}}{r^{2}} + M_{p} + 2 M_{w}\\right)} - \\frac{2 c_{\\alpha} \\left(\\frac{2 I_{wc}}{r^{2}} + M_{p} + 2 M_{w}\\right)}{- M_{p}^{2} l^{2} \\cos^{2}{\\left(x_{5} \\right)} + \\left(I_{py} + M_{p} l^{2}\\right) \\left(\\frac{2 I_{wc}}{r^{2}} + M_{p} + 2 M_{w}\\right)} & - \\frac{2 M_{p}^{2} l^{2} x_{3} \\sin{\\left(x_{5} \\right)} \\cos{\\left(x_{5} \\right)}}{- M_{p}^{2} l^{2} \\cos^{2}{\\left(x_{5} \\right)} + \\left(I_{py} + M_{p} l^{2}\\right) \\left(\\frac{2 I_{wc}}{r^{2}} + M_{p} + 2 M_{w}\\right)} - \\frac{2 x_{3} \\left(- I_{px} + I_{pz} - M_{p} l^{2}\\right) \\left(\\frac{2 I_{wc}}{r^{2}} + M_{p} + 2 M_{w}\\right) \\sin{\\left(x_{5} \\right)} \\cos{\\left(x_{5} \\right)}}{- M_{p}^{2} l^{2} \\cos^{2}{\\left(x_{5} \\right)} + \\left(I_{py} + M_{p} l^{2}\\right) \\left(\\frac{2 I_{wc}}{r^{2}} + M_{p} + 2 M_{w}\\right)} & 0 & \\frac{2 M_{p}^{3} l^{3} \\left(M_{p} l x_{3}^{2} \\sin{\\left(x_{5} \\right)} + \\frac{T_{L}}{r} + \\frac{T_{R}}{r} - \\frac{2 c_{\\alpha} x_{1}}{r^{2}} - x_{2} \\left(- M_{p} l x_{2} \\sin{\\left(x_{5} \\right)} - \\frac{2 c_{\\alpha}}{r}\\right)\\right) \\sin{\\left(x_{5} \\right)} \\cos^{2}{\\left(x_{5} \\right)}}{\\left(- M_{p}^{2} l^{2} \\cos^{2}{\\left(x_{5} \\right)} + \\left(I_{py} + M_{p} l^{2}\\right) \\left(\\frac{2 I_{wc}}{r^{2}} + M_{p} + 2 M_{w}\\right)\\right)^{2}} - \\frac{2 M_{p}^{2} l^{2} \\left(\\frac{2 I_{wc}}{r^{2}} + M_{p} + 2 M_{w}\\right) \\left(M_{p} g l \\sin{\\left(x_{5} \\right)} - T_{L} - T_{R} - 2 c_{\\alpha} x_{2} + \\frac{2 c_{\\alpha} x_{1}}{r} - x_{3}^{2} \\left(- I_{px} + I_{pz} - M_{p} l^{2}\\right) \\sin{\\left(x_{5} \\right)} \\cos{\\left(x_{5} \\right)}\\right) \\sin{\\left(x_{5} \\right)} \\cos{\\left(x_{5} \\right)}}{\\left(- M_{p}^{2} l^{2} \\cos^{2}{\\left(x_{5} \\right)} + \\left(I_{py} + M_{p} l^{2}\\right) \\left(\\frac{2 I_{wc}}{r^{2}} + M_{p} + 2 M_{w}\\right)\\right)^{2}} - \\frac{M_{p} l \\left(M_{p} l x_{2}^{2} \\cos{\\left(x_{5} \\right)} + M_{p} l x_{3}^{2} \\cos{\\left(x_{5} \\right)}\\right) \\cos{\\left(x_{5} \\right)}}{- M_{p}^{2} l^{2} \\cos^{2}{\\left(x_{5} \\right)} + \\left(I_{py} + M_{p} l^{2}\\right) \\left(\\frac{2 I_{wc}}{r^{2}} + M_{p} + 2 M_{w}\\right)} + \\frac{M_{p} l \\left(M_{p} l x_{3}^{2} \\sin{\\left(x_{5} \\right)} + \\frac{T_{L}}{r} + \\frac{T_{R}}{r} - \\frac{2 c_{\\alpha} x_{1}}{r^{2}} - x_{2} \\left(- M_{p} l x_{2} \\sin{\\left(x_{5} \\right)} - \\frac{2 c_{\\alpha}}{r}\\right)\\right) \\sin{\\left(x_{5} \\right)}}{- M_{p}^{2} l^{2} \\cos^{2}{\\left(x_{5} \\right)} + \\left(I_{py} + M_{p} l^{2}\\right) \\left(\\frac{2 I_{wc}}{r^{2}} + M_{p} + 2 M_{w}\\right)} + \\frac{\\left(\\frac{2 I_{wc}}{r^{2}} + M_{p} + 2 M_{w}\\right) \\left(M_{p} g l \\cos{\\left(x_{5} \\right)} + x_{3}^{2} \\left(- I_{px} + I_{pz} - M_{p} l^{2}\\right) \\sin^{2}{\\left(x_{5} \\right)} - x_{3}^{2} \\left(- I_{px} + I_{pz} - M_{p} l^{2}\\right) \\cos^{2}{\\left(x_{5} \\right)}\\right)}{- M_{p}^{2} l^{2} \\cos^{2}{\\left(x_{5} \\right)} + \\left(I_{py} + M_{p} l^{2}\\right) \\left(\\frac{2 I_{wc}}{r^{2}} + M_{p} + 2 M_{w}\\right)} & 0\\\\- \\frac{M_{p} l x_{3} \\sin{\\left(x_{5} \\right)}}{I_{pz} + 2 I_{wr} + \\frac{d^{2} \\left(\\frac{I_{wc}}{r^{2}} + M_{w}\\right)}{2} - \\left(- I_{px} + I_{pz} - M_{p} l^{2}\\right) \\sin^{2}{\\left(x_{5} \\right)}} & - \\frac{2 x_{3} \\left(I_{px} - I_{pz} + M_{p} l^{2}\\right) \\sin{\\left(x_{5} \\right)} \\cos{\\left(x_{5} \\right)}}{I_{pz} + 2 I_{wr} + \\frac{d^{2} \\left(\\frac{I_{wc}}{r^{2}} + M_{w}\\right)}{2} - \\left(- I_{px} + I_{pz} - M_{p} l^{2}\\right) \\sin^{2}{\\left(x_{5} \\right)}} & \\frac{- M_{p} l x_{1} \\sin{\\left(x_{5} \\right)} - \\frac{c_{\\alpha} d^{2}}{2 r^{2}} - 2 x_{2} \\left(I_{px} - I_{pz} + M_{p} l^{2}\\right) \\sin{\\left(x_{5} \\right)} \\cos{\\left(x_{5} \\right)}}{I_{pz} + 2 I_{wr} + \\frac{d^{2} \\left(\\frac{I_{wc}}{r^{2}} + M_{w}\\right)}{2} - \\left(- I_{px} + I_{pz} - M_{p} l^{2}\\right) \\sin^{2}{\\left(x_{5} \\right)}} & 0 & \\frac{2 \\left(- I_{px} + I_{pz} - M_{p} l^{2}\\right) \\left(- M_{p} l x_{1} x_{3} \\sin{\\left(x_{5} \\right)} - \\frac{T_{L} d}{2 r} + \\frac{T_{R} d}{2 r} - x_{2} x_{3} \\left(I_{px} - I_{pz} + M_{p} l^{2}\\right) \\sin{\\left(x_{5} \\right)} \\cos{\\left(x_{5} \\right)} - x_{3} \\left(\\frac{c_{\\alpha} d^{2}}{2 r^{2}} + x_{2} \\left(I_{px} - I_{pz} + M_{p} l^{2}\\right) \\sin{\\left(x_{5} \\right)} \\cos{\\left(x_{5} \\right)}\\right)\\right) \\sin{\\left(x_{5} \\right)} \\cos{\\left(x_{5} \\right)}}{\\left(I_{pz} + 2 I_{wr} + \\frac{d^{2} \\left(\\frac{I_{wc}}{r^{2}} + M_{w}\\right)}{2} - \\left(- I_{px} + I_{pz} - M_{p} l^{2}\\right) \\sin^{2}{\\left(x_{5} \\right)}\\right)^{2}} + \\frac{- M_{p} l x_{1} x_{3} \\cos{\\left(x_{5} \\right)} + x_{2} x_{3} \\left(I_{px} - I_{pz} + M_{p} l^{2}\\right) \\sin^{2}{\\left(x_{5} \\right)} - x_{2} x_{3} \\left(I_{px} - I_{pz} + M_{p} l^{2}\\right) \\cos^{2}{\\left(x_{5} \\right)} - x_{3} \\left(- x_{2} \\left(I_{px} - I_{pz} + M_{p} l^{2}\\right) \\sin^{2}{\\left(x_{5} \\right)} + x_{2} \\left(I_{px} - I_{pz} + M_{p} l^{2}\\right) \\cos^{2}{\\left(x_{5} \\right)}\\right)}{I_{pz} + 2 I_{wr} + \\frac{d^{2} \\left(\\frac{I_{wc}}{r^{2}} + M_{w}\\right)}{2} - \\left(- I_{px} + I_{pz} - M_{p} l^{2}\\right) \\sin^{2}{\\left(x_{5} \\right)}} & 0\\\\1 & 0 & 0 & 0 & 0 & 0\\\\0 & 1 & 0 & 0 & 0 & 0\\\\0 & 0 & 1 & 0 & 0 & 0\\end{matrix}\\right]$"
      ]
     },
     "metadata": {},
     "execution_count": 131
    }
   ],
   "metadata": {}
  },
  {
   "cell_type": "code",
   "execution_count": 132,
   "source": [
    "\n",
    "#* Calcualte the jacobian for the B matrix of the continuos time system\n",
    "Bc = Matrix(np.zeros((6,2)))\n",
    "\n",
    "for i,expr in enumerate(system_equations):\n",
    "    for j,torque in enumerate(u):\n",
    "        Bc[i,j] = diff(expr,torque)\n",
    "# Bc"
   ],
   "outputs": [],
   "metadata": {}
  },
  {
   "cell_type": "code",
   "execution_count": 133,
   "source": [
    "\n",
    "#* Evaluate Ac at the fixed points\n",
    "\n",
    "fixed_point = [0,0,0,0,0,0] # Values for dx/dt\n",
    "input_fixed_points = [0,0]\n",
    "\n",
    "Ac_eval = Ac.subs([(state_vec[0], fixed_point[0]),\n",
    "                   (state_vec[1], fixed_point[1]),\n",
    "                   (state_vec[2], fixed_point[2]),\n",
    "                   (state_vec[3], fixed_point[3]),\n",
    "                   (state_vec[4], fixed_point[4]),\n",
    "                   (state_vec[5], fixed_point[5]),\n",
    "                   (Tl,input_fixed_points[0]),\n",
    "                   (Tr,input_fixed_points[1])])\n",
    "\n",
    "# Ac_eval"
   ],
   "outputs": [],
   "metadata": {}
  },
  {
   "cell_type": "code",
   "execution_count": 134,
   "source": [
    "\n",
    "#* Evaluate Bc at the fixed points\n",
    "\n",
    "Bc_eval = Bc.subs([(state_vec[0], fixed_point[0]),\n",
    "                   (state_vec[1], fixed_point[1]),\n",
    "                   (state_vec[2], fixed_point[2]),\n",
    "                   (state_vec[3], fixed_point[3]),\n",
    "                   (state_vec[4], fixed_point[4]),\n",
    "                   (state_vec[5], fixed_point[5]),\n",
    "                   (Tl,input_fixed_points[0]),\n",
    "                   (Tr,input_fixed_points[1])])\n",
    "\n",
    "# Bc_eval"
   ],
   "outputs": [],
   "metadata": {}
  },
  {
   "cell_type": "code",
   "execution_count": 135,
   "source": [
    "\n",
    "# Define the values of each Model Parameter\n",
    "\n",
    "d_v    = (d,    0.1431)\n",
    "visc_v = (visc, 0.01)\n",
    "r_v    = (r,    0.05)\n",
    "Mp_v   = (Mp,   2.036)\n",
    "Mw_v   = (Mw,   0.268)\n",
    "Iw_c_v = (Iw_c, 0.00033613)\n",
    "Iw_r_v = (Iw_r, 0.00018876)\n",
    "g_v    = (g,    9.81)\n",
    "\n",
    "#-- Pose A ---\n",
    "l_v    = (l,   0.1806)\n",
    "Ip_x_v = (Ip_x, 0.02500992)\n",
    "Ip_y_v = (Ip_y, 0.02255237)\n",
    "Ip_z_v = (Ip_z, 0.00546422)\n"
   ],
   "outputs": [],
   "metadata": {}
  },
  {
   "cell_type": "code",
   "execution_count": 136,
   "source": [
    "\n",
    "#* Plug in the Model parameters values \n",
    "\n",
    "Ac_lin = Ac_eval.subs([d_v,visc_v,l_v,r_v,Mp_v,Mw_v,Iw_c_v,Iw_r_v,Ip_x_v,Ip_y_v,Ip_z_v,g_v])\n",
    "Bc_lin = Bc_eval.subs([d_v,visc_v,l_v,r_v,Mp_v,Mw_v,Iw_c_v,Iw_r_v,Ip_x_v,Ip_y_v,Ip_z_v,g_v])\n",
    "\n",
    "Ac_np = np.array(Ac_lin) # Converts it into a numpy array\n",
    "Bc_np = np.array(Bc_lin) # Converts it into a numpy array"
   ],
   "outputs": [],
   "metadata": {}
  },
  {
   "cell_type": "markdown",
   "source": [
    "## Discretization of the system \n",
    "---\n",
    "\n",
    "It was used the Zero-Order Hold method. The system was also reduced to 4 states, eliminating the yaw and x positions, as was done in the SK8 Paper.\n",
    "\n",
    "The formula used to calculate the **Bd** is in this [link](https://math.stackexchange.com/questions/658276/integral-of-matrix-exponential). It is the first fomula of the second answer."
   ],
   "metadata": {}
  },
  {
   "cell_type": "code",
   "execution_count": 137,
   "source": [
    "from scipy import linalg\n",
    "\n",
    "Ts = 0.01 # Sampling period. Fs = 100 hz\n",
    "\n",
    "Ad = linalg.expm(Ac_np*Ts) # Matrix exponential fot the Zero-order Hold\n",
    "\n",
    "Bd = np.eye(6)\n",
    "for n in range(2,100):\n",
    "    Bd = Bd + (Ac_np*Ts)**(n-1)/np.math.factorial(n)\n",
    "\n",
    "Bd = np.matmul(Bd*Ts,Bc_np) #TODO Pq os sinais ficaram o contrário do artigo do SK8?\n",
    "\n",
    "# Matrix(Ad)\n",
    "# Matrix(Bd)"
   ],
   "outputs": [],
   "metadata": {}
  },
  {
   "cell_type": "code",
   "execution_count": 138,
   "source": [
    "\n",
    "# Reduce the system to 4 states, only, ignoring the linear and Yaw positions\n",
    "\n",
    "Ar = np.zeros((4,4))\n",
    "Ar[0:3,0:3] =  Ad[0:3,0:3]\n",
    "Ar[3,0:3]   = Ad[4,0:3]\n",
    "Ar[0:3,3]   = Ad[0:3,4]\n",
    "Ar[3,3]     = Ad[4,4]\n",
    "\n",
    "Br = np.zeros((4,2))\n",
    "Br[0:3,:]   = Bd[0:3,:]\n",
    "Br[3,:]     = Bd[4,:]\n",
    "\n",
    "# Matrix(Ar)\n",
    "# Matrix(Br)"
   ],
   "outputs": [],
   "metadata": {}
  },
  {
   "cell_type": "markdown",
   "source": [
    "## System Simulation\n",
    "---"
   ],
   "metadata": {}
  },
  {
   "cell_type": "code",
   "execution_count": 139,
   "source": [
    "\n",
    "sys2sim = system_equations.subs([d_v,visc_v,l_v,r_v,Mp_v,Mw_v,Iw_c_v,Iw_r_v,Ip_x_v,Ip_y_v,Ip_z_v,g_v])\n",
    "jac2sim = Ac.subs([d_v,visc_v,l_v,r_v,Mp_v,Mw_v,Iw_c_v,Iw_r_v,Ip_x_v,Ip_y_v,Ip_z_v,g_v])\n",
    "# jac2sim"
   ],
   "outputs": [],
   "metadata": {}
  },
  {
   "cell_type": "code",
   "execution_count": 140,
   "source": [
    "from scipy import integrate\n",
    "\n",
    "state_initial_conditions = [0,0,0,1,0.1,0]\n",
    "initial_inputs = [0,0]\n",
    "t0 = 0\n",
    "\n",
    "func = lambdify([t, state_vec, u],sys2sim,'numpy')\n",
    "func_jac = lambdify([t, state_vec, u],jac2sim,'numpy')\n",
    "\n",
    "# func(0,state_initial_conditions, initial_inputs)\n",
    "# func_jac(0,state_initial_conditions, initial_inputs)"
   ],
   "outputs": [],
   "metadata": {}
  },
  {
   "cell_type": "code",
   "execution_count": 141,
   "source": [
    "\n",
    "simulator = integrate.ode(func, func_jac)\n",
    "simulator.set_initial_value(state_initial_conditions, t0)\n",
    "simulator.set_f_params(initial_inputs)\n",
    "simulator.set_jac_params(initial_inputs)\n",
    "\n",
    "def call_controller(current_states):\n",
    "    return [0,0]\n",
    "\n",
    "t1 = 10\n",
    "dt = 0.001\n",
    "controller_time = -1\n",
    "controller_calls = 0\n",
    "current_inputs = initial_inputs\n",
    "\n",
    "while simulator.successful() and simulator.t <= t1:\n",
    "    current_states = simulator.integrate(simulator.t+dt)\n",
    "    current_inputs = call_controller(current_states)\n",
    "    simulator.set_f_params(current_inputs)\n",
    "    simulator.set_jac_params(current_inputs)\n",
    "    # controller_time += dt\n",
    "    # if(controller_time >= Ts or controller_time < 0):\n",
    "    #     controller_calls += 1\n",
    "    #     current_inputs = call_controller(current_states)\n",
    "    #     simulator.set_f_params(current_inputs)\n",
    "    #     simulator.set_jac_params(current_inputs)\n",
    "    #     controller_time = 0 \n",
    "\n",
    "print(controller_calls)"
   ],
   "outputs": [
    {
     "output_type": "stream",
     "name": "stdout",
     "text": [
      "0\n"
     ]
    }
   ],
   "metadata": {}
  },
  {
   "cell_type": "markdown",
   "source": [
    "## Control Analysis\n",
    "---"
   ],
   "metadata": {}
  },
  {
   "cell_type": "code",
   "execution_count": 142,
   "source": [
    "import control\n",
    "\n",
    "C_ss = np.eye(4)\n",
    "D_ss = np.zeros((4,2))\n",
    "\n",
    "ctrb_m = control.ctrb(Ar,Br)\n",
    "rank_ctrb = np.linalg.matrix_rank(ctrb_m) # If result is 4, the system is controlable\n",
    "\n",
    "obs_m = control.obsv(Ar,C_ss)\n",
    "rank_obs = np.linalg.matrix_rank(obs_m) # If result is 4, the system is controlable\n",
    "\n",
    "print(rank_obs,rank_ctrb)"
   ],
   "outputs": [
    {
     "output_type": "stream",
     "name": "stdout",
     "text": [
      "4 4\n"
     ]
    }
   ],
   "metadata": {}
  },
  {
   "cell_type": "code",
   "execution_count": 151,
   "source": [
    "ss_system = control.ss(Ar,Br,C_ss,D_ss)\n",
    "ss_system\n"
   ],
   "outputs": [
    {
     "output_type": "execute_result",
     "data": {
      "text/plain": [
       "StateSpace(array([[ 0.93007122,  0.00295036,  0.        , -0.10747134],\n",
       "       [ 0.33226133,  0.98766146,  0.        ,  0.84686653],\n",
       "       [ 0.        ,  0.        ,  0.95972362,  0.        ],\n",
       "       [ 0.0016851 ,  0.00993006,  0.        ,  1.00427453]]), array([[ 0.17458062,  0.17458062],\n",
       "       [-0.82431881, -0.82431881],\n",
       "       [-1.40728075,  1.40728075],\n",
       "       [-0.00435202, -0.00435202]]), array([[1., 0., 0., 0.],\n",
       "       [0., 1., 0., 0.],\n",
       "       [0., 0., 1., 0.],\n",
       "       [0., 0., 0., 1.]]), array([[0., 0.],\n",
       "       [0., 0.],\n",
       "       [0., 0.],\n",
       "       [0., 0.]]))"
      ],
      "text/latex": [
       "\\[\n",
       "\\left(\n",
       "\\begin{array}{rllrllrllrll|rllrll}\n",
       "0.&\\hspace{-1em}93&\\hspace{-1em}\\phantom{\\cdot}&0.&\\hspace{-1em}00295&\\hspace{-1em}\\phantom{\\cdot}&0\\phantom{.}&\\hspace{-1em}&\\hspace{-1em}\\phantom{\\cdot}&-0.&\\hspace{-1em}107&\\hspace{-1em}\\phantom{\\cdot}&0.&\\hspace{-1em}175&\\hspace{-1em}\\phantom{\\cdot}&0.&\\hspace{-1em}175&\\hspace{-1em}\\phantom{\\cdot}\\\\\n",
       "0.&\\hspace{-1em}332&\\hspace{-1em}\\phantom{\\cdot}&0.&\\hspace{-1em}988&\\hspace{-1em}\\phantom{\\cdot}&0\\phantom{.}&\\hspace{-1em}&\\hspace{-1em}\\phantom{\\cdot}&0.&\\hspace{-1em}847&\\hspace{-1em}\\phantom{\\cdot}&-0.&\\hspace{-1em}824&\\hspace{-1em}\\phantom{\\cdot}&-0.&\\hspace{-1em}824&\\hspace{-1em}\\phantom{\\cdot}\\\\\n",
       "0\\phantom{.}&\\hspace{-1em}&\\hspace{-1em}\\phantom{\\cdot}&0\\phantom{.}&\\hspace{-1em}&\\hspace{-1em}\\phantom{\\cdot}&0.&\\hspace{-1em}96&\\hspace{-1em}\\phantom{\\cdot}&0\\phantom{.}&\\hspace{-1em}&\\hspace{-1em}\\phantom{\\cdot}&-1.&\\hspace{-1em}41&\\hspace{-1em}\\phantom{\\cdot}&1.&\\hspace{-1em}41&\\hspace{-1em}\\phantom{\\cdot}\\\\\n",
       "0.&\\hspace{-1em}00169&\\hspace{-1em}\\phantom{\\cdot}&0.&\\hspace{-1em}00993&\\hspace{-1em}\\phantom{\\cdot}&0\\phantom{.}&\\hspace{-1em}&\\hspace{-1em}\\phantom{\\cdot}&1\\phantom{.}&\\hspace{-1em}&\\hspace{-1em}\\phantom{\\cdot}&-0.&\\hspace{-1em}00435&\\hspace{-1em}\\phantom{\\cdot}&-0.&\\hspace{-1em}00435&\\hspace{-1em}\\phantom{\\cdot}\\\\\n",
       "\\hline\n",
       "1\\phantom{.}&\\hspace{-1em}&\\hspace{-1em}\\phantom{\\cdot}&0\\phantom{.}&\\hspace{-1em}&\\hspace{-1em}\\phantom{\\cdot}&0\\phantom{.}&\\hspace{-1em}&\\hspace{-1em}\\phantom{\\cdot}&0\\phantom{.}&\\hspace{-1em}&\\hspace{-1em}\\phantom{\\cdot}&0\\phantom{.}&\\hspace{-1em}&\\hspace{-1em}\\phantom{\\cdot}&0\\phantom{.}&\\hspace{-1em}&\\hspace{-1em}\\phantom{\\cdot}\\\\\n",
       "0\\phantom{.}&\\hspace{-1em}&\\hspace{-1em}\\phantom{\\cdot}&1\\phantom{.}&\\hspace{-1em}&\\hspace{-1em}\\phantom{\\cdot}&0\\phantom{.}&\\hspace{-1em}&\\hspace{-1em}\\phantom{\\cdot}&0\\phantom{.}&\\hspace{-1em}&\\hspace{-1em}\\phantom{\\cdot}&0\\phantom{.}&\\hspace{-1em}&\\hspace{-1em}\\phantom{\\cdot}&0\\phantom{.}&\\hspace{-1em}&\\hspace{-1em}\\phantom{\\cdot}\\\\\n",
       "0\\phantom{.}&\\hspace{-1em}&\\hspace{-1em}\\phantom{\\cdot}&0\\phantom{.}&\\hspace{-1em}&\\hspace{-1em}\\phantom{\\cdot}&1\\phantom{.}&\\hspace{-1em}&\\hspace{-1em}\\phantom{\\cdot}&0\\phantom{.}&\\hspace{-1em}&\\hspace{-1em}\\phantom{\\cdot}&0\\phantom{.}&\\hspace{-1em}&\\hspace{-1em}\\phantom{\\cdot}&0\\phantom{.}&\\hspace{-1em}&\\hspace{-1em}\\phantom{\\cdot}\\\\\n",
       "0\\phantom{.}&\\hspace{-1em}&\\hspace{-1em}\\phantom{\\cdot}&0\\phantom{.}&\\hspace{-1em}&\\hspace{-1em}\\phantom{\\cdot}&0\\phantom{.}&\\hspace{-1em}&\\hspace{-1em}\\phantom{\\cdot}&1\\phantom{.}&\\hspace{-1em}&\\hspace{-1em}\\phantom{\\cdot}&0\\phantom{.}&\\hspace{-1em}&\\hspace{-1em}\\phantom{\\cdot}&0\\phantom{.}&\\hspace{-1em}&\\hspace{-1em}\\phantom{\\cdot}\\\\\n",
       "\\end{array}\\right)\n",
       "\\]"
      ]
     },
     "metadata": {},
     "execution_count": 151
    }
   ],
   "metadata": {}
  },
  {
   "cell_type": "markdown",
   "source": [
    "## View all matrices\n",
    "----"
   ],
   "metadata": {}
  },
  {
   "cell_type": "code",
   "execution_count": 144,
   "source": [
    "M"
   ],
   "outputs": [
    {
     "output_type": "execute_result",
     "data": {
      "text/plain": [
       "Matrix([\n",
       "[2*I_wc/r**2 + M_p + 2*M_w, M_p*l*cos(theta),                                                                                  0],\n",
       "[         M_p*l*cos(theta),  I_py + M_p*l**2,                                                                                  0],\n",
       "[                        0,                0, I_pz + 2*I_wr + d**2*(I_wc/r**2 + M_w)/2 - (-I_px + I_pz - M_p*l**2)*sin(theta)**2]])"
      ],
      "text/latex": [
       "$\\displaystyle \\left[\\begin{matrix}\\frac{2 I_{wc}}{r^{2}} + M_{p} + 2 M_{w} & M_{p} l \\cos{\\left(\\theta \\right)} & 0\\\\M_{p} l \\cos{\\left(\\theta \\right)} & I_{py} + M_{p} l^{2} & 0\\\\0 & 0 & I_{pz} + 2 I_{wr} + \\frac{d^{2} \\left(\\frac{I_{wc}}{r^{2}} + M_{w}\\right)}{2} - \\left(- I_{px} + I_{pz} - M_{p} l^{2}\\right) \\sin^{2}{\\left(\\theta \\right)}\\end{matrix}\\right]$"
      ]
     },
     "metadata": {},
     "execution_count": 144
    }
   ],
   "metadata": {}
  },
  {
   "cell_type": "code",
   "execution_count": 145,
   "source": [
    "C"
   ],
   "outputs": [
    {
     "output_type": "execute_result",
     "data": {
      "text/plain": [
       "Matrix([\n",
       "[                                  0,                            -M_p*l*sin(theta)*Derivative(theta, t),                                -M_p*l*sin(theta)*Derivative(psi, t)],\n",
       "[                                  0,                                                                 0,  (-I_px + I_pz - M_p*l**2)*sin(theta)*cos(theta)*Derivative(psi, t)],\n",
       "[M_p*l*sin(theta)*Derivative(psi, t), (I_px - I_pz + M_p*l**2)*sin(theta)*cos(theta)*Derivative(psi, t), (I_px - I_pz + M_p*l**2)*sin(theta)*cos(theta)*Derivative(theta, t)]])"
      ],
      "text/latex": [
       "$\\displaystyle \\left[\\begin{matrix}0 & - M_{p} l \\sin{\\left(\\theta \\right)} \\frac{d}{d t} \\theta & - M_{p} l \\sin{\\left(\\theta \\right)} \\frac{d}{d t} \\psi\\\\0 & 0 & \\left(- I_{px} + I_{pz} - M_{p} l^{2}\\right) \\sin{\\left(\\theta \\right)} \\cos{\\left(\\theta \\right)} \\frac{d}{d t} \\psi\\\\M_{p} l \\sin{\\left(\\theta \\right)} \\frac{d}{d t} \\psi & \\left(I_{px} - I_{pz} + M_{p} l^{2}\\right) \\sin{\\left(\\theta \\right)} \\cos{\\left(\\theta \\right)} \\frac{d}{d t} \\psi & \\left(I_{px} - I_{pz} + M_{p} l^{2}\\right) \\sin{\\left(\\theta \\right)} \\cos{\\left(\\theta \\right)} \\frac{d}{d t} \\theta\\end{matrix}\\right]$"
      ]
     },
     "metadata": {},
     "execution_count": 145
    }
   ],
   "metadata": {}
  },
  {
   "cell_type": "code",
   "execution_count": 146,
   "source": [
    "D"
   ],
   "outputs": [
    {
     "output_type": "execute_result",
     "data": {
      "text/plain": [
       "Matrix([\n",
       "[2*c_alpha/r**2, -2*c_alpha/r,                     0],\n",
       "[  -2*c_alpha/r,    2*c_alpha,                     0],\n",
       "[             0,            0, c_alpha*d**2/(2*r**2)]])"
      ],
      "text/latex": [
       "$\\displaystyle \\left[\\begin{matrix}\\frac{2 c_{\\alpha}}{r^{2}} & - \\frac{2 c_{\\alpha}}{r} & 0\\\\- \\frac{2 c_{\\alpha}}{r} & 2 c_{\\alpha} & 0\\\\0 & 0 & \\frac{c_{\\alpha} d^{2}}{2 r^{2}}\\end{matrix}\\right]$"
      ]
     },
     "metadata": {},
     "execution_count": 146
    }
   ],
   "metadata": {}
  },
  {
   "cell_type": "code",
   "execution_count": 147,
   "source": [
    "B"
   ],
   "outputs": [
    {
     "output_type": "execute_result",
     "data": {
      "text/plain": [
       "Matrix([\n",
       "[     1/r,     1/r],\n",
       "[      -1,      -1],\n",
       "[-d/(2*r), d/(2*r)]])"
      ],
      "text/latex": [
       "$\\displaystyle \\left[\\begin{matrix}\\frac{1}{r} & \\frac{1}{r}\\\\-1 & -1\\\\- \\frac{d}{2 r} & \\frac{d}{2 r}\\end{matrix}\\right]$"
      ]
     },
     "metadata": {},
     "execution_count": 147
    }
   ],
   "metadata": {}
  },
  {
   "cell_type": "code",
   "execution_count": 148,
   "source": [
    "G"
   ],
   "outputs": [
    {
     "output_type": "execute_result",
     "data": {
      "text/plain": [
       "Matrix([\n",
       "[                  0],\n",
       "[-M_p*g*l*sin(theta)],\n",
       "[                  0]])"
      ],
      "text/latex": [
       "$\\displaystyle \\left[\\begin{matrix}0\\\\- M_{p} g l \\sin{\\left(\\theta \\right)}\\\\0\\end{matrix}\\right]$"
      ]
     },
     "metadata": {},
     "execution_count": 148
    }
   ],
   "metadata": {}
  },
  {
   "cell_type": "code",
   "execution_count": 149,
   "source": [
    "u"
   ],
   "outputs": [
    {
     "output_type": "execute_result",
     "data": {
      "text/plain": [
       "Matrix([\n",
       "[T_L],\n",
       "[T_R]])"
      ],
      "text/latex": [
       "$\\displaystyle \\left[\\begin{matrix}T_{L}\\\\T_{R}\\end{matrix}\\right]$"
      ]
     },
     "metadata": {},
     "execution_count": 149
    }
   ],
   "metadata": {}
  },
  {
   "cell_type": "code",
   "execution_count": 150,
   "source": [
    "f = symbols('f', constant=True)\n",
    "f\n"
   ],
   "outputs": [
    {
     "output_type": "execute_result",
     "data": {
      "text/plain": [
       "f"
      ],
      "text/latex": [
       "$\\displaystyle f$"
      ]
     },
     "metadata": {},
     "execution_count": 150
    }
   ],
   "metadata": {}
  },
  {
   "cell_type": "code",
   "execution_count": null,
   "source": [],
   "outputs": [],
   "metadata": {}
  }
 ]
}