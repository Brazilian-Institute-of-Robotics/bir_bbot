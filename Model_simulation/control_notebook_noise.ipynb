{
    "cells": [
        {
            "cell_type": "markdown",
            "source": [
                "# Simulation of the system with NOISE\n",
                "---\n",
                "\n",
                "The simulation can be performed in the Non-linear or the linear model of the system.  \n",
                "Both include Torque steps on the wheels as disturbance but with the linearized model, sensor readings noise and little constants disturbances on the system states could be simulated. See the (System Simulation section). "
            ],
            "metadata": {}
        },
        {
            "cell_type": "markdown",
            "source": [
                "## Symbols Definitons\n",
                "---"
            ],
            "metadata": {}
        },
        {
            "cell_type": "code",
            "execution_count": 3,
            "source": [
                "import numpy as np\n",
                "from sympy import *\n",
                "import matplotlib.pyplot as plt\n",
                "\n",
                "#--- Model Parameters ---\n",
                "d       = symbols('d',    real=True, positive=True)         # Distance between wheels\n",
                "visc    = symbols('c_alpha',real=True)                      # Viscous, damping constant \n",
                "l       = symbols('l',    real=True, positive=True)         # Height of the COM\n",
                "r       = symbols('r',    real=True, positive=True)         # Radius of the wheel\n",
                "Mp      = symbols('M_p',  real=True, positive=True)         # Mass of the pendulum without the wheels\n",
                "Mw      = symbols('M_w',  real=True, positive=True)         # Mass of each wheel\n",
                "Iw_c    = symbols('I_wc',  real=True)                       # MOI wheel center\n",
                "Iw_r    = symbols('I_wr',  real=True)                       # MOI wheel radial\n",
                "Ip_x    = symbols('I_px',  real=True)                       # MOI pendulum x\n",
                "Ip_y    = symbols('I_py',  real=True)                       # MOI pendulum y\n",
                "Ip_z    = symbols('I_pz',  real=True)                       # MOI pendulum z\n",
                "\n",
                "#--- Constants & Aux. variables ---\n",
                "g = symbols('g', constant=True)                             # Gravity acceleration\n",
                "t = symbols('t', real=True)                                 # Time\n",
                "\n",
                "#--- State Variables ---\n",
                "x           = symbols('x',  real=True)                      # Linear pos\n",
                "pitch       = symbols('theta',  real=True)                  # Pitch angle\n",
                "yaw         = symbols('psi',  real=True)                    # Yaw angle\n",
                "x_vel       = Derivative(x,t)                               # Linear vel\n",
                "pitch_vel   = Derivative(pitch,t)                           # Pitch vel\n",
                "yaw_vel     = Derivative(yaw,t)                             # Yaw vel\n",
                "x_acc       = Derivative(x_vel,t)                           # Linear acc\n",
                "pitch_acc   = Derivative(pitch_vel,t)                       # Pitch acc\n",
                "yaw_acc     = Derivative(yaw_vel,t)                         # Yaw acc\n",
                "\n",
                "#--- Inputs ---\n",
                "Tl = symbols('T_L', real=True)                              # Torque of the left wheel\n",
                "Tr = symbols('T_R', real=True)                              # Torque of the right wheel"
            ],
            "outputs": [],
            "metadata": {}
        },
        {
            "cell_type": "markdown",
            "source": [
                "## Defining all the matrices of the system\n",
                "----------"
            ],
            "metadata": {}
        },
        {
            "cell_type": "code",
            "execution_count": 4,
            "source": [
                "\n",
                "#*--- Matrices for the 3 states model\n",
                "M = Matrix([[Mp+2*Mw+2*Iw_c/r**2, Mp*l*cos(pitch) ,                                                                     0],\n",
                "            [ Mp*l*cos(pitch)   , Ip_y+Mp*l**2    ,                                                                     0],\n",
                "            [0                  ,                0, Ip_z+2*Iw_r+(Mw+Iw_c/r**2)*d**2/2-(Ip_z-Ip_x-Mp*l**2)*sin(pitch)**2  ]])\n",
                "\n",
                "C = Matrix([[                      0, -Mp*l*pitch_vel*sin(pitch),                          -Mp*l*yaw_vel*sin(pitch)],\n",
                "            [                      0,                          0, (Ip_z-Ip_x-Mp*l**2)*yaw_vel*sin(pitch)*cos(pitch)],\n",
                "            [Mp*l*yaw_vel*sin(pitch), -(Ip_z-Ip_x-Mp*l**2)*yaw_vel*sin(pitch)*cos(pitch), -(Ip_z-Ip_x-Mp*l**2)*pitch_vel*sin(pitch)*cos(pitch)]])\n",
                "\n",
                "D = Matrix([[2*visc/r**2, -2*visc/r, 0],\n",
                "            [-2*visc/r, 2*visc, 0],\n",
                "            [0, 0, (d**2/(2*r**2))*visc]])\n",
                "\n",
                "B = Matrix([[     1/r,     1/r],\n",
                "            [      -1,      -1],\n",
                "            [-d/(2*r), d/(2*r)]])\n",
                "\n",
                "G = Matrix([[0],[-Mp*l*g*sin(pitch)], [0]])\n",
                "\n",
                "q = Matrix([[x],[pitch],[yaw]])\n",
                "\n",
                "q_diff = Matrix([[x_vel],[pitch_vel],[yaw_vel]])\n",
                "\n",
                "q_2diff = Matrix([[x_acc],[pitch_acc],[yaw_acc]])\n",
                "\n",
                "u = Matrix([[Tl],[Tr]])"
            ],
            "outputs": [],
            "metadata": {}
        },
        {
            "cell_type": "code",
            "execution_count": 5,
            "source": [
                "M_inv = M.inv()"
            ],
            "outputs": [],
            "metadata": {}
        },
        {
            "cell_type": "markdown",
            "source": [
                "## Show system in expression form\n",
                "---"
            ],
            "metadata": {}
        },
        {
            "cell_type": "code",
            "execution_count": 6,
            "source": [
                "expr_model = M_inv*((B*u-G)-(C+D)*q_diff)\n",
                "eqts_model = Eq(q_2diff,expr_model)\n",
                "eqts_model"
            ],
            "outputs": [
                {
                    "output_type": "execute_result",
                    "data": {
                        "text/latex": [
                            "$\\displaystyle \\left[\\begin{matrix}\\frac{d^{2}}{d t^{2}} x\\\\\\frac{d^{2}}{d t^{2}} \\theta\\\\\\frac{d^{2}}{d t^{2}} \\psi\\end{matrix}\\right] = \\left[\\begin{matrix}- \\frac{M_{p} l \\left(M_{p} g l \\sin{\\left(\\theta \\right)} - T_{L} - T_{R} - 2 c_{\\alpha} \\frac{d}{d t} \\theta + \\frac{2 c_{\\alpha} \\frac{d}{d t} x}{r} - \\left(- I_{px} + I_{pz} - M_{p} l^{2}\\right) \\sin{\\left(\\theta \\right)} \\cos{\\left(\\theta \\right)} \\left(\\frac{d}{d t} \\psi\\right)^{2}\\right) \\cos{\\left(\\theta \\right)}}{- M_{p}^{2} l^{2} \\cos^{2}{\\left(\\theta \\right)} + \\left(I_{py} + M_{p} l^{2}\\right) \\left(\\frac{2 I_{wc}}{r^{2}} + M_{p} + 2 M_{w}\\right)} + \\frac{\\left(I_{py} + M_{p} l^{2}\\right) \\left(M_{p} l \\sin{\\left(\\theta \\right)} \\left(\\frac{d}{d t} \\psi\\right)^{2} + \\frac{T_{L}}{r} + \\frac{T_{R}}{r} - \\frac{2 c_{\\alpha} \\frac{d}{d t} x}{r^{2}} - \\left(- M_{p} l \\sin{\\left(\\theta \\right)} \\frac{d}{d t} \\theta - \\frac{2 c_{\\alpha}}{r}\\right) \\frac{d}{d t} \\theta\\right)}{- M_{p}^{2} l^{2} \\cos^{2}{\\left(\\theta \\right)} + \\left(I_{py} + M_{p} l^{2}\\right) \\left(\\frac{2 I_{wc}}{r^{2}} + M_{p} + 2 M_{w}\\right)}\\\\- \\frac{M_{p} l \\left(M_{p} l \\sin{\\left(\\theta \\right)} \\left(\\frac{d}{d t} \\psi\\right)^{2} + \\frac{T_{L}}{r} + \\frac{T_{R}}{r} - \\frac{2 c_{\\alpha} \\frac{d}{d t} x}{r^{2}} - \\left(- M_{p} l \\sin{\\left(\\theta \\right)} \\frac{d}{d t} \\theta - \\frac{2 c_{\\alpha}}{r}\\right) \\frac{d}{d t} \\theta\\right) \\cos{\\left(\\theta \\right)}}{- M_{p}^{2} l^{2} \\cos^{2}{\\left(\\theta \\right)} + \\left(I_{py} + M_{p} l^{2}\\right) \\left(\\frac{2 I_{wc}}{r^{2}} + M_{p} + 2 M_{w}\\right)} + \\frac{\\left(\\frac{2 I_{wc}}{r^{2}} + M_{p} + 2 M_{w}\\right) \\left(M_{p} g l \\sin{\\left(\\theta \\right)} - T_{L} - T_{R} - 2 c_{\\alpha} \\frac{d}{d t} \\theta + \\frac{2 c_{\\alpha} \\frac{d}{d t} x}{r} - \\left(- I_{px} + I_{pz} - M_{p} l^{2}\\right) \\sin{\\left(\\theta \\right)} \\cos{\\left(\\theta \\right)} \\left(\\frac{d}{d t} \\psi\\right)^{2}\\right)}{- M_{p}^{2} l^{2} \\cos^{2}{\\left(\\theta \\right)} + \\left(I_{py} + M_{p} l^{2}\\right) \\left(\\frac{2 I_{wc}}{r^{2}} + M_{p} + 2 M_{w}\\right)}\\\\\\frac{- M_{p} l \\sin{\\left(\\theta \\right)} \\frac{d}{d t} \\psi \\frac{d}{d t} x - \\frac{T_{L} d}{2 r} + \\frac{T_{R} d}{2 r} - \\left(\\frac{c_{\\alpha} d^{2}}{2 r^{2}} + \\left(I_{px} - I_{pz} + M_{p} l^{2}\\right) \\sin{\\left(\\theta \\right)} \\cos{\\left(\\theta \\right)} \\frac{d}{d t} \\theta\\right) \\frac{d}{d t} \\psi - \\left(I_{px} - I_{pz} + M_{p} l^{2}\\right) \\sin{\\left(\\theta \\right)} \\cos{\\left(\\theta \\right)} \\frac{d}{d t} \\psi \\frac{d}{d t} \\theta}{I_{pz} + 2 I_{wr} + \\frac{d^{2} \\left(\\frac{I_{wc}}{r^{2}} + M_{w}\\right)}{2} - \\left(- I_{px} + I_{pz} - M_{p} l^{2}\\right) \\sin^{2}{\\left(\\theta \\right)}}\\end{matrix}\\right]$"
                        ],
                        "text/plain": [
                            "Eq(Matrix([\n",
                            "[    Derivative(x, (t, 2))],\n",
                            "[Derivative(theta, (t, 2))],\n",
                            "[  Derivative(psi, (t, 2))]]), Matrix([\n",
                            "[          -M_p*l*(M_p*g*l*sin(theta) - T_L - T_R - 2*c_alpha*Derivative(theta, t) + 2*c_alpha*Derivative(x, t)/r - (-I_px + I_pz - M_p*l**2)*sin(theta)*cos(theta)*Derivative(psi, t)**2)*cos(theta)/(-M_p**2*l**2*cos(theta)**2 + (I_py + M_p*l**2)*(2*I_wc/r**2 + M_p + 2*M_w)) + (I_py + M_p*l**2)*(M_p*l*sin(theta)*Derivative(psi, t)**2 + T_L/r + T_R/r - 2*c_alpha*Derivative(x, t)/r**2 - (-M_p*l*sin(theta)*Derivative(theta, t) - 2*c_alpha/r)*Derivative(theta, t))/(-M_p**2*l**2*cos(theta)**2 + (I_py + M_p*l**2)*(2*I_wc/r**2 + M_p + 2*M_w))],\n",
                            "[-M_p*l*(M_p*l*sin(theta)*Derivative(psi, t)**2 + T_L/r + T_R/r - 2*c_alpha*Derivative(x, t)/r**2 - (-M_p*l*sin(theta)*Derivative(theta, t) - 2*c_alpha/r)*Derivative(theta, t))*cos(theta)/(-M_p**2*l**2*cos(theta)**2 + (I_py + M_p*l**2)*(2*I_wc/r**2 + M_p + 2*M_w)) + (2*I_wc/r**2 + M_p + 2*M_w)*(M_p*g*l*sin(theta) - T_L - T_R - 2*c_alpha*Derivative(theta, t) + 2*c_alpha*Derivative(x, t)/r - (-I_px + I_pz - M_p*l**2)*sin(theta)*cos(theta)*Derivative(psi, t)**2)/(-M_p**2*l**2*cos(theta)**2 + (I_py + M_p*l**2)*(2*I_wc/r**2 + M_p + 2*M_w))],\n",
                            "[                                                                                                                                                                       (-M_p*l*sin(theta)*Derivative(psi, t)*Derivative(x, t) - T_L*d/(2*r) + T_R*d/(2*r) - (c_alpha*d**2/(2*r**2) + (I_px - I_pz + M_p*l**2)*sin(theta)*cos(theta)*Derivative(theta, t))*Derivative(psi, t) - (I_px - I_pz + M_p*l**2)*sin(theta)*cos(theta)*Derivative(psi, t)*Derivative(theta, t))/(I_pz + 2*I_wr + d**2*(I_wc/r**2 + M_w)/2 - (-I_px + I_pz - M_p*l**2)*sin(theta)**2)]]))"
                        ]
                    },
                    "metadata": {},
                    "execution_count": 6
                }
            ],
            "metadata": {}
        },
        {
            "cell_type": "code",
            "execution_count": 7,
            "source": [
                "\n",
                "#* Convert real variables into state-space variables\n",
                "\n",
                "# Build state vector\n",
                "real_state_vec = q_diff.row_insert(4,q)\n",
                "state_vec = Matrix(list(symbols('x1:7',real=True)))\n",
                "state_eq = Eq(state_vec,real_state_vec)\n",
                "state_eq"
            ],
            "outputs": [
                {
                    "output_type": "execute_result",
                    "data": {
                        "text/latex": [
                            "$\\displaystyle \\left[\\begin{matrix}x_{1}\\\\x_{2}\\\\x_{3}\\\\x_{4}\\\\x_{5}\\\\x_{6}\\end{matrix}\\right] = \\left[\\begin{matrix}\\frac{d}{d t} x\\\\\\frac{d}{d t} \\theta\\\\\\frac{d}{d t} \\psi\\\\x\\\\\\theta\\\\\\psi\\end{matrix}\\right]$"
                        ],
                        "text/plain": [
                            "Eq(Matrix([\n",
                            "[x1],\n",
                            "[x2],\n",
                            "[x3],\n",
                            "[x4],\n",
                            "[x5],\n",
                            "[x6]]), Matrix([\n",
                            "[    Derivative(x, t)],\n",
                            "[Derivative(theta, t)],\n",
                            "[  Derivative(psi, t)],\n",
                            "[                   x],\n",
                            "[               theta],\n",
                            "[                 psi]]))"
                        ]
                    },
                    "metadata": {},
                    "execution_count": 7
                }
            ],
            "metadata": {}
        },
        {
            "cell_type": "code",
            "execution_count": 8,
            "source": [
                "\n",
                "#* Build the derivative of the state vector\n",
                "\n",
                "real_state_diff_vec = q_2diff.row_insert(4,q_diff)\n",
                "state_diff_vec = []\n",
                "for sym in state_vec:\n",
                "    state_diff_vec.append(Derivative(sym,t))\n",
                "state_diff_vec = Matrix(state_diff_vec)\n",
                "state_diff_eq = Eq(state_diff_vec,real_state_diff_vec)\n",
                "\n",
                "#* Build the vector of system equations\n",
                "\n",
                "system_equations = expr_model.row_insert(4,q_diff)\n",
                "\n",
                "#* Substitute the real variables with the state-stape model variables: x1:x6\n",
                "\n",
                "for i in range(6):\n",
                "        system_equations = system_equations.subs(real_state_vec[i],state_vec[i])\n",
                "\n",
                "#* Show the system of equations that will be used in the state space form \n",
                "\n",
                "eq_sys = Eq(state_diff_vec,system_equations)\n",
                "eq_sys"
            ],
            "outputs": [
                {
                    "output_type": "execute_result",
                    "data": {
                        "text/latex": [
                            "$\\displaystyle \\left[\\begin{matrix}\\frac{d}{d t} x_{1}\\\\\\frac{d}{d t} x_{2}\\\\\\frac{d}{d t} x_{3}\\\\\\frac{d}{d t} x_{4}\\\\\\frac{d}{d t} x_{5}\\\\\\frac{d}{d t} x_{6}\\end{matrix}\\right] = \\left[\\begin{matrix}- \\frac{M_{p} l \\left(M_{p} g l \\sin{\\left(x_{5} \\right)} - T_{L} - T_{R} - 2 c_{\\alpha} x_{2} + \\frac{2 c_{\\alpha} x_{1}}{r} - x_{3}^{2} \\left(- I_{px} + I_{pz} - M_{p} l^{2}\\right) \\sin{\\left(x_{5} \\right)} \\cos{\\left(x_{5} \\right)}\\right) \\cos{\\left(x_{5} \\right)}}{- M_{p}^{2} l^{2} \\cos^{2}{\\left(x_{5} \\right)} + \\left(I_{py} + M_{p} l^{2}\\right) \\left(\\frac{2 I_{wc}}{r^{2}} + M_{p} + 2 M_{w}\\right)} + \\frac{\\left(I_{py} + M_{p} l^{2}\\right) \\left(M_{p} l x_{3}^{2} \\sin{\\left(x_{5} \\right)} + \\frac{T_{L}}{r} + \\frac{T_{R}}{r} - \\frac{2 c_{\\alpha} x_{1}}{r^{2}} - x_{2} \\left(- M_{p} l x_{2} \\sin{\\left(x_{5} \\right)} - \\frac{2 c_{\\alpha}}{r}\\right)\\right)}{- M_{p}^{2} l^{2} \\cos^{2}{\\left(x_{5} \\right)} + \\left(I_{py} + M_{p} l^{2}\\right) \\left(\\frac{2 I_{wc}}{r^{2}} + M_{p} + 2 M_{w}\\right)}\\\\- \\frac{M_{p} l \\left(M_{p} l x_{3}^{2} \\sin{\\left(x_{5} \\right)} + \\frac{T_{L}}{r} + \\frac{T_{R}}{r} - \\frac{2 c_{\\alpha} x_{1}}{r^{2}} - x_{2} \\left(- M_{p} l x_{2} \\sin{\\left(x_{5} \\right)} - \\frac{2 c_{\\alpha}}{r}\\right)\\right) \\cos{\\left(x_{5} \\right)}}{- M_{p}^{2} l^{2} \\cos^{2}{\\left(x_{5} \\right)} + \\left(I_{py} + M_{p} l^{2}\\right) \\left(\\frac{2 I_{wc}}{r^{2}} + M_{p} + 2 M_{w}\\right)} + \\frac{\\left(\\frac{2 I_{wc}}{r^{2}} + M_{p} + 2 M_{w}\\right) \\left(M_{p} g l \\sin{\\left(x_{5} \\right)} - T_{L} - T_{R} - 2 c_{\\alpha} x_{2} + \\frac{2 c_{\\alpha} x_{1}}{r} - x_{3}^{2} \\left(- I_{px} + I_{pz} - M_{p} l^{2}\\right) \\sin{\\left(x_{5} \\right)} \\cos{\\left(x_{5} \\right)}\\right)}{- M_{p}^{2} l^{2} \\cos^{2}{\\left(x_{5} \\right)} + \\left(I_{py} + M_{p} l^{2}\\right) \\left(\\frac{2 I_{wc}}{r^{2}} + M_{p} + 2 M_{w}\\right)}\\\\\\frac{- M_{p} l x_{1} x_{3} \\sin{\\left(x_{5} \\right)} - \\frac{T_{L} d}{2 r} + \\frac{T_{R} d}{2 r} - x_{2} x_{3} \\left(I_{px} - I_{pz} + M_{p} l^{2}\\right) \\sin{\\left(x_{5} \\right)} \\cos{\\left(x_{5} \\right)} - x_{3} \\left(\\frac{c_{\\alpha} d^{2}}{2 r^{2}} + x_{2} \\left(I_{px} - I_{pz} + M_{p} l^{2}\\right) \\sin{\\left(x_{5} \\right)} \\cos{\\left(x_{5} \\right)}\\right)}{I_{pz} + 2 I_{wr} + \\frac{d^{2} \\left(\\frac{I_{wc}}{r^{2}} + M_{w}\\right)}{2} - \\left(- I_{px} + I_{pz} - M_{p} l^{2}\\right) \\sin^{2}{\\left(x_{5} \\right)}}\\\\x_{1}\\\\x_{2}\\\\x_{3}\\end{matrix}\\right]$"
                        ],
                        "text/plain": [
                            "Eq(Matrix([\n",
                            "[Derivative(x1, t)],\n",
                            "[Derivative(x2, t)],\n",
                            "[Derivative(x3, t)],\n",
                            "[Derivative(x4, t)],\n",
                            "[Derivative(x5, t)],\n",
                            "[Derivative(x6, t)]]), Matrix([\n",
                            "[          -M_p*l*(M_p*g*l*sin(x5) - T_L - T_R - 2*c_alpha*x2 + 2*c_alpha*x1/r - x3**2*(-I_px + I_pz - M_p*l**2)*sin(x5)*cos(x5))*cos(x5)/(-M_p**2*l**2*cos(x5)**2 + (I_py + M_p*l**2)*(2*I_wc/r**2 + M_p + 2*M_w)) + (I_py + M_p*l**2)*(M_p*l*x3**2*sin(x5) + T_L/r + T_R/r - 2*c_alpha*x1/r**2 - x2*(-M_p*l*x2*sin(x5) - 2*c_alpha/r))/(-M_p**2*l**2*cos(x5)**2 + (I_py + M_p*l**2)*(2*I_wc/r**2 + M_p + 2*M_w))],\n",
                            "[-M_p*l*(M_p*l*x3**2*sin(x5) + T_L/r + T_R/r - 2*c_alpha*x1/r**2 - x2*(-M_p*l*x2*sin(x5) - 2*c_alpha/r))*cos(x5)/(-M_p**2*l**2*cos(x5)**2 + (I_py + M_p*l**2)*(2*I_wc/r**2 + M_p + 2*M_w)) + (2*I_wc/r**2 + M_p + 2*M_w)*(M_p*g*l*sin(x5) - T_L - T_R - 2*c_alpha*x2 + 2*c_alpha*x1/r - x3**2*(-I_px + I_pz - M_p*l**2)*sin(x5)*cos(x5))/(-M_p**2*l**2*cos(x5)**2 + (I_py + M_p*l**2)*(2*I_wc/r**2 + M_p + 2*M_w))],\n",
                            "[                                                                                                                                                 (-M_p*l*x1*x3*sin(x5) - T_L*d/(2*r) + T_R*d/(2*r) - x2*x3*(I_px - I_pz + M_p*l**2)*sin(x5)*cos(x5) - x3*(c_alpha*d**2/(2*r**2) + x2*(I_px - I_pz + M_p*l**2)*sin(x5)*cos(x5)))/(I_pz + 2*I_wr + d**2*(I_wc/r**2 + M_w)/2 - (-I_px + I_pz - M_p*l**2)*sin(x5)**2)],\n",
                            "[                                                                                                                                                                                                                                                                                                                                                                                                               x1],\n",
                            "[                                                                                                                                                                                                                                                                                                                                                                                                               x2],\n",
                            "[                                                                                                                                                                                                                                                                                                                                                                                                               x3]]))"
                        ]
                    },
                    "metadata": {},
                    "execution_count": 8
                }
            ],
            "metadata": {}
        },
        {
            "cell_type": "code",
            "execution_count": 9,
            "source": [
                "\n",
                "#* Calcualte the jacobian for the A and B matrix of the continuos time system\n",
                "Ac = system_equations.jacobian(state_vec)\n",
                "Bc = system_equations.jacobian(u)\n",
                "\n",
                "# Ac\n",
                "# Bc"
            ],
            "outputs": [],
            "metadata": {}
        },
        {
            "cell_type": "markdown",
            "source": [
                "## Applying Model Parameters & Fixed Point\n",
                "---"
            ],
            "metadata": {}
        },
        {
            "cell_type": "code",
            "execution_count": 10,
            "source": [
                "\n",
                "#* Evaluate Ac and Bc at the fixed points\n",
                "\n",
                "fixed_point = [0,0,0,0,0,0] # Values for dx/dt\n",
                "input_fixed_points = [0,0]\n",
                "\n",
                "Ac_eval = Ac.subs([(state_vec[0], fixed_point[0]),\n",
                "                   (state_vec[1], fixed_point[1]),\n",
                "                   (state_vec[2], fixed_point[2]),\n",
                "                   (state_vec[3], fixed_point[3]),\n",
                "                   (state_vec[4], fixed_point[4]),\n",
                "                   (state_vec[5], fixed_point[5]),\n",
                "                   (Tl,input_fixed_points[0]),\n",
                "                   (Tr,input_fixed_points[1])])\n",
                "\n",
                "Bc_eval = Bc.subs([(state_vec[0], fixed_point[0]),\n",
                "                   (state_vec[1], fixed_point[1]),\n",
                "                   (state_vec[2], fixed_point[2]),\n",
                "                   (state_vec[3], fixed_point[3]),\n",
                "                   (state_vec[4], fixed_point[4]),\n",
                "                   (state_vec[5], fixed_point[5]),\n",
                "                   (Tl,input_fixed_points[0]),\n",
                "                   (Tr,input_fixed_points[1])])"
            ],
            "outputs": [],
            "metadata": {}
        },
        {
            "cell_type": "code",
            "execution_count": 11,
            "source": [
                "\n",
                "# Define the values of each Model Parameter\n",
                "\n",
                "d_v    = (d,    0.1431)\n",
                "visc_v = (visc, 0.01)\n",
                "r_v    = (r,    0.05)\n",
                "Mp_v   = (Mp,   2.036)\n",
                "Mw_v   = (Mw,   0.268)\n",
                "Iw_c_v = (Iw_c, 0.00033613)\n",
                "Iw_r_v = (Iw_r, 0.00018876)\n",
                "g_v    = (g,    9.81)\n",
                "\n",
                "#-- Pose A ---\n",
                "l_v    = (l,   0.1806)\n",
                "Ip_x_v = (Ip_x, 0.02500992)\n",
                "Ip_y_v = (Ip_y, 0.02255237)\n",
                "Ip_z_v = (Ip_z, 0.00546422)\n",
                "\n",
                "#-- Pose B ---\n",
                "# l_v    = (l,   0.17348)\n",
                "# Ip_x_v = (Ip_x, 0.02387201)\n",
                "# Ip_y_v = (Ip_y, 0.02163341)\n",
                "# Ip_z_v = (Ip_z, 0.00568317)\n",
                "\n",
                "#-- Pose C ---\n",
                "# l_v    = (l,   0.13329)\n",
                "# Ip_x_v = (Ip_x, 0.01811608)\n",
                "# Ip_y_v = (Ip_y, 0.01688458)\n",
                "# Ip_z_v = (Ip_z, 0.00669026)\n"
            ],
            "outputs": [],
            "metadata": {}
        },
        {
            "cell_type": "code",
            "execution_count": 12,
            "source": [
                "\n",
                "#* Plug in the Model parameters values \n",
                "\n",
                "Ac_lin = Ac_eval.subs([d_v,visc_v,l_v,r_v,Mp_v,Mw_v,Iw_c_v,Iw_r_v,Ip_x_v,Ip_y_v,Ip_z_v,g_v])\n",
                "Bc_lin = Bc_eval.subs([d_v,visc_v,l_v,r_v,Mp_v,Mw_v,Iw_c_v,Iw_r_v,Ip_x_v,Ip_y_v,Ip_z_v,g_v])\n",
                "\n",
                "Ac_np = np.array(Ac_lin) # Converts it into a numpy array\n",
                "Bc_np = np.array(Bc_lin) # Converts it into a numpy array"
            ],
            "outputs": [],
            "metadata": {}
        },
        {
            "cell_type": "markdown",
            "source": [
                "## Discretization of the system \n",
                "---"
            ],
            "metadata": {}
        },
        {
            "cell_type": "code",
            "execution_count": 35,
            "source": [
                "import control\n",
                "\n",
                "Ts = 0.01 # Sampling period. Fs = 100 hz\n",
                "\n",
                "sysc = control.ss(Ac_np,Bc_np,np.eye(6),np.zeros((6,2)))\n",
                "sysd = control.c2d(sysc,Ts,method='zoh')\n",
                "Ad = sysd.A\n",
                "Bd = sysd.B\n"
            ],
            "outputs": [],
            "metadata": {}
        },
        {
            "cell_type": "code",
            "execution_count": 36,
            "source": [
                "\n",
                "# Reduce the system to 4 states, only, ignoring the linear and Yaw positions\n",
                "\n",
                "Ar = np.zeros((4,4))\n",
                "Ar[0:3,0:3] = Ad[0:3,0:3]\n",
                "Ar[3,0:3]   = Ad[4,0:3]\n",
                "Ar[0:3,3]   = Ad[0:3,4]\n",
                "Ar[3,3]     = Ad[4,4]\n",
                "\n",
                "Br = np.zeros((4,2))\n",
                "Br[0:3,:]   = Bd[0:3,:]\n",
                "Br[3,:]     = Bd[4,:]\n",
                "\n",
                "#Matrix(Ar)\n",
                "#Matrix(Br)"
            ],
            "outputs": [],
            "metadata": {}
        },
        {
            "cell_type": "markdown",
            "source": [
                "## Augmented System `TODO`\n",
                "---"
            ],
            "metadata": {}
        },
        {
            "cell_type": "code",
            "execution_count": 15,
            "source": [
                "zint = control.tf([1],[1, 0],True)\n",
                "ssint = control.tf2ss(zint)\n",
                "y = 0\n",
                "\n",
                "# for ti in np.arange(0,1,0.1):\n",
                "#     y = ssint.dynamics(t=ti,x=y,u = 1)\n",
                "#     print(y)\n",
                "\n",
                "control.step_response(ssint)"
            ],
            "outputs": [
                {
                    "output_type": "execute_result",
                    "data": {
                        "text/plain": [
                            "(array([ 0.,  1.,  2.,  3.,  4.,  5.,  6.,  7.,  8.,  9., 10., 11., 12.,\n",
                            "        13., 14., 15., 16., 17., 18., 19.]),\n",
                            " array([0., 1., 1., 1., 1., 1., 1., 1., 1., 1., 1., 1., 1., 1., 1., 1., 1.,\n",
                            "        1., 1., 1.]))"
                        ]
                    },
                    "metadata": {},
                    "execution_count": 15
                }
            ],
            "metadata": {}
        },
        {
            "cell_type": "code",
            "execution_count": 16,
            "source": [
                "L_aug = np.hstack((np.array([[-1,0,0,0],[0,0,-1,0]]), np.eye(2) ))\n",
                "Upper_aug = np.hstack((Ar, np.zeros((4,2))))\n",
                "A_aug = np.vstack((Upper_aug, L_aug))\n",
                "\n",
                "B_aug = np.vstack((Br,np.zeros((2,2))))\n",
                "\n",
                "Matrix(A_aug)"
            ],
            "outputs": [
                {
                    "output_type": "execute_result",
                    "data": {
                        "text/latex": [
                            "$\\displaystyle \\left[\\begin{matrix}0.930071218348544 & 0.00295036484346524 & 0.0 & -0.107471344096473 & 0.0 & 0.0\\\\0.33226133325189 & 0.987661463664628 & 0.0 & 0.846866528110823 & 0.0 & 0.0\\\\0.0 & 0.0 & 0.959723624872295 & 0.0 & 0.0 & 0.0\\\\0.00168509806931376 & 0.0099300621726921 & 0.0 & 1.00427453032722 & 0.0 & 0.0\\\\-1.0 & 0.0 & 0.0 & 0.0 & 1.0 & 0.0\\\\0.0 & 0.0 & -1.0 & 0.0 & 0.0 & 1.0\\end{matrix}\\right]$"
                        ],
                        "text/plain": [
                            "Matrix([\n",
                            "[  0.930071218348544, 0.00295036484346524,               0.0, -0.107471344096473, 0.0, 0.0],\n",
                            "[   0.33226133325189,   0.987661463664628,               0.0,  0.846866528110823, 0.0, 0.0],\n",
                            "[                0.0,                 0.0, 0.959723624872295,                0.0, 0.0, 0.0],\n",
                            "[0.00168509806931376,  0.0099300621726921,               0.0,   1.00427453032722, 0.0, 0.0],\n",
                            "[               -1.0,                 0.0,               0.0,                0.0, 1.0, 0.0],\n",
                            "[                0.0,                 0.0,              -1.0,                0.0, 0.0, 1.0]])"
                        ]
                    },
                    "metadata": {},
                    "execution_count": 16
                }
            ],
            "metadata": {}
        },
        {
            "cell_type": "markdown",
            "source": [
                "## Control Analysis\n",
                "---"
            ],
            "metadata": {}
        },
        {
            "cell_type": "markdown",
            "source": [
                "### Function `dlqr`\n",
                "---"
            ],
            "metadata": {}
        },
        {
            "cell_type": "code",
            "execution_count": 17,
            "source": [
                "def dlqr_calculate(G, H, Q, R, returnPE=False): # Ref.: https://github.com/python-control/python-control/issues/359#issuecomment-759423706\n",
                "  '''\n",
                "  Discrete-time Linear Quadratic Regulator calculation.\n",
                "  State-feedback control  u[k] = -K*x[k]\n",
                "\n",
                "  How to apply the function:    \n",
                "      K = dlqr_calculate(G,H,Q,R)\n",
                "      K, P, E = dlqr_calculate(G,H,Q,R, return_solution_eigs=True)\n",
                "\n",
                "  Inputs:\n",
                "    G, H, Q, R  -> all numpy arrays  (simple float number not allowed)\n",
                "    returnPE: define as True to return Ricatti solution and final eigenvalues\n",
                "\n",
                "  Returns:\n",
                "    K: state feedback gain\n",
                "    P: Ricatti equation solution\n",
                "    E: eigenvalues of (G-HK)  (closed loop z-domain poles)\n",
                "  '''\n",
                "  from scipy.linalg import solve_discrete_are, inv, eig\n",
                "  P = solve_discrete_are(G, H, Q, R)  #Solução Ricatti\n",
                "  K = inv(H.T@P@H + R)@H.T@P@G    #K = (B^T P B + R)^-1 B^T P A \n",
                "\n",
                "  if returnPE == False:   return K\n",
                "\n",
                "  from numpy.linalg import eigvals\n",
                "  eigs = np.array([eigvals(G-H@K)]).T\n",
                "  return K, P, eigs"
            ],
            "outputs": [],
            "metadata": {}
        },
        {
            "cell_type": "markdown",
            "source": [
                "### Analysis for the reduced model\n",
                "---"
            ],
            "metadata": {}
        },
        {
            "cell_type": "code",
            "execution_count": 37,
            "source": [
                "#* Controlability and Observability for the reduced model\n",
                "\n",
                "C_ss = np.diag([1,1,1,1])\n",
                "D_ss = np.zeros((4,2))\n",
                "\n",
                "ctrb_m = control.ctrb(Ar,Br)\n",
                "rank_ctrb = np.linalg.matrix_rank(ctrb_m) # If result is 4, the system is controlable\n",
                "\n",
                "obs_m = control.obsv(Ar,C_ss)\n",
                "rank_obs = np.linalg.matrix_rank(obs_m) # If result is 4, the system is controlable\n",
                "\n",
                "sysr = control.ss(Ar,Br,C_ss,D_ss,dt=Ts)\n",
                "\n",
                "print(rank_ctrb) # 4 means Controllable\n",
                "print(rank_obs) # 4 means Observable"
            ],
            "outputs": [
                {
                    "output_type": "stream",
                    "name": "stdout",
                    "text": [
                        "4\n",
                        "4\n"
                    ]
                }
            ],
            "metadata": {}
        },
        {
            "cell_type": "code",
            "execution_count": 38,
            "source": [
                "Q_lqr = np.diag([5,1,2,1])\n",
                "R_lqr = np.diag([1e3,1e3])\n",
                "\n",
                "K_dlqr, S_dlqr, E_dlqr = dlqr_calculate(Ar,Br,Q_lqr,R_lqr,True)\n",
                "\n",
                "Matrix(K_dlqr)"
            ],
            "outputs": [
                {
                    "output_type": "execute_result",
                    "data": {
                        "text/latex": [
                            "$\\displaystyle \\left[\\begin{matrix}-0.391063196938915 & -0.166534710339404 & -0.019398132482417 & -1.35353566116683\\\\-0.391063196938952 & -0.16653471033942 & 0.0193981324824213 & -1.35353566116696\\end{matrix}\\right]$"
                        ],
                        "text/plain": [
                            "Matrix([\n",
                            "[-0.391063196938915, -0.166534710339404, -0.019398132482417, -1.35353566116683],\n",
                            "[-0.391063196938952,  -0.16653471033942, 0.0193981324824213, -1.35353566116696]])"
                        ]
                    },
                    "metadata": {},
                    "execution_count": 38
                }
            ],
            "metadata": {}
        },
        {
            "cell_type": "code",
            "execution_count": 39,
            "source": [
                "Matrix(E_dlqr) # If all are below 1, the system is stable"
            ],
            "outputs": [
                {
                    "output_type": "execute_result",
                    "data": {
                        "text/latex": [
                            "$\\displaystyle \\left[\\begin{matrix}0.862140314011112\\\\0.97579607264115\\\\0.932734264144099\\\\0.905126387930379\\end{matrix}\\right]$"
                        ],
                        "text/plain": [
                            "Matrix([\n",
                            "[0.862140314011112],\n",
                            "[ 0.97579607264115],\n",
                            "[0.932734264144099],\n",
                            "[0.905126387930379]])"
                        ]
                    },
                    "metadata": {},
                    "execution_count": 39
                }
            ],
            "metadata": {}
        },
        {
            "cell_type": "markdown",
            "source": [
                "### Analysis for the augmented model\n",
                "---"
            ],
            "metadata": {}
        },
        {
            "cell_type": "code",
            "execution_count": 21,
            "source": [
                "#* Controlability and Observability for the reduced model\n",
                "\n",
                "C_ss_aug = np.diag([1,1,1,1,1,1])\n",
                "D_ss_aug = np.zeros((6,2))\n",
                "\n",
                "ctrb_m = control.ctrb(A_aug,B_aug)\n",
                "rank_ctrb = np.linalg.matrix_rank(ctrb_m) # If result is 4, the system is controlable\n",
                "\n",
                "obs_m = control.obsv(A_aug,C_ss_aug)\n",
                "rank_obs = np.linalg.matrix_rank(obs_m) # If result is 4, the system is controlable\n",
                "\n",
                "print(rank_ctrb) # 4 means Controllable\n",
                "print(rank_obs) # 4 means Observable"
            ],
            "outputs": [
                {
                    "output_type": "stream",
                    "name": "stdout",
                    "text": [
                        "6\n",
                        "6\n"
                    ]
                }
            ],
            "metadata": {}
        },
        {
            "cell_type": "code",
            "execution_count": 22,
            "source": [
                "Q_lqr_aug = np.diag([4081.633,1 , 313.470,1, 0.082, 0.002])\n",
                "Q_lqr_aug = np.diag([1,1 , 1,1, 0.082, 0.002])\n",
                "R_lqr_aug = np.diag([1e3,1e3])\n",
                "\n",
                "K_dlqr_aug, S_dlqr_aug, E_dlqr_aug = dlqr_calculate(A_aug,B_aug,Q_lqr_aug,R_lqr_aug,True)\n",
                "\n",
                "Matrix(K_dlqr_aug)"
            ],
            "outputs": [
                {
                    "output_type": "execute_result",
                    "data": {
                        "text/latex": [
                            "$\\displaystyle \\left[\\begin{matrix}-0.698408543089256 & -0.242502663869026 & -0.0228766480765604 & -1.78414928478065 & 0.00586868896420373 & 0.000967340182477778\\\\-0.698408543089065 & -0.242502663868975 & 0.0228766480765541 & -1.78414928478033 & 0.00586868896420014 & -0.000967340182477534\\end{matrix}\\right]$"
                        ],
                        "text/plain": [
                            "Matrix([\n",
                            "[-0.698408543089256, -0.242502663869026, -0.0228766480765604, -1.78414928478065, 0.00586868896420373,  0.000967340182477778],\n",
                            "[-0.698408543089065, -0.242502663868975,  0.0228766480765541, -1.78414928478033, 0.00586868896420014, -0.000967340182477534]])"
                        ]
                    },
                    "metadata": {},
                    "execution_count": 22
                }
            ],
            "metadata": {}
        },
        {
            "cell_type": "code",
            "execution_count": 23,
            "source": [
                "Matrix(abs(E_dlqr_aug)) # If all are below 1, the system is stable"
            ],
            "outputs": [
                {
                    "output_type": "execute_result",
                    "data": {
                        "text/latex": [
                            "$\\displaystyle \\left[\\begin{matrix}0.863579817679754\\\\0.97623180244399\\\\0.97623180244399\\\\0.932437522355597\\\\0.943667265401703\\\\0.951668626445023\\end{matrix}\\right]$"
                        ],
                        "text/plain": [
                            "Matrix([\n",
                            "[0.863579817679754],\n",
                            "[ 0.97623180244399],\n",
                            "[ 0.97623180244399],\n",
                            "[0.932437522355597],\n",
                            "[0.943667265401703],\n",
                            "[0.951668626445023]])"
                        ]
                    },
                    "metadata": {},
                    "execution_count": 23
                }
            ],
            "metadata": {}
        },
        {
            "cell_type": "markdown",
            "source": [
                "## System Simulation\n",
                "---\n",
                "\n",
                "The simulation was done via te `scipy.integrate` module, using the `ode` class."
            ],
            "metadata": {}
        },
        {
            "cell_type": "markdown",
            "source": [
                "### Reduced system\n",
                "---"
            ],
            "metadata": {}
        },
        {
            "cell_type": "code",
            "execution_count": 40,
            "source": [
                "\n",
                "#* Apply model parameters to the system equations and jacobian\n",
                "\n",
                "sys2sim = system_equations.subs([d_v,visc_v,l_v,r_v,Mp_v,Mw_v,Iw_c_v,Iw_r_v,Ip_x_v,Ip_y_v,Ip_z_v,g_v])\n",
                "jac2sim = Ac.subs([d_v,visc_v,l_v,r_v,Mp_v,Mw_v,Iw_c_v,Iw_r_v,Ip_x_v,Ip_y_v,Ip_z_v,g_v])\n",
                "\n",
                "sys2sim.row_del(3)\n",
                "sys2sim.row_del(4)\n",
                "\n",
                "jac2sim.row_del(3)\n",
                "jac2sim.row_del(4)\n",
                "jac2sim.col_del(3)\n",
                "jac2sim.col_del(4)\n",
                "# sys2sim"
            ],
            "outputs": [],
            "metadata": {}
        },
        {
            "cell_type": "code",
            "execution_count": 41,
            "source": [
                "from scipy import integrate\n",
                "\n",
                "state_initial_conditions = [0,0.1,0,0.2]\n",
                "initial_inputs = [0,0]\n",
                "t0 = 0\n",
                "\n",
                "reduced_state_vec = Matrix(list(symbols('x1:4, x5',real=True)))\n",
                "\n",
                "#* Create lambda functions of the system and the jacobian\n",
                "\n",
                "func = lambdify([t, reduced_state_vec, u],sys2sim,'numpy')\n",
                "func_jac = lambdify([t, reduced_state_vec, u],jac2sim,'numpy')\n",
                "\n",
                "# func(0,state_initial_conditions, initial_inputs)\n",
                "# func_jac(0,state_initial_conditions, initial_inputs)"
            ],
            "outputs": [],
            "metadata": {}
        },
        {
            "cell_type": "markdown",
            "source": [
                "#### Simulate the Non-linear system\n",
                "---"
            ],
            "metadata": {}
        },
        {
            "cell_type": "code",
            "execution_count": 45,
            "source": [
                "# Simulation using scipy.integrate.ode\n",
                "\n",
                "simulator = integrate.ode(func ,func_jac)                                     # Ode class object used for simulation\n",
                "simulator.set_initial_value(state_initial_conditions, t0)           # Set initial consitions of the system\n",
                "simulator.set_integrator('vode')\n",
                "simulator.set_f_params(initial_inputs)                              # Set the initial inputs (wheel torques) values in the system\n",
                "simulator.set_jac_params(initial_inputs)                            # Set the initial inputs (wheel torques) values in the jacobian\n",
                "\n",
                "\n",
                "def call_controller(current_states):                                # Function to call the controller\n",
                "    return np.matmul(-1*K_dlqr,current_states).reshape(2,1) \n",
                "    # return np.array([0,0]).reshape(2,1)\n",
                "\n",
                "t1 = 6                                                           # Max. time for simulation  \n",
                "dt = 0.01                                                      # Simulation time step\n",
                "controller_time = -1                                                # Initial controller time (-1 means: \"provide a control effort based on the initial states\") \n",
                "controller_calls = 0                                                # Counts how many times the controller was called (just debug)\n",
                "\n",
                "history = np.array([state_initial_conditions]).reshape(4,1)\n",
                "time_history = [t0]\n",
                "input_history = np.array(initial_inputs).reshape(2,1)\n",
                "\n",
                "control_states = np.zeros((4,))\n",
                "\n",
                "state_ref = np.array([0,0,0,0.0])\n",
                "\n",
                "while simulator.successful() and simulator.t <= t1:                 # Simulation main loop\n",
                "    history = np.hstack((history,np.array([simulator.integrate(simulator.t+dt)]).reshape(4,1)))        # Simulate one time step and save in history\n",
                "    time_history.append(simulator.t+dt)\n",
                "    \n",
                "    # Simulates steps of torque in the wheels\n",
                "    if simulator.t in time_history[int(1/dt):int(2/dt)]: uIMPULSE = 0.3     # Step of 0.3 N.m from 1 to 2 secs\n",
                "    elif simulator.t in time_history[int(3/dt):int(4/dt)]: uIMPULSE = -0.1  # Step of -0.3 N.m from 3 to 4 secs\n",
                "    else: uIMPULSE = 0.0\n",
                "    \n",
                "    input_history = np.hstack((input_history,call_controller(history[:,-1] - state_ref) + uIMPULSE))     # Call the controller\n",
                "    controller_calls += 1\n",
                "    \n",
                "    simulator.set_f_params(input_history[:,-1])                       # Update the controller values in the systems equations\n",
                "    simulator.set_jac_params(input_history[:,-1])                     # Update the controller values in the jacobian matrix\n",
                "    \n",
                "x_pos = integrate.cumtrapz(y = history[0,:],x = time_history,initial=0) # Integrate the Velocity values to get position information\n",
                "print(simulator.get_return_code())"
            ],
            "outputs": [
                {
                    "output_type": "stream",
                    "name": "stdout",
                    "text": [
                        "2\n"
                    ]
                }
            ],
            "metadata": {}
        },
        {
            "cell_type": "markdown",
            "source": [
                "#### Simulate the Linear system\n",
                "---"
            ],
            "metadata": {}
        },
        {
            "cell_type": "code",
            "execution_count": 27,
            "source": [
                "\n",
                "#* Simulation using the python control API with the linearized model\n",
                "#* Simulates disturbences in the system and sensor reading noise\n",
                "\n",
                "history = np.array([state_initial_conditions]).reshape(4,1)\n",
                "input_history = np.array(initial_inputs).reshape(2,1)\n",
                "t1 = 6  \n",
                "dt = 0.01\n",
                "time_history = np.arange(start=0,stop=t1+dt,step=dt)\n",
                "\n",
                "state_ref = np.array([-0.05,0,0,0.0])\n",
                "\n",
                "mag_NOISE_y = 1e-3      # Readings noise\n",
                "mag_NOISE_x = 1e-3      # System disturbances\n",
                "# mag_NOISE_u = 1e-3      # Input noise\n",
                "\n",
                "for time in time_history[:-1]:\n",
                "    y = sysr.dynamics(t=time,x= history[:,-1] + np.random.rand(4)*mag_NOISE_x ,u=input_history[:,-1])\n",
                "    \n",
                "    history = np.hstack((history,y.reshape(4,1) + np.random.rand(4,1)*mag_NOISE_y))\n",
                "    \n",
                "    if time in time_history[int(1/dt):int(2/dt)]: uIMPULSE = 0.1\n",
                "    elif time in time_history[int(3/dt):int(4/dt)]: uIMPULSE = -0.1\n",
                "    else: uIMPULSE = 0.0\n",
                "    \n",
                "    input_history = np.hstack((input_history,-K_dlqr@(history[:,-1]  - state_ref).reshape(4,1) + uIMPULSE))\n",
                "\n",
                "x_pos = integrate.cumtrapz(y = history[0,:],x = time_history,initial=0) # Integrate the Velocity values to get position information"
            ],
            "outputs": [],
            "metadata": {}
        },
        {
            "cell_type": "markdown",
            "source": [
                "### Augmented System\n",
                "---"
            ],
            "metadata": {}
        },
        {
            "cell_type": "code",
            "execution_count": 28,
            "source": [
                "sys2sim = system_equations.subs([d_v,visc_v,l_v,r_v,Mp_v,Mw_v,Iw_c_v,Iw_r_v,Ip_x_v,Ip_y_v,Ip_z_v,g_v])\n",
                "jac2sim = Ac.subs([d_v,visc_v,l_v,r_v,Mp_v,Mw_v,Iw_c_v,Iw_r_v,Ip_x_v,Ip_y_v,Ip_z_v,g_v])"
            ],
            "outputs": [],
            "metadata": {}
        },
        {
            "cell_type": "code",
            "execution_count": 29,
            "source": [
                "from scipy import integrate\n",
                "\n",
                "state_initial_conditions = [0,0.5,0,0.5,0,0]\n",
                "initial_inputs = [0,0]\n",
                "t0 = 0\n",
                "\n",
                "#* Create lambda functions of the system and the jacobian\n",
                "\n",
                "func = lambdify([t, state_vec, u],sys2sim,'numpy')\n",
                "func_jac = lambdify([t, state_vec, u],jac2sim,'numpy')\n",
                "\n",
                "# func(0,state_initial_conditions, initial_inputs)\n",
                "# func_jac(0,state_initial_conditions, initial_inputs)"
            ],
            "outputs": [],
            "metadata": {}
        },
        {
            "cell_type": "code",
            "execution_count": 30,
            "source": [
                "\n",
                "simulator = integrate.ode(func ,func_jac)                                     # Ode class object used for simulation\n",
                "simulator.set_initial_value(state_initial_conditions, t0)           # Set initial consitions of the system\n",
                "simulator.set_integrator('vode')\n",
                "simulator.set_f_params(initial_inputs)                              # Set the initial inputs (wheel torques) values in the system\n",
                "simulator.set_jac_params(initial_inputs)                            # Set the initial inputs (wheel torques) values in the jacobian\n",
                "\n",
                "def call_controller(current_states):                                # Function to call the controller\n",
                "    return np.matmul(-1*K_dlqr_aug,current_states).reshape(2,1)\n",
                "    # return np.array([0,0]).reshape(2,1)\n",
                "\n",
                "t1 = 10                                                           # Max. time for simulation  \n",
                "dt = 0.01                                                      # Simulation time step\n",
                "controller_time = -1                                                # Initial controller time (-1 means: \"provide a control effort based on the initial states\") \n",
                "controller_calls = 0                                                # Counts how many times the controller was called (just debug)\n",
                "\n",
                "history = np.array([state_initial_conditions]).reshape(6,1)\n",
                "time_history = [t0]\n",
                "input_history = np.array(initial_inputs).reshape(2,1)\n",
                "\n",
                "state_ref = np.array([0,0,0,0,0,0])\n",
                "\n",
                "while simulator.successful() and simulator.t <= t1:                 # Simulation main loop\n",
                "    history = np.hstack((history,np.array([simulator.integrate(simulator.t+dt)]).reshape(6,1)))        # Simulate one time step and save in history\n",
                "    time_history.append(simulator.t+dt)\n",
                "    \n",
                "    input_history = np.hstack((input_history,call_controller(history[:,-1] - state_ref)))     # Call the controller\n",
                "    controller_calls += 1\n",
                "    \n",
                "    simulator.set_f_params(input_history[:,-1])                       # Update the controller values in the systems equations\n",
                "    simulator.set_jac_params(input_history[:,-1])                     # Update the controller values in the jacobian matrix\n",
                "\n",
                "    # controller_time += dt\n",
                "    # if(controller_time >= Ts or controller_time < 0):\n",
                "    #     controller_calls += 1\n",
                "    #     current_inputs = call_controller(current_states)\n",
                "    #     simulator.set_f_params(current_inputs)\n",
                "    #     simulator.set_jac_params(current_inputs)\n",
                "    #     controller_time = 0 \n",
                "    \n",
                "print(simulator.get_return_code())\n",
                "# history_file = open(\"simulation_data.txt\",'w')\n",
                "# history_file.write(str(time_history))\n",
                "# history_file.write(\"\\n\")\n",
                "# history_file.write(str(list(history)))\n",
                "\n",
                "x_pos = integrate.cumtrapz(y = history[0,:],x = time_history,initial=0) # Integrate the Velocity values to get position information"
            ],
            "outputs": [
                {
                    "output_type": "stream",
                    "name": "stdout",
                    "text": [
                        "2\n"
                    ]
                }
            ],
            "metadata": {}
        },
        {
            "cell_type": "markdown",
            "source": [
                "## Plotting & Animation\n",
                "----"
            ],
            "metadata": {}
        },
        {
            "cell_type": "code",
            "execution_count": 49,
            "source": [
                "fig1 = plt.figure()\n",
                "plt.plot(time_history,history[0,:])\n",
                "plt.title(\"Linear vel\")\n",
                "plt.xlabel(\"time (s)\")\n",
                "plt.ylabel(\"m/s\")\n",
                "plt.grid()\n",
                "\n",
                "fig2 = plt.figure()\n",
                "plt.plot(time_history,history[1,:])\n",
                "plt.title(\"Pitch vel\")\n",
                "plt.xlabel(\"time (s)\")\n",
                "plt.ylabel(\"rad/s\")\n",
                "plt.grid()\n",
                "\n",
                "fig3 = plt.figure()\n",
                "plt.plot(time_history,history[2,:])\n",
                "plt.title(\"Yaw vel\")\n",
                "plt.xlabel(\"time (s)\")\n",
                "plt.ylabel(\"rad/s \")\n",
                "plt.grid()\n",
                "\n",
                "fig4 = plt.figure()\n",
                "plt.plot(time_history,history[3,:])\n",
                "plt.title(\"Pitch\")\n",
                "plt.xlabel(\"time (s)\")\n",
                "plt.ylabel(\"rad\")\n",
                "plt.grid()\n",
                "\n",
                "fig5 = plt.figure()\n",
                "plt.plot(time_history,input_history[0,:], label='Left Torque')\n",
                "plt.plot(time_history,input_history[1,:], label='Rigth Torque')\n",
                "plt.title(\"Wheel Torques\")\n",
                "plt.legend()\n",
                "plt.xlabel(\"time (s)\")\n",
                "plt.ylabel(\"N.m\")\n",
                "plt.grid()\n",
                "\n",
                "fig7 = plt.figure()\n",
                "plt.plot(time_history,x_pos)\n",
                "plt.title(\"X positions\")\n",
                "plt.xlabel(\"time (s)\")\n",
                "plt.ylabel(\"m\")\n",
                "plt.grid()"
            ],
            "outputs": [
                {
                    "output_type": "display_data",
                    "data": {
                        "image/png": "[encoded data removed]",
                        "text/plain": [
                            "<Figure size 432x288 with 1 Axes>"
                        ]
                    },
                    "metadata": {
                        "needs_background": "light"
                    }
                },
                {
                    "output_type": "display_data",
                    "data": {
                        "image/png": "[encoded data removed]",
                        "text/plain": [
                            "<Figure size 432x288 with 1 Axes>"
                        ]
                    },
                    "metadata": {
                        "needs_background": "light"
                    }
                },
                {
                    "output_type": "display_data",
                    "data": {
                        "image/png": "[encoded data removed]",
                        "text/plain": [
                            "<Figure size 432x288 with 1 Axes>"
                        ]
                    },
                    "metadata": {
                        "needs_background": "light"
                    }
                },
                {
                    "output_type": "display_data",
                    "data": {
                        "image/png": "[encoded data removed]",
                        "text/plain": [
                            "<Figure size 432x288 with 1 Axes>"
                        ]
                    },
                    "metadata": {
                        "needs_background": "light"
                    }
                },
                {
                    "output_type": "display_data",
                    "data": {
                        "image/png": "[encoded data removed]",
                        "text/plain": [
                            "<Figure size 432x288 with 1 Axes>"
                        ]
                    },
                    "metadata": {
                        "needs_background": "light"
                    }
                },
                {
                    "output_type": "display_data",
                    "data": {
                        "image/png": "[encoded data removed]",
                        "text/plain": [
                            "<Figure size 432x288 with 1 Axes>"
                        ]
                    },
                    "metadata": {
                        "needs_background": "light"
                    }
                }
            ],
            "metadata": {}
        },
        {
            "cell_type": "code",
            "execution_count": 50,
            "source": [
                "#Generates an animation using Matplotlib\n",
                "\n",
                "from matplotlib.patches import Circle\n",
                "from matplotlib.animation import FuncAnimation\n",
                "\n",
                "xlim = (-1.5,1.5)\n",
                "ylim = (-0.7,0.7)\n",
                "\n",
                "fig = plt.figure() #figsize=(8.3333, 7.25), dpi=72\n",
                "ax = fig.add_subplot(111,xlim=xlim,ylim=ylim)\n",
                "ax.set_aspect('equal')\n",
                "ax.grid()\n",
                "\n",
                "height = 0.354\n",
                "\n",
                "ax.plot([xlim[0],xlim[1]],[0,0],'-k')         # Ground\n",
                "\n",
                "pend_rod, = ax.plot([x_pos[0], x_pos[0]+height*np.math.sin(history[3,0])],[r_v[1],r_v[1] + height*np.math.cos(history[3,0])], 'r', lw=3)\n",
                "pend_wheel = ax.add_patch(Circle((x_pos[0],r_v[1]), r_v[1], fc='b', zorder=3))\n",
                "\n",
                "def init_anim():\n",
                "  pend_rod, = ax.plot([x_pos[0], x_pos[0]+height*np.math.sin(history[3,0])],[r_v[1],r_v[1] + height*np.math.cos(history[3,0])], 'r', lw=3)\n",
                "  pend_wheel = ax.add_patch(Circle((x_pos[0],r_v[1]), r_v[1], fc='b', zorder=3))\n",
                "  return pend_rod, pend_wheel\n",
                "  \n",
                "def animate(i):\n",
                "  xaxis = [x_pos[i], x_pos[i] + height*np.math.sin(history[3,i])]\n",
                "  yaxis = [r_v[1], r_v[1] + height*np.math.cos(history[3,i])]\n",
                "  \n",
                "  pend_rod.set_data(xaxis,yaxis)\n",
                "  pend_wheel.set_center((x_pos[i],r_v[1]))\n",
                "  return pend_rod, pend_wheel\n",
                "\n",
                "anim = FuncAnimation(fig, animate,frames=len(time_history),interval=200,blit=True)"
            ],
            "outputs": [
                {
                    "output_type": "display_data",
                    "data": {
                        "image/png": "[encoded data removed]",
                        "text/plain": [
                            "<Figure size 432x288 with 1 Axes>"
                        ]
                    },
                    "metadata": {
                        "needs_background": "light"
                    }
                }
            ],
            "metadata": {}
        },
        {
            "cell_type": "code",
            "execution_count": 51,
            "source": [
                "# anim.save(\"Gifs/test.gif\", fps=36) #Generates a .gif for the animation"
            ],
            "outputs": [],
            "metadata": {}
        }
    ],
    "metadata": {
        "orig_nbformat": 4,
        "language_info": {
            "name": "python",
            "version": "3.8.10",
            "mimetype": "text/x-python",
            "codemirror_mode": {
                "name": "ipython",
                "version": 3
            },
            "pygments_lexer": "ipython3",
            "nbconvert_exporter": "python",
            "file_extension": ".py"
        },
        "kernelspec": {
            "name": "python3",
            "display_name": "Python 3.8.10 64-bit"
        },
        "interpreter": {
            "hash": "31f2aee4e71d21fbe5cf8b01ff0e069b9275f58929596ceb00d14d90e3e16cd6"
        }
    },
    "nbformat": 4,
    "nbformat_minor": 2
}