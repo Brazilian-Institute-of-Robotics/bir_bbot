{
 "cells": [
  {
   "cell_type": "code",
   "execution_count": 11,
   "source": [
    "import numpy as np\n",
    "import matplotlib.pyplot as plt\n",
    "\n",
    "# Step x = 0.07 | 3*0.07 = 0.21\n",
    "# Step y = 0.06 | 3*0.06 = 0.18\n",
    "\n",
    "# Get x and y vectors\n",
    "x = [0.07, 0.35, 0.56, 0.70, 0.91, 1.05, 1.26, 1.40, 1.61, 1.75, 2.03] # Torque\n",
    "y = [0.30, 0.51, 0.69, 0.78, 0.96, 1.08, 1.26, 1.44, 1.65, 1.83, 2.22] # Current\n",
    "\n",
    "# Calculate polynomial\n",
    "z = np.polyfit(x, y, 2)\n",
    "f = np.poly1d(z)\n",
    "\n",
    "func = lambda u: z[0]*u**2 + z[1]*u + z[2]\n",
    "\n",
    "# Print function\n",
    "print(z)\n",
    "\n",
    "# Calculate new x's and y's\n",
    "x_new = np.linspace(x[0], x[-1], 50)\n",
    "y_new = f(x_new)\n",
    "\n",
    "# plot\n",
    "plt.plot(x,y,'o', x_new, y_new)\n",
    "plt.xlim([x[0]-0.5, x[-1]+0.5 ])"
   ],
   "outputs": [
    {
     "output_type": "stream",
     "name": "stdout",
     "text": [
      "[0.18664559 0.56186346 0.28463757]\n"
     ]
    },
    {
     "output_type": "execute_result",
     "data": {
      "text/plain": [
       "(-0.43, 2.53)"
      ]
     },
     "metadata": {},
     "execution_count": 11
    },
    {
     "output_type": "display_data",
     "data": {
      "image/png": "[encoded data removed]",
      "text/plain": [
       "<Figure size 432x288 with 1 Axes>"
      ]
     },
     "metadata": {
      "needs_background": "light"
     }
    }
   ],
   "metadata": {}
  }
 ],
 "metadata": {
  "orig_nbformat": 4,
  "language_info": {
   "name": "python",
   "version": "3.8.10",
   "mimetype": "text/x-python",
   "codemirror_mode": {
    "name": "ipython",
    "version": 3
   },
   "pygments_lexer": "ipython3",
   "nbconvert_exporter": "python",
   "file_extension": ".py"
  },
  "kernelspec": {
   "name": "python3",
   "display_name": "Python 3.8.10 64-bit"
  },
  "interpreter": {
   "hash": "916dbcbb3f70747c44a77c7bcd40155683ae19c65e1c03b4aa3499c5328201f1"
  }
 },
 "nbformat": 4,
 "nbformat_minor": 2
}